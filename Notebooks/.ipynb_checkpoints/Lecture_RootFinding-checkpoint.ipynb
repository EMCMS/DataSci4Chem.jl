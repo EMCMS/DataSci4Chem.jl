{
 "cells": [
  {
   "cell_type": "code",
   "execution_count": null,
   "id": "8c11f4de-b39d-4679-9c1f-660462c9db2e",
   "metadata": {},
   "outputs": [],
   "source": []
  }
 ],
 "metadata": {
  "kernelspec": {
   "display_name": "Julia 1.6.7",
   "language": "julia",
   "name": "julia-1.6"
  },
  "language_info": {
   "file_extension": ".jl",
   "mimetype": "application/julia",
   "name": "julia",
   "version": "1.6.7"
  }
 },
 "nbformat": 4,
 "nbformat_minor": 5
}
