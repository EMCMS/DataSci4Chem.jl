{
 "cells": [
  {
   "cell_type": "markdown",
   "metadata": {},
   "source": [
    "# Data manipulation\n",
    "In this lecture you will learn how to work with different types of larger data structures, saving and loading them, reading from .txt and .dat files, what to use when values are missing, and finally how to copy these larger data structures to a new variable.\n",
    "\n",
    "Do not forget, run the code for your self and see what happens with the data in the tutorial sections!"
   ]
  },
  {
   "cell_type": "markdown",
   "metadata": {},
   "source": [
    "## Tuples\n",
    "Similar to an array, tuple is also an ordered set of elements. Tuples work in almost the same way as arrays but there are following important differences between them:\n",
    "\n",
    "- An array is represented by square brackets whereas a tuple is represented by parentheses and commas.\n",
    "\n",
    "- Tuples are immutable"
   ]
  },
  {
   "cell_type": "code",
   "execution_count": null,
   "metadata": {},
   "outputs": [],
   "source": [
    "tupl=(5,10,15,20,25,30)\n",
    "\n",
    "z = (\"sdf\", 'c', 6.3, 1, Inf)"
   ]
  },
  {
   "cell_type": "markdown",
   "metadata": {},
   "source": [
    "Assessing the elements works similar to vectors:"
   ]
  },
  {
   "cell_type": "code",
   "execution_count": null,
   "metadata": {},
   "outputs": [],
   "source": [
    "tupl[3:end]"
   ]
  },
  {
   "cell_type": "markdown",
   "metadata": {},
   "source": [
    "#### **E1**\n",
    "Try chancing a element of the tuple named *tupl*."
   ]
  },
  {
   "cell_type": "markdown",
   "metadata": {},
   "source": [
    "#### **E2**\n",
    "Find out how to obtain the 4th element of the second tuple in the tuple *z* below:"
   ]
  },
  {
   "cell_type": "code",
   "execution_count": null,
   "metadata": {},
   "outputs": [],
   "source": [
    "#Tuples of tuples\n",
    "z = ((1, 3, 4), ('a', 5.7, 9, \"This one\"))"
   ]
  },
  {
   "cell_type": "markdown",
   "metadata": {},
   "source": [
    "### Named tuples\n",
    "Additionally, it is possible to assign a name (i.e., key) to each element in a tuple. Creating a key-value pairs. There are three ways to create named tuples:\n",
    "- Providing keys and values in separate tuples\n",
    "- Providing keys and values in a single tuple\n",
    "- Combining two existing named tuples\n",
    "\n",
    "#### Key and values in separate tuples"
   ]
  },
  {
   "cell_type": "code",
   "execution_count": null,
   "metadata": {},
   "outputs": [],
   "source": [
    "#create 2 tuples\n",
    "# tuple with names\n",
    "names_shape = (:corner1, :corner2)\n",
    "# tuple with values\n",
    "values_shape = ((100, 100), (200, 200))\n",
    "\n",
    "#create the named tuple\n",
    "shape_item2 = NamedTuple{names_shape}(values_shape)"
   ]
  },
  {
   "cell_type": "markdown",
   "metadata": {},
   "source": [
    "This allows for an alternative way of indexing by using the key names. To do so, the variable name is followed by a . and then the name of the key. For example:"
   ]
  },
  {
   "cell_type": "code",
   "execution_count": null,
   "metadata": {},
   "outputs": [],
   "source": [
    "# shows the number linked to the key corner1\n",
    "shape_item2.corner1\n",
    "\n",
    "\n",
    "shape_item2.corner2 == shape_item2[2]"
   ]
  },
  {
   "cell_type": "markdown",
   "metadata": {},
   "source": [
    "#### Key and value in a single tuple\n",
    "This is achieved by defining the key-value pair in a single tuple with the = sign in between."
   ]
  },
  {
   "cell_type": "code",
   "execution_count": null,
   "metadata": {},
   "outputs": [],
   "source": [
    "shape_item = (corner1 = (1, 1), corner2 = (-1, -1), center = (0, 0))"
   ]
  },
  {
   "cell_type": "markdown",
   "metadata": {},
   "source": [
    "#### Combining named tuples\n",
    "Tuples with unique key names can be merged using the merge function. Do be aware that when there are duplicates of keyword, by default the function only keeps one entry."
   ]
  },
  {
   "cell_type": "code",
   "execution_count": null,
   "metadata": {},
   "outputs": [],
   "source": [
    "colors_shape = (top = \"red\", bottom = \"green\")\n",
    "shape_item = (corner1 = (1, 1), corner2 = (-1, -1), center = (0, 0))\n",
    "merge(shape_item, colors_shape)"
   ]
  },
  {
   "cell_type": "markdown",
   "metadata": {},
   "source": [
    "#### **E3**\n",
    "Create a named tuple containing the RGB codes for the primary colors. RGB stands for red green blue and the maximum value is 255, for example, red would be equal to 255,0,0. "
   ]
  },
  {
   "cell_type": "markdown",
   "metadata": {},
   "source": [
    "Finally, there is one alternative way of obtaining all values of a tuple and placing them in separate variables. And can be done as followed:"
   ]
  },
  {
   "cell_type": "code",
   "execution_count": 1,
   "metadata": {},
   "outputs": [
    {
     "name": "stdout",
     "output_type": "stream",
     "text": [
      "(0, 0)\n"
     ]
    }
   ],
   "source": [
    "shape_item = (corner1 = (1, 1), corner2 = (-1, -1), center = (0, 0))\n",
    "\n",
    "c1, c2, middle = shape_item\n",
    "\n",
    "println(middle)"
   ]
  },
  {
   "cell_type": "markdown",
   "metadata": {},
   "source": [
    "This might see like trivial knowledge that is not commonly used, but this is basically what happened with every function that returns multiple variables. An example is the xxx function."
   ]
  },
  {
   "cell_type": "code",
   "execution_count": null,
   "metadata": {},
   "outputs": [],
   "source": [
    "v = [0,1232,8,64,12,123]\n",
    "\n",
    "# assigns the outputs as a single tuple named tpl\n",
    "tpl = findmax(v)\n",
    "# assigns the outputs to multiple variables\n",
    "max_val, index = findmax(v)"
   ]
  },
  {
   "cell_type": "markdown",
   "metadata": {},
   "source": [
    "#### **E4**\n",
    "Create a tuple that contains the first four letters of the alphabet (these letters should be of type String). Then unpack this tuple into four variables a, b, c and d."
   ]
  },
  {
   "cell_type": "markdown",
   "metadata": {},
   "source": [
    "More information on tuples can be found here: https://juliateachingctu.github.io/Julia-for-Optimization-and-Learning/stable/lecture_02/tuples/."
   ]
  },
  {
   "cell_type": "markdown",
   "metadata": {},
   "source": [
    "## Dataframes\n",
    "DataFrames are a great data type to use when dealing with tables of data, especially ones that contain different types (e.g., Floats, Strings, ect.). The only requirement is that each column of data has the same number of elements. To load and create DataFrames, we will always need the DataFrames package. Here is a simple example to setup a DataFrame from scratch."
   ]
  },
  {
   "cell_type": "code",
   "execution_count": null,
   "metadata": {},
   "outputs": [],
   "source": [
    "using DataFrames\n",
    "df = DataFrame(a = [1,2], var2 = [\"blue\", \"red\"])"
   ]
  },
  {
   "cell_type": "markdown",
   "metadata": {},
   "source": [
    "Here you can see that each named column is filled with a vector containing the same number of elements. Accessing values in a DataFrame can be done in two ways: 1) similar to matrices and 2) as a combination of the names tuples and indexing vectors. The following lines of code also obtain the same element."
   ]
  },
  {
   "cell_type": "code",
   "execution_count": null,
   "metadata": {},
   "outputs": [],
   "source": [
    "# 1 Matrix like\n",
    "df[2,2]                 #get the element on the second row in the second column\n",
    "\n",
    "# 2 Named tuple + vector like\n",
    "df[2,\"var2\"]            #get the second element in from the column names var2\n",
    "df[!,\"var2\"][2]         #first set of brackets extract the column -> get the 2nd element\n",
    "df[:,\"var2\"][2]         #same as previous\n",
    "df.var2[2]              #same as previous"
   ]
  },
  {
   "cell_type": "markdown",
   "metadata": {},
   "source": [
    "#### **E5**\n",
    "Using the following DataFrame df2,\n",
    "\n",
    "a) Obtain all column names of df2. Check the function names().\n",
    "\n",
    "b) Get the 6th value from the last column.\n",
    "\n",
    "c) Find all the rows that have a sepal length > 5.\n",
    "\n",
    "d) Replace the 4th value in the first column with \"NA\". What to you think is the issue here?\n",
    "\n",
    "e) Create a DataFrame from scratch that contains different types of variables in a column. What is the difference with d)?\n"
   ]
  },
  {
   "cell_type": "code",
   "execution_count": null,
   "metadata": {},
   "outputs": [],
   "source": [
    "#load a DataFrame from RDatasets\n",
    "using RDatasets\n",
    "df2 = dataset(\"datasets\", \"iris\")"
   ]
  },
  {
   "cell_type": "markdown",
   "metadata": {},
   "source": [
    "Now we could also add more data to the df2. To add new columns, you can simply type a new name into the DataFrame and assign the values belonging to it. Remember, the values should be a vector with a number of elements equal to the number of rows."
   ]
  },
  {
   "cell_type": "code",
   "execution_count": null,
   "metadata": {},
   "outputs": [],
   "source": [
    "df2[!,\"MyNewColumn\"] = 1:size(df2,1)"
   ]
  },
  {
   "cell_type": "markdown",
   "metadata": {},
   "source": [
    "Additionally, it is also possible to add new rows/entries to a DataFrame. For adding individual rows, push!() is the function that you would want to use. This appends a tuple of the values of the new row to the selected DataFrame. In the case of adding multiple entries/a DataFrame to a DataFrame, append!() can be used.\n",
    "\n",
    "Notice the !, this is used in julia with functions when you are adding something to an existing variable or something else."
   ]
  },
  {
   "cell_type": "code",
   "execution_count": null,
   "metadata": {},
   "outputs": [],
   "source": [
    "# adding a single entry\n",
    "push!(df2, (1, 2, 3, 4, \"x\"))\n",
    "\n",
    "# This appends df2 to df2, meaning that all entries will be in there whice after running this line\n",
    "append!(df2, df2)"
   ]
  },
  {
   "cell_type": "markdown",
   "metadata": {},
   "source": [
    "#### **E6**\n",
    "Using the following DataFrame df3,\n",
    "\n",
    "a) Add a new column named *new1* containing only ones to df3.\n",
    "\n",
    "b) Add a new entry/row to df3 with values c1 = 4, c2 = \"B\", and new1 = 2.\n",
    "\n",
    "c) Find out how to add a column after c2 and before new1, containing the values [4,3,2,1].\n",
    "\n",
    "d) Copy and insert the 4th row on the 3rd row position to the matrix."
   ]
  },
  {
   "cell_type": "code",
   "execution_count": null,
   "metadata": {},
   "outputs": [],
   "source": [
    "df3 = DataFrame(c1 = [1,2,3], c2 = [\"A\", \"A\", \"C\"])"
   ]
  },
  {
   "cell_type": "markdown",
   "metadata": {},
   "source": [
    "For even more information on DataFrames see: https://dataframes.juliadata.org/stable/man/getting_started/."
   ]
  },
  {
   "cell_type": "markdown",
   "metadata": {},
   "source": [
    "## Dictionaries\n",
    "Dictionaries are similar to DataFrames in the sense that they also contain a collection of data that can be saved under different names. However, dictionaries do not have a table layout like DataFrames, meaning that each named variable in a dictionary can have different number of elements, contain a matrix, just a single string, or even a DataFrame or Dictionary.\n",
    "\n",
    "How to setup a dictionary:"
   ]
  },
  {
   "cell_type": "code",
   "execution_count": null,
   "metadata": {},
   "outputs": [],
   "source": [
    "dict1 = Dict(\"A\" => 1, \"B\" => [2,4,8])\n",
    "\n",
    "#or with symbols (i.e., :Name)\n",
    "\n",
    "dict1 = Dict(:A => 1, :B => [2,4,8])"
   ]
  },
  {
   "cell_type": "markdown",
   "metadata": {},
   "source": [
    "To access the values in dictionaries, you have to use the keywords to access each field. Here \"A\" was defined first, however, it does not have the index of 1, which it would have had if it was a tuple. This is because dictionaries are a collection of unordered data."
   ]
  },
  {
   "cell_type": "code",
   "execution_count": null,
   "metadata": {},
   "outputs": [],
   "source": [
    "#obtain everything in A\n",
    "dict1[\"A\"]\n",
    "\n",
    "#obtain everything in B\n",
    "dict1[\"B\"]\n",
    "\n",
    "#obtain the 2nd element in B\n",
    "dict1[\"B\"][2]"
   ]
  },
  {
   "cell_type": "markdown",
   "metadata": {},
   "source": [
    "Two code blocks back, you see the alternative of using a symbol (:FollowedByName) instead of strings. When this is used l[\"A\"] does not work and l[:A] does. This is because \"A\" == :A is false. So depending if you use symbols or strings, you will also have to use those for indexing. This also means that you can create Dictionaries with a mix of keyword types."
   ]
  },
  {
   "cell_type": "code",
   "execution_count": null,
   "metadata": {},
   "outputs": [],
   "source": [
    "dict2 = Dict(\"a\" => 1, \"b\" => 2, \"c\" => \"Hello\", 1 => 10)"
   ]
  },
  {
   "cell_type": "markdown",
   "metadata": {},
   "source": [
    "Here, you can see that even a number can be used as a keyword in dictionaries. Now:"
   ]
  },
  {
   "cell_type": "code",
   "execution_count": null,
   "metadata": {},
   "outputs": [],
   "source": [
    "dict2[1]   #returns 10"
   ]
  },
  {
   "cell_type": "markdown",
   "metadata": {},
   "source": [
    "#### **E7**\n",
    "What does dict2[2] return and why?"
   ]
  },
  {
   "cell_type": "markdown",
   "metadata": {},
   "source": [
    "Dictionaries in Julia allow accessing all the keys and all the values at once. This can be done with the use of pre-defined keywords keys and values."
   ]
  },
  {
   "cell_type": "code",
   "execution_count": null,
   "metadata": {},
   "outputs": [],
   "source": [
    "Keys = keys(dict2)\n",
    "Values = values(dict2)"
   ]
  },
  {
   "cell_type": "markdown",
   "metadata": {},
   "source": [
    "Values in a key-value pair can be changed and additionally keys can be easily added by using:"
   ]
  },
  {
   "cell_type": "code",
   "execution_count": null,
   "metadata": {},
   "outputs": [],
   "source": [
    "#adding new key-value pairs\n",
    "dict2[\"d\"] = \"New variable\"\n",
    "\n",
    "#replace existing ones\n",
    "dict2[\"c\"] = [1,2,3]\n",
    "\n",
    "# or add values withing a field\n",
    "append!(dict2[\"c\"],[4,5,6])\n",
    "println(dict2)"
   ]
  },
  {
   "cell_type": "markdown",
   "metadata": {},
   "source": [
    "#### **E8**\n",
    "\n",
    "a)\n",
    "\n",
    "b)\n",
    "\n",
    "c)\n",
    "\n",
    "d)\n"
   ]
  },
  {
   "cell_type": "markdown",
   "metadata": {},
   "source": [
    "#### **E9**\n",
    "Convert DataFrame df2 from exercise 4 to a dictionary.\n",
    "\n",
    "#### **E10**\n",
    "Convert the following dictionary to a DataFrame, where the dictionary keys are ordered in alphabetical order in the DataFrame (i.e., The first column is \"A\")."
   ]
  },
  {
   "cell_type": "code",
   "execution_count": null,
   "metadata": {},
   "outputs": [],
   "source": [
    "using StatsBase\n",
    "\n",
    "rDict = Dict(i => rand(1:100, 10) for i in sample([\"A\", \"B\", \"C\", \"D\", \"Ee\", \"F\", \"G\", \"h\"],5, replace = false))"
   ]
  },
  {
   "cell_type": "markdown",
   "metadata": {},
   "source": [
    "# Files\n",
    "So far we have created small data collections that are easy and quick to make. However, this is not representative for the data we generally work with, coming form measurements. For these datasets it is a lot easier if we can directly load it from a file. For this, we first need the path to this file and then we will go into the ways to load files with different extensions.\n",
    "\n",
    "## Paths\n",
    "A path to a file is of type string and consists of the path/folder names on how to get to that file. For example the current working directory that Julia is in right now can be found with the following function and is a prefect example of a path:"
   ]
  },
  {
   "cell_type": "code",
   "execution_count": null,
   "metadata": {},
   "outputs": [],
   "source": [
    "pwd()"
   ]
  },
  {
   "cell_type": "markdown",
   "metadata": {},
   "source": [
    "Running this line of code will show you a path that starts with the disk name and then is followed by multiple folder names. These names are divided by either \"\\\\\\\\\" or \"/\", depending on wether you are working on windows or linux/macOS. This is what Julia works with by default depending on the operating system, but they work interchangeably. For example:"
   ]
  },
  {
   "cell_type": "code",
   "execution_count": null,
   "metadata": {},
   "outputs": [],
   "source": [
    "\"c:\\\\folder/folder\\\\folder\"         "
   ]
  },
  {
   "cell_type": "markdown",
   "metadata": {},
   "source": [
    "These two examples above show paths leading to folders, but what if we need to access a specific file in that folder? We can either just type the full path to that file: "
   ]
  },
  {
   "cell_type": "code",
   "execution_count": null,
   "metadata": {},
   "outputs": [],
   "source": [
    "\"c:\\\\folder/folder\\\\folder\\\\file_name.csv\"    "
   ]
  },
  {
   "cell_type": "markdown",
   "metadata": {},
   "source": [
    "Or if they are save in different variables, it is good practice to use the joinpath function. This unction automatically ensures that the separation sings between the path and file name is corrected."
   ]
  },
  {
   "cell_type": "code",
   "execution_count": null,
   "metadata": {},
   "outputs": [],
   "source": [
    "path = \"c:\\\\folder/folder\\\\folder\"    \n",
    "file = \"file_name.csv\"\n",
    "full_path = joinpath(path, file)"
   ]
  },
  {
   "cell_type": "markdown",
   "metadata": {},
   "source": [
    "## Loading and Saving\n",
    "Now that we can make a path, we can actually save our data in the desired folder with the name that we want to give it.\n",
    "\n",
    "### Values and arrays\n",
    "Sometimes you might just want to save a simple value, tuple, vector, or matrix to a file without needed to convert it, for example,to a DataFrame or Dictionary. For this we can use the BSON package and save the variables without an extension (e.g., without .csv)."
   ]
  },
  {
   "cell_type": "code",
   "execution_count": null,
   "metadata": {},
   "outputs": [],
   "source": [
    "using BSON\n",
    "\n",
    "var_name = zeros(5,4)\n",
    "BSON.@save(\"Example\\\\path\\\\name_to_save_the_variable_as\", var_name)\n",
    "\n",
    "# and we can load this variable later on using \n",
    "BSON.@load(\"Example\\\\path\\\\name_to_save_the_variable_as\", var_name)"
   ]
  },
  {
   "cell_type": "markdown",
   "metadata": {},
   "source": [
    "Notice that when loading a variable back we again use var_name as second input. This is the key name it got assigned to and only through this name you can load the values saved in the file. This also means that you are able to store multiple variables in a single file. Try the following with the String temp_var being a valid path on your laptop:"
   ]
  },
  {
   "cell_type": "code",
   "execution_count": null,
   "metadata": {},
   "outputs": [],
   "source": [
    "using BSON\n",
    "\n",
    "var_name = zeros(5,4)\n",
    "other_var = \"Something\"\n",
    "\n",
    "BSON.@save(\"temp_var\", var_name, other_var)\n",
    "\n",
    "#NOW: Stop the REPL and Start it again to open a new session that has not seen the variables var_name and other_var\n",
    "\n",
    "#Try:\n",
    "BSON.@load(\"temp_var\", var1)\n",
    "#What goes wrong?\n",
    "\n",
    "#you can load only a single variable back from that file\n",
    "BSON.@load(\"temp_var\", other_var)\n",
    "println(var_name)\n",
    "println(other_var)\n",
    "\n",
    "#Or load multiple varibales back at once\n",
    "BSON.@load(\"temp_var\", other_var, var_name)     #notice that the order does not matter\n",
    "println(var_name)\n",
    "println(other_var)"
   ]
  },
  {
   "cell_type": "markdown",
   "metadata": {},
   "source": [
    "### CSV\n",
    "To read a csv file into a DataFrame we first need the packages CSV and DataFrames."
   ]
  },
  {
   "cell_type": "code",
   "execution_count": null,
   "metadata": {},
   "outputs": [],
   "source": [
    "## CSV file\n",
    "using CSV, DataFrames\n",
    "var = CSV.read(\"Example\\\\path\\\\file.csv\", DataFrame)\n",
    "\n",
    "CSV.write(\"Example\\\\path\\\\file.csv\", var)"
   ]
  },
  {
   "cell_type": "markdown",
   "metadata": {},
   "source": [
    "\n",
    "### XLSX\n",
    "XLSX is used for reading and writing excel spread sheets. These files can contain multiple \"pages\" in excel, which makes it a bit more complex to work with. It is either possible to load in the full xlsx file with all worksheets or load a specific sheet into a DataFrame. For a more extensive tutorial on how to work with the first option see: https://felipenoris.github.io/XLSX.jl/stable/tutorial/. This page also contains more information on how to  write excel file, but for now our main focus is to be able to read an excel file into a DataFrame."
   ]
  },
  {
   "cell_type": "code",
   "execution_count": null,
   "metadata": {},
   "outputs": [],
   "source": [
    "using XLSX\n",
    "\n",
    "#loading a spread sheet\n",
    "xf = XLSX.readxlsx(\"myfile.xlsx\")   #this will also show the sheet names and data ranges in the REPL\n",
    "#assessing a worksheet\n",
    "sh = xf[\"mySheet\"]\n",
    "\n",
    "#loading a single worksheet into a dataframe\n",
    "df = DataFrame(XLSX.readtable(\"myfile.xlsx\", \"mysheet\"))\n"
   ]
  },
  {
   "cell_type": "markdown",
   "metadata": {},
   "source": [
    "### JLD\n",
    "JLD stands for Julia dictionary and is the file type as which dictionaries can be saved. For example:"
   ]
  },
  {
   "cell_type": "code",
   "execution_count": null,
   "metadata": {},
   "outputs": [],
   "source": [
    "using JLD, HDF5\n",
    "\n",
    "d = Dict(\n",
    "    (\"a\", \"b\") => [1, 2, 3],\n",
    "    (\"c\", \"d\") => [4, 5, 6],\n",
    "    (\"e\", \"f\") => [7, 8, 9]\n",
    ")\n",
    "\n",
    "save(\"path\\\\data.jld\", \"name\", d)\n",
    "load(\"path\\\\data.jld\")[\"name\"]"
   ]
  },
  {
   "cell_type": "markdown",
   "metadata": {},
   "source": [
    "#### **E11**\n",
    "Save and load the variables generated in exercise E3, E5, and E9 with their appropriate method."
   ]
  },
  {
   "cell_type": "markdown",
   "metadata": {},
   "source": [
    "# .TXT and .DAT files\n",
    "Finally, we will be discussing .txt and .dat files that can be ready and manipulated through the IOstream. These are files that file types that are often generated, either containing the measured data of the instrument or extra information that is recorded in a separate file (e.g., instrument settings). First lets create a text file through Julia."
   ]
  },
  {
   "cell_type": "code",
   "execution_count": null,
   "metadata": {},
   "outputs": [],
   "source": [
    "#open a new file\n",
    "f = open(\"New Text Document.txt\", \"w\")\n",
    "\n",
    "#write a string to it\n",
    "write(f, \"Hello world!\")\n",
    "\n",
    "#Finally, DO NOT FORGET to close the file\n",
    "close(f)\n",
    "\n",
    "#Now load this file into another variable and see what it contains\n",
    "o = open(\"New Text Document.txt\", \"r\")\n",
    "read(o,String)\n",
    "\n",
    "close(o)"
   ]
  },
  {
   "cell_type": "markdown",
   "metadata": {},
   "source": [
    "There are different ways to open files as shown above. The example above first uses \"w\" that stands for write, meaning that the file is opened and we can write information into it. Then in the second instance \"r\" is used, which means we can only read what is in the file and not write information to it. The table below shows an overview of the different options to open files.\n",
    "\n",
    "|Mode|\tDescription\tKeywords|\n",
    "|----|-----------|\n",
    "|r\t|read|\n",
    "|w\t|write, create, truncate|\t\n",
    "|a\t|write, create, append|\t\n",
    "|r+\t|read, write|\n",
    "|w+\t|read, write, create, truncate|\n",
    "|a+\t|read, write, create, append|"
   ]
  },
  {
   "cell_type": "markdown",
   "metadata": {},
   "source": [
    "So far the text file contained a single line of information. Although this is generally not the case. Lets first create a multiline file and practice working with that. To do so run the following:"
   ]
  },
  {
   "cell_type": "code",
   "execution_count": null,
   "metadata": {},
   "outputs": [],
   "source": [
    "#open a new file\n",
    "f = open(\"New Text Document.txt\", \"w\")\n",
    "\n",
    "#write a string to it\n",
    "for lines = rand(1:20,5)\n",
    "    write(f, \"Hello world $lines\"*\"!\\n\")        #\\n in a string start a new line\n",
    "end\n",
    "\n",
    "#Finally, DO NOT FORGET to close the file\n",
    "close(f)"
   ]
  },
  {
   "cell_type": "markdown",
   "metadata": {},
   "source": [
    "Running write multiple times before closing the file will append each string after the other and we used the \\n to ensure that the new writes start on a new line. \n",
    "\n",
    "#### **E12** \n",
    "a) Open the above created text file in read mode.\n",
    "\n",
    "b) Now you can read the lines of the contents with the function readlines().\n",
    "\n",
    "c) For each line, extract the number and save them in a vector."
   ]
  },
  {
   "cell_type": "markdown",
   "metadata": {},
   "source": [
    "For more info on the iostream see: https://docs.julialang.org/en/v1/base/io-network/"
   ]
  },
  {
   "cell_type": "markdown",
   "metadata": {},
   "source": [
    "# Copying data structures\n",
    "Finally, when copying/assigning larger data structures as a whole to a new variable, it might be that the new variable just points to the old one. When this happens it would mean that changing a value in the new variable also happens for the old variable. For example:"
   ]
  },
  {
   "cell_type": "code",
   "execution_count": null,
   "metadata": {},
   "outputs": [],
   "source": [
    "old_var = DataFrame(y = [1,2],x = [2,3])\n",
    "new_var = old_var\n",
    "\n",
    "#change a value in new_var\n",
    "new_var[1,1] = 2\n",
    "#now the value has changed in both variables\n",
    "println(new_var[1,1])\n",
    "println(old_var[1,1])\n",
    "println(new_var[1,1] == old_var[1,1])"
   ]
  },
  {
   "cell_type": "markdown",
   "metadata": {},
   "source": [
    "To avoid this we can use the deepcopy function. This creates a deep copy and everything is copied recursively, resulting in a fully independent object. "
   ]
  },
  {
   "cell_type": "code",
   "execution_count": null,
   "metadata": {},
   "outputs": [],
   "source": [
    "old_var = DataFrame(y = [1,2],x = [2,3])\n",
    "new_var = deepcopy(old_var)                 #!!!!!!!!!!!!\n",
    "\n",
    "#change a value in new_var\n",
    "new_var[1,1] = 2\n",
    "#now the value has changed in both variables\n",
    "println(new_var[1,1])\n",
    "println(old_var[1,1])\n",
    "println(new_var[1,1] == old_var[1,1])"
   ]
  },
  {
   "cell_type": "markdown",
   "metadata": {},
   "source": [
    "# More exercises\n",
    "\n",
    "#### **E13**\n",
    "Get the file \"MSBNK-AAFC-AC000003.txt\" from canvas. This contains the information of a single mass spectrum from MassBank EU.\n",
    "\n",
    "a) Loop through the lines in this file and find on which line the date is saved. How would you find this information if the line number on which this information is not recorded would not be consistent.\n",
    "\n",
    "b) Write a function that returns all the m/z values and the intensities of the peaks recorded in the .txt file of the molecule. Assume that line numbers likely change between different MS spectra, meaning that you need a dynamic way for extracting the peaks. \n",
    "\n",
    "\n",
    "#### **E14**\n",
    "Get the file \"MassBankDatabase_p1.csv\" from canvas. This file contains a fraction of all the spectra recorded on MassBank EU, for which the information was obtained in a similar manner as the previous exercise.\n",
    "\n",
    "a) Obtain all entries of the compound with the InChIKey OQIQSTLJSLGHID-WNWIJWBNSA-N.\n",
    "\n",
    "b) Next filter those entries based on their precursor type. Only keep the protonated spectra (i.e., [M+H]+).\n",
    "\n",
    "c) Obtain the fragments (MZ_VALUES) for each spectrum and plot these. Is there a trend between the fragments obtained for each spectrum and the collision energy?\n",
    "\n",
    "\n",
    "#### **E?**\n",
    "\n",
    "\n",
    "#### **E?**\n"
   ]
  }
 ],
 "metadata": {
  "kernelspec": {
   "display_name": "Julia 1.6.7",
   "language": "julia",
   "name": "julia-1.6"
  },
  "language_info": {
   "file_extension": ".jl",
   "mimetype": "application/julia",
   "name": "julia",
   "version": "1.6.7"
  },
  "orig_nbformat": 4
 },
 "nbformat": 4,
 "nbformat_minor": 2
}
