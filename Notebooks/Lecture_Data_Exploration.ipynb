{
 "cells": [
  {
   "cell_type": "markdown",
   "id": "62db682d",
   "metadata": {},
   "source": [
    "# Data Exploration\n",
    "\n",
    "Here we will learn about how to look at different datasets and generate meaningful insights into the structure of those datasets. As a first step we should import a set of training data to play around with. "
   ]
  },
  {
   "cell_type": "code",
   "execution_count": 1,
   "id": "b40ca04e",
   "metadata": {},
   "outputs": [
    {
     "data": {
      "text/html": [
       "<div><div style = \"float: left;\"><span>5×5 DataFrame</span></div><div style = \"clear: both;\"></div></div><div class = \"data-frame\" style = \"overflow-x: scroll;\"><table class = \"data-frame\" style = \"margin-bottom: 6px;\"><thead><tr class = \"header\"><th class = \"rowNumber\" style = \"font-weight: bold; text-align: right;\">Row</th><th style = \"text-align: left;\">SepalLength</th><th style = \"text-align: left;\">SepalWidth</th><th style = \"text-align: left;\">PetalLength</th><th style = \"text-align: left;\">PetalWidth</th><th style = \"text-align: left;\">Species</th></tr><tr class = \"subheader headerLastRow\"><th class = \"rowNumber\" style = \"font-weight: bold; text-align: right;\"></th><th title = \"Float64\" style = \"text-align: left;\">Float64</th><th title = \"Float64\" style = \"text-align: left;\">Float64</th><th title = \"Float64\" style = \"text-align: left;\">Float64</th><th title = \"Float64\" style = \"text-align: left;\">Float64</th><th title = \"CategoricalArrays.CategoricalValue{String, UInt8}\" style = \"text-align: left;\">Cat…</th></tr></thead><tbody><tr><td class = \"rowNumber\" style = \"font-weight: bold; text-align: right;\">1</td><td style = \"text-align: right;\">5.1</td><td style = \"text-align: right;\">3.5</td><td style = \"text-align: right;\">1.4</td><td style = \"text-align: right;\">0.2</td><td style = \"text-align: left;\">setosa</td></tr><tr><td class = \"rowNumber\" style = \"font-weight: bold; text-align: right;\">2</td><td style = \"text-align: right;\">4.9</td><td style = \"text-align: right;\">3.0</td><td style = \"text-align: right;\">1.4</td><td style = \"text-align: right;\">0.2</td><td style = \"text-align: left;\">setosa</td></tr><tr><td class = \"rowNumber\" style = \"font-weight: bold; text-align: right;\">3</td><td style = \"text-align: right;\">4.7</td><td style = \"text-align: right;\">3.2</td><td style = \"text-align: right;\">1.3</td><td style = \"text-align: right;\">0.2</td><td style = \"text-align: left;\">setosa</td></tr><tr><td class = \"rowNumber\" style = \"font-weight: bold; text-align: right;\">4</td><td style = \"text-align: right;\">4.6</td><td style = \"text-align: right;\">3.1</td><td style = \"text-align: right;\">1.5</td><td style = \"text-align: right;\">0.2</td><td style = \"text-align: left;\">setosa</td></tr><tr><td class = \"rowNumber\" style = \"font-weight: bold; text-align: right;\">5</td><td style = \"text-align: right;\">5.0</td><td style = \"text-align: right;\">3.6</td><td style = \"text-align: right;\">1.4</td><td style = \"text-align: right;\">0.2</td><td style = \"text-align: left;\">setosa</td></tr></tbody></table></div>"
      ],
      "text/latex": [
       "\\begin{tabular}{r|ccccc}\n",
       "\t& SepalLength & SepalWidth & PetalLength & PetalWidth & Species\\\\\n",
       "\t\\hline\n",
       "\t& Float64 & Float64 & Float64 & Float64 & Cat…\\\\\n",
       "\t\\hline\n",
       "\t1 & 5.1 & 3.5 & 1.4 & 0.2 & setosa \\\\\n",
       "\t2 & 4.9 & 3.0 & 1.4 & 0.2 & setosa \\\\\n",
       "\t3 & 4.7 & 3.2 & 1.3 & 0.2 & setosa \\\\\n",
       "\t4 & 4.6 & 3.1 & 1.5 & 0.2 & setosa \\\\\n",
       "\t5 & 5.0 & 3.6 & 1.4 & 0.2 & setosa \\\\\n",
       "\\end{tabular}\n"
      ],
      "text/plain": [
       "\u001b[1m5×5 DataFrame\u001b[0m\n",
       "\u001b[1m Row \u001b[0m│\u001b[1m SepalLength \u001b[0m\u001b[1m SepalWidth \u001b[0m\u001b[1m PetalLength \u001b[0m\u001b[1m PetalWidth \u001b[0m\u001b[1m Species \u001b[0m\n",
       "     │\u001b[90m Float64     \u001b[0m\u001b[90m Float64    \u001b[0m\u001b[90m Float64     \u001b[0m\u001b[90m Float64    \u001b[0m\u001b[90m Cat…    \u001b[0m\n",
       "─────┼───────────────────────────────────────────────────────────\n",
       "   1 │         5.1         3.5          1.4         0.2  setosa\n",
       "   2 │         4.9         3.0          1.4         0.2  setosa\n",
       "   3 │         4.7         3.2          1.3         0.2  setosa\n",
       "   4 │         4.6         3.1          1.5         0.2  setosa\n",
       "   5 │         5.0         3.6          1.4         0.2  setosa"
      ]
     },
     "execution_count": 1,
     "metadata": {},
     "output_type": "execute_result"
    }
   ],
   "source": [
    "using DataSci4Chem\n",
    "\n",
    "data = dataset(\"datasets\", \"iris\")\n",
    "data[1:5,:]"
   ]
  },
  {
   "cell_type": "markdown",
   "id": "6a39ebcf",
   "metadata": {},
   "source": [
    "## E1: \n",
    "\n",
    "What are the variables and their types in this dataset?"
   ]
  },
  {
   "cell_type": "markdown",
   "id": "af6f58a5",
   "metadata": {},
   "source": [
    "> **Answers to E1**\n",
    "> \n",
    "> There are in total five variables of which four are Float64 and one is categorical. There are in total 150 measurements included in this dataset.\n",
    ">"
   ]
  },
  {
   "cell_type": "code",
   "execution_count": 62,
   "id": "90cc3269",
   "metadata": {},
   "outputs": [
    {
     "data": {
      "text/plain": [
       "(150, 5)"
      ]
     },
     "metadata": {},
     "output_type": "display_data"
    }
   ],
   "source": [
    "size(data)"
   ]
  },
  {
   "cell_type": "markdown",
   "id": "f923a5a1",
   "metadata": {},
   "source": [
    "## E2: \n",
    "\n",
    "For numerical variables, what are the mean and median of each variable?"
   ]
  },
  {
   "cell_type": "code",
   "execution_count": 2,
   "id": "a2a33264",
   "metadata": {},
   "outputs": [
    {
     "data": {
      "text/plain": [
       "1×4 Matrix{Float64}:\n",
       " 5.84333  3.05733  3.758  1.19933"
      ]
     },
     "execution_count": 2,
     "metadata": {},
     "output_type": "execute_result"
    }
   ],
   "source": [
    "data_m = Matrix(data[:,1:4])\n",
    "a_data = mean(data_m, dims = 1)"
   ]
  },
  {
   "cell_type": "code",
   "execution_count": 3,
   "id": "fbc8b7d7",
   "metadata": {},
   "outputs": [
    {
     "data": {
      "text/plain": [
       "1×4 Matrix{Float64}:\n",
       " 5.8  3.0  4.35  1.3"
      ]
     },
     "execution_count": 3,
     "metadata": {},
     "output_type": "execute_result"
    }
   ],
   "source": [
    "med_data = median(data_m, dims = 1)"
   ]
  },
  {
   "cell_type": "markdown",
   "id": "aac033cb",
   "metadata": {},
   "source": [
    "## E3:\n",
    "\n",
    "What could having similar mean and median represent? "
   ]
  },
  {
   "cell_type": "markdown",
   "id": "5cd7dc27",
   "metadata": {},
   "source": [
    "> **Answers to E3**\n",
    "> \n",
    "> This could potentially mean that we are working with normal distributions. \n",
    ">"
   ]
  },
  {
   "cell_type": "markdown",
   "id": "95d9c2d1",
   "metadata": {},
   "source": [
    "## E4: \n",
    "\n",
    "How can we verify this hypothesis? (Hint: visualization)"
   ]
  },
  {
   "cell_type": "code",
   "execution_count": 4,
   "id": "5cad070b",
   "metadata": {},
   "outputs": [
    {
     "data": {
      "image/svg+xml": [
       "<?xml version=\"1.0\" encoding=\"utf-8\"?>\n",
       "<svg xmlns=\"http://www.w3.org/2000/svg\" xmlns:xlink=\"http://www.w3.org/1999/xlink\" width=\"600\" height=\"400\" viewBox=\"0 0 2400 1600\">\n",
       "<defs>\n",
       "  <clipPath id=\"clip500\">\n",
       "    <rect x=\"0\" y=\"0\" width=\"2400\" height=\"1600\"/>\n",
       "  </clipPath>\n",
       "</defs>\n",
       "<path clip-path=\"url(#clip500)\" d=\"M0 1600 L2400 1600 L2400 0 L0 0  Z\" fill=\"#ffffff\" fill-rule=\"evenodd\" fill-opacity=\"1\"/>\n",
       "<defs>\n",
       "  <clipPath id=\"clip501\">\n",
       "    <rect x=\"480\" y=\"0\" width=\"1681\" height=\"1600\"/>\n",
       "  </clipPath>\n",
       "</defs>\n",
       "<path clip-path=\"url(#clip500)\" d=\"M141.853 686.448 L1152.76 686.448 L1152.76 47.2441 L141.853 47.2441  Z\" fill=\"#ffffff\" fill-rule=\"evenodd\" fill-opacity=\"1\"/>\n",
       "<defs>\n",
       "  <clipPath id=\"clip502\">\n",
       "    <rect x=\"141\" y=\"47\" width=\"1012\" height=\"640\"/>\n",
       "  </clipPath>\n",
       "</defs>\n",
       "<polyline clip-path=\"url(#clip502)\" style=\"stroke:#000000; stroke-linecap:round; stroke-linejoin:round; stroke-width:2; stroke-opacity:0.1; fill:none\" points=\"197.454,686.448 197.454,47.2441 \"/>\n",
       "<polyline clip-path=\"url(#clip502)\" style=\"stroke:#000000; stroke-linecap:round; stroke-linejoin:round; stroke-width:2; stroke-opacity:0.1; fill:none\" points=\"422.379,686.448 422.379,47.2441 \"/>\n",
       "<polyline clip-path=\"url(#clip502)\" style=\"stroke:#000000; stroke-linecap:round; stroke-linejoin:round; stroke-width:2; stroke-opacity:0.1; fill:none\" points=\"647.304,686.448 647.304,47.2441 \"/>\n",
       "<polyline clip-path=\"url(#clip502)\" style=\"stroke:#000000; stroke-linecap:round; stroke-linejoin:round; stroke-width:2; stroke-opacity:0.1; fill:none\" points=\"872.229,686.448 872.229,47.2441 \"/>\n",
       "<polyline clip-path=\"url(#clip502)\" style=\"stroke:#000000; stroke-linecap:round; stroke-linejoin:round; stroke-width:2; stroke-opacity:0.1; fill:none\" points=\"1097.15,686.448 1097.15,47.2441 \"/>\n",
       "<polyline clip-path=\"url(#clip500)\" style=\"stroke:#000000; stroke-linecap:round; stroke-linejoin:round; stroke-width:4; stroke-opacity:1; fill:none\" points=\"141.853,686.448 1152.76,686.448 \"/>\n",
       "<polyline clip-path=\"url(#clip500)\" style=\"stroke:#000000; stroke-linecap:round; stroke-linejoin:round; stroke-width:4; stroke-opacity:1; fill:none\" points=\"197.454,686.448 197.454,667.55 \"/>\n",
       "<polyline clip-path=\"url(#clip500)\" style=\"stroke:#000000; stroke-linecap:round; stroke-linejoin:round; stroke-width:4; stroke-opacity:1; fill:none\" points=\"422.379,686.448 422.379,667.55 \"/>\n",
       "<polyline clip-path=\"url(#clip500)\" style=\"stroke:#000000; stroke-linecap:round; stroke-linejoin:round; stroke-width:4; stroke-opacity:1; fill:none\" points=\"647.304,686.448 647.304,667.55 \"/>\n",
       "<polyline clip-path=\"url(#clip500)\" style=\"stroke:#000000; stroke-linecap:round; stroke-linejoin:round; stroke-width:4; stroke-opacity:1; fill:none\" points=\"872.229,686.448 872.229,667.55 \"/>\n",
       "<polyline clip-path=\"url(#clip500)\" style=\"stroke:#000000; stroke-linecap:round; stroke-linejoin:round; stroke-width:4; stroke-opacity:1; fill:none\" points=\"1097.15,686.448 1097.15,667.55 \"/>\n",
       "<path clip-path=\"url(#clip500)\" d=\"M200.464 718.362 L188.658 736.811 L200.464 736.811 L200.464 718.362 M199.237 714.288 L205.116 714.288 L205.116 736.811 L210.047 736.811 L210.047 740.7 L205.116 740.7 L205.116 748.848 L200.464 748.848 L200.464 740.7 L184.862 740.7 L184.862 736.186 L199.237 714.288 Z\" fill=\"#000000\" fill-rule=\"nonzero\" fill-opacity=\"1\" /><path clip-path=\"url(#clip500)\" d=\"M412.657 714.288 L431.014 714.288 L431.014 718.223 L416.94 718.223 L416.94 726.695 Q417.958 726.348 418.977 726.186 Q419.995 726.001 421.014 726.001 Q426.801 726.001 430.18 729.172 Q433.56 732.343 433.56 737.76 Q433.56 743.339 430.088 746.44 Q426.616 749.519 420.296 749.519 Q418.12 749.519 415.852 749.149 Q413.606 748.778 411.199 748.038 L411.199 743.339 Q413.282 744.473 415.504 745.028 Q417.727 745.584 420.204 745.584 Q424.208 745.584 426.546 743.478 Q428.884 741.371 428.884 737.76 Q428.884 734.149 426.546 732.042 Q424.208 729.936 420.204 729.936 Q418.329 729.936 416.454 730.353 Q414.602 730.769 412.657 731.649 L412.657 714.288 Z\" fill=\"#000000\" fill-rule=\"nonzero\" fill-opacity=\"1\" /><path clip-path=\"url(#clip500)\" d=\"M647.71 729.704 Q644.561 729.704 642.71 731.857 Q640.881 734.01 640.881 737.76 Q640.881 741.487 642.71 743.663 Q644.561 745.815 647.71 745.815 Q650.858 745.815 652.686 743.663 Q654.538 741.487 654.538 737.76 Q654.538 734.01 652.686 731.857 Q650.858 729.704 647.71 729.704 M656.992 715.052 L656.992 719.311 Q655.233 718.478 653.427 718.038 Q651.645 717.598 649.885 717.598 Q645.256 717.598 642.802 720.723 Q640.372 723.848 640.024 730.167 Q641.39 728.154 643.45 727.089 Q645.51 726.001 647.987 726.001 Q653.196 726.001 656.205 729.172 Q659.237 732.32 659.237 737.76 Q659.237 743.084 656.089 746.302 Q652.941 749.519 647.71 749.519 Q641.714 749.519 638.543 744.936 Q635.372 740.329 635.372 731.603 Q635.372 723.408 639.26 718.547 Q643.149 713.663 649.7 713.663 Q651.459 713.663 653.242 714.01 Q655.047 714.357 656.992 715.052 Z\" fill=\"#000000\" fill-rule=\"nonzero\" fill-opacity=\"1\" /><path clip-path=\"url(#clip500)\" d=\"M861.118 714.288 L883.34 714.288 L883.34 716.279 L870.794 748.848 L865.91 748.848 L877.716 718.223 L861.118 718.223 L861.118 714.288 Z\" fill=\"#000000\" fill-rule=\"nonzero\" fill-opacity=\"1\" /><path clip-path=\"url(#clip500)\" d=\"M1097.15 732.436 Q1093.82 732.436 1091.9 734.218 Q1090 736.001 1090 739.126 Q1090 742.251 1091.9 744.033 Q1093.82 745.815 1097.15 745.815 Q1100.49 745.815 1102.41 744.033 Q1104.33 742.228 1104.33 739.126 Q1104.33 736.001 1102.41 734.218 Q1100.51 732.436 1097.15 732.436 M1092.48 730.445 Q1089.47 729.704 1087.78 727.644 Q1086.11 725.584 1086.11 722.621 Q1086.11 718.478 1089.05 716.07 Q1092.02 713.663 1097.15 713.663 Q1102.32 713.663 1105.26 716.07 Q1108.2 718.478 1108.2 722.621 Q1108.2 725.584 1106.51 727.644 Q1104.84 729.704 1101.85 730.445 Q1105.23 731.232 1107.11 733.524 Q1109.01 735.816 1109.01 739.126 Q1109.01 744.149 1105.93 746.834 Q1102.87 749.519 1097.15 749.519 Q1091.44 749.519 1088.36 746.834 Q1085.3 744.149 1085.3 739.126 Q1085.3 735.816 1087.2 733.524 Q1089.1 731.232 1092.48 730.445 M1090.77 723.061 Q1090.77 725.746 1092.43 727.251 Q1094.12 728.755 1097.15 728.755 Q1100.16 728.755 1101.85 727.251 Q1103.57 725.746 1103.57 723.061 Q1103.57 720.376 1101.85 718.871 Q1100.16 717.367 1097.15 717.367 Q1094.12 717.367 1092.43 718.871 Q1090.77 720.376 1090.77 723.061 Z\" fill=\"#000000\" fill-rule=\"nonzero\" fill-opacity=\"1\" /><polyline clip-path=\"url(#clip502)\" style=\"stroke:#000000; stroke-linecap:round; stroke-linejoin:round; stroke-width:2; stroke-opacity:0.1; fill:none\" points=\"141.853,668.357 1152.76,668.357 \"/>\n",
       "<polyline clip-path=\"url(#clip502)\" style=\"stroke:#000000; stroke-linecap:round; stroke-linejoin:round; stroke-width:2; stroke-opacity:0.1; fill:none\" points=\"141.853,479.913 1152.76,479.913 \"/>\n",
       "<polyline clip-path=\"url(#clip502)\" style=\"stroke:#000000; stroke-linecap:round; stroke-linejoin:round; stroke-width:2; stroke-opacity:0.1; fill:none\" points=\"141.853,291.468 1152.76,291.468 \"/>\n",
       "<polyline clip-path=\"url(#clip502)\" style=\"stroke:#000000; stroke-linecap:round; stroke-linejoin:round; stroke-width:2; stroke-opacity:0.1; fill:none\" points=\"141.853,103.024 1152.76,103.024 \"/>\n",
       "<polyline clip-path=\"url(#clip500)\" style=\"stroke:#000000; stroke-linecap:round; stroke-linejoin:round; stroke-width:4; stroke-opacity:1; fill:none\" points=\"141.853,686.448 141.853,47.2441 \"/>\n",
       "<polyline clip-path=\"url(#clip500)\" style=\"stroke:#000000; stroke-linecap:round; stroke-linejoin:round; stroke-width:4; stroke-opacity:1; fill:none\" points=\"141.853,668.357 160.751,668.357 \"/>\n",
       "<polyline clip-path=\"url(#clip500)\" style=\"stroke:#000000; stroke-linecap:round; stroke-linejoin:round; stroke-width:4; stroke-opacity:1; fill:none\" points=\"141.853,479.913 160.751,479.913 \"/>\n",
       "<polyline clip-path=\"url(#clip500)\" style=\"stroke:#000000; stroke-linecap:round; stroke-linejoin:round; stroke-width:4; stroke-opacity:1; fill:none\" points=\"141.853,291.468 160.751,291.468 \"/>\n",
       "<polyline clip-path=\"url(#clip500)\" style=\"stroke:#000000; stroke-linecap:round; stroke-linejoin:round; stroke-width:4; stroke-opacity:1; fill:none\" points=\"141.853,103.024 160.751,103.024 \"/>\n",
       "<path clip-path=\"url(#clip500)\" d=\"M93.9086 654.156 Q90.2975 654.156 88.4688 657.721 Q86.6632 661.262 86.6632 668.392 Q86.6632 675.498 88.4688 679.063 Q90.2975 682.605 93.9086 682.605 Q97.5428 682.605 99.3483 679.063 Q101.177 675.498 101.177 668.392 Q101.177 661.262 99.3483 657.721 Q97.5428 654.156 93.9086 654.156 M93.9086 650.452 Q99.7187 650.452 102.774 655.059 Q105.853 659.642 105.853 668.392 Q105.853 677.119 102.774 681.725 Q99.7187 686.308 93.9086 686.308 Q88.0984 686.308 85.0197 681.725 Q81.9642 677.119 81.9642 668.392 Q81.9642 659.642 85.0197 655.059 Q88.0984 650.452 93.9086 650.452 Z\" fill=\"#000000\" fill-rule=\"nonzero\" fill-opacity=\"1\" /><path clip-path=\"url(#clip500)\" d=\"M54.5569 493.258 L62.1958 493.258 L62.1958 466.892 L53.8856 468.559 L53.8856 464.299 L62.1495 462.633 L66.8254 462.633 L66.8254 493.258 L74.4642 493.258 L74.4642 497.193 L54.5569 497.193 L54.5569 493.258 Z\" fill=\"#000000\" fill-rule=\"nonzero\" fill-opacity=\"1\" /><path clip-path=\"url(#clip500)\" d=\"M93.9086 465.711 Q90.2975 465.711 88.4688 469.276 Q86.6632 472.818 86.6632 479.947 Q86.6632 487.054 88.4688 490.619 Q90.2975 494.16 93.9086 494.16 Q97.5428 494.16 99.3483 490.619 Q101.177 487.054 101.177 479.947 Q101.177 472.818 99.3483 469.276 Q97.5428 465.711 93.9086 465.711 M93.9086 462.008 Q99.7187 462.008 102.774 466.614 Q105.853 471.197 105.853 479.947 Q105.853 488.674 102.774 493.281 Q99.7187 497.864 93.9086 497.864 Q88.0984 497.864 85.0197 493.281 Q81.9642 488.674 81.9642 479.947 Q81.9642 471.197 85.0197 466.614 Q88.0984 462.008 93.9086 462.008 Z\" fill=\"#000000\" fill-rule=\"nonzero\" fill-opacity=\"1\" /><path clip-path=\"url(#clip500)\" d=\"M57.7745 304.813 L74.0939 304.813 L74.0939 308.748 L52.1495 308.748 L52.1495 304.813 Q54.8115 302.058 59.3949 297.429 Q64.0013 292.776 65.1819 291.433 Q67.4272 288.91 68.3068 287.174 Q69.2096 285.415 69.2096 283.725 Q69.2096 280.971 67.2652 279.234 Q65.3439 277.498 62.2421 277.498 Q60.043 277.498 57.5893 278.262 Q55.1588 279.026 52.381 280.577 L52.381 275.855 Q55.2051 274.721 57.6588 274.142 Q60.1124 273.563 62.1495 273.563 Q67.5198 273.563 70.7142 276.248 Q73.9087 278.934 73.9087 283.424 Q73.9087 285.554 73.0985 287.475 Q72.3115 289.373 70.205 291.966 Q69.6263 292.637 66.5245 295.855 Q63.4226 299.049 57.7745 304.813 Z\" fill=\"#000000\" fill-rule=\"nonzero\" fill-opacity=\"1\" /><path clip-path=\"url(#clip500)\" d=\"M93.9086 277.267 Q90.2975 277.267 88.4688 280.832 Q86.6632 284.373 86.6632 291.503 Q86.6632 298.609 88.4688 302.174 Q90.2975 305.716 93.9086 305.716 Q97.5428 305.716 99.3483 302.174 Q101.177 298.609 101.177 291.503 Q101.177 284.373 99.3483 280.832 Q97.5428 277.267 93.9086 277.267 M93.9086 273.563 Q99.7187 273.563 102.774 278.17 Q105.853 282.753 105.853 291.503 Q105.853 300.23 102.774 304.836 Q99.7187 309.419 93.9086 309.419 Q88.0984 309.419 85.0197 304.836 Q81.9642 300.23 81.9642 291.503 Q81.9642 282.753 85.0197 278.17 Q88.0984 273.563 93.9086 273.563 Z\" fill=\"#000000\" fill-rule=\"nonzero\" fill-opacity=\"1\" /><path clip-path=\"url(#clip500)\" d=\"M67.9133 101.67 Q71.2698 102.387 73.1448 104.656 Q75.0429 106.924 75.0429 110.257 Q75.0429 115.373 71.5244 118.174 Q68.0059 120.975 61.5245 120.975 Q59.3486 120.975 57.0338 120.535 Q54.7421 120.118 52.2884 119.262 L52.2884 114.748 Q54.2328 115.882 56.5477 116.461 Q58.8625 117.04 61.3856 117.04 Q65.7837 117.04 68.0754 115.304 Q70.3902 113.568 70.3902 110.257 Q70.3902 107.202 68.2374 105.489 Q66.1078 103.753 62.2884 103.753 L58.2606 103.753 L58.2606 99.9103 L62.4735 99.9103 Q65.9226 99.9103 67.7513 98.5445 Q69.58 97.1556 69.58 94.5631 Q69.58 91.901 67.6819 90.489 Q65.8069 89.0538 62.2884 89.0538 Q60.3671 89.0538 58.168 89.4705 Q55.969 89.8872 53.3301 90.7668 L53.3301 86.6001 Q55.9921 85.8594 58.3069 85.489 Q60.6449 85.1187 62.705 85.1187 Q68.0291 85.1187 71.1309 87.5492 Q74.2327 89.9566 74.2327 94.077 Q74.2327 96.9473 72.5892 98.938 Q70.9457 100.906 67.9133 101.67 Z\" fill=\"#000000\" fill-rule=\"nonzero\" fill-opacity=\"1\" /><path clip-path=\"url(#clip500)\" d=\"M93.9086 88.8224 Q90.2975 88.8224 88.4688 92.3872 Q86.6632 95.9288 86.6632 103.058 Q86.6632 110.165 88.4688 113.73 Q90.2975 117.271 93.9086 117.271 Q97.5428 117.271 99.3483 113.73 Q101.177 110.165 101.177 103.058 Q101.177 95.9288 99.3483 92.3872 Q97.5428 88.8224 93.9086 88.8224 M93.9086 85.1187 Q99.7187 85.1187 102.774 89.7251 Q105.853 94.3084 105.853 103.058 Q105.853 111.785 102.774 116.392 Q99.7187 120.975 93.9086 120.975 Q88.0984 120.975 85.0197 116.392 Q81.9642 111.785 81.9642 103.058 Q81.9642 94.3084 85.0197 89.7251 Q88.0984 85.1187 93.9086 85.1187 Z\" fill=\"#000000\" fill-rule=\"nonzero\" fill-opacity=\"1\" /><path clip-path=\"url(#clip502)\" d=\"M197.454 592.979 L197.454 668.357 L309.917 668.357 L309.917 592.979 L197.454 592.979 L197.454 592.979  Z\" fill=\"#009af9\" fill-rule=\"evenodd\" fill-opacity=\"1\"/>\n",
       "<polyline clip-path=\"url(#clip502)\" style=\"stroke:#000000; stroke-linecap:round; stroke-linejoin:round; stroke-width:4; stroke-opacity:1; fill:none\" points=\"197.454,592.979 197.454,668.357 309.917,668.357 309.917,592.979 197.454,592.979 \"/>\n",
       "<path clip-path=\"url(#clip502)\" d=\"M309.917 329.157 L309.917 668.357 L422.379 668.357 L422.379 329.157 L309.917 329.157 L309.917 329.157  Z\" fill=\"#009af9\" fill-rule=\"evenodd\" fill-opacity=\"1\"/>\n",
       "<polyline clip-path=\"url(#clip502)\" style=\"stroke:#000000; stroke-linecap:round; stroke-linejoin:round; stroke-width:4; stroke-opacity:1; fill:none\" points=\"309.917,329.157 309.917,668.357 422.379,668.357 422.379,329.157 309.917,329.157 \"/>\n",
       "<path clip-path=\"url(#clip502)\" d=\"M422.379 103.024 L422.379 668.357 L534.842 668.357 L534.842 103.024 L422.379 103.024 L422.379 103.024  Z\" fill=\"#009af9\" fill-rule=\"evenodd\" fill-opacity=\"1\"/>\n",
       "<polyline clip-path=\"url(#clip502)\" style=\"stroke:#000000; stroke-linecap:round; stroke-linejoin:round; stroke-width:4; stroke-opacity:1; fill:none\" points=\"422.379,103.024 422.379,668.357 534.842,668.357 534.842,103.024 422.379,103.024 \"/>\n",
       "<path clip-path=\"url(#clip502)\" d=\"M534.842 84.1792 L534.842 668.357 L647.304 668.357 L647.304 84.1792 L534.842 84.1792 L534.842 84.1792  Z\" fill=\"#009af9\" fill-rule=\"evenodd\" fill-opacity=\"1\"/>\n",
       "<polyline clip-path=\"url(#clip502)\" style=\"stroke:#000000; stroke-linecap:round; stroke-linejoin:round; stroke-width:4; stroke-opacity:1; fill:none\" points=\"534.842,84.1792 534.842,668.357 647.304,668.357 647.304,84.1792 534.842,84.1792 \"/>\n",
       "<path clip-path=\"url(#clip502)\" d=\"M647.304 65.3348 L647.304 668.357 L759.767 668.357 L759.767 65.3348 L647.304 65.3348 L647.304 65.3348  Z\" fill=\"#009af9\" fill-rule=\"evenodd\" fill-opacity=\"1\"/>\n",
       "<polyline clip-path=\"url(#clip502)\" style=\"stroke:#000000; stroke-linecap:round; stroke-linejoin:round; stroke-width:4; stroke-opacity:1; fill:none\" points=\"647.304,65.3348 647.304,668.357 759.767,668.357 759.767,65.3348 647.304,65.3348 \"/>\n",
       "<path clip-path=\"url(#clip502)\" d=\"M759.767 253.779 L759.767 668.357 L872.229 668.357 L872.229 253.779 L759.767 253.779 L759.767 253.779  Z\" fill=\"#009af9\" fill-rule=\"evenodd\" fill-opacity=\"1\"/>\n",
       "<polyline clip-path=\"url(#clip502)\" style=\"stroke:#000000; stroke-linecap:round; stroke-linejoin:round; stroke-width:4; stroke-opacity:1; fill:none\" points=\"759.767,253.779 759.767,668.357 872.229,668.357 872.229,253.779 759.767,253.779 \"/>\n",
       "<path clip-path=\"url(#clip502)\" d=\"M872.229 536.446 L872.229 668.357 L984.692 668.357 L984.692 536.446 L872.229 536.446 L872.229 536.446  Z\" fill=\"#009af9\" fill-rule=\"evenodd\" fill-opacity=\"1\"/>\n",
       "<polyline clip-path=\"url(#clip502)\" style=\"stroke:#000000; stroke-linecap:round; stroke-linejoin:round; stroke-width:4; stroke-opacity:1; fill:none\" points=\"872.229,536.446 872.229,668.357 984.692,668.357 984.692,536.446 872.229,536.446 \"/>\n",
       "<path clip-path=\"url(#clip502)\" d=\"M984.692 555.29 L984.692 668.357 L1097.15 668.357 L1097.15 555.29 L984.692 555.29 L984.692 555.29  Z\" fill=\"#009af9\" fill-rule=\"evenodd\" fill-opacity=\"1\"/>\n",
       "<polyline clip-path=\"url(#clip502)\" style=\"stroke:#000000; stroke-linecap:round; stroke-linejoin:round; stroke-width:4; stroke-opacity:1; fill:none\" points=\"984.692,555.29 984.692,668.357 1097.15,668.357 1097.15,555.29 984.692,555.29 \"/>\n",
       "<circle clip-path=\"url(#clip502)\" style=\"fill:#009af9; stroke:none; fill-opacity:0\" cx=\"253.686\" cy=\"592.979\" r=\"2\"/>\n",
       "<circle clip-path=\"url(#clip502)\" style=\"fill:#009af9; stroke:none; fill-opacity:0\" cx=\"366.148\" cy=\"329.157\" r=\"2\"/>\n",
       "<circle clip-path=\"url(#clip502)\" style=\"fill:#009af9; stroke:none; fill-opacity:0\" cx=\"478.611\" cy=\"103.024\" r=\"2\"/>\n",
       "<circle clip-path=\"url(#clip502)\" style=\"fill:#009af9; stroke:none; fill-opacity:0\" cx=\"591.073\" cy=\"84.1792\" r=\"2\"/>\n",
       "<circle clip-path=\"url(#clip502)\" style=\"fill:#009af9; stroke:none; fill-opacity:0\" cx=\"703.536\" cy=\"65.3348\" r=\"2\"/>\n",
       "<circle clip-path=\"url(#clip502)\" style=\"fill:#009af9; stroke:none; fill-opacity:0\" cx=\"815.998\" cy=\"253.779\" r=\"2\"/>\n",
       "<circle clip-path=\"url(#clip502)\" style=\"fill:#009af9; stroke:none; fill-opacity:0\" cx=\"928.461\" cy=\"536.446\" r=\"2\"/>\n",
       "<circle clip-path=\"url(#clip502)\" style=\"fill:#009af9; stroke:none; fill-opacity:0\" cx=\"1040.92\" cy=\"555.29\" r=\"2\"/>\n",
       "<path clip-path=\"url(#clip500)\" d=\"M730.031 172.231 L1119.06 172.231 L1119.06 68.5509 L730.031 68.5509  Z\" fill=\"#ffffff\" fill-rule=\"evenodd\" fill-opacity=\"1\"/>\n",
       "<polyline clip-path=\"url(#clip500)\" style=\"stroke:#000000; stroke-linecap:round; stroke-linejoin:round; stroke-width:4; stroke-opacity:1; fill:none\" points=\"730.031,172.231 1119.06,172.231 1119.06,68.5509 730.031,68.5509 730.031,172.231 \"/>\n",
       "<path clip-path=\"url(#clip500)\" d=\"M741.263 141.127 L808.656 141.127 L808.656 99.6549 L741.263 99.6549 L741.263 141.127  Z\" fill=\"#009af9\" fill-rule=\"evenodd\" fill-opacity=\"1\"/>\n",
       "<polyline clip-path=\"url(#clip500)\" style=\"stroke:#000000; stroke-linecap:round; stroke-linejoin:round; stroke-width:4; stroke-opacity:1; fill:none\" points=\"741.263,141.127 808.656,141.127 808.656,99.6549 741.263,99.6549 741.263,141.127 \"/>\n",
       "<path clip-path=\"url(#clip500)\" d=\"M842.134 104.245 L842.134 108.805 Q839.472 107.532 837.111 106.907 Q834.75 106.282 832.551 106.282 Q828.731 106.282 826.648 107.764 Q824.588 109.245 824.588 111.977 Q824.588 114.268 825.953 115.449 Q827.342 116.606 831.185 117.324 L834.009 117.902 Q839.24 118.898 841.717 121.421 Q844.217 123.921 844.217 128.134 Q844.217 133.157 840.838 135.75 Q837.481 138.342 830.977 138.342 Q828.523 138.342 825.745 137.787 Q822.99 137.231 820.028 136.143 L820.028 131.328 Q822.875 132.926 825.606 133.736 Q828.338 134.546 830.977 134.546 Q834.981 134.546 837.157 132.972 Q839.333 131.398 839.333 128.481 Q839.333 125.935 837.759 124.5 Q836.208 123.064 832.643 122.347 L829.796 121.791 Q824.565 120.75 822.227 118.527 Q819.889 116.305 819.889 112.347 Q819.889 107.764 823.106 105.125 Q826.347 102.486 832.018 102.486 Q834.449 102.486 836.972 102.926 Q839.495 103.366 842.134 104.245 Z\" fill=\"#000000\" fill-rule=\"nonzero\" fill-opacity=\"1\" /><path clip-path=\"url(#clip500)\" d=\"M873.499 123.643 L873.499 125.727 L853.916 125.727 Q854.194 130.125 856.555 132.439 Q858.939 134.731 863.175 134.731 Q865.629 134.731 867.921 134.129 Q870.236 133.527 872.504 132.324 L872.504 136.351 Q870.212 137.324 867.805 137.833 Q865.398 138.342 862.921 138.342 Q856.717 138.342 853.083 134.731 Q849.472 131.12 849.472 124.963 Q849.472 118.597 852.898 114.87 Q856.347 111.12 862.18 111.12 Q867.412 111.12 870.444 114.5 Q873.499 117.856 873.499 123.643 M869.24 122.393 Q869.194 118.898 867.273 116.815 Q865.374 114.731 862.226 114.731 Q858.662 114.731 856.509 116.745 Q854.379 118.759 854.055 122.416 L869.24 122.393 Z\" fill=\"#000000\" fill-rule=\"nonzero\" fill-opacity=\"1\" /><path clip-path=\"url(#clip500)\" d=\"M884.61 133.782 L884.61 147.532 L880.328 147.532 L880.328 111.745 L884.61 111.745 L884.61 115.68 Q885.953 113.365 887.99 112.254 Q890.05 111.12 892.897 111.12 Q897.62 111.12 900.559 114.87 Q903.522 118.62 903.522 124.731 Q903.522 130.842 900.559 134.592 Q897.62 138.342 892.897 138.342 Q890.05 138.342 887.99 137.231 Q885.953 136.097 884.61 133.782 M899.101 124.731 Q899.101 120.032 897.157 117.37 Q895.235 114.685 891.856 114.685 Q888.476 114.685 886.532 117.37 Q884.61 120.032 884.61 124.731 Q884.61 129.43 886.532 132.115 Q888.476 134.777 891.856 134.777 Q895.235 134.777 897.157 132.115 Q899.101 129.43 899.101 124.731 Z\" fill=\"#000000\" fill-rule=\"nonzero\" fill-opacity=\"1\" /><path clip-path=\"url(#clip500)\" d=\"M922.365 124.639 Q917.203 124.639 915.212 125.819 Q913.221 127 913.221 129.847 Q913.221 132.115 914.703 133.458 Q916.208 134.777 918.777 134.777 Q922.319 134.777 924.448 132.277 Q926.601 129.754 926.601 125.588 L926.601 124.639 L922.365 124.639 M930.86 122.879 L930.86 137.671 L926.601 137.671 L926.601 133.736 Q925.143 136.097 922.967 137.231 Q920.791 138.342 917.643 138.342 Q913.661 138.342 911.3 136.12 Q908.962 133.875 908.962 130.125 Q908.962 125.75 911.879 123.527 Q914.819 121.305 920.629 121.305 L926.601 121.305 L926.601 120.889 Q926.601 117.949 924.657 116.352 Q922.735 114.731 919.24 114.731 Q917.018 114.731 914.911 115.264 Q912.805 115.796 910.86 116.861 L910.86 112.926 Q913.198 112.023 915.397 111.583 Q917.596 111.12 919.68 111.12 Q925.305 111.12 928.082 114.037 Q930.86 116.953 930.86 122.879 Z\" fill=\"#000000\" fill-rule=\"nonzero\" fill-opacity=\"1\" /><path clip-path=\"url(#clip500)\" d=\"M939.633 101.653 L943.893 101.653 L943.893 137.671 L939.633 137.671 L939.633 101.653 Z\" fill=\"#000000\" fill-rule=\"nonzero\" fill-opacity=\"1\" /><path clip-path=\"url(#clip500)\" d=\"M952.99 103.111 L957.666 103.111 L957.666 133.736 L974.494 133.736 L974.494 137.671 L952.99 137.671 L952.99 103.111 Z\" fill=\"#000000\" fill-rule=\"nonzero\" fill-opacity=\"1\" /><path clip-path=\"url(#clip500)\" d=\"M1000.56 123.643 L1000.56 125.727 L980.976 125.727 Q981.253 130.125 983.615 132.439 Q985.999 134.731 990.235 134.731 Q992.689 134.731 994.98 134.129 Q997.295 133.527 999.564 132.324 L999.564 136.351 Q997.272 137.324 994.865 137.833 Q992.457 138.342 989.98 138.342 Q983.777 138.342 980.142 134.731 Q976.531 131.12 976.531 124.963 Q976.531 118.597 979.957 114.87 Q983.406 111.12 989.24 111.12 Q994.471 111.12 997.503 114.5 Q1000.56 117.856 1000.56 123.643 M996.3 122.393 Q996.253 118.898 994.332 116.815 Q992.434 114.731 989.286 114.731 Q985.721 114.731 983.568 116.745 Q981.439 118.759 981.115 122.416 L996.3 122.393 Z\" fill=\"#000000\" fill-rule=\"nonzero\" fill-opacity=\"1\" /><path clip-path=\"url(#clip500)\" d=\"M1029.1 122.023 L1029.1 137.671 L1024.84 137.671 L1024.84 122.162 Q1024.84 118.481 1023.41 116.652 Q1021.97 114.824 1019.1 114.824 Q1015.65 114.824 1013.66 117.023 Q1011.67 119.222 1011.67 123.018 L1011.67 137.671 L1007.39 137.671 L1007.39 111.745 L1011.67 111.745 L1011.67 115.773 Q1013.2 113.435 1015.26 112.278 Q1017.34 111.12 1020.05 111.12 Q1024.52 111.12 1026.81 113.898 Q1029.1 116.652 1029.1 122.023 Z\" fill=\"#000000\" fill-rule=\"nonzero\" fill-opacity=\"1\" /><path clip-path=\"url(#clip500)\" d=\"M1054.66 124.407 Q1054.66 119.777 1052.73 117.231 Q1050.84 114.685 1047.39 114.685 Q1043.96 114.685 1042.04 117.231 Q1040.14 119.777 1040.14 124.407 Q1040.14 129.014 1042.04 131.56 Q1043.96 134.106 1047.39 134.106 Q1050.84 134.106 1052.73 131.56 Q1054.66 129.014 1054.66 124.407 M1058.92 134.453 Q1058.92 141.074 1055.98 144.291 Q1053.04 147.532 1046.97 147.532 Q1044.73 147.532 1042.73 147.185 Q1040.74 146.861 1038.87 146.166 L1038.87 142.023 Q1040.74 143.041 1042.57 143.527 Q1044.4 144.013 1046.3 144.013 Q1050.49 144.013 1052.57 141.814 Q1054.66 139.638 1054.66 135.217 L1054.66 133.111 Q1053.34 135.402 1051.28 136.537 Q1049.22 137.671 1046.35 137.671 Q1041.58 137.671 1038.66 134.037 Q1035.74 130.402 1035.74 124.407 Q1035.74 118.389 1038.66 114.754 Q1041.58 111.12 1046.35 111.12 Q1049.22 111.12 1051.28 112.254 Q1053.34 113.389 1054.66 115.68 L1054.66 111.745 L1058.92 111.745 L1058.92 134.453 Z\" fill=\"#000000\" fill-rule=\"nonzero\" fill-opacity=\"1\" /><path clip-path=\"url(#clip500)\" d=\"M1071.9 104.384 L1071.9 111.745 L1080.67 111.745 L1080.67 115.055 L1071.9 115.055 L1071.9 129.129 Q1071.9 132.301 1072.76 133.203 Q1073.64 134.106 1076.3 134.106 L1080.67 134.106 L1080.67 137.671 L1076.3 137.671 Q1071.37 137.671 1069.49 135.842 Q1067.62 133.99 1067.62 129.129 L1067.62 115.055 L1064.49 115.055 L1064.49 111.745 L1067.62 111.745 L1067.62 104.384 L1071.9 104.384 Z\" fill=\"#000000\" fill-rule=\"nonzero\" fill-opacity=\"1\" /><path clip-path=\"url(#clip500)\" d=\"M1107.83 122.023 L1107.83 137.671 L1103.57 137.671 L1103.57 122.162 Q1103.57 118.481 1102.13 116.652 Q1100.7 114.824 1097.83 114.824 Q1094.38 114.824 1092.39 117.023 Q1090.4 119.222 1090.4 123.018 L1090.4 137.671 L1086.11 137.671 L1086.11 101.653 L1090.4 101.653 L1090.4 115.773 Q1091.92 113.435 1093.98 112.278 Q1096.07 111.12 1098.78 111.12 Q1103.24 111.12 1105.54 113.898 Q1107.83 116.652 1107.83 122.023 Z\" fill=\"#000000\" fill-rule=\"nonzero\" fill-opacity=\"1\" /><path clip-path=\"url(#clip500)\" d=\"M1341.85 686.448 L2352.76 686.448 L2352.76 47.2441 L1341.85 47.2441  Z\" fill=\"#ffffff\" fill-rule=\"evenodd\" fill-opacity=\"1\"/>\n",
       "<defs>\n",
       "  <clipPath id=\"clip503\">\n",
       "    <rect x=\"1341\" y=\"47\" width=\"1012\" height=\"640\"/>\n",
       "  </clipPath>\n",
       "</defs>\n",
       "<polyline clip-path=\"url(#clip503)\" style=\"stroke:#000000; stroke-linecap:round; stroke-linejoin:round; stroke-width:2; stroke-opacity:0.1; fill:none\" points=\"1397.45,686.448 1397.45,47.2441 \"/>\n",
       "<polyline clip-path=\"url(#clip503)\" style=\"stroke:#000000; stroke-linecap:round; stroke-linejoin:round; stroke-width:2; stroke-opacity:0.1; fill:none\" points=\"1570.47,686.448 1570.47,47.2441 \"/>\n",
       "<polyline clip-path=\"url(#clip503)\" style=\"stroke:#000000; stroke-linecap:round; stroke-linejoin:round; stroke-width:2; stroke-opacity:0.1; fill:none\" points=\"1743.49,686.448 1743.49,47.2441 \"/>\n",
       "<polyline clip-path=\"url(#clip503)\" style=\"stroke:#000000; stroke-linecap:round; stroke-linejoin:round; stroke-width:2; stroke-opacity:0.1; fill:none\" points=\"1916.51,686.448 1916.51,47.2441 \"/>\n",
       "<polyline clip-path=\"url(#clip503)\" style=\"stroke:#000000; stroke-linecap:round; stroke-linejoin:round; stroke-width:2; stroke-opacity:0.1; fill:none\" points=\"2089.53,686.448 2089.53,47.2441 \"/>\n",
       "<polyline clip-path=\"url(#clip503)\" style=\"stroke:#000000; stroke-linecap:round; stroke-linejoin:round; stroke-width:2; stroke-opacity:0.1; fill:none\" points=\"2262.55,686.448 2262.55,47.2441 \"/>\n",
       "<polyline clip-path=\"url(#clip500)\" style=\"stroke:#000000; stroke-linecap:round; stroke-linejoin:round; stroke-width:4; stroke-opacity:1; fill:none\" points=\"1341.85,686.448 2352.76,686.448 \"/>\n",
       "<polyline clip-path=\"url(#clip500)\" style=\"stroke:#000000; stroke-linecap:round; stroke-linejoin:round; stroke-width:4; stroke-opacity:1; fill:none\" points=\"1397.45,686.448 1397.45,667.55 \"/>\n",
       "<polyline clip-path=\"url(#clip500)\" style=\"stroke:#000000; stroke-linecap:round; stroke-linejoin:round; stroke-width:4; stroke-opacity:1; fill:none\" points=\"1570.47,686.448 1570.47,667.55 \"/>\n",
       "<polyline clip-path=\"url(#clip500)\" style=\"stroke:#000000; stroke-linecap:round; stroke-linejoin:round; stroke-width:4; stroke-opacity:1; fill:none\" points=\"1743.49,686.448 1743.49,667.55 \"/>\n",
       "<polyline clip-path=\"url(#clip500)\" style=\"stroke:#000000; stroke-linecap:round; stroke-linejoin:round; stroke-width:4; stroke-opacity:1; fill:none\" points=\"1916.51,686.448 1916.51,667.55 \"/>\n",
       "<polyline clip-path=\"url(#clip500)\" style=\"stroke:#000000; stroke-linecap:round; stroke-linejoin:round; stroke-width:4; stroke-opacity:1; fill:none\" points=\"2089.53,686.448 2089.53,667.55 \"/>\n",
       "<polyline clip-path=\"url(#clip500)\" style=\"stroke:#000000; stroke-linecap:round; stroke-linejoin:round; stroke-width:4; stroke-opacity:1; fill:none\" points=\"2262.55,686.448 2262.55,667.55 \"/>\n",
       "<path clip-path=\"url(#clip500)\" d=\"M1368.69 744.913 L1385.01 744.913 L1385.01 748.848 L1363.07 748.848 L1363.07 744.913 Q1365.73 742.158 1370.31 737.528 Q1374.92 732.876 1376.1 731.533 Q1378.35 729.01 1379.23 727.274 Q1380.13 725.515 1380.13 723.825 Q1380.13 721.07 1378.18 719.334 Q1376.26 717.598 1373.16 717.598 Q1370.96 717.598 1368.51 718.362 Q1366.08 719.126 1363.3 720.677 L1363.3 715.955 Q1366.12 714.82 1368.58 714.242 Q1371.03 713.663 1373.07 713.663 Q1378.44 713.663 1381.63 716.348 Q1384.83 719.033 1384.83 723.524 Q1384.83 725.654 1384.02 727.575 Q1383.23 729.473 1381.12 732.066 Q1380.54 732.737 1377.44 735.954 Q1374.34 739.149 1368.69 744.913 Z\" fill=\"#000000\" fill-rule=\"nonzero\" fill-opacity=\"1\" /><path clip-path=\"url(#clip500)\" d=\"M1394.83 742.968 L1399.71 742.968 L1399.71 748.848 L1394.83 748.848 L1394.83 742.968 Z\" fill=\"#000000\" fill-rule=\"nonzero\" fill-opacity=\"1\" /><path clip-path=\"url(#clip500)\" d=\"M1419.9 717.367 Q1416.29 717.367 1414.46 720.931 Q1412.65 724.473 1412.65 731.603 Q1412.65 738.709 1414.46 742.274 Q1416.29 745.815 1419.9 745.815 Q1423.53 745.815 1425.34 742.274 Q1427.16 738.709 1427.16 731.603 Q1427.16 724.473 1425.34 720.931 Q1423.53 717.367 1419.9 717.367 M1419.9 713.663 Q1425.71 713.663 1428.76 718.269 Q1431.84 722.853 1431.84 731.603 Q1431.84 740.329 1428.76 744.936 Q1425.71 749.519 1419.9 749.519 Q1414.09 749.519 1411.01 744.936 Q1407.95 740.329 1407.95 731.603 Q1407.95 722.853 1411.01 718.269 Q1414.09 713.663 1419.9 713.663 Z\" fill=\"#000000\" fill-rule=\"nonzero\" fill-opacity=\"1\" /><path clip-path=\"url(#clip500)\" d=\"M1542.21 744.913 L1558.53 744.913 L1558.53 748.848 L1536.58 748.848 L1536.58 744.913 Q1539.25 742.158 1543.83 737.528 Q1548.44 732.876 1549.62 731.533 Q1551.86 729.01 1552.74 727.274 Q1553.65 725.515 1553.65 723.825 Q1553.65 721.07 1551.7 719.334 Q1549.78 717.598 1546.68 717.598 Q1544.48 717.598 1542.02 718.362 Q1539.59 719.126 1536.82 720.677 L1536.82 715.955 Q1539.64 714.82 1542.09 714.242 Q1544.55 713.663 1546.58 713.663 Q1551.96 713.663 1555.15 716.348 Q1558.34 719.033 1558.34 723.524 Q1558.34 725.654 1557.53 727.575 Q1556.75 729.473 1554.64 732.066 Q1554.06 732.737 1550.96 735.954 Q1547.86 739.149 1542.21 744.913 Z\" fill=\"#000000\" fill-rule=\"nonzero\" fill-opacity=\"1\" /><path clip-path=\"url(#clip500)\" d=\"M1568.34 742.968 L1573.23 742.968 L1573.23 748.848 L1568.34 748.848 L1568.34 742.968 Z\" fill=\"#000000\" fill-rule=\"nonzero\" fill-opacity=\"1\" /><path clip-path=\"url(#clip500)\" d=\"M1583.46 714.288 L1601.82 714.288 L1601.82 718.223 L1587.74 718.223 L1587.74 726.695 Q1588.76 726.348 1589.78 726.186 Q1590.8 726.001 1591.82 726.001 Q1597.6 726.001 1600.98 729.172 Q1604.36 732.343 1604.36 737.76 Q1604.36 743.339 1600.89 746.44 Q1597.42 749.519 1591.1 749.519 Q1588.92 749.519 1586.65 749.149 Q1584.41 748.778 1582 748.038 L1582 743.339 Q1584.08 744.473 1586.31 745.028 Q1588.53 745.584 1591.01 745.584 Q1595.01 745.584 1597.35 743.478 Q1599.69 741.371 1599.69 737.76 Q1599.69 734.149 1597.35 732.042 Q1595.01 729.936 1591.01 729.936 Q1589.13 729.936 1587.26 730.353 Q1585.4 730.769 1583.46 731.649 L1583.46 714.288 Z\" fill=\"#000000\" fill-rule=\"nonzero\" fill-opacity=\"1\" /><path clip-path=\"url(#clip500)\" d=\"M1724.8 730.214 Q1728.16 730.931 1730.03 733.2 Q1731.93 735.468 1731.93 738.802 Q1731.93 743.917 1728.41 746.718 Q1724.89 749.519 1718.41 749.519 Q1716.24 749.519 1713.92 749.079 Q1711.63 748.663 1709.18 747.806 L1709.18 743.292 Q1711.12 744.427 1713.44 745.005 Q1715.75 745.584 1718.27 745.584 Q1722.67 745.584 1724.96 743.848 Q1727.28 742.112 1727.28 738.802 Q1727.28 735.746 1725.12 734.033 Q1723 732.297 1719.18 732.297 L1715.15 732.297 L1715.15 728.454 L1719.36 728.454 Q1722.81 728.454 1724.64 727.089 Q1726.47 725.7 1726.47 723.107 Q1726.47 720.445 1724.57 719.033 Q1722.69 717.598 1719.18 717.598 Q1717.25 717.598 1715.06 718.015 Q1712.86 718.431 1710.22 719.311 L1710.22 715.144 Q1712.88 714.404 1715.19 714.033 Q1717.53 713.663 1719.59 713.663 Q1724.92 713.663 1728.02 716.093 Q1731.12 718.501 1731.12 722.621 Q1731.12 725.492 1729.48 727.482 Q1727.83 729.45 1724.8 730.214 Z\" fill=\"#000000\" fill-rule=\"nonzero\" fill-opacity=\"1\" /><path clip-path=\"url(#clip500)\" d=\"M1740.8 742.968 L1745.68 742.968 L1745.68 748.848 L1740.8 748.848 L1740.8 742.968 Z\" fill=\"#000000\" fill-rule=\"nonzero\" fill-opacity=\"1\" /><path clip-path=\"url(#clip500)\" d=\"M1765.87 717.367 Q1762.25 717.367 1760.43 720.931 Q1758.62 724.473 1758.62 731.603 Q1758.62 738.709 1760.43 742.274 Q1762.25 745.815 1765.87 745.815 Q1769.5 745.815 1771.31 742.274 Q1773.13 738.709 1773.13 731.603 Q1773.13 724.473 1771.31 720.931 Q1769.5 717.367 1765.87 717.367 M1765.87 713.663 Q1771.68 713.663 1774.73 718.269 Q1777.81 722.853 1777.81 731.603 Q1777.81 740.329 1774.73 744.936 Q1771.68 749.519 1765.87 749.519 Q1760.06 749.519 1756.98 744.936 Q1753.92 740.329 1753.92 731.603 Q1753.92 722.853 1756.98 718.269 Q1760.06 713.663 1765.87 713.663 Z\" fill=\"#000000\" fill-rule=\"nonzero\" fill-opacity=\"1\" /><path clip-path=\"url(#clip500)\" d=\"M1898.32 730.214 Q1901.67 730.931 1903.55 733.2 Q1905.45 735.468 1905.45 738.802 Q1905.45 743.917 1901.93 746.718 Q1898.41 749.519 1891.93 749.519 Q1889.75 749.519 1887.44 749.079 Q1885.15 748.663 1882.69 747.806 L1882.69 743.292 Q1884.64 744.427 1886.95 745.005 Q1889.27 745.584 1891.79 745.584 Q1896.19 745.584 1898.48 743.848 Q1900.79 742.112 1900.79 738.802 Q1900.79 735.746 1898.64 734.033 Q1896.51 732.297 1892.69 732.297 L1888.67 732.297 L1888.67 728.454 L1892.88 728.454 Q1896.33 728.454 1898.16 727.089 Q1899.98 725.7 1899.98 723.107 Q1899.98 720.445 1898.09 719.033 Q1896.21 717.598 1892.69 717.598 Q1890.77 717.598 1888.57 718.015 Q1886.37 718.431 1883.73 719.311 L1883.73 715.144 Q1886.4 714.404 1888.71 714.033 Q1891.05 713.663 1893.11 713.663 Q1898.43 713.663 1901.54 716.093 Q1904.64 718.501 1904.64 722.621 Q1904.64 725.492 1902.99 727.482 Q1901.35 729.45 1898.32 730.214 Z\" fill=\"#000000\" fill-rule=\"nonzero\" fill-opacity=\"1\" /><path clip-path=\"url(#clip500)\" d=\"M1914.31 742.968 L1919.2 742.968 L1919.2 748.848 L1914.31 748.848 L1914.31 742.968 Z\" fill=\"#000000\" fill-rule=\"nonzero\" fill-opacity=\"1\" /><path clip-path=\"url(#clip500)\" d=\"M1929.43 714.288 L1947.79 714.288 L1947.79 718.223 L1933.71 718.223 L1933.71 726.695 Q1934.73 726.348 1935.75 726.186 Q1936.77 726.001 1937.79 726.001 Q1943.57 726.001 1946.95 729.172 Q1950.33 732.343 1950.33 737.76 Q1950.33 743.339 1946.86 746.44 Q1943.39 749.519 1937.07 749.519 Q1934.89 749.519 1932.62 749.149 Q1930.38 748.778 1927.97 748.038 L1927.97 743.339 Q1930.05 744.473 1932.28 745.028 Q1934.5 745.584 1936.97 745.584 Q1940.98 745.584 1943.32 743.478 Q1945.66 741.371 1945.66 737.76 Q1945.66 734.149 1943.32 732.042 Q1940.98 729.936 1936.97 729.936 Q1935.1 729.936 1933.22 730.353 Q1931.37 730.769 1929.43 731.649 L1929.43 714.288 Z\" fill=\"#000000\" fill-rule=\"nonzero\" fill-opacity=\"1\" /><path clip-path=\"url(#clip500)\" d=\"M2070.17 718.362 L2058.36 736.811 L2070.17 736.811 L2070.17 718.362 M2068.94 714.288 L2074.82 714.288 L2074.82 736.811 L2079.75 736.811 L2079.75 740.7 L2074.82 740.7 L2074.82 748.848 L2070.17 748.848 L2070.17 740.7 L2054.57 740.7 L2054.57 736.186 L2068.94 714.288 Z\" fill=\"#000000\" fill-rule=\"nonzero\" fill-opacity=\"1\" /><path clip-path=\"url(#clip500)\" d=\"M2087.48 742.968 L2092.37 742.968 L2092.37 748.848 L2087.48 748.848 L2087.48 742.968 Z\" fill=\"#000000\" fill-rule=\"nonzero\" fill-opacity=\"1\" /><path clip-path=\"url(#clip500)\" d=\"M2112.55 717.367 Q2108.94 717.367 2107.11 720.931 Q2105.31 724.473 2105.31 731.603 Q2105.31 738.709 2107.11 742.274 Q2108.94 745.815 2112.55 745.815 Q2116.19 745.815 2117.99 742.274 Q2119.82 738.709 2119.82 731.603 Q2119.82 724.473 2117.99 720.931 Q2116.19 717.367 2112.55 717.367 M2112.55 713.663 Q2118.36 713.663 2121.42 718.269 Q2124.5 722.853 2124.5 731.603 Q2124.5 740.329 2121.42 744.936 Q2118.36 749.519 2112.55 749.519 Q2106.74 749.519 2103.66 744.936 Q2100.61 740.329 2100.61 731.603 Q2100.61 722.853 2103.66 718.269 Q2106.74 713.663 2112.55 713.663 Z\" fill=\"#000000\" fill-rule=\"nonzero\" fill-opacity=\"1\" /><path clip-path=\"url(#clip500)\" d=\"M2243.68 718.362 L2231.88 736.811 L2243.68 736.811 L2243.68 718.362 M2242.46 714.288 L2248.34 714.288 L2248.34 736.811 L2253.27 736.811 L2253.27 740.7 L2248.34 740.7 L2248.34 748.848 L2243.68 748.848 L2243.68 740.7 L2228.08 740.7 L2228.08 736.186 L2242.46 714.288 Z\" fill=\"#000000\" fill-rule=\"nonzero\" fill-opacity=\"1\" /><path clip-path=\"url(#clip500)\" d=\"M2261 742.968 L2265.88 742.968 L2265.88 748.848 L2261 748.848 L2261 742.968 Z\" fill=\"#000000\" fill-rule=\"nonzero\" fill-opacity=\"1\" /><path clip-path=\"url(#clip500)\" d=\"M2276.12 714.288 L2294.47 714.288 L2294.47 718.223 L2280.4 718.223 L2280.4 726.695 Q2281.42 726.348 2282.43 726.186 Q2283.45 726.001 2284.47 726.001 Q2290.26 726.001 2293.64 729.172 Q2297.02 732.343 2297.02 737.76 Q2297.02 743.339 2293.55 746.44 Q2290.07 749.519 2283.75 749.519 Q2281.58 749.519 2279.31 749.149 Q2277.06 748.778 2274.66 748.038 L2274.66 743.339 Q2276.74 744.473 2278.96 745.028 Q2281.18 745.584 2283.66 745.584 Q2287.67 745.584 2290 743.478 Q2292.34 741.371 2292.34 737.76 Q2292.34 734.149 2290 732.042 Q2287.67 729.936 2283.66 729.936 Q2281.79 729.936 2279.91 730.353 Q2278.06 730.769 2276.12 731.649 L2276.12 714.288 Z\" fill=\"#000000\" fill-rule=\"nonzero\" fill-opacity=\"1\" /><polyline clip-path=\"url(#clip503)\" style=\"stroke:#000000; stroke-linecap:round; stroke-linejoin:round; stroke-width:2; stroke-opacity:0.1; fill:none\" points=\"1341.85,668.357 2352.76,668.357 \"/>\n",
       "<polyline clip-path=\"url(#clip503)\" style=\"stroke:#000000; stroke-linecap:round; stroke-linejoin:round; stroke-width:2; stroke-opacity:0.1; fill:none\" points=\"1341.85,505.378 2352.76,505.378 \"/>\n",
       "<polyline clip-path=\"url(#clip503)\" style=\"stroke:#000000; stroke-linecap:round; stroke-linejoin:round; stroke-width:2; stroke-opacity:0.1; fill:none\" points=\"1341.85,342.399 2352.76,342.399 \"/>\n",
       "<polyline clip-path=\"url(#clip503)\" style=\"stroke:#000000; stroke-linecap:round; stroke-linejoin:round; stroke-width:2; stroke-opacity:0.1; fill:none\" points=\"1341.85,179.42 2352.76,179.42 \"/>\n",
       "<polyline clip-path=\"url(#clip500)\" style=\"stroke:#000000; stroke-linecap:round; stroke-linejoin:round; stroke-width:4; stroke-opacity:1; fill:none\" points=\"1341.85,686.448 1341.85,47.2441 \"/>\n",
       "<polyline clip-path=\"url(#clip500)\" style=\"stroke:#000000; stroke-linecap:round; stroke-linejoin:round; stroke-width:4; stroke-opacity:1; fill:none\" points=\"1341.85,668.357 1360.75,668.357 \"/>\n",
       "<polyline clip-path=\"url(#clip500)\" style=\"stroke:#000000; stroke-linecap:round; stroke-linejoin:round; stroke-width:4; stroke-opacity:1; fill:none\" points=\"1341.85,505.378 1360.75,505.378 \"/>\n",
       "<polyline clip-path=\"url(#clip500)\" style=\"stroke:#000000; stroke-linecap:round; stroke-linejoin:round; stroke-width:4; stroke-opacity:1; fill:none\" points=\"1341.85,342.399 1360.75,342.399 \"/>\n",
       "<polyline clip-path=\"url(#clip500)\" style=\"stroke:#000000; stroke-linecap:round; stroke-linejoin:round; stroke-width:4; stroke-opacity:1; fill:none\" points=\"1341.85,179.42 1360.75,179.42 \"/>\n",
       "<path clip-path=\"url(#clip500)\" d=\"M1293.91 654.156 Q1290.3 654.156 1288.47 657.721 Q1286.66 661.262 1286.66 668.392 Q1286.66 675.498 1288.47 679.063 Q1290.3 682.605 1293.91 682.605 Q1297.54 682.605 1299.35 679.063 Q1301.18 675.498 1301.18 668.392 Q1301.18 661.262 1299.35 657.721 Q1297.54 654.156 1293.91 654.156 M1293.91 650.452 Q1299.72 650.452 1302.77 655.059 Q1305.85 659.642 1305.85 668.392 Q1305.85 677.119 1302.77 681.725 Q1299.72 686.308 1293.91 686.308 Q1288.1 686.308 1285.02 681.725 Q1281.96 677.119 1281.96 668.392 Q1281.96 659.642 1285.02 655.059 Q1288.1 650.452 1293.91 650.452 Z\" fill=\"#000000\" fill-rule=\"nonzero\" fill-opacity=\"1\" /><path clip-path=\"url(#clip500)\" d=\"M1254.56 518.723 L1262.2 518.723 L1262.2 492.357 L1253.89 494.024 L1253.89 489.765 L1262.15 488.098 L1266.83 488.098 L1266.83 518.723 L1274.46 518.723 L1274.46 522.658 L1254.56 522.658 L1254.56 518.723 Z\" fill=\"#000000\" fill-rule=\"nonzero\" fill-opacity=\"1\" /><path clip-path=\"url(#clip500)\" d=\"M1293.91 491.177 Q1290.3 491.177 1288.47 494.742 Q1286.66 498.283 1286.66 505.413 Q1286.66 512.519 1288.47 516.084 Q1290.3 519.626 1293.91 519.626 Q1297.54 519.626 1299.35 516.084 Q1301.18 512.519 1301.18 505.413 Q1301.18 498.283 1299.35 494.742 Q1297.54 491.177 1293.91 491.177 M1293.91 487.473 Q1299.72 487.473 1302.77 492.08 Q1305.85 496.663 1305.85 505.413 Q1305.85 514.14 1302.77 518.746 Q1299.72 523.329 1293.91 523.329 Q1288.1 523.329 1285.02 518.746 Q1281.96 514.14 1281.96 505.413 Q1281.96 496.663 1285.02 492.08 Q1288.1 487.473 1293.91 487.473 Z\" fill=\"#000000\" fill-rule=\"nonzero\" fill-opacity=\"1\" /><path clip-path=\"url(#clip500)\" d=\"M1257.77 355.744 L1274.09 355.744 L1274.09 359.679 L1252.15 359.679 L1252.15 355.744 Q1254.81 352.989 1259.39 348.36 Q1264 343.707 1265.18 342.364 Q1267.43 339.841 1268.31 338.105 Q1269.21 336.346 1269.21 334.656 Q1269.21 331.901 1267.27 330.165 Q1265.34 328.429 1262.24 328.429 Q1260.04 328.429 1257.59 329.193 Q1255.16 329.957 1252.38 331.508 L1252.38 326.786 Q1255.21 325.652 1257.66 325.073 Q1260.11 324.494 1262.15 324.494 Q1267.52 324.494 1270.71 327.179 Q1273.91 329.864 1273.91 334.355 Q1273.91 336.485 1273.1 338.406 Q1272.31 340.304 1270.2 342.897 Q1269.63 343.568 1266.52 346.786 Q1263.42 349.98 1257.77 355.744 Z\" fill=\"#000000\" fill-rule=\"nonzero\" fill-opacity=\"1\" /><path clip-path=\"url(#clip500)\" d=\"M1293.91 328.198 Q1290.3 328.198 1288.47 331.763 Q1286.66 335.304 1286.66 342.434 Q1286.66 349.54 1288.47 353.105 Q1290.3 356.647 1293.91 356.647 Q1297.54 356.647 1299.35 353.105 Q1301.18 349.54 1301.18 342.434 Q1301.18 335.304 1299.35 331.763 Q1297.54 328.198 1293.91 328.198 M1293.91 324.494 Q1299.72 324.494 1302.77 329.101 Q1305.85 333.684 1305.85 342.434 Q1305.85 351.161 1302.77 355.767 Q1299.72 360.35 1293.91 360.35 Q1288.1 360.35 1285.02 355.767 Q1281.96 351.161 1281.96 342.434 Q1281.96 333.684 1285.02 329.101 Q1288.1 324.494 1293.91 324.494 Z\" fill=\"#000000\" fill-rule=\"nonzero\" fill-opacity=\"1\" /><path clip-path=\"url(#clip500)\" d=\"M1267.91 178.066 Q1271.27 178.784 1273.14 181.052 Q1275.04 183.321 1275.04 186.654 Q1275.04 191.77 1271.52 194.57 Q1268.01 197.371 1261.52 197.371 Q1259.35 197.371 1257.03 196.932 Q1254.74 196.515 1252.29 195.658 L1252.29 191.145 Q1254.23 192.279 1256.55 192.858 Q1258.86 193.436 1261.39 193.436 Q1265.78 193.436 1268.08 191.7 Q1270.39 189.964 1270.39 186.654 Q1270.39 183.598 1268.24 181.885 Q1266.11 180.149 1262.29 180.149 L1258.26 180.149 L1258.26 176.307 L1262.47 176.307 Q1265.92 176.307 1267.75 174.941 Q1269.58 173.552 1269.58 170.959 Q1269.58 168.297 1267.68 166.885 Q1265.81 165.45 1262.29 165.45 Q1260.37 165.45 1258.17 165.867 Q1255.97 166.284 1253.33 167.163 L1253.33 162.997 Q1255.99 162.256 1258.31 161.885 Q1260.64 161.515 1262.71 161.515 Q1268.03 161.515 1271.13 163.946 Q1274.23 166.353 1274.23 170.473 Q1274.23 173.344 1272.59 175.334 Q1270.95 177.302 1267.91 178.066 Z\" fill=\"#000000\" fill-rule=\"nonzero\" fill-opacity=\"1\" /><path clip-path=\"url(#clip500)\" d=\"M1293.91 165.219 Q1290.3 165.219 1288.47 168.784 Q1286.66 172.325 1286.66 179.455 Q1286.66 186.561 1288.47 190.126 Q1290.3 193.668 1293.91 193.668 Q1297.54 193.668 1299.35 190.126 Q1301.18 186.561 1301.18 179.455 Q1301.18 172.325 1299.35 168.784 Q1297.54 165.219 1293.91 165.219 M1293.91 161.515 Q1299.72 161.515 1302.77 166.122 Q1305.85 170.705 1305.85 179.455 Q1305.85 188.182 1302.77 192.788 Q1299.72 197.371 1293.91 197.371 Q1288.1 197.371 1285.02 192.788 Q1281.96 188.182 1281.96 179.455 Q1281.96 170.705 1285.02 166.122 Q1288.1 161.515 1293.91 161.515 Z\" fill=\"#000000\" fill-rule=\"nonzero\" fill-opacity=\"1\" /><path clip-path=\"url(#clip503)\" d=\"M1397.45 652.059 L1397.45 668.357 L1466.66 668.357 L1466.66 652.059 L1397.45 652.059 L1397.45 652.059  Z\" fill=\"#009af9\" fill-rule=\"evenodd\" fill-opacity=\"1\"/>\n",
       "<polyline clip-path=\"url(#clip503)\" style=\"stroke:#000000; stroke-linecap:round; stroke-linejoin:round; stroke-width:4; stroke-opacity:1; fill:none\" points=\"1397.45,652.059 1397.45,668.357 1466.66,668.357 1466.66,652.059 1397.45,652.059 \"/>\n",
       "<path clip-path=\"url(#clip503)\" d=\"M1466.66 554.272 L1466.66 668.357 L1535.87 668.357 L1535.87 554.272 L1466.66 554.272 L1466.66 554.272  Z\" fill=\"#009af9\" fill-rule=\"evenodd\" fill-opacity=\"1\"/>\n",
       "<polyline clip-path=\"url(#clip503)\" style=\"stroke:#000000; stroke-linecap:round; stroke-linejoin:round; stroke-width:4; stroke-opacity:1; fill:none\" points=\"1466.66,554.272 1466.66,668.357 1535.87,668.357 1535.87,554.272 1466.66,554.272 \"/>\n",
       "<path clip-path=\"url(#clip503)\" d=\"M1535.87 489.08 L1535.87 668.357 L1605.08 668.357 L1605.08 489.08 L1535.87 489.08 L1535.87 489.08  Z\" fill=\"#009af9\" fill-rule=\"evenodd\" fill-opacity=\"1\"/>\n",
       "<polyline clip-path=\"url(#clip503)\" style=\"stroke:#000000; stroke-linecap:round; stroke-linejoin:round; stroke-width:4; stroke-opacity:1; fill:none\" points=\"1535.87,489.08 1535.87,668.357 1605.08,668.357 1605.08,489.08 1535.87,489.08 \"/>\n",
       "<path clip-path=\"url(#clip503)\" d=\"M1605.08 440.187 L1605.08 668.357 L1674.29 668.357 L1674.29 440.187 L1605.08 440.187 L1605.08 440.187  Z\" fill=\"#009af9\" fill-rule=\"evenodd\" fill-opacity=\"1\"/>\n",
       "<polyline clip-path=\"url(#clip503)\" style=\"stroke:#000000; stroke-linecap:round; stroke-linejoin:round; stroke-width:4; stroke-opacity:1; fill:none\" points=\"1605.08,440.187 1605.08,668.357 1674.29,668.357 1674.29,440.187 1605.08,440.187 \"/>\n",
       "<path clip-path=\"url(#clip503)\" d=\"M1674.29 277.208 L1674.29 668.357 L1743.49 668.357 L1743.49 277.208 L1674.29 277.208 L1674.29 277.208  Z\" fill=\"#009af9\" fill-rule=\"evenodd\" fill-opacity=\"1\"/>\n",
       "<polyline clip-path=\"url(#clip503)\" style=\"stroke:#000000; stroke-linecap:round; stroke-linejoin:round; stroke-width:4; stroke-opacity:1; fill:none\" points=\"1674.29,277.208 1674.29,668.357 1743.49,668.357 1743.49,277.208 1674.29,277.208 \"/>\n",
       "<path clip-path=\"url(#clip503)\" d=\"M1743.49 65.3348 L1743.49 668.357 L1812.7 668.357 L1812.7 65.3348 L1743.49 65.3348 L1743.49 65.3348  Z\" fill=\"#009af9\" fill-rule=\"evenodd\" fill-opacity=\"1\"/>\n",
       "<polyline clip-path=\"url(#clip503)\" style=\"stroke:#000000; stroke-linecap:round; stroke-linejoin:round; stroke-width:4; stroke-opacity:1; fill:none\" points=\"1743.49,65.3348 1743.49,668.357 1812.7,668.357 1812.7,65.3348 1743.49,65.3348 \"/>\n",
       "<path clip-path=\"url(#clip503)\" d=\"M1812.7 358.697 L1812.7 668.357 L1881.91 668.357 L1881.91 358.697 L1812.7 358.697 L1812.7 358.697  Z\" fill=\"#009af9\" fill-rule=\"evenodd\" fill-opacity=\"1\"/>\n",
       "<polyline clip-path=\"url(#clip503)\" style=\"stroke:#000000; stroke-linecap:round; stroke-linejoin:round; stroke-width:4; stroke-opacity:1; fill:none\" points=\"1812.7,358.697 1812.7,668.357 1881.91,668.357 1881.91,358.697 1812.7,358.697 \"/>\n",
       "<path clip-path=\"url(#clip503)\" d=\"M1881.91 374.995 L1881.91 668.357 L1951.12 668.357 L1951.12 374.995 L1881.91 374.995 L1881.91 374.995  Z\" fill=\"#009af9\" fill-rule=\"evenodd\" fill-opacity=\"1\"/>\n",
       "<polyline clip-path=\"url(#clip503)\" style=\"stroke:#000000; stroke-linecap:round; stroke-linejoin:round; stroke-width:4; stroke-opacity:1; fill:none\" points=\"1881.91,374.995 1881.91,668.357 1951.12,668.357 1951.12,374.995 1881.91,374.995 \"/>\n",
       "<path clip-path=\"url(#clip503)\" d=\"M1951.12 554.272 L1951.12 668.357 L2020.32 668.357 L2020.32 554.272 L1951.12 554.272 L1951.12 554.272  Z\" fill=\"#009af9\" fill-rule=\"evenodd\" fill-opacity=\"1\"/>\n",
       "<polyline clip-path=\"url(#clip503)\" style=\"stroke:#000000; stroke-linecap:round; stroke-linejoin:round; stroke-width:4; stroke-opacity:1; fill:none\" points=\"1951.12,554.272 1951.12,668.357 2020.32,668.357 2020.32,554.272 1951.12,554.272 \"/>\n",
       "<path clip-path=\"url(#clip503)\" d=\"M2020.32 537.974 L2020.32 668.357 L2089.53 668.357 L2089.53 537.974 L2020.32 537.974 L2020.32 537.974  Z\" fill=\"#009af9\" fill-rule=\"evenodd\" fill-opacity=\"1\"/>\n",
       "<polyline clip-path=\"url(#clip503)\" style=\"stroke:#000000; stroke-linecap:round; stroke-linejoin:round; stroke-width:4; stroke-opacity:1; fill:none\" points=\"2020.32,537.974 2020.32,668.357 2089.53,668.357 2089.53,537.974 2020.32,537.974 \"/>\n",
       "<path clip-path=\"url(#clip503)\" d=\"M2089.53 635.761 L2089.53 668.357 L2158.74 668.357 L2158.74 635.761 L2089.53 635.761 L2089.53 635.761  Z\" fill=\"#009af9\" fill-rule=\"evenodd\" fill-opacity=\"1\"/>\n",
       "<polyline clip-path=\"url(#clip503)\" style=\"stroke:#000000; stroke-linecap:round; stroke-linejoin:round; stroke-width:4; stroke-opacity:1; fill:none\" points=\"2089.53,635.761 2089.53,668.357 2158.74,668.357 2158.74,635.761 2089.53,635.761 \"/>\n",
       "<path clip-path=\"url(#clip503)\" d=\"M2158.74 652.059 L2158.74 668.357 L2227.95 668.357 L2227.95 652.059 L2158.74 652.059 L2158.74 652.059  Z\" fill=\"#009af9\" fill-rule=\"evenodd\" fill-opacity=\"1\"/>\n",
       "<polyline clip-path=\"url(#clip503)\" style=\"stroke:#000000; stroke-linecap:round; stroke-linejoin:round; stroke-width:4; stroke-opacity:1; fill:none\" points=\"2158.74,652.059 2158.74,668.357 2227.95,668.357 2227.95,652.059 2158.74,652.059 \"/>\n",
       "<path clip-path=\"url(#clip503)\" d=\"M2227.95 652.059 L2227.95 668.357 L2297.15 668.357 L2297.15 652.059 L2227.95 652.059 L2227.95 652.059  Z\" fill=\"#009af9\" fill-rule=\"evenodd\" fill-opacity=\"1\"/>\n",
       "<polyline clip-path=\"url(#clip503)\" style=\"stroke:#000000; stroke-linecap:round; stroke-linejoin:round; stroke-width:4; stroke-opacity:1; fill:none\" points=\"2227.95,652.059 2227.95,668.357 2297.15,668.357 2297.15,652.059 2227.95,652.059 \"/>\n",
       "<circle clip-path=\"url(#clip503)\" style=\"fill:#009af9; stroke:none; fill-opacity:0\" cx=\"1432.06\" cy=\"652.059\" r=\"2\"/>\n",
       "<circle clip-path=\"url(#clip503)\" style=\"fill:#009af9; stroke:none; fill-opacity:0\" cx=\"1501.27\" cy=\"554.272\" r=\"2\"/>\n",
       "<circle clip-path=\"url(#clip503)\" style=\"fill:#009af9; stroke:none; fill-opacity:0\" cx=\"1570.47\" cy=\"489.08\" r=\"2\"/>\n",
       "<circle clip-path=\"url(#clip503)\" style=\"fill:#009af9; stroke:none; fill-opacity:0\" cx=\"1639.68\" cy=\"440.187\" r=\"2\"/>\n",
       "<circle clip-path=\"url(#clip503)\" style=\"fill:#009af9; stroke:none; fill-opacity:0\" cx=\"1708.89\" cy=\"277.208\" r=\"2\"/>\n",
       "<circle clip-path=\"url(#clip503)\" style=\"fill:#009af9; stroke:none; fill-opacity:0\" cx=\"1778.1\" cy=\"65.3348\" r=\"2\"/>\n",
       "<circle clip-path=\"url(#clip503)\" style=\"fill:#009af9; stroke:none; fill-opacity:0\" cx=\"1847.3\" cy=\"358.697\" r=\"2\"/>\n",
       "<circle clip-path=\"url(#clip503)\" style=\"fill:#009af9; stroke:none; fill-opacity:0\" cx=\"1916.51\" cy=\"374.995\" r=\"2\"/>\n",
       "<circle clip-path=\"url(#clip503)\" style=\"fill:#009af9; stroke:none; fill-opacity:0\" cx=\"1985.72\" cy=\"554.272\" r=\"2\"/>\n",
       "<circle clip-path=\"url(#clip503)\" style=\"fill:#009af9; stroke:none; fill-opacity:0\" cx=\"2054.93\" cy=\"537.974\" r=\"2\"/>\n",
       "<circle clip-path=\"url(#clip503)\" style=\"fill:#009af9; stroke:none; fill-opacity:0\" cx=\"2124.14\" cy=\"635.761\" r=\"2\"/>\n",
       "<circle clip-path=\"url(#clip503)\" style=\"fill:#009af9; stroke:none; fill-opacity:0\" cx=\"2193.34\" cy=\"652.059\" r=\"2\"/>\n",
       "<circle clip-path=\"url(#clip503)\" style=\"fill:#009af9; stroke:none; fill-opacity:0\" cx=\"2262.55\" cy=\"652.059\" r=\"2\"/>\n",
       "<path clip-path=\"url(#clip500)\" d=\"M1955.82 172.231 L2319.06 172.231 L2319.06 68.5509 L1955.82 68.5509  Z\" fill=\"#ffffff\" fill-rule=\"evenodd\" fill-opacity=\"1\"/>\n",
       "<polyline clip-path=\"url(#clip500)\" style=\"stroke:#000000; stroke-linecap:round; stroke-linejoin:round; stroke-width:4; stroke-opacity:1; fill:none\" points=\"1955.82,172.231 2319.06,172.231 2319.06,68.5509 1955.82,68.5509 1955.82,172.231 \"/>\n",
       "<path clip-path=\"url(#clip500)\" d=\"M1967.05 141.127 L2034.44 141.127 L2034.44 99.6549 L1967.05 99.6549 L1967.05 141.127  Z\" fill=\"#009af9\" fill-rule=\"evenodd\" fill-opacity=\"1\"/>\n",
       "<polyline clip-path=\"url(#clip500)\" style=\"stroke:#000000; stroke-linecap:round; stroke-linejoin:round; stroke-width:4; stroke-opacity:1; fill:none\" points=\"1967.05,141.127 2034.44,141.127 2034.44,99.6549 1967.05,99.6549 1967.05,141.127 \"/>\n",
       "<path clip-path=\"url(#clip500)\" d=\"M2067.92 104.245 L2067.92 108.805 Q2065.26 107.532 2062.9 106.907 Q2060.54 106.282 2058.34 106.282 Q2054.52 106.282 2052.43 107.764 Q2050.37 109.245 2050.37 111.977 Q2050.37 114.268 2051.74 115.449 Q2053.13 116.606 2056.97 117.324 L2059.8 117.902 Q2065.03 118.898 2067.5 121.421 Q2070 123.921 2070 128.134 Q2070 133.157 2066.62 135.75 Q2063.27 138.342 2056.76 138.342 Q2054.31 138.342 2051.53 137.787 Q2048.78 137.231 2045.81 136.143 L2045.81 131.328 Q2048.66 132.926 2051.39 133.736 Q2054.12 134.546 2056.76 134.546 Q2060.77 134.546 2062.94 132.972 Q2065.12 131.398 2065.12 128.481 Q2065.12 125.935 2063.55 124.5 Q2061.99 123.064 2058.43 122.347 L2055.58 121.791 Q2050.35 120.75 2048.01 118.527 Q2045.68 116.305 2045.68 112.347 Q2045.68 107.764 2048.89 105.125 Q2052.13 102.486 2057.81 102.486 Q2060.24 102.486 2062.76 102.926 Q2065.28 103.366 2067.92 104.245 Z\" fill=\"#000000\" fill-rule=\"nonzero\" fill-opacity=\"1\" /><path clip-path=\"url(#clip500)\" d=\"M2099.29 123.643 L2099.29 125.727 L2079.7 125.727 Q2079.98 130.125 2082.34 132.439 Q2084.73 134.731 2088.96 134.731 Q2091.42 134.731 2093.71 134.129 Q2096.02 133.527 2098.29 132.324 L2098.29 136.351 Q2096 137.324 2093.59 137.833 Q2091.18 138.342 2088.71 138.342 Q2082.5 138.342 2078.87 134.731 Q2075.26 131.12 2075.26 124.963 Q2075.26 118.597 2078.68 114.87 Q2082.13 111.12 2087.97 111.12 Q2093.2 111.12 2096.23 114.5 Q2099.29 117.856 2099.29 123.643 M2095.03 122.393 Q2094.98 118.898 2093.06 116.815 Q2091.16 114.731 2088.01 114.731 Q2084.45 114.731 2082.3 116.745 Q2080.17 118.759 2079.84 122.416 L2095.03 122.393 Z\" fill=\"#000000\" fill-rule=\"nonzero\" fill-opacity=\"1\" /><path clip-path=\"url(#clip500)\" d=\"M2110.4 133.782 L2110.4 147.532 L2106.12 147.532 L2106.12 111.745 L2110.4 111.745 L2110.4 115.68 Q2111.74 113.365 2113.78 112.254 Q2115.84 111.12 2118.68 111.12 Q2123.41 111.12 2126.35 114.87 Q2129.31 118.62 2129.31 124.731 Q2129.31 130.842 2126.35 134.592 Q2123.41 138.342 2118.68 138.342 Q2115.84 138.342 2113.78 137.231 Q2111.74 136.097 2110.4 133.782 M2124.89 124.731 Q2124.89 120.032 2122.94 117.37 Q2121.02 114.685 2117.64 114.685 Q2114.26 114.685 2112.32 117.37 Q2110.4 120.032 2110.4 124.731 Q2110.4 129.43 2112.32 132.115 Q2114.26 134.777 2117.64 134.777 Q2121.02 134.777 2122.94 132.115 Q2124.89 129.43 2124.89 124.731 Z\" fill=\"#000000\" fill-rule=\"nonzero\" fill-opacity=\"1\" /><path clip-path=\"url(#clip500)\" d=\"M2148.15 124.639 Q2142.99 124.639 2141 125.819 Q2139.01 127 2139.01 129.847 Q2139.01 132.115 2140.49 133.458 Q2141.99 134.777 2144.56 134.777 Q2148.11 134.777 2150.24 132.277 Q2152.39 129.754 2152.39 125.588 L2152.39 124.639 L2148.15 124.639 M2156.65 122.879 L2156.65 137.671 L2152.39 137.671 L2152.39 133.736 Q2150.93 136.097 2148.75 137.231 Q2146.58 138.342 2143.43 138.342 Q2139.45 138.342 2137.09 136.12 Q2134.75 133.875 2134.75 130.125 Q2134.75 125.75 2137.67 123.527 Q2140.61 121.305 2146.42 121.305 L2152.39 121.305 L2152.39 120.889 Q2152.39 117.949 2150.44 116.352 Q2148.52 114.731 2145.03 114.731 Q2142.8 114.731 2140.7 115.264 Q2138.59 115.796 2136.65 116.861 L2136.65 112.926 Q2138.99 112.023 2141.18 111.583 Q2143.38 111.12 2145.47 111.12 Q2151.09 111.12 2153.87 114.037 Q2156.65 116.953 2156.65 122.879 Z\" fill=\"#000000\" fill-rule=\"nonzero\" fill-opacity=\"1\" /><path clip-path=\"url(#clip500)\" d=\"M2165.42 101.653 L2169.68 101.653 L2169.68 137.671 L2165.42 137.671 L2165.42 101.653 Z\" fill=\"#000000\" fill-rule=\"nonzero\" fill-opacity=\"1\" /><path clip-path=\"url(#clip500)\" d=\"M2175.7 103.111 L2180.42 103.111 L2187.69 132.324 L2194.93 103.111 L2200.19 103.111 L2207.46 132.324 L2214.7 103.111 L2219.45 103.111 L2210.77 137.671 L2204.89 137.671 L2197.6 107.671 L2190.23 137.671 L2184.36 137.671 L2175.7 103.111 Z\" fill=\"#000000\" fill-rule=\"nonzero\" fill-opacity=\"1\" /><path clip-path=\"url(#clip500)\" d=\"M2224.42 111.745 L2228.68 111.745 L2228.68 137.671 L2224.42 137.671 L2224.42 111.745 M2224.42 101.653 L2228.68 101.653 L2228.68 107.046 L2224.42 107.046 L2224.42 101.653 Z\" fill=\"#000000\" fill-rule=\"nonzero\" fill-opacity=\"1\" /><path clip-path=\"url(#clip500)\" d=\"M2254.66 115.68 L2254.66 101.653 L2258.92 101.653 L2258.92 137.671 L2254.66 137.671 L2254.66 133.782 Q2253.31 136.097 2251.25 137.231 Q2249.22 138.342 2246.35 138.342 Q2241.65 138.342 2238.68 134.592 Q2235.74 130.842 2235.74 124.731 Q2235.74 118.62 2238.68 114.87 Q2241.65 111.12 2246.35 111.12 Q2249.22 111.12 2251.25 112.254 Q2253.31 113.365 2254.66 115.68 M2240.14 124.731 Q2240.14 129.43 2242.06 132.115 Q2244.01 134.777 2247.39 134.777 Q2250.77 134.777 2252.71 132.115 Q2254.66 129.43 2254.66 124.731 Q2254.66 120.032 2252.71 117.37 Q2250.77 114.685 2247.39 114.685 Q2244.01 114.685 2242.06 117.37 Q2240.14 120.032 2240.14 124.731 Z\" fill=\"#000000\" fill-rule=\"nonzero\" fill-opacity=\"1\" /><path clip-path=\"url(#clip500)\" d=\"M2271.9 104.384 L2271.9 111.745 L2280.67 111.745 L2280.67 115.055 L2271.9 115.055 L2271.9 129.129 Q2271.9 132.301 2272.76 133.203 Q2273.64 134.106 2276.3 134.106 L2280.67 134.106 L2280.67 137.671 L2276.3 137.671 Q2271.37 137.671 2269.49 135.842 Q2267.62 133.99 2267.62 129.129 L2267.62 115.055 L2264.49 115.055 L2264.49 111.745 L2267.62 111.745 L2267.62 104.384 L2271.9 104.384 Z\" fill=\"#000000\" fill-rule=\"nonzero\" fill-opacity=\"1\" /><path clip-path=\"url(#clip500)\" d=\"M2307.83 122.023 L2307.83 137.671 L2303.57 137.671 L2303.57 122.162 Q2303.57 118.481 2302.13 116.652 Q2300.7 114.824 2297.83 114.824 Q2294.38 114.824 2292.39 117.023 Q2290.4 119.222 2290.4 123.018 L2290.4 137.671 L2286.11 137.671 L2286.11 101.653 L2290.4 101.653 L2290.4 115.773 Q2291.92 113.435 2293.98 112.278 Q2296.07 111.12 2298.78 111.12 Q2303.24 111.12 2305.54 113.898 Q2307.83 116.652 2307.83 122.023 Z\" fill=\"#000000\" fill-rule=\"nonzero\" fill-opacity=\"1\" /><path clip-path=\"url(#clip500)\" d=\"M141.853 1486.45 L1152.76 1486.45 L1152.76 847.244 L141.853 847.244  Z\" fill=\"#ffffff\" fill-rule=\"evenodd\" fill-opacity=\"1\"/>\n",
       "<defs>\n",
       "  <clipPath id=\"clip504\">\n",
       "    <rect x=\"141\" y=\"847\" width=\"1012\" height=\"640\"/>\n",
       "  </clipPath>\n",
       "</defs>\n",
       "<polyline clip-path=\"url(#clip504)\" style=\"stroke:#000000; stroke-linecap:round; stroke-linejoin:round; stroke-width:2; stroke-opacity:0.1; fill:none\" points=\"197.454,1486.45 197.454,847.244 \"/>\n",
       "<polyline clip-path=\"url(#clip504)\" style=\"stroke:#000000; stroke-linecap:round; stroke-linejoin:round; stroke-width:2; stroke-opacity:0.1; fill:none\" points=\"422.379,1486.45 422.379,847.244 \"/>\n",
       "<polyline clip-path=\"url(#clip504)\" style=\"stroke:#000000; stroke-linecap:round; stroke-linejoin:round; stroke-width:2; stroke-opacity:0.1; fill:none\" points=\"647.304,1486.45 647.304,847.244 \"/>\n",
       "<polyline clip-path=\"url(#clip504)\" style=\"stroke:#000000; stroke-linecap:round; stroke-linejoin:round; stroke-width:2; stroke-opacity:0.1; fill:none\" points=\"872.229,1486.45 872.229,847.244 \"/>\n",
       "<polyline clip-path=\"url(#clip504)\" style=\"stroke:#000000; stroke-linecap:round; stroke-linejoin:round; stroke-width:2; stroke-opacity:0.1; fill:none\" points=\"1097.15,1486.45 1097.15,847.244 \"/>\n",
       "<polyline clip-path=\"url(#clip500)\" style=\"stroke:#000000; stroke-linecap:round; stroke-linejoin:round; stroke-width:4; stroke-opacity:1; fill:none\" points=\"141.853,1486.45 1152.76,1486.45 \"/>\n",
       "<polyline clip-path=\"url(#clip500)\" style=\"stroke:#000000; stroke-linecap:round; stroke-linejoin:round; stroke-width:4; stroke-opacity:1; fill:none\" points=\"197.454,1486.45 197.454,1467.55 \"/>\n",
       "<polyline clip-path=\"url(#clip500)\" style=\"stroke:#000000; stroke-linecap:round; stroke-linejoin:round; stroke-width:4; stroke-opacity:1; fill:none\" points=\"422.379,1486.45 422.379,1467.55 \"/>\n",
       "<polyline clip-path=\"url(#clip500)\" style=\"stroke:#000000; stroke-linecap:round; stroke-linejoin:round; stroke-width:4; stroke-opacity:1; fill:none\" points=\"647.304,1486.45 647.304,1467.55 \"/>\n",
       "<polyline clip-path=\"url(#clip500)\" style=\"stroke:#000000; stroke-linecap:round; stroke-linejoin:round; stroke-width:4; stroke-opacity:1; fill:none\" points=\"872.229,1486.45 872.229,1467.55 \"/>\n",
       "<polyline clip-path=\"url(#clip500)\" style=\"stroke:#000000; stroke-linecap:round; stroke-linejoin:round; stroke-width:4; stroke-opacity:1; fill:none\" points=\"1097.15,1486.45 1097.15,1467.55 \"/>\n",
       "<path clip-path=\"url(#clip500)\" d=\"M197.454 1517.37 Q193.843 1517.37 192.015 1520.93 Q190.209 1524.47 190.209 1531.6 Q190.209 1538.71 192.015 1542.27 Q193.843 1545.82 197.454 1545.82 Q201.089 1545.82 202.894 1542.27 Q204.723 1538.71 204.723 1531.6 Q204.723 1524.47 202.894 1520.93 Q201.089 1517.37 197.454 1517.37 M197.454 1513.66 Q203.265 1513.66 206.32 1518.27 Q209.399 1522.85 209.399 1531.6 Q209.399 1540.33 206.32 1544.94 Q203.265 1549.52 197.454 1549.52 Q191.644 1549.52 188.566 1544.94 Q185.51 1540.33 185.51 1531.6 Q185.51 1522.85 188.566 1518.27 Q191.644 1513.66 197.454 1513.66 Z\" fill=\"#000000\" fill-rule=\"nonzero\" fill-opacity=\"1\" /><path clip-path=\"url(#clip500)\" d=\"M417.032 1544.91 L433.352 1544.91 L433.352 1548.85 L411.407 1548.85 L411.407 1544.91 Q414.069 1542.16 418.653 1537.53 Q423.259 1532.88 424.44 1531.53 Q426.685 1529.01 427.565 1527.27 Q428.467 1525.51 428.467 1523.82 Q428.467 1521.07 426.523 1519.33 Q424.602 1517.6 421.5 1517.6 Q419.301 1517.6 416.847 1518.36 Q414.416 1519.13 411.639 1520.68 L411.639 1515.95 Q414.463 1514.82 416.916 1514.24 Q419.37 1513.66 421.407 1513.66 Q426.778 1513.66 429.972 1516.35 Q433.166 1519.03 433.166 1523.52 Q433.166 1525.65 432.356 1527.57 Q431.569 1529.47 429.463 1532.07 Q428.884 1532.74 425.782 1535.95 Q422.68 1539.15 417.032 1544.91 Z\" fill=\"#000000\" fill-rule=\"nonzero\" fill-opacity=\"1\" /><path clip-path=\"url(#clip500)\" d=\"M650.314 1518.36 L638.508 1536.81 L650.314 1536.81 L650.314 1518.36 M649.087 1514.29 L654.966 1514.29 L654.966 1536.81 L659.897 1536.81 L659.897 1540.7 L654.966 1540.7 L654.966 1548.85 L650.314 1548.85 L650.314 1540.7 L634.712 1540.7 L634.712 1536.19 L649.087 1514.29 Z\" fill=\"#000000\" fill-rule=\"nonzero\" fill-opacity=\"1\" /><path clip-path=\"url(#clip500)\" d=\"M872.635 1529.7 Q869.486 1529.7 867.635 1531.86 Q865.806 1534.01 865.806 1537.76 Q865.806 1541.49 867.635 1543.66 Q869.486 1545.82 872.635 1545.82 Q875.783 1545.82 877.611 1543.66 Q879.463 1541.49 879.463 1537.76 Q879.463 1534.01 877.611 1531.86 Q875.783 1529.7 872.635 1529.7 M881.917 1515.05 L881.917 1519.31 Q880.158 1518.48 878.352 1518.04 Q876.57 1517.6 874.81 1517.6 Q870.181 1517.6 867.727 1520.72 Q865.297 1523.85 864.949 1530.17 Q866.315 1528.15 868.375 1527.09 Q870.435 1526 872.912 1526 Q878.121 1526 881.13 1529.17 Q884.162 1532.32 884.162 1537.76 Q884.162 1543.08 881.014 1546.3 Q877.866 1549.52 872.635 1549.52 Q866.639 1549.52 863.468 1544.94 Q860.297 1540.33 860.297 1531.6 Q860.297 1523.41 864.185 1518.55 Q868.074 1513.66 874.625 1513.66 Q876.385 1513.66 878.167 1514.01 Q879.972 1514.36 881.917 1515.05 Z\" fill=\"#000000\" fill-rule=\"nonzero\" fill-opacity=\"1\" /><path clip-path=\"url(#clip500)\" d=\"M1097.15 1532.44 Q1093.82 1532.44 1091.9 1534.22 Q1090 1536 1090 1539.13 Q1090 1542.25 1091.9 1544.03 Q1093.82 1545.82 1097.15 1545.82 Q1100.49 1545.82 1102.41 1544.03 Q1104.33 1542.23 1104.33 1539.13 Q1104.33 1536 1102.41 1534.22 Q1100.51 1532.44 1097.15 1532.44 M1092.48 1530.45 Q1089.47 1529.7 1087.78 1527.64 Q1086.11 1525.58 1086.11 1522.62 Q1086.11 1518.48 1089.05 1516.07 Q1092.02 1513.66 1097.15 1513.66 Q1102.32 1513.66 1105.26 1516.07 Q1108.2 1518.48 1108.2 1522.62 Q1108.2 1525.58 1106.51 1527.64 Q1104.84 1529.7 1101.85 1530.45 Q1105.23 1531.23 1107.11 1533.52 Q1109.01 1535.82 1109.01 1539.13 Q1109.01 1544.15 1105.93 1546.83 Q1102.87 1549.52 1097.15 1549.52 Q1091.44 1549.52 1088.36 1546.83 Q1085.3 1544.15 1085.3 1539.13 Q1085.3 1535.82 1087.2 1533.52 Q1089.1 1531.23 1092.48 1530.45 M1090.77 1523.06 Q1090.77 1525.75 1092.43 1527.25 Q1094.12 1528.76 1097.15 1528.76 Q1100.16 1528.76 1101.85 1527.25 Q1103.57 1525.75 1103.57 1523.06 Q1103.57 1520.38 1101.85 1518.87 Q1100.16 1517.37 1097.15 1517.37 Q1094.12 1517.37 1092.43 1518.87 Q1090.77 1520.38 1090.77 1523.06 Z\" fill=\"#000000\" fill-rule=\"nonzero\" fill-opacity=\"1\" /><polyline clip-path=\"url(#clip504)\" style=\"stroke:#000000; stroke-linecap:round; stroke-linejoin:round; stroke-width:2; stroke-opacity:0.1; fill:none\" points=\"141.853,1468.36 1152.76,1468.36 \"/>\n",
       "<polyline clip-path=\"url(#clip504)\" style=\"stroke:#000000; stroke-linecap:round; stroke-linejoin:round; stroke-width:2; stroke-opacity:0.1; fill:none\" points=\"141.853,1313.74 1152.76,1313.74 \"/>\n",
       "<polyline clip-path=\"url(#clip504)\" style=\"stroke:#000000; stroke-linecap:round; stroke-linejoin:round; stroke-width:2; stroke-opacity:0.1; fill:none\" points=\"141.853,1159.11 1152.76,1159.11 \"/>\n",
       "<polyline clip-path=\"url(#clip504)\" style=\"stroke:#000000; stroke-linecap:round; stroke-linejoin:round; stroke-width:2; stroke-opacity:0.1; fill:none\" points=\"141.853,1004.49 1152.76,1004.49 \"/>\n",
       "<polyline clip-path=\"url(#clip504)\" style=\"stroke:#000000; stroke-linecap:round; stroke-linejoin:round; stroke-width:2; stroke-opacity:0.1; fill:none\" points=\"141.853,849.873 1152.76,849.873 \"/>\n",
       "<polyline clip-path=\"url(#clip500)\" style=\"stroke:#000000; stroke-linecap:round; stroke-linejoin:round; stroke-width:4; stroke-opacity:1; fill:none\" points=\"141.853,1486.45 141.853,847.244 \"/>\n",
       "<polyline clip-path=\"url(#clip500)\" style=\"stroke:#000000; stroke-linecap:round; stroke-linejoin:round; stroke-width:4; stroke-opacity:1; fill:none\" points=\"141.853,1468.36 160.751,1468.36 \"/>\n",
       "<polyline clip-path=\"url(#clip500)\" style=\"stroke:#000000; stroke-linecap:round; stroke-linejoin:round; stroke-width:4; stroke-opacity:1; fill:none\" points=\"141.853,1313.74 160.751,1313.74 \"/>\n",
       "<polyline clip-path=\"url(#clip500)\" style=\"stroke:#000000; stroke-linecap:round; stroke-linejoin:round; stroke-width:4; stroke-opacity:1; fill:none\" points=\"141.853,1159.11 160.751,1159.11 \"/>\n",
       "<polyline clip-path=\"url(#clip500)\" style=\"stroke:#000000; stroke-linecap:round; stroke-linejoin:round; stroke-width:4; stroke-opacity:1; fill:none\" points=\"141.853,1004.49 160.751,1004.49 \"/>\n",
       "<polyline clip-path=\"url(#clip500)\" style=\"stroke:#000000; stroke-linecap:round; stroke-linejoin:round; stroke-width:4; stroke-opacity:1; fill:none\" points=\"141.853,849.873 160.751,849.873 \"/>\n",
       "<path clip-path=\"url(#clip500)\" d=\"M93.9086 1454.16 Q90.2975 1454.16 88.4688 1457.72 Q86.6632 1461.26 86.6632 1468.39 Q86.6632 1475.5 88.4688 1479.06 Q90.2975 1482.6 93.9086 1482.6 Q97.5428 1482.6 99.3483 1479.06 Q101.177 1475.5 101.177 1468.39 Q101.177 1461.26 99.3483 1457.72 Q97.5428 1454.16 93.9086 1454.16 M93.9086 1450.45 Q99.7187 1450.45 102.774 1455.06 Q105.853 1459.64 105.853 1468.39 Q105.853 1477.12 102.774 1481.73 Q99.7187 1486.31 93.9086 1486.31 Q88.0984 1486.31 85.0197 1481.73 Q81.9642 1477.12 81.9642 1468.39 Q81.9642 1459.64 85.0197 1455.06 Q88.0984 1450.45 93.9086 1450.45 Z\" fill=\"#000000\" fill-rule=\"nonzero\" fill-opacity=\"1\" /><path clip-path=\"url(#clip500)\" d=\"M57.7745 1327.08 L74.0939 1327.08 L74.0939 1331.02 L52.1495 1331.02 L52.1495 1327.08 Q54.8115 1324.33 59.3949 1319.7 Q64.0013 1315.04 65.1819 1313.7 Q67.4272 1311.18 68.3068 1309.44 Q69.2096 1307.68 69.2096 1305.99 Q69.2096 1303.24 67.2652 1301.5 Q65.3439 1299.77 62.2421 1299.77 Q60.043 1299.77 57.5893 1300.53 Q55.1588 1301.29 52.381 1302.84 L52.381 1298.12 Q55.2051 1296.99 57.6588 1296.41 Q60.1124 1295.83 62.1495 1295.83 Q67.5198 1295.83 70.7142 1298.52 Q73.9087 1301.2 73.9087 1305.69 Q73.9087 1307.82 73.0985 1309.74 Q72.3115 1311.64 70.205 1314.23 Q69.6263 1314.91 66.5245 1318.12 Q63.4226 1321.32 57.7745 1327.08 Z\" fill=\"#000000\" fill-rule=\"nonzero\" fill-opacity=\"1\" /><path clip-path=\"url(#clip500)\" d=\"M93.9086 1299.53 Q90.2975 1299.53 88.4688 1303.1 Q86.6632 1306.64 86.6632 1313.77 Q86.6632 1320.88 88.4688 1324.44 Q90.2975 1327.98 93.9086 1327.98 Q97.5428 1327.98 99.3483 1324.44 Q101.177 1320.88 101.177 1313.77 Q101.177 1306.64 99.3483 1303.1 Q97.5428 1299.53 93.9086 1299.53 M93.9086 1295.83 Q99.7187 1295.83 102.774 1300.44 Q105.853 1305.02 105.853 1313.77 Q105.853 1322.5 102.774 1327.1 Q99.7187 1331.69 93.9086 1331.69 Q88.0984 1331.69 85.0197 1327.1 Q81.9642 1322.5 81.9642 1313.77 Q81.9642 1305.02 85.0197 1300.44 Q88.0984 1295.83 93.9086 1295.83 Z\" fill=\"#000000\" fill-rule=\"nonzero\" fill-opacity=\"1\" /><path clip-path=\"url(#clip500)\" d=\"M66.5939 1145.91 L54.7884 1164.36 L66.5939 1164.36 L66.5939 1145.91 M65.367 1141.83 L71.2466 1141.83 L71.2466 1164.36 L76.1772 1164.36 L76.1772 1168.25 L71.2466 1168.25 L71.2466 1176.39 L66.5939 1176.39 L66.5939 1168.25 L50.9921 1168.25 L50.9921 1163.73 L65.367 1141.83 Z\" fill=\"#000000\" fill-rule=\"nonzero\" fill-opacity=\"1\" /><path clip-path=\"url(#clip500)\" d=\"M93.9086 1144.91 Q90.2975 1144.91 88.4688 1148.48 Q86.6632 1152.02 86.6632 1159.15 Q86.6632 1166.26 88.4688 1169.82 Q90.2975 1173.36 93.9086 1173.36 Q97.5428 1173.36 99.3483 1169.82 Q101.177 1166.26 101.177 1159.15 Q101.177 1152.02 99.3483 1148.48 Q97.5428 1144.91 93.9086 1144.91 M93.9086 1141.21 Q99.7187 1141.21 102.774 1145.82 Q105.853 1150.4 105.853 1159.15 Q105.853 1167.88 102.774 1172.48 Q99.7187 1177.07 93.9086 1177.07 Q88.0984 1177.07 85.0197 1172.48 Q81.9642 1167.88 81.9642 1159.15 Q81.9642 1150.4 85.0197 1145.82 Q88.0984 1141.21 93.9086 1141.21 Z\" fill=\"#000000\" fill-rule=\"nonzero\" fill-opacity=\"1\" /><path clip-path=\"url(#clip500)\" d=\"M64.3254 1002.63 Q61.1773 1002.63 59.3254 1004.78 Q57.4967 1006.94 57.4967 1010.69 Q57.4967 1014.41 59.3254 1016.59 Q61.1773 1018.74 64.3254 1018.74 Q67.4735 1018.74 69.3022 1016.59 Q71.1541 1014.41 71.1541 1010.69 Q71.1541 1006.94 69.3022 1004.78 Q67.4735 1002.63 64.3254 1002.63 M73.6077 987.978 L73.6077 992.237 Q71.8485 991.404 70.0429 990.964 Q68.2606 990.524 66.5013 990.524 Q61.8717 990.524 59.418 993.649 Q56.9875 996.774 56.6402 1003.09 Q58.006 1001.08 60.0662 1000.01 Q62.1263 998.927 64.6032 998.927 Q69.8115 998.927 72.8207 1002.1 Q75.8531 1005.25 75.8531 1010.69 Q75.8531 1016.01 72.705 1019.23 Q69.5568 1022.45 64.3254 1022.45 Q58.33 1022.45 55.1588 1017.86 Q51.9875 1013.26 51.9875 1004.53 Q51.9875 996.334 55.8764 991.473 Q59.7652 986.589 66.3161 986.589 Q68.0754 986.589 69.8578 986.936 Q71.6633 987.283 73.6077 987.978 Z\" fill=\"#000000\" fill-rule=\"nonzero\" fill-opacity=\"1\" /><path clip-path=\"url(#clip500)\" d=\"M93.9086 990.292 Q90.2975 990.292 88.4688 993.857 Q86.6632 997.399 86.6632 1004.53 Q86.6632 1011.63 88.4688 1015.2 Q90.2975 1018.74 93.9086 1018.74 Q97.5428 1018.74 99.3483 1015.2 Q101.177 1011.63 101.177 1004.53 Q101.177 997.399 99.3483 993.857 Q97.5428 990.292 93.9086 990.292 M93.9086 986.589 Q99.7187 986.589 102.774 991.195 Q105.853 995.779 105.853 1004.53 Q105.853 1013.26 102.774 1017.86 Q99.7187 1022.45 93.9086 1022.45 Q88.0984 1022.45 85.0197 1017.86 Q81.9642 1013.26 81.9642 1004.53 Q81.9642 995.779 85.0197 991.195 Q88.0984 986.589 93.9086 986.589 Z\" fill=\"#000000\" fill-rule=\"nonzero\" fill-opacity=\"1\" /><path clip-path=\"url(#clip500)\" d=\"M63.7467 850.741 Q60.4134 850.741 58.4921 852.523 Q56.5939 854.306 56.5939 857.43 Q56.5939 860.555 58.4921 862.338 Q60.4134 864.12 63.7467 864.12 Q67.08 864.12 69.0013 862.338 Q70.9226 860.532 70.9226 857.43 Q70.9226 854.306 69.0013 852.523 Q67.1032 850.741 63.7467 850.741 M59.0708 848.75 Q56.0615 848.009 54.3717 845.949 Q52.7051 843.889 52.7051 840.926 Q52.7051 836.782 55.6449 834.375 Q58.6078 831.968 63.7467 831.968 Q68.9087 831.968 71.8485 834.375 Q74.7883 836.782 74.7883 840.926 Q74.7883 843.889 73.0985 845.949 Q71.4318 848.009 68.4457 848.75 Q71.8253 849.537 73.7003 851.829 Q75.5985 854.12 75.5985 857.43 Q75.5985 862.454 72.5198 865.139 Q69.4642 867.824 63.7467 867.824 Q58.0291 867.824 54.9504 865.139 Q51.8949 862.454 51.8949 857.43 Q51.8949 854.12 53.793 851.829 Q55.6912 849.537 59.0708 848.75 M57.3578 841.366 Q57.3578 844.051 59.0245 845.556 Q60.7143 847.06 63.7467 847.06 Q66.7559 847.06 68.4457 845.556 Q70.1587 844.051 70.1587 841.366 Q70.1587 838.681 68.4457 837.176 Q66.7559 835.671 63.7467 835.671 Q60.7143 835.671 59.0245 837.176 Q57.3578 838.681 57.3578 841.366 Z\" fill=\"#000000\" fill-rule=\"nonzero\" fill-opacity=\"1\" /><path clip-path=\"url(#clip500)\" d=\"M93.9086 835.671 Q90.2975 835.671 88.4688 839.236 Q86.6632 842.778 86.6632 849.907 Q86.6632 857.014 88.4688 860.579 Q90.2975 864.12 93.9086 864.12 Q97.5428 864.12 99.3483 860.579 Q101.177 857.014 101.177 849.907 Q101.177 842.778 99.3483 839.236 Q97.5428 835.671 93.9086 835.671 M93.9086 831.968 Q99.7187 831.968 102.774 836.574 Q105.853 841.157 105.853 849.907 Q105.853 858.634 102.774 863.241 Q99.7187 867.824 93.9086 867.824 Q88.0984 867.824 85.0197 863.241 Q81.9642 858.634 81.9642 849.907 Q81.9642 841.157 85.0197 836.574 Q88.0984 831.968 93.9086 831.968 Z\" fill=\"#000000\" fill-rule=\"nonzero\" fill-opacity=\"1\" /><path clip-path=\"url(#clip504)\" d=\"M197.454 1081.8 L197.454 1468.36 L422.379 1468.36 L422.379 1081.8 L197.454 1081.8 L197.454 1081.8  Z\" fill=\"#009af9\" fill-rule=\"evenodd\" fill-opacity=\"1\"/>\n",
       "<polyline clip-path=\"url(#clip504)\" style=\"stroke:#000000; stroke-linecap:round; stroke-linejoin:round; stroke-width:4; stroke-opacity:1; fill:none\" points=\"197.454,1081.8 197.454,1468.36 422.379,1468.36 422.379,1081.8 197.454,1081.8 \"/>\n",
       "<path clip-path=\"url(#clip504)\" d=\"M422.379 1383.32 L422.379 1468.36 L647.304 1468.36 L647.304 1383.32 L422.379 1383.32 L422.379 1383.32  Z\" fill=\"#009af9\" fill-rule=\"evenodd\" fill-opacity=\"1\"/>\n",
       "<polyline clip-path=\"url(#clip504)\" style=\"stroke:#000000; stroke-linecap:round; stroke-linejoin:round; stroke-width:4; stroke-opacity:1; fill:none\" points=\"422.379,1383.32 422.379,1468.36 647.304,1468.36 647.304,1383.32 422.379,1383.32 \"/>\n",
       "<path clip-path=\"url(#clip504)\" d=\"M647.304 865.335 L647.304 1468.36 L872.229 1468.36 L872.229 865.335 L647.304 865.335 L647.304 865.335  Z\" fill=\"#009af9\" fill-rule=\"evenodd\" fill-opacity=\"1\"/>\n",
       "<polyline clip-path=\"url(#clip504)\" style=\"stroke:#000000; stroke-linecap:round; stroke-linejoin:round; stroke-width:4; stroke-opacity:1; fill:none\" points=\"647.304,865.335 647.304,1468.36 872.229,1468.36 872.229,865.335 647.304,865.335 \"/>\n",
       "<path clip-path=\"url(#clip504)\" d=\"M872.229 1383.32 L872.229 1468.36 L1097.15 1468.36 L1097.15 1383.32 L872.229 1383.32 L872.229 1383.32  Z\" fill=\"#009af9\" fill-rule=\"evenodd\" fill-opacity=\"1\"/>\n",
       "<polyline clip-path=\"url(#clip504)\" style=\"stroke:#000000; stroke-linecap:round; stroke-linejoin:round; stroke-width:4; stroke-opacity:1; fill:none\" points=\"872.229,1383.32 872.229,1468.36 1097.15,1468.36 1097.15,1383.32 872.229,1383.32 \"/>\n",
       "<circle clip-path=\"url(#clip504)\" style=\"fill:#009af9; stroke:none; fill-opacity:0\" cx=\"309.917\" cy=\"1081.8\" r=\"2\"/>\n",
       "<circle clip-path=\"url(#clip504)\" style=\"fill:#009af9; stroke:none; fill-opacity:0\" cx=\"534.842\" cy=\"1383.32\" r=\"2\"/>\n",
       "<circle clip-path=\"url(#clip504)\" style=\"fill:#009af9; stroke:none; fill-opacity:0\" cx=\"759.767\" cy=\"865.335\" r=\"2\"/>\n",
       "<circle clip-path=\"url(#clip504)\" style=\"fill:#009af9; stroke:none; fill-opacity:0\" cx=\"984.692\" cy=\"1383.32\" r=\"2\"/>\n",
       "<path clip-path=\"url(#clip500)\" d=\"M746.257 972.231 L1119.06 972.231 L1119.06 868.551 L746.257 868.551  Z\" fill=\"#ffffff\" fill-rule=\"evenodd\" fill-opacity=\"1\"/>\n",
       "<polyline clip-path=\"url(#clip500)\" style=\"stroke:#000000; stroke-linecap:round; stroke-linejoin:round; stroke-width:4; stroke-opacity:1; fill:none\" points=\"746.257,972.231 1119.06,972.231 1119.06,868.551 746.257,868.551 746.257,972.231 \"/>\n",
       "<path clip-path=\"url(#clip500)\" d=\"M757.49 941.127 L824.883 941.127 L824.883 899.655 L757.49 899.655 L757.49 941.127  Z\" fill=\"#009af9\" fill-rule=\"evenodd\" fill-opacity=\"1\"/>\n",
       "<polyline clip-path=\"url(#clip500)\" style=\"stroke:#000000; stroke-linecap:round; stroke-linejoin:round; stroke-width:4; stroke-opacity:1; fill:none\" points=\"757.49,941.127 824.883,941.127 824.883,899.655 757.49,899.655 757.49,941.127 \"/>\n",
       "<path clip-path=\"url(#clip500)\" d=\"M840.791 906.953 L840.791 919.94 L846.671 919.94 Q849.935 919.94 851.717 918.25 Q853.5 916.56 853.5 913.435 Q853.5 910.333 851.717 908.643 Q849.935 906.953 846.671 906.953 L840.791 906.953 M836.115 903.111 L846.671 903.111 Q852.481 903.111 855.444 905.75 Q858.43 908.365 858.43 913.435 Q858.43 918.551 855.444 921.166 Q852.481 923.782 846.671 923.782 L840.791 923.782 L840.791 937.671 L836.115 937.671 L836.115 903.111 Z\" fill=\"#000000\" fill-rule=\"nonzero\" fill-opacity=\"1\" /><path clip-path=\"url(#clip500)\" d=\"M885.004 923.643 L885.004 925.727 L865.421 925.727 Q865.699 930.125 868.06 932.439 Q870.444 934.731 874.68 934.731 Q877.134 934.731 879.425 934.129 Q881.74 933.527 884.009 932.324 L884.009 936.351 Q881.717 937.324 879.31 937.833 Q876.902 938.342 874.425 938.342 Q868.222 938.342 864.587 934.731 Q860.976 931.12 860.976 924.963 Q860.976 918.597 864.402 914.87 Q867.851 911.12 873.685 911.12 Q878.916 911.12 881.948 914.5 Q885.004 917.856 885.004 923.643 M880.745 922.393 Q880.698 918.898 878.777 916.815 Q876.879 914.731 873.731 914.731 Q870.166 914.731 868.013 916.745 Q865.884 918.759 865.56 922.416 L880.745 922.393 Z\" fill=\"#000000\" fill-rule=\"nonzero\" fill-opacity=\"1\" /><path clip-path=\"url(#clip500)\" d=\"M896.208 904.384 L896.208 911.745 L904.981 911.745 L904.981 915.055 L896.208 915.055 L896.208 929.129 Q896.208 932.301 897.064 933.203 Q897.944 934.106 900.606 934.106 L904.981 934.106 L904.981 937.671 L900.606 937.671 Q895.675 937.671 893.8 935.842 Q891.925 933.99 891.925 929.129 L891.925 915.055 L888.8 915.055 L888.8 911.745 L891.925 911.745 L891.925 904.384 L896.208 904.384 Z\" fill=\"#000000\" fill-rule=\"nonzero\" fill-opacity=\"1\" /><path clip-path=\"url(#clip500)\" d=\"M922.365 924.639 Q917.203 924.639 915.212 925.819 Q913.221 927 913.221 929.847 Q913.221 932.115 914.703 933.458 Q916.208 934.777 918.777 934.777 Q922.319 934.777 924.448 932.277 Q926.601 929.754 926.601 925.588 L926.601 924.639 L922.365 924.639 M930.86 922.879 L930.86 937.671 L926.601 937.671 L926.601 933.736 Q925.143 936.097 922.967 937.231 Q920.791 938.342 917.643 938.342 Q913.661 938.342 911.3 936.12 Q908.962 933.875 908.962 930.125 Q908.962 925.75 911.879 923.527 Q914.819 921.305 920.629 921.305 L926.601 921.305 L926.601 920.889 Q926.601 917.949 924.657 916.352 Q922.735 914.731 919.24 914.731 Q917.018 914.731 914.911 915.264 Q912.805 915.796 910.86 916.861 L910.86 912.926 Q913.198 912.023 915.397 911.583 Q917.596 911.12 919.68 911.12 Q925.305 911.12 928.082 914.037 Q930.86 916.953 930.86 922.879 Z\" fill=\"#000000\" fill-rule=\"nonzero\" fill-opacity=\"1\" /><path clip-path=\"url(#clip500)\" d=\"M939.633 901.653 L943.893 901.653 L943.893 937.671 L939.633 937.671 L939.633 901.653 Z\" fill=\"#000000\" fill-rule=\"nonzero\" fill-opacity=\"1\" /><path clip-path=\"url(#clip500)\" d=\"M952.99 903.111 L957.666 903.111 L957.666 933.736 L974.494 933.736 L974.494 937.671 L952.99 937.671 L952.99 903.111 Z\" fill=\"#000000\" fill-rule=\"nonzero\" fill-opacity=\"1\" /><path clip-path=\"url(#clip500)\" d=\"M1000.56 923.643 L1000.56 925.727 L980.976 925.727 Q981.253 930.125 983.615 932.439 Q985.999 934.731 990.235 934.731 Q992.689 934.731 994.98 934.129 Q997.295 933.527 999.564 932.324 L999.564 936.351 Q997.272 937.324 994.865 937.833 Q992.457 938.342 989.98 938.342 Q983.777 938.342 980.142 934.731 Q976.531 931.12 976.531 924.963 Q976.531 918.597 979.957 914.87 Q983.406 911.12 989.24 911.12 Q994.471 911.12 997.503 914.5 Q1000.56 917.856 1000.56 923.643 M996.3 922.393 Q996.253 918.898 994.332 916.815 Q992.434 914.731 989.286 914.731 Q985.721 914.731 983.568 916.745 Q981.439 918.759 981.115 922.416 L996.3 922.393 Z\" fill=\"#000000\" fill-rule=\"nonzero\" fill-opacity=\"1\" /><path clip-path=\"url(#clip500)\" d=\"M1029.1 922.023 L1029.1 937.671 L1024.84 937.671 L1024.84 922.162 Q1024.84 918.481 1023.41 916.652 Q1021.97 914.824 1019.1 914.824 Q1015.65 914.824 1013.66 917.023 Q1011.67 919.222 1011.67 923.018 L1011.67 937.671 L1007.39 937.671 L1007.39 911.745 L1011.67 911.745 L1011.67 915.773 Q1013.2 913.435 1015.26 912.278 Q1017.34 911.12 1020.05 911.12 Q1024.52 911.12 1026.81 913.898 Q1029.1 916.652 1029.1 922.023 Z\" fill=\"#000000\" fill-rule=\"nonzero\" fill-opacity=\"1\" /><path clip-path=\"url(#clip500)\" d=\"M1054.66 924.407 Q1054.66 919.777 1052.73 917.231 Q1050.84 914.685 1047.39 914.685 Q1043.96 914.685 1042.04 917.231 Q1040.14 919.777 1040.14 924.407 Q1040.14 929.014 1042.04 931.56 Q1043.96 934.106 1047.39 934.106 Q1050.84 934.106 1052.73 931.56 Q1054.66 929.014 1054.66 924.407 M1058.92 934.453 Q1058.92 941.074 1055.98 944.291 Q1053.04 947.532 1046.97 947.532 Q1044.73 947.532 1042.73 947.185 Q1040.74 946.861 1038.87 946.166 L1038.87 942.023 Q1040.74 943.041 1042.57 943.527 Q1044.4 944.013 1046.3 944.013 Q1050.49 944.013 1052.57 941.814 Q1054.66 939.638 1054.66 935.217 L1054.66 933.111 Q1053.34 935.402 1051.28 936.537 Q1049.22 937.671 1046.35 937.671 Q1041.58 937.671 1038.66 934.037 Q1035.74 930.402 1035.74 924.407 Q1035.74 918.389 1038.66 914.754 Q1041.58 911.12 1046.35 911.12 Q1049.22 911.12 1051.28 912.254 Q1053.34 913.389 1054.66 915.68 L1054.66 911.745 L1058.92 911.745 L1058.92 934.453 Z\" fill=\"#000000\" fill-rule=\"nonzero\" fill-opacity=\"1\" /><path clip-path=\"url(#clip500)\" d=\"M1071.9 904.384 L1071.9 911.745 L1080.67 911.745 L1080.67 915.055 L1071.9 915.055 L1071.9 929.129 Q1071.9 932.301 1072.76 933.203 Q1073.64 934.106 1076.3 934.106 L1080.67 934.106 L1080.67 937.671 L1076.3 937.671 Q1071.37 937.671 1069.49 935.842 Q1067.62 933.99 1067.62 929.129 L1067.62 915.055 L1064.49 915.055 L1064.49 911.745 L1067.62 911.745 L1067.62 904.384 L1071.9 904.384 Z\" fill=\"#000000\" fill-rule=\"nonzero\" fill-opacity=\"1\" /><path clip-path=\"url(#clip500)\" d=\"M1107.83 922.023 L1107.83 937.671 L1103.57 937.671 L1103.57 922.162 Q1103.57 918.481 1102.13 916.652 Q1100.7 914.824 1097.83 914.824 Q1094.38 914.824 1092.39 917.023 Q1090.4 919.222 1090.4 923.018 L1090.4 937.671 L1086.11 937.671 L1086.11 901.653 L1090.4 901.653 L1090.4 915.773 Q1091.92 913.435 1093.98 912.278 Q1096.07 911.12 1098.78 911.12 Q1103.24 911.12 1105.54 913.898 Q1107.83 916.652 1107.83 922.023 Z\" fill=\"#000000\" fill-rule=\"nonzero\" fill-opacity=\"1\" /><path clip-path=\"url(#clip500)\" d=\"M1341.85 1486.45 L2352.76 1486.45 L2352.76 847.244 L1341.85 847.244  Z\" fill=\"#ffffff\" fill-rule=\"evenodd\" fill-opacity=\"1\"/>\n",
       "<defs>\n",
       "  <clipPath id=\"clip505\">\n",
       "    <rect x=\"1341\" y=\"847\" width=\"1012\" height=\"640\"/>\n",
       "  </clipPath>\n",
       "</defs>\n",
       "<polyline clip-path=\"url(#clip505)\" style=\"stroke:#000000; stroke-linecap:round; stroke-linejoin:round; stroke-width:2; stroke-opacity:0.1; fill:none\" points=\"1397.45,1486.45 1397.45,847.244 \"/>\n",
       "<polyline clip-path=\"url(#clip505)\" style=\"stroke:#000000; stroke-linecap:round; stroke-linejoin:round; stroke-width:2; stroke-opacity:0.1; fill:none\" points=\"1697.35,1486.45 1697.35,847.244 \"/>\n",
       "<polyline clip-path=\"url(#clip505)\" style=\"stroke:#000000; stroke-linecap:round; stroke-linejoin:round; stroke-width:2; stroke-opacity:0.1; fill:none\" points=\"1997.25,1486.45 1997.25,847.244 \"/>\n",
       "<polyline clip-path=\"url(#clip505)\" style=\"stroke:#000000; stroke-linecap:round; stroke-linejoin:round; stroke-width:2; stroke-opacity:0.1; fill:none\" points=\"2297.15,1486.45 2297.15,847.244 \"/>\n",
       "<polyline clip-path=\"url(#clip500)\" style=\"stroke:#000000; stroke-linecap:round; stroke-linejoin:round; stroke-width:4; stroke-opacity:1; fill:none\" points=\"1341.85,1486.45 2352.76,1486.45 \"/>\n",
       "<polyline clip-path=\"url(#clip500)\" style=\"stroke:#000000; stroke-linecap:round; stroke-linejoin:round; stroke-width:4; stroke-opacity:1; fill:none\" points=\"1397.45,1486.45 1397.45,1467.55 \"/>\n",
       "<polyline clip-path=\"url(#clip500)\" style=\"stroke:#000000; stroke-linecap:round; stroke-linejoin:round; stroke-width:4; stroke-opacity:1; fill:none\" points=\"1697.35,1486.45 1697.35,1467.55 \"/>\n",
       "<polyline clip-path=\"url(#clip500)\" style=\"stroke:#000000; stroke-linecap:round; stroke-linejoin:round; stroke-width:4; stroke-opacity:1; fill:none\" points=\"1997.25,1486.45 1997.25,1467.55 \"/>\n",
       "<polyline clip-path=\"url(#clip500)\" style=\"stroke:#000000; stroke-linecap:round; stroke-linejoin:round; stroke-width:4; stroke-opacity:1; fill:none\" points=\"2297.15,1486.45 2297.15,1467.55 \"/>\n",
       "<path clip-path=\"url(#clip500)\" d=\"M1397.45 1517.37 Q1393.84 1517.37 1392.01 1520.93 Q1390.21 1524.47 1390.21 1531.6 Q1390.21 1538.71 1392.01 1542.27 Q1393.84 1545.82 1397.45 1545.82 Q1401.09 1545.82 1402.89 1542.27 Q1404.72 1538.71 1404.72 1531.6 Q1404.72 1524.47 1402.89 1520.93 Q1401.09 1517.37 1397.45 1517.37 M1397.45 1513.66 Q1403.26 1513.66 1406.32 1518.27 Q1409.4 1522.85 1409.4 1531.6 Q1409.4 1540.33 1406.32 1544.94 Q1403.26 1549.52 1397.45 1549.52 Q1391.64 1549.52 1388.57 1544.94 Q1385.51 1540.33 1385.51 1531.6 Q1385.51 1522.85 1388.57 1518.27 Q1391.64 1513.66 1397.45 1513.66 Z\" fill=\"#000000\" fill-rule=\"nonzero\" fill-opacity=\"1\" /><path clip-path=\"url(#clip500)\" d=\"M1687.74 1544.91 L1695.38 1544.91 L1695.38 1518.55 L1687.07 1520.21 L1687.07 1515.95 L1695.33 1514.29 L1700 1514.29 L1700 1544.91 L1707.64 1544.91 L1707.64 1548.85 L1687.74 1548.85 L1687.74 1544.91 Z\" fill=\"#000000\" fill-rule=\"nonzero\" fill-opacity=\"1\" /><path clip-path=\"url(#clip500)\" d=\"M1991.91 1544.91 L2008.23 1544.91 L2008.23 1548.85 L1986.28 1548.85 L1986.28 1544.91 Q1988.94 1542.16 1993.53 1537.53 Q1998.13 1532.88 1999.31 1531.53 Q2001.56 1529.01 2002.44 1527.27 Q2003.34 1525.51 2003.34 1523.82 Q2003.34 1521.07 2001.4 1519.33 Q1999.48 1517.6 1996.37 1517.6 Q1994.18 1517.6 1991.72 1518.36 Q1989.29 1519.13 1986.51 1520.68 L1986.51 1515.95 Q1989.34 1514.82 1991.79 1514.24 Q1994.25 1513.66 1996.28 1513.66 Q2001.65 1513.66 2004.85 1516.35 Q2008.04 1519.03 2008.04 1523.52 Q2008.04 1525.65 2007.23 1527.57 Q2006.44 1529.47 2004.34 1532.07 Q2003.76 1532.74 2000.66 1535.95 Q1997.56 1539.15 1991.91 1544.91 Z\" fill=\"#000000\" fill-rule=\"nonzero\" fill-opacity=\"1\" /><path clip-path=\"url(#clip500)\" d=\"M2301.4 1530.21 Q2304.76 1530.93 2306.63 1533.2 Q2308.53 1535.47 2308.53 1538.8 Q2308.53 1543.92 2305.01 1546.72 Q2301.49 1549.52 2295.01 1549.52 Q2292.84 1549.52 2290.52 1549.08 Q2288.23 1548.66 2285.78 1547.81 L2285.78 1543.29 Q2287.72 1544.43 2290.04 1545.01 Q2292.35 1545.58 2294.87 1545.58 Q2299.27 1545.58 2301.56 1543.85 Q2303.88 1542.11 2303.88 1538.8 Q2303.88 1535.75 2301.73 1534.03 Q2299.6 1532.3 2295.78 1532.3 L2291.75 1532.3 L2291.75 1528.45 L2295.96 1528.45 Q2299.41 1528.45 2301.24 1527.09 Q2303.07 1525.7 2303.07 1523.11 Q2303.07 1520.45 2301.17 1519.03 Q2299.3 1517.6 2295.78 1517.6 Q2293.86 1517.6 2291.66 1518.01 Q2289.46 1518.43 2286.82 1519.31 L2286.82 1515.14 Q2289.48 1514.4 2291.8 1514.03 Q2294.13 1513.66 2296.19 1513.66 Q2301.52 1513.66 2304.62 1516.09 Q2307.72 1518.5 2307.72 1522.62 Q2307.72 1525.49 2306.08 1527.48 Q2304.43 1529.45 2301.4 1530.21 Z\" fill=\"#000000\" fill-rule=\"nonzero\" fill-opacity=\"1\" /><polyline clip-path=\"url(#clip505)\" style=\"stroke:#000000; stroke-linecap:round; stroke-linejoin:round; stroke-width:2; stroke-opacity:0.1; fill:none\" points=\"1341.85,1468.36 2352.76,1468.36 \"/>\n",
       "<polyline clip-path=\"url(#clip505)\" style=\"stroke:#000000; stroke-linecap:round; stroke-linejoin:round; stroke-width:2; stroke-opacity:0.1; fill:none\" points=\"1341.85,1342.73 2352.76,1342.73 \"/>\n",
       "<polyline clip-path=\"url(#clip505)\" style=\"stroke:#000000; stroke-linecap:round; stroke-linejoin:round; stroke-width:2; stroke-opacity:0.1; fill:none\" points=\"1341.85,1217.1 2352.76,1217.1 \"/>\n",
       "<polyline clip-path=\"url(#clip505)\" style=\"stroke:#000000; stroke-linecap:round; stroke-linejoin:round; stroke-width:2; stroke-opacity:0.1; fill:none\" points=\"1341.85,1091.47 2352.76,1091.47 \"/>\n",
       "<polyline clip-path=\"url(#clip505)\" style=\"stroke:#000000; stroke-linecap:round; stroke-linejoin:round; stroke-width:2; stroke-opacity:0.1; fill:none\" points=\"1341.85,965.839 2352.76,965.839 \"/>\n",
       "<polyline clip-path=\"url(#clip500)\" style=\"stroke:#000000; stroke-linecap:round; stroke-linejoin:round; stroke-width:4; stroke-opacity:1; fill:none\" points=\"1341.85,1486.45 1341.85,847.244 \"/>\n",
       "<polyline clip-path=\"url(#clip500)\" style=\"stroke:#000000; stroke-linecap:round; stroke-linejoin:round; stroke-width:4; stroke-opacity:1; fill:none\" points=\"1341.85,1468.36 1360.75,1468.36 \"/>\n",
       "<polyline clip-path=\"url(#clip500)\" style=\"stroke:#000000; stroke-linecap:round; stroke-linejoin:round; stroke-width:4; stroke-opacity:1; fill:none\" points=\"1341.85,1342.73 1360.75,1342.73 \"/>\n",
       "<polyline clip-path=\"url(#clip500)\" style=\"stroke:#000000; stroke-linecap:round; stroke-linejoin:round; stroke-width:4; stroke-opacity:1; fill:none\" points=\"1341.85,1217.1 1360.75,1217.1 \"/>\n",
       "<polyline clip-path=\"url(#clip500)\" style=\"stroke:#000000; stroke-linecap:round; stroke-linejoin:round; stroke-width:4; stroke-opacity:1; fill:none\" points=\"1341.85,1091.47 1360.75,1091.47 \"/>\n",
       "<polyline clip-path=\"url(#clip500)\" style=\"stroke:#000000; stroke-linecap:round; stroke-linejoin:round; stroke-width:4; stroke-opacity:1; fill:none\" points=\"1341.85,965.839 1360.75,965.839 \"/>\n",
       "<path clip-path=\"url(#clip500)\" d=\"M1293.91 1454.16 Q1290.3 1454.16 1288.47 1457.72 Q1286.66 1461.26 1286.66 1468.39 Q1286.66 1475.5 1288.47 1479.06 Q1290.3 1482.6 1293.91 1482.6 Q1297.54 1482.6 1299.35 1479.06 Q1301.18 1475.5 1301.18 1468.39 Q1301.18 1461.26 1299.35 1457.72 Q1297.54 1454.16 1293.91 1454.16 M1293.91 1450.45 Q1299.72 1450.45 1302.77 1455.06 Q1305.85 1459.64 1305.85 1468.39 Q1305.85 1477.12 1302.77 1481.73 Q1299.72 1486.31 1293.91 1486.31 Q1288.1 1486.31 1285.02 1481.73 Q1281.96 1477.12 1281.96 1468.39 Q1281.96 1459.64 1285.02 1455.06 Q1288.1 1450.45 1293.91 1450.45 Z\" fill=\"#000000\" fill-rule=\"nonzero\" fill-opacity=\"1\" /><path clip-path=\"url(#clip500)\" d=\"M1254.56 1356.07 L1262.2 1356.07 L1262.2 1329.71 L1253.89 1331.37 L1253.89 1327.11 L1262.15 1325.45 L1266.83 1325.45 L1266.83 1356.07 L1274.46 1356.07 L1274.46 1360.01 L1254.56 1360.01 L1254.56 1356.07 Z\" fill=\"#000000\" fill-rule=\"nonzero\" fill-opacity=\"1\" /><path clip-path=\"url(#clip500)\" d=\"M1293.91 1328.53 Q1290.3 1328.53 1288.47 1332.09 Q1286.66 1335.63 1286.66 1342.76 Q1286.66 1349.87 1288.47 1353.43 Q1290.3 1356.98 1293.91 1356.98 Q1297.54 1356.98 1299.35 1353.43 Q1301.18 1349.87 1301.18 1342.76 Q1301.18 1335.63 1299.35 1332.09 Q1297.54 1328.53 1293.91 1328.53 M1293.91 1324.82 Q1299.72 1324.82 1302.77 1329.43 Q1305.85 1334.01 1305.85 1342.76 Q1305.85 1351.49 1302.77 1356.1 Q1299.72 1360.68 1293.91 1360.68 Q1288.1 1360.68 1285.02 1356.1 Q1281.96 1351.49 1281.96 1342.76 Q1281.96 1334.01 1285.02 1329.43 Q1288.1 1324.82 1293.91 1324.82 Z\" fill=\"#000000\" fill-rule=\"nonzero\" fill-opacity=\"1\" /><path clip-path=\"url(#clip500)\" d=\"M1257.77 1230.44 L1274.09 1230.44 L1274.09 1234.38 L1252.15 1234.38 L1252.15 1230.44 Q1254.81 1227.69 1259.39 1223.06 Q1264 1218.41 1265.18 1217.06 Q1267.43 1214.54 1268.31 1212.8 Q1269.21 1211.04 1269.21 1209.35 Q1269.21 1206.6 1267.27 1204.86 Q1265.34 1203.13 1262.24 1203.13 Q1260.04 1203.13 1257.59 1203.89 Q1255.16 1204.66 1252.38 1206.21 L1252.38 1201.48 Q1255.21 1200.35 1257.66 1199.77 Q1260.11 1199.19 1262.15 1199.19 Q1267.52 1199.19 1270.71 1201.88 Q1273.91 1204.56 1273.91 1209.05 Q1273.91 1211.18 1273.1 1213.1 Q1272.31 1215 1270.2 1217.6 Q1269.63 1218.27 1266.52 1221.48 Q1263.42 1224.68 1257.77 1230.44 Z\" fill=\"#000000\" fill-rule=\"nonzero\" fill-opacity=\"1\" /><path clip-path=\"url(#clip500)\" d=\"M1293.91 1202.9 Q1290.3 1202.9 1288.47 1206.46 Q1286.66 1210 1286.66 1217.13 Q1286.66 1224.24 1288.47 1227.8 Q1290.3 1231.35 1293.91 1231.35 Q1297.54 1231.35 1299.35 1227.8 Q1301.18 1224.24 1301.18 1217.13 Q1301.18 1210 1299.35 1206.46 Q1297.54 1202.9 1293.91 1202.9 M1293.91 1199.19 Q1299.72 1199.19 1302.77 1203.8 Q1305.85 1208.38 1305.85 1217.13 Q1305.85 1225.86 1302.77 1230.47 Q1299.72 1235.05 1293.91 1235.05 Q1288.1 1235.05 1285.02 1230.47 Q1281.96 1225.86 1281.96 1217.13 Q1281.96 1208.38 1285.02 1203.8 Q1288.1 1199.19 1293.91 1199.19 Z\" fill=\"#000000\" fill-rule=\"nonzero\" fill-opacity=\"1\" /><path clip-path=\"url(#clip500)\" d=\"M1267.91 1090.11 Q1271.27 1090.83 1273.14 1093.1 Q1275.04 1095.37 1275.04 1098.7 Q1275.04 1103.82 1271.52 1106.62 Q1268.01 1109.42 1261.52 1109.42 Q1259.35 1109.42 1257.03 1108.98 Q1254.74 1108.56 1252.29 1107.71 L1252.29 1103.19 Q1254.23 1104.33 1256.55 1104.91 Q1258.86 1105.48 1261.39 1105.48 Q1265.78 1105.48 1268.08 1103.75 Q1270.39 1102.01 1270.39 1098.7 Q1270.39 1095.65 1268.24 1093.93 Q1266.11 1092.2 1262.29 1092.2 L1258.26 1092.2 L1258.26 1088.35 L1262.47 1088.35 Q1265.92 1088.35 1267.75 1086.99 Q1269.58 1085.6 1269.58 1083.01 Q1269.58 1080.35 1267.68 1078.93 Q1265.81 1077.5 1262.29 1077.5 Q1260.37 1077.5 1258.17 1077.92 Q1255.97 1078.33 1253.33 1079.21 L1253.33 1075.04 Q1255.99 1074.3 1258.31 1073.93 Q1260.64 1073.56 1262.71 1073.56 Q1268.03 1073.56 1271.13 1075.99 Q1274.23 1078.4 1274.23 1082.52 Q1274.23 1085.39 1272.59 1087.38 Q1270.95 1089.35 1267.91 1090.11 Z\" fill=\"#000000\" fill-rule=\"nonzero\" fill-opacity=\"1\" /><path clip-path=\"url(#clip500)\" d=\"M1293.91 1077.27 Q1290.3 1077.27 1288.47 1080.83 Q1286.66 1084.37 1286.66 1091.5 Q1286.66 1098.61 1288.47 1102.17 Q1290.3 1105.72 1293.91 1105.72 Q1297.54 1105.72 1299.35 1102.17 Q1301.18 1098.61 1301.18 1091.5 Q1301.18 1084.37 1299.35 1080.83 Q1297.54 1077.27 1293.91 1077.27 M1293.91 1073.56 Q1299.72 1073.56 1302.77 1078.17 Q1305.85 1082.75 1305.85 1091.5 Q1305.85 1100.23 1302.77 1104.84 Q1299.72 1109.42 1293.91 1109.42 Q1288.1 1109.42 1285.02 1104.84 Q1281.96 1100.23 1281.96 1091.5 Q1281.96 1082.75 1285.02 1078.17 Q1288.1 1073.56 1293.91 1073.56 Z\" fill=\"#000000\" fill-rule=\"nonzero\" fill-opacity=\"1\" /><path clip-path=\"url(#clip500)\" d=\"M1266.59 952.633 L1254.79 971.082 L1266.59 971.082 L1266.59 952.633 M1265.37 948.559 L1271.25 948.559 L1271.25 971.082 L1276.18 971.082 L1276.18 974.97 L1271.25 974.97 L1271.25 983.119 L1266.59 983.119 L1266.59 974.97 L1250.99 974.97 L1250.99 970.457 L1265.37 948.559 Z\" fill=\"#000000\" fill-rule=\"nonzero\" fill-opacity=\"1\" /><path clip-path=\"url(#clip500)\" d=\"M1293.91 951.637 Q1290.3 951.637 1288.47 955.202 Q1286.66 958.744 1286.66 965.873 Q1286.66 972.98 1288.47 976.544 Q1290.3 980.086 1293.91 980.086 Q1297.54 980.086 1299.35 976.544 Q1301.18 972.98 1301.18 965.873 Q1301.18 958.744 1299.35 955.202 Q1297.54 951.637 1293.91 951.637 M1293.91 947.934 Q1299.72 947.934 1302.77 952.54 Q1305.85 957.123 1305.85 965.873 Q1305.85 974.6 1302.77 979.206 Q1299.72 983.79 1293.91 983.79 Q1288.1 983.79 1285.02 979.206 Q1281.96 974.6 1281.96 965.873 Q1281.96 957.123 1285.02 952.54 Q1288.1 947.934 1293.91 947.934 Z\" fill=\"#000000\" fill-rule=\"nonzero\" fill-opacity=\"1\" /><path clip-path=\"url(#clip505)\" d=\"M1397.45 865.335 L1397.45 1468.36 L1547.4 1468.36 L1547.4 865.335 L1397.45 865.335 L1397.45 865.335  Z\" fill=\"#009af9\" fill-rule=\"evenodd\" fill-opacity=\"1\"/>\n",
       "<polyline clip-path=\"url(#clip505)\" style=\"stroke:#000000; stroke-linecap:round; stroke-linejoin:round; stroke-width:4; stroke-opacity:1; fill:none\" points=\"1397.45,865.335 1397.45,1468.36 1547.4,1468.36 1547.4,865.335 1397.45,865.335 \"/>\n",
       "<path clip-path=\"url(#clip505)\" d=\"M1547.4 1443.23 L1547.4 1468.36 L1697.35 1468.36 L1697.35 1443.23 L1547.4 1443.23 L1547.4 1443.23  Z\" fill=\"#009af9\" fill-rule=\"evenodd\" fill-opacity=\"1\"/>\n",
       "<polyline clip-path=\"url(#clip505)\" style=\"stroke:#000000; stroke-linecap:round; stroke-linejoin:round; stroke-width:4; stroke-opacity:1; fill:none\" points=\"1547.4,1443.23 1547.4,1468.36 1697.35,1468.36 1697.35,1443.23 1547.4,1443.23 \"/>\n",
       "<path clip-path=\"url(#clip505)\" d=\"M1697.35 1016.09 L1697.35 1468.36 L1847.3 1468.36 L1847.3 1016.09 L1697.35 1016.09 L1697.35 1016.09  Z\" fill=\"#009af9\" fill-rule=\"evenodd\" fill-opacity=\"1\"/>\n",
       "<polyline clip-path=\"url(#clip505)\" style=\"stroke:#000000; stroke-linecap:round; stroke-linejoin:round; stroke-width:4; stroke-opacity:1; fill:none\" points=\"1697.35,1016.09 1697.35,1468.36 1847.3,1468.36 1847.3,1016.09 1697.35,1016.09 \"/>\n",
       "<path clip-path=\"url(#clip505)\" d=\"M1847.3 1028.65 L1847.3 1468.36 L1997.25 1468.36 L1997.25 1028.65 L1847.3 1028.65 L1847.3 1028.65  Z\" fill=\"#009af9\" fill-rule=\"evenodd\" fill-opacity=\"1\"/>\n",
       "<polyline clip-path=\"url(#clip505)\" style=\"stroke:#000000; stroke-linecap:round; stroke-linejoin:round; stroke-width:4; stroke-opacity:1; fill:none\" points=\"1847.3,1028.65 1847.3,1468.36 1997.25,1468.36 1997.25,1028.65 1847.3,1028.65 \"/>\n",
       "<path clip-path=\"url(#clip505)\" d=\"M1997.25 1141.72 L1997.25 1468.36 L2147.2 1468.36 L2147.2 1141.72 L1997.25 1141.72 L1997.25 1141.72  Z\" fill=\"#009af9\" fill-rule=\"evenodd\" fill-opacity=\"1\"/>\n",
       "<polyline clip-path=\"url(#clip505)\" style=\"stroke:#000000; stroke-linecap:round; stroke-linejoin:round; stroke-width:4; stroke-opacity:1; fill:none\" points=\"1997.25,1141.72 1997.25,1468.36 2147.2,1468.36 2147.2,1141.72 1997.25,1141.72 \"/>\n",
       "<path clip-path=\"url(#clip505)\" d=\"M2147.2 1430.67 L2147.2 1468.36 L2297.15 1468.36 L2297.15 1430.67 L2147.2 1430.67 L2147.2 1430.67  Z\" fill=\"#009af9\" fill-rule=\"evenodd\" fill-opacity=\"1\"/>\n",
       "<polyline clip-path=\"url(#clip505)\" style=\"stroke:#000000; stroke-linecap:round; stroke-linejoin:round; stroke-width:4; stroke-opacity:1; fill:none\" points=\"2147.2,1430.67 2147.2,1468.36 2297.15,1468.36 2297.15,1430.67 2147.2,1430.67 \"/>\n",
       "<circle clip-path=\"url(#clip505)\" style=\"fill:#009af9; stroke:none; fill-opacity:0\" cx=\"1472.43\" cy=\"865.335\" r=\"2\"/>\n",
       "<circle clip-path=\"url(#clip505)\" style=\"fill:#009af9; stroke:none; fill-opacity:0\" cx=\"1622.38\" cy=\"1443.23\" r=\"2\"/>\n",
       "<circle clip-path=\"url(#clip505)\" style=\"fill:#009af9; stroke:none; fill-opacity:0\" cx=\"1772.33\" cy=\"1016.09\" r=\"2\"/>\n",
       "<circle clip-path=\"url(#clip505)\" style=\"fill:#009af9; stroke:none; fill-opacity:0\" cx=\"1922.28\" cy=\"1028.65\" r=\"2\"/>\n",
       "<circle clip-path=\"url(#clip505)\" style=\"fill:#009af9; stroke:none; fill-opacity:0\" cx=\"2072.23\" cy=\"1141.72\" r=\"2\"/>\n",
       "<circle clip-path=\"url(#clip505)\" style=\"fill:#009af9; stroke:none; fill-opacity:0\" cx=\"2222.18\" cy=\"1430.67\" r=\"2\"/>\n",
       "<path clip-path=\"url(#clip500)\" d=\"M1972.04 972.231 L2319.06 972.231 L2319.06 868.551 L1972.04 868.551  Z\" fill=\"#ffffff\" fill-rule=\"evenodd\" fill-opacity=\"1\"/>\n",
       "<polyline clip-path=\"url(#clip500)\" style=\"stroke:#000000; stroke-linecap:round; stroke-linejoin:round; stroke-width:4; stroke-opacity:1; fill:none\" points=\"1972.04,972.231 2319.06,972.231 2319.06,868.551 1972.04,868.551 1972.04,972.231 \"/>\n",
       "<path clip-path=\"url(#clip500)\" d=\"M1983.28 941.127 L2050.67 941.127 L2050.67 899.655 L1983.28 899.655 L1983.28 941.127  Z\" fill=\"#009af9\" fill-rule=\"evenodd\" fill-opacity=\"1\"/>\n",
       "<polyline clip-path=\"url(#clip500)\" style=\"stroke:#000000; stroke-linecap:round; stroke-linejoin:round; stroke-width:4; stroke-opacity:1; fill:none\" points=\"1983.28,941.127 2050.67,941.127 2050.67,899.655 1983.28,899.655 1983.28,941.127 \"/>\n",
       "<path clip-path=\"url(#clip500)\" d=\"M2066.58 906.953 L2066.58 919.94 L2072.46 919.94 Q2075.72 919.94 2077.5 918.25 Q2079.29 916.56 2079.29 913.435 Q2079.29 910.333 2077.5 908.643 Q2075.72 906.953 2072.46 906.953 L2066.58 906.953 M2061.9 903.111 L2072.46 903.111 Q2078.27 903.111 2081.23 905.75 Q2084.22 908.365 2084.22 913.435 Q2084.22 918.551 2081.23 921.166 Q2078.27 923.782 2072.46 923.782 L2066.58 923.782 L2066.58 937.671 L2061.9 937.671 L2061.9 903.111 Z\" fill=\"#000000\" fill-rule=\"nonzero\" fill-opacity=\"1\" /><path clip-path=\"url(#clip500)\" d=\"M2110.79 923.643 L2110.79 925.727 L2091.21 925.727 Q2091.49 930.125 2093.85 932.439 Q2096.23 934.731 2100.47 934.731 Q2102.92 934.731 2105.21 934.129 Q2107.53 933.527 2109.8 932.324 L2109.8 936.351 Q2107.5 937.324 2105.1 937.833 Q2102.69 938.342 2100.21 938.342 Q2094.01 938.342 2090.37 934.731 Q2086.76 931.12 2086.76 924.963 Q2086.76 918.597 2090.19 914.87 Q2093.64 911.12 2099.47 911.12 Q2104.7 911.12 2107.74 914.5 Q2110.79 917.856 2110.79 923.643 M2106.53 922.393 Q2106.49 918.898 2104.56 916.815 Q2102.67 914.731 2099.52 914.731 Q2095.95 914.731 2093.8 916.745 Q2091.67 918.759 2091.35 922.416 L2106.53 922.393 Z\" fill=\"#000000\" fill-rule=\"nonzero\" fill-opacity=\"1\" /><path clip-path=\"url(#clip500)\" d=\"M2121.99 904.384 L2121.99 911.745 L2130.77 911.745 L2130.77 915.055 L2121.99 915.055 L2121.99 929.129 Q2121.99 932.301 2122.85 933.203 Q2123.73 934.106 2126.39 934.106 L2130.77 934.106 L2130.77 937.671 L2126.39 937.671 Q2121.46 937.671 2119.59 935.842 Q2117.71 933.99 2117.71 929.129 L2117.71 915.055 L2114.59 915.055 L2114.59 911.745 L2117.71 911.745 L2117.71 904.384 L2121.99 904.384 Z\" fill=\"#000000\" fill-rule=\"nonzero\" fill-opacity=\"1\" /><path clip-path=\"url(#clip500)\" d=\"M2148.15 924.639 Q2142.99 924.639 2141 925.819 Q2139.01 927 2139.01 929.847 Q2139.01 932.115 2140.49 933.458 Q2141.99 934.777 2144.56 934.777 Q2148.11 934.777 2150.24 932.277 Q2152.39 929.754 2152.39 925.588 L2152.39 924.639 L2148.15 924.639 M2156.65 922.879 L2156.65 937.671 L2152.39 937.671 L2152.39 933.736 Q2150.93 936.097 2148.75 937.231 Q2146.58 938.342 2143.43 938.342 Q2139.45 938.342 2137.09 936.12 Q2134.75 933.875 2134.75 930.125 Q2134.75 925.75 2137.67 923.527 Q2140.61 921.305 2146.42 921.305 L2152.39 921.305 L2152.39 920.889 Q2152.39 917.949 2150.44 916.352 Q2148.52 914.731 2145.03 914.731 Q2142.8 914.731 2140.7 915.264 Q2138.59 915.796 2136.65 916.861 L2136.65 912.926 Q2138.99 912.023 2141.18 911.583 Q2143.38 911.12 2145.47 911.12 Q2151.09 911.12 2153.87 914.037 Q2156.65 916.953 2156.65 922.879 Z\" fill=\"#000000\" fill-rule=\"nonzero\" fill-opacity=\"1\" /><path clip-path=\"url(#clip500)\" d=\"M2165.42 901.653 L2169.68 901.653 L2169.68 937.671 L2165.42 937.671 L2165.42 901.653 Z\" fill=\"#000000\" fill-rule=\"nonzero\" fill-opacity=\"1\" /><path clip-path=\"url(#clip500)\" d=\"M2175.7 903.111 L2180.42 903.111 L2187.69 932.324 L2194.93 903.111 L2200.19 903.111 L2207.46 932.324 L2214.7 903.111 L2219.45 903.111 L2210.77 937.671 L2204.89 937.671 L2197.6 907.671 L2190.23 937.671 L2184.36 937.671 L2175.7 903.111 Z\" fill=\"#000000\" fill-rule=\"nonzero\" fill-opacity=\"1\" /><path clip-path=\"url(#clip500)\" d=\"M2224.42 911.745 L2228.68 911.745 L2228.68 937.671 L2224.42 937.671 L2224.42 911.745 M2224.42 901.653 L2228.68 901.653 L2228.68 907.046 L2224.42 907.046 L2224.42 901.653 Z\" fill=\"#000000\" fill-rule=\"nonzero\" fill-opacity=\"1\" /><path clip-path=\"url(#clip500)\" d=\"M2254.66 915.68 L2254.66 901.653 L2258.92 901.653 L2258.92 937.671 L2254.66 937.671 L2254.66 933.782 Q2253.31 936.097 2251.25 937.231 Q2249.22 938.342 2246.35 938.342 Q2241.65 938.342 2238.68 934.592 Q2235.74 930.842 2235.74 924.731 Q2235.74 918.62 2238.68 914.87 Q2241.65 911.12 2246.35 911.12 Q2249.22 911.12 2251.25 912.254 Q2253.31 913.365 2254.66 915.68 M2240.14 924.731 Q2240.14 929.43 2242.06 932.115 Q2244.01 934.777 2247.39 934.777 Q2250.77 934.777 2252.71 932.115 Q2254.66 929.43 2254.66 924.731 Q2254.66 920.032 2252.71 917.37 Q2250.77 914.685 2247.39 914.685 Q2244.01 914.685 2242.06 917.37 Q2240.14 920.032 2240.14 924.731 Z\" fill=\"#000000\" fill-rule=\"nonzero\" fill-opacity=\"1\" /><path clip-path=\"url(#clip500)\" d=\"M2271.9 904.384 L2271.9 911.745 L2280.67 911.745 L2280.67 915.055 L2271.9 915.055 L2271.9 929.129 Q2271.9 932.301 2272.76 933.203 Q2273.64 934.106 2276.3 934.106 L2280.67 934.106 L2280.67 937.671 L2276.3 937.671 Q2271.37 937.671 2269.49 935.842 Q2267.62 933.99 2267.62 929.129 L2267.62 915.055 L2264.49 915.055 L2264.49 911.745 L2267.62 911.745 L2267.62 904.384 L2271.9 904.384 Z\" fill=\"#000000\" fill-rule=\"nonzero\" fill-opacity=\"1\" /><path clip-path=\"url(#clip500)\" d=\"M2307.83 922.023 L2307.83 937.671 L2303.57 937.671 L2303.57 922.162 Q2303.57 918.481 2302.13 916.652 Q2300.7 914.824 2297.83 914.824 Q2294.38 914.824 2292.39 917.023 Q2290.4 919.222 2290.4 923.018 L2290.4 937.671 L2286.11 937.671 L2286.11 901.653 L2290.4 901.653 L2290.4 915.773 Q2291.92 913.435 2293.98 912.278 Q2296.07 911.12 2298.78 911.12 Q2303.24 911.12 2305.54 913.898 Q2307.83 916.652 2307.83 922.023 Z\" fill=\"#000000\" fill-rule=\"nonzero\" fill-opacity=\"1\" /></svg>\n"
      ]
     },
     "execution_count": 4,
     "metadata": {},
     "output_type": "execute_result"
    }
   ],
   "source": [
    "p1 = histogram(data_m[:,1],label = \"SepalLength\")\n",
    "p2 = histogram(data_m[:,2],label = \"SepalWidth\")\n",
    "p3 = histogram(data_m[:,3], label = \"PetalLength\")\n",
    "p4 = histogram(data_m[:,4], label = \"PetalWidth\")\n",
    "\n",
    "plot(p1,p2,p3,p4)\n"
   ]
  },
  {
   "cell_type": "markdown",
   "id": "00f459a2",
   "metadata": {},
   "source": [
    "## E5: \n",
    "\n",
    "What is the range of values for the four numerical variables?"
   ]
  },
  {
   "cell_type": "code",
   "execution_count": 66,
   "id": "ada18946",
   "metadata": {},
   "outputs": [
    {
     "data": {
      "text/plain": [
       "1×4 Matrix{Float64}:\n",
       " 4.3  2.0  1.0  0.1"
      ]
     },
     "metadata": {},
     "output_type": "display_data"
    }
   ],
   "source": [
    "minimum(data_m,dims = 1)"
   ]
  },
  {
   "cell_type": "code",
   "execution_count": 67,
   "id": "0df092e4",
   "metadata": {},
   "outputs": [
    {
     "data": {
      "text/plain": [
       "1×4 Matrix{Float64}:\n",
       " 7.9  4.4  6.9  2.5"
      ]
     },
     "metadata": {},
     "output_type": "display_data"
    }
   ],
   "source": [
    "maximum(data_m,dims = 1)"
   ]
  },
  {
   "cell_type": "markdown",
   "id": "b278f418",
   "metadata": {},
   "source": [
    "## E6: \n",
    "\n",
    "Write a function to calculate the mean, median, minimum, maximum, and standard deviation for a matrix."
   ]
  },
  {
   "cell_type": "code",
   "execution_count": 6,
   "id": "ae2f140d",
   "metadata": {},
   "outputs": [
    {
     "data": {
      "text/plain": [
       "([4.3 2.0 1.0 0.1], [7.9 4.4 6.9 2.5], [5.843333333333334 3.0573333333333337 3.7580000000000005 1.1993333333333336], [5.8 3.0 4.35 1.3], [0.828066127977863 0.43586628493669827 1.7652982332594664 0.7622376689603466])"
      ]
     },
     "execution_count": 6,
     "metadata": {},
     "output_type": "execute_result"
    }
   ],
   "source": [
    "function var_range(mat)\n",
    "    min_ = minimum(mat,dims = 1)\n",
    "    mx = maximum(mat,dims = 1)\n",
    "    av = mean(mat, dims = 1)\n",
    "    med = median(mat, dims = 1)\n",
    "    sdev = std(mat, dims = 1)\n",
    "    return(min_,mx,av,med,sdev)\n",
    "end \n",
    "\n",
    "min_,mx,av,med,sdev = var_range(data_m)"
   ]
  },
  {
   "cell_type": "markdown",
   "id": "f7caed56",
   "metadata": {},
   "source": [
    "## E7: \n",
    "What about the categorical variable? What is in it? "
   ]
  },
  {
   "cell_type": "code",
   "execution_count": 69,
   "id": "e739fc71",
   "metadata": {},
   "outputs": [
    {
     "data": {
      "text/plain": [
       "3-element Vector{String}:\n",
       " \"setosa\"\n",
       " \"versicolor\"\n",
       " \"virginica\""
      ]
     },
     "metadata": {},
     "output_type": "display_data"
    }
   ],
   "source": [
    "unique(data[!,\"Species\"])"
   ]
  },
  {
   "cell_type": "markdown",
   "id": "b88dd6bc",
   "metadata": {},
   "source": [
    "## E8: \n",
    "\n",
    "Is there a way to get all this information, directly, from the dataframe? "
   ]
  },
  {
   "cell_type": "markdown",
   "id": "7ac6591a",
   "metadata": {},
   "source": [
    "> **Answer to E8**\n",
    "> \n",
    "> You can use the function *describe(-)* for that.\n",
    "> "
   ]
  },
  {
   "cell_type": "code",
   "execution_count": 70,
   "id": "310bead3",
   "metadata": {},
   "outputs": [
    {
     "data": {
      "text/html": [
       "<div><div style = \"float: left;\"><span>5×7 DataFrame</span></div><div style = \"clear: both;\"></div></div><div class = \"data-frame\" style = \"overflow-x: scroll;\"><table class = \"data-frame\" style = \"margin-bottom: 6px;\"><thead><tr class = \"header\"><th class = \"rowNumber\" style = \"font-weight: bold; text-align: right;\">Row</th><th style = \"text-align: left;\">variable</th><th style = \"text-align: left;\">mean</th><th style = \"text-align: left;\">min</th><th style = \"text-align: left;\">median</th><th style = \"text-align: left;\">max</th><th style = \"text-align: left;\">nmissing</th><th style = \"text-align: left;\">eltype</th></tr><tr class = \"subheader headerLastRow\"><th class = \"rowNumber\" style = \"font-weight: bold; text-align: right;\"></th><th title = \"Symbol\" style = \"text-align: left;\">Symbol</th><th title = \"Union{Nothing, Float64}\" style = \"text-align: left;\">Union…</th><th title = \"Any\" style = \"text-align: left;\">Any</th><th title = \"Union{Nothing, Float64}\" style = \"text-align: left;\">Union…</th><th title = \"Any\" style = \"text-align: left;\">Any</th><th title = \"Int64\" style = \"text-align: left;\">Int64</th><th title = \"DataType\" style = \"text-align: left;\">DataType</th></tr></thead><tbody><tr><td class = \"rowNumber\" style = \"font-weight: bold; text-align: right;\">1</td><td style = \"text-align: left;\">SepalLength</td><td style = \"text-align: left;\">5.84333</td><td style = \"text-align: left;\">4.3</td><td style = \"text-align: left;\">5.8</td><td style = \"text-align: left;\">7.9</td><td style = \"text-align: right;\">0</td><td style = \"text-align: left;\">Float64</td></tr><tr><td class = \"rowNumber\" style = \"font-weight: bold; text-align: right;\">2</td><td style = \"text-align: left;\">SepalWidth</td><td style = \"text-align: left;\">3.05733</td><td style = \"text-align: left;\">2.0</td><td style = \"text-align: left;\">3.0</td><td style = \"text-align: left;\">4.4</td><td style = \"text-align: right;\">0</td><td style = \"text-align: left;\">Float64</td></tr><tr><td class = \"rowNumber\" style = \"font-weight: bold; text-align: right;\">3</td><td style = \"text-align: left;\">PetalLength</td><td style = \"text-align: left;\">3.758</td><td style = \"text-align: left;\">1.0</td><td style = \"text-align: left;\">4.35</td><td style = \"text-align: left;\">6.9</td><td style = \"text-align: right;\">0</td><td style = \"text-align: left;\">Float64</td></tr><tr><td class = \"rowNumber\" style = \"font-weight: bold; text-align: right;\">4</td><td style = \"text-align: left;\">PetalWidth</td><td style = \"text-align: left;\">1.19933</td><td style = \"text-align: left;\">0.1</td><td style = \"text-align: left;\">1.3</td><td style = \"text-align: left;\">2.5</td><td style = \"text-align: right;\">0</td><td style = \"text-align: left;\">Float64</td></tr><tr><td class = \"rowNumber\" style = \"font-weight: bold; text-align: right;\">5</td><td style = \"text-align: left;\">Species</td><td style = \"font-style: italic; text-align: left;\"></td><td style = \"text-align: left;\">setosa</td><td style = \"font-style: italic; text-align: left;\"></td><td style = \"text-align: left;\">virginica</td><td style = \"text-align: right;\">0</td><td style = \"text-align: left;\">CategoricalValue{String, UInt8}</td></tr></tbody></table></div>"
      ],
      "text/latex": [
       "\\begin{tabular}{r|ccccccc}\n",
       "\t& variable & mean & min & median & max & nmissing & eltype\\\\\n",
       "\t\\hline\n",
       "\t& Symbol & Union… & Any & Union… & Any & Int64 & DataType\\\\\n",
       "\t\\hline\n",
       "\t1 & SepalLength & 5.84333 & 4.3 & 5.8 & 7.9 & 0 & Float64 \\\\\n",
       "\t2 & SepalWidth & 3.05733 & 2.0 & 3.0 & 4.4 & 0 & Float64 \\\\\n",
       "\t3 & PetalLength & 3.758 & 1.0 & 4.35 & 6.9 & 0 & Float64 \\\\\n",
       "\t4 & PetalWidth & 1.19933 & 0.1 & 1.3 & 2.5 & 0 & Float64 \\\\\n",
       "\t5 & Species &  & setosa &  & virginica & 0 & CategoricalValue\\{String, UInt8\\} \\\\\n",
       "\\end{tabular}\n"
      ],
      "text/plain": [
       "\u001b[1m5×7 DataFrame\u001b[0m\n",
       "\u001b[1m Row \u001b[0m│\u001b[1m variable    \u001b[0m\u001b[1m mean    \u001b[0m\u001b[1m min    \u001b[0m\u001b[1m median \u001b[0m\u001b[1m max       \u001b[0m\u001b[1m nmissing \u001b[0m\u001b[1m eltype      \u001b[0m ⋯\n",
       "     │\u001b[90m Symbol      \u001b[0m\u001b[90m Union…  \u001b[0m\u001b[90m Any    \u001b[0m\u001b[90m Union… \u001b[0m\u001b[90m Any       \u001b[0m\u001b[90m Int64    \u001b[0m\u001b[90m DataType    \u001b[0m ⋯\n",
       "─────┼──────────────────────────────────────────────────────────────────────────\n",
       "   1 │ SepalLength  5.84333  4.3     5.8     7.9               0  Float64      ⋯\n",
       "   2 │ SepalWidth   3.05733  2.0     3.0     4.4               0  Float64\n",
       "   3 │ PetalLength  3.758    1.0     4.35    6.9               0  Float64\n",
       "   4 │ PetalWidth   1.19933  0.1     1.3     2.5               0  Float64\n",
       "   5 │ Species     \u001b[90m         \u001b[0m setosa \u001b[90m        \u001b[0m virginica         0  CategoricalV ⋯\n",
       "\u001b[36m                                                                1 column omitted\u001b[0m"
      ]
     },
     "metadata": {},
     "output_type": "display_data"
    }
   ],
   "source": [
    "describe(data)"
   ]
  },
  {
   "cell_type": "markdown",
   "id": "d6bdb75a",
   "metadata": {},
   "source": [
    "## E9: \n",
    "\n",
    "1. What are \"missing\" values? \n",
    "2. What is \"NaN\"? \n"
   ]
  },
  {
   "cell_type": "markdown",
   "id": "36ac6e5d",
   "metadata": {},
   "source": [
    "> **Answer to E9** \n",
    ">\n",
    "> 1. The [\"missing\"](https://docs.julialang.org/en/v1/manual/missing/) represents the missing values in large datasets. You can also see them as padding to generate properly shaped matrices during the data import.\n",
    "> 2. The [\"NaN\"](https://docs.julialang.org/en/v1/base/numbers/#Base.NaN) stands for not a number. You can use NaN in different occasions from plotting to modeling. \n",
    ">\n",
    "> "
   ]
  },
  {
   "cell_type": "markdown",
   "id": "ce974a47",
   "metadata": {},
   "source": [
    "## E10:\n",
    "\n",
    "Generate a vector of 5 random data points. Create two copies of this variable (hint: use the function *deepcopy(-)*). Replace the third entry with missing and NaN in those matrices, respectively. "
   ]
  },
  {
   "cell_type": "code",
   "execution_count": 7,
   "id": "4faae3ba",
   "metadata": {},
   "outputs": [
    {
     "data": {
      "text/plain": [
       "5-element Vector{Float64}:\n",
       " 0.34812171823664273\n",
       " 0.4421289648892712\n",
       " 0.24935811040942002\n",
       " 0.19948356578566662\n",
       " 0.20560260557828003"
      ]
     },
     "execution_count": 7,
     "metadata": {},
     "output_type": "execute_result"
    }
   ],
   "source": [
    "tv = rand(5)"
   ]
  },
  {
   "cell_type": "code",
   "execution_count": 8,
   "id": "6cba045e",
   "metadata": {},
   "outputs": [
    {
     "data": {
      "text/plain": [
       "5-element Vector{Float64}:\n",
       " 0.34812171823664273\n",
       " 0.4421289648892712\n",
       " 0.24935811040942002\n",
       " 0.19948356578566662\n",
       " 0.20560260557828003"
      ]
     },
     "execution_count": 8,
     "metadata": {},
     "output_type": "execute_result"
    }
   ],
   "source": [
    "a = deepcopy(tv)\n",
    "b = deepcopy(tv)"
   ]
  },
  {
   "cell_type": "code",
   "execution_count": 9,
   "id": "ffbc3789",
   "metadata": {},
   "outputs": [
    {
     "data": {
      "text/plain": [
       "5-element Vector{Float64}:\n",
       "   0.34812171823664273\n",
       "   0.4421289648892712\n",
       " NaN\n",
       "   0.19948356578566662\n",
       "   0.20560260557828003"
      ]
     },
     "execution_count": 9,
     "metadata": {},
     "output_type": "execute_result"
    }
   ],
   "source": [
    "a[3] = NaN \n",
    "\n",
    "a "
   ]
  },
  {
   "cell_type": "code",
   "execution_count": 10,
   "id": "f5fbaa42",
   "metadata": {},
   "outputs": [
    {
     "ename": "LoadError",
     "evalue": "MethodError: \u001b[0mCannot `convert` an object of type \u001b[92mMissing\u001b[39m\u001b[0m to an object of type \u001b[91mFloat64\u001b[39m\n\u001b[0mClosest candidates are:\n\u001b[0m  convert(::Type{T}, \u001b[91m::VectorizationBase.AbstractSIMD\u001b[39m) where T<:Union{Bool, Float16, Float32, Float64, Int16, Int32, Int64, Int8, UInt16, UInt32, UInt64, UInt8, SIMDTypes.Bit} at /Users/saersamanipour/.julia/packages/VectorizationBase/0dXyA/src/base_defs.jl:201\n\u001b[0m  convert(::Type{S}, \u001b[91m::CategoricalArrays.CategoricalValue\u001b[39m) where S<:Union{AbstractChar, AbstractString, Number} at /Users/saersamanipour/.julia/packages/CategoricalArrays/0yLZN/src/value.jl:92\n\u001b[0m  convert(::Type{T}, \u001b[91m::Base.TwicePrecision\u001b[39m) where T<:Number at twiceprecision.jl:250\n\u001b[0m  ...",
     "output_type": "error",
     "traceback": [
      "MethodError: \u001b[0mCannot `convert` an object of type \u001b[92mMissing\u001b[39m\u001b[0m to an object of type \u001b[91mFloat64\u001b[39m\n\u001b[0mClosest candidates are:\n\u001b[0m  convert(::Type{T}, \u001b[91m::VectorizationBase.AbstractSIMD\u001b[39m) where T<:Union{Bool, Float16, Float32, Float64, Int16, Int32, Int64, Int8, UInt16, UInt32, UInt64, UInt8, SIMDTypes.Bit} at /Users/saersamanipour/.julia/packages/VectorizationBase/0dXyA/src/base_defs.jl:201\n\u001b[0m  convert(::Type{S}, \u001b[91m::CategoricalArrays.CategoricalValue\u001b[39m) where S<:Union{AbstractChar, AbstractString, Number} at /Users/saersamanipour/.julia/packages/CategoricalArrays/0yLZN/src/value.jl:92\n\u001b[0m  convert(::Type{T}, \u001b[91m::Base.TwicePrecision\u001b[39m) where T<:Number at twiceprecision.jl:250\n\u001b[0m  ...",
      "",
      "Stacktrace:",
      " [1] setindex!(A::Vector{Float64}, x::Missing, i1::Int64)",
      "   @ Base ./array.jl:843",
      " [2] top-level scope",
      "   @ In[10]:1"
     ]
    }
   ],
   "source": [
    "b[3] = missing \n",
    "\n",
    "b"
   ]
  },
  {
   "cell_type": "markdown",
   "id": "663a1c2e",
   "metadata": {},
   "source": [
    "## E11: \n",
    "\n",
    "How can you create a vector with a missing value in it? "
   ]
  },
  {
   "cell_type": "code",
   "execution_count": 14,
   "id": "eb670b5d",
   "metadata": {},
   "outputs": [
    {
     "data": {
      "text/plain": [
       "1×5 Matrix{Any}:\n",
       " 0.348122  0.442129  missing  0.199484  0.205603"
      ]
     },
     "execution_count": 14,
     "metadata": {},
     "output_type": "execute_result"
    }
   ],
   "source": [
    "b1 = Array{Any}(undef,1,5)\n",
    "b1[1,[1,2,4,5]] .= b[[1,2,4,5]]\n",
    "#b1[1,3]\n",
    "b1[1,3] = missing \n",
    "b1 "
   ]
  },
  {
   "cell_type": "markdown",
   "id": "063dd40e",
   "metadata": {},
   "source": [
    "## E12: \n",
    "\n",
    "Let's calculate the mean, standard deviation, and median of the two vectors.  "
   ]
  },
  {
   "cell_type": "code",
   "execution_count": 76,
   "id": "5badcfa6",
   "metadata": {},
   "outputs": [
    {
     "data": {
      "text/plain": [
       "NaN"
      ]
     },
     "metadata": {},
     "output_type": "display_data"
    }
   ],
   "source": [
    "mean(a)"
   ]
  },
  {
   "cell_type": "code",
   "execution_count": 77,
   "id": "31710e3c",
   "metadata": {},
   "outputs": [
    {
     "data": {
      "text/plain": [
       "missing"
      ]
     },
     "metadata": {},
     "output_type": "display_data"
    }
   ],
   "source": [
    "mean(b1)"
   ]
  },
  {
   "cell_type": "markdown",
   "id": "10eb2d99",
   "metadata": {},
   "source": [
    "> **Answer to E12** \n",
    ">\n",
    "> You will see similar outputs for other functions. \n",
    "> "
   ]
  },
  {
   "cell_type": "markdown",
   "id": "41b24856",
   "metadata": {},
   "source": [
    "## E13: \n",
    "\n",
    "How can we select the elements in the vector/matrix that are not missing or NaN? "
   ]
  },
  {
   "cell_type": "markdown",
   "id": "f224f555",
   "metadata": {},
   "source": [
    "> **Answer to E13**\n",
    ">\n",
    "> You can use the base functions *isnan(-)* and *ismissing(-)* for this task.\n",
    "> "
   ]
  },
  {
   "cell_type": "code",
   "execution_count": 78,
   "id": "a6ec66e6",
   "metadata": {},
   "outputs": [
    {
     "data": {
      "text/plain": [
       "4-element Vector{Float64}:\n",
       " 0.45133800135865143\n",
       " 0.7559565593479183\n",
       " 0.6033128323739259\n",
       " 0.40758449100619165"
      ]
     },
     "metadata": {},
     "output_type": "display_data"
    }
   ],
   "source": [
    "a[isnan.(a) .== 0]"
   ]
  },
  {
   "cell_type": "code",
   "execution_count": 79,
   "id": "b80f59f9",
   "metadata": {},
   "outputs": [
    {
     "data": {
      "text/plain": [
       "4-element Vector{Any}:\n",
       " 0.45133800135865143\n",
       " 0.7559565593479183\n",
       " 0.6033128323739259\n",
       " 0.40758449100619165"
      ]
     },
     "metadata": {},
     "output_type": "display_data"
    }
   ],
   "source": [
    "b1[ismissing.(b1) .== 0]"
   ]
  },
  {
   "cell_type": "markdown",
   "id": "bda95062",
   "metadata": {},
   "source": [
    "## E14: \n",
    "\n",
    "Write a function to generate an output similar to the function *describe(-)*. "
   ]
  },
  {
   "cell_type": "markdown",
   "id": "fcc232aa",
   "metadata": {},
   "source": [
    "Now that we know how to select the missing values, we need to replace them with an appropriate value. \n",
    "\n",
    "## E15: \n",
    "\n",
    "What are the most common options for data [imputation](https://en.wikipedia.org/wiki/Imputation_(statistics))?"
   ]
  },
  {
   "cell_type": "markdown",
   "id": "43140700",
   "metadata": {},
   "source": [
    "> **Answer to E15**\n",
    ">\n",
    "> There are several ways to perform data imputation. The most commonly used ones are removal, hot-deck, mean replacement, and regression."
   ]
  },
  {
   "cell_type": "markdown",
   "id": "ebf9cc48",
   "metadata": {},
   "source": [
    "**Hot-Deck** approach assumes that you can replace the missing value with the closest value to the missing value. To do so, you need to first find the location of the missing value. Then sort your data without the missing value. Finally the first value smaller than the missing value is used as the replacement. "
   ]
  },
  {
   "cell_type": "markdown",
   "id": "9f9dd171",
   "metadata": {},
   "source": [
    "## E16: \n",
    "\n",
    "How can we locate the index of missing value?"
   ]
  },
  {
   "cell_type": "code",
   "execution_count": 80,
   "id": "6db40fd4",
   "metadata": {},
   "outputs": [
    {
     "data": {
      "text/plain": [
       "1-element Vector{CartesianIndex{2}}:\n",
       " CartesianIndex(1, 3)"
      ]
     },
     "metadata": {},
     "output_type": "display_data"
    }
   ],
   "source": [
    "findall(isnan.(a) .== 1)"
   ]
  },
  {
   "cell_type": "markdown",
   "id": "00f7ddd9",
   "metadata": {},
   "source": [
    "## E17: \n",
    "\n",
    "How can we sort our data in ascending order?"
   ]
  },
  {
   "cell_type": "code",
   "execution_count": 81,
   "id": "f2b45092",
   "metadata": {},
   "outputs": [
    {
     "data": {
      "text/plain": [
       "4-element Vector{Float64}:\n",
       " 0.40758449100619165\n",
       " 0.45133800135865143\n",
       " 0.6033128323739259\n",
       " 0.7559565593479183"
      ]
     },
     "metadata": {},
     "output_type": "display_data"
    }
   ],
   "source": [
    "a_sort = sort(a[isnan.(a) .== 0])"
   ]
  },
  {
   "cell_type": "markdown",
   "id": "37fbcd27",
   "metadata": {},
   "source": [
    "## E18: \n",
    "\n",
    "What is the value that should be selected for the replacement and how the imputed a look?"
   ]
  },
  {
   "cell_type": "code",
   "execution_count": 82,
   "id": "4cc95eca",
   "metadata": {},
   "outputs": [
    {
     "data": {
      "text/plain": [
       "1×5 Matrix{Float64}:\n",
       " 0.451338  0.755957  0.451338  0.603313  0.407584"
      ]
     },
     "metadata": {},
     "output_type": "display_data"
    }
   ],
   "source": [
    "a_imp = deepcopy(a)\n",
    "a_imp[3] = a_sort[2]\n",
    "a_imp "
   ]
  },
  {
   "cell_type": "code",
   "execution_count": 83,
   "id": "e4564b3d",
   "metadata": {},
   "outputs": [
    {
     "data": {
      "text/plain": [
       "1×5 Matrix{Float64}:\n",
       " 0.451338  0.755957  0.906371  0.603313  0.407584"
      ]
     },
     "metadata": {},
     "output_type": "display_data"
    }
   ],
   "source": [
    "tv"
   ]
  },
  {
   "cell_type": "markdown",
   "id": "33b6e0b4",
   "metadata": {},
   "source": [
    "## E19: \n",
    "\n",
    "Why the imputed value is so different from the actual value? "
   ]
  },
  {
   "cell_type": "markdown",
   "id": "1a2d64b4",
   "metadata": {},
   "source": [
    "> **Answer to E19**\n",
    ">\n",
    "> The original variable was generated at random, which goes against the basic assumption of hot-deck imputation (i.e. similar values cluster together).\n",
    "> "
   ]
  },
  {
   "cell_type": "markdown",
   "id": "e5d1ff10",
   "metadata": {},
   "source": [
    "## E20: \n",
    "\n",
    "How about using the mean or median for this imputation?"
   ]
  },
  {
   "cell_type": "code",
   "execution_count": 84,
   "id": "a370c876",
   "metadata": {},
   "outputs": [
    {
     "data": {
      "text/plain": [
       "1×5 Matrix{Float64}:\n",
       " 0.451338  0.755957  0.554548  0.603313  0.407584"
      ]
     },
     "metadata": {},
     "output_type": "display_data"
    }
   ],
   "source": [
    "a_imp_av = deepcopy(a)\n",
    "a_imp_av[3] = mean(a[isnan.(a) .== 0])\n",
    "a_imp_av"
   ]
  },
  {
   "cell_type": "code",
   "execution_count": 85,
   "id": "a68d48aa",
   "metadata": {},
   "outputs": [
    {
     "data": {
      "text/plain": [
       "1×5 Matrix{Float64}:\n",
       " 0.451338  0.755957  0.527325  0.603313  0.407584"
      ]
     },
     "metadata": {},
     "output_type": "display_data"
    }
   ],
   "source": [
    "a_imp_med = deepcopy(a)\n",
    "a_imp_med[3] = median(a[isnan.(a) .== 0])\n",
    "a_imp_med"
   ]
  },
  {
   "cell_type": "markdown",
   "id": "b32feec1",
   "metadata": {},
   "source": [
    "## E21: \n",
    "\n",
    "Why the mean and median generate similar results?"
   ]
  },
  {
   "cell_type": "markdown",
   "id": "790146a5",
   "metadata": {},
   "source": [
    "> **Answer to E21**\n",
    ">\n",
    "> The random number generator uses an original normal distribution. Therefore, it is a much better estimator of the missing values. But this is not always the case. "
   ]
  },
  {
   "cell_type": "markdown",
   "id": "38c394e8",
   "metadata": {},
   "source": [
    "## E22: \n",
    "\n",
    "How do you assess whether two variables are representing unique information?"
   ]
  },
  {
   "cell_type": "markdown",
   "id": "a89e87a3",
   "metadata": {},
   "source": [
    "> **Answer to E22** \n",
    ">\n",
    "> You can use correlation coefficient as a metrics for unique information. Highly correlating variables do not provide additional information to your system or model.\n",
    "> "
   ]
  },
  {
   "cell_type": "markdown",
   "id": "55e45a53",
   "metadata": {},
   "source": [
    "## E23:\n",
    "\n",
    "How do you calculate the correlation coefficient for two sets of variables (e.g. Iris data set)?"
   ]
  },
  {
   "cell_type": "code",
   "execution_count": 15,
   "id": "13c38ed4",
   "metadata": {},
   "outputs": [
    {
     "data": {
      "text/plain": [
       "4×4 Matrix{Float64}:\n",
       "  1.0       -0.11757    0.871754   0.817941\n",
       " -0.11757    1.0       -0.42844   -0.366126\n",
       "  0.871754  -0.42844    1.0        0.962865\n",
       "  0.817941  -0.366126   0.962865   1.0"
      ]
     },
     "execution_count": 15,
     "metadata": {},
     "output_type": "execute_result"
    }
   ],
   "source": [
    "c = cor(data_m)"
   ]
  },
  {
   "cell_type": "code",
   "execution_count": 16,
   "id": "090dd75d",
   "metadata": {},
   "outputs": [
    {
     "data": {
      "image/svg+xml": [
       "<?xml version=\"1.0\" encoding=\"utf-8\"?>\n",
       "<svg xmlns=\"http://www.w3.org/2000/svg\" xmlns:xlink=\"http://www.w3.org/1999/xlink\" width=\"600\" height=\"400\" viewBox=\"0 0 2400 1600\">\n",
       "<defs>\n",
       "  <clipPath id=\"clip540\">\n",
       "    <rect x=\"0\" y=\"0\" width=\"2400\" height=\"1600\"/>\n",
       "  </clipPath>\n",
       "</defs>\n",
       "<path clip-path=\"url(#clip540)\" d=\"M0 1600 L2400 1600 L2400 0 L0 0  Z\" fill=\"#ffffff\" fill-rule=\"evenodd\" fill-opacity=\"1\"/>\n",
       "<defs>\n",
       "  <clipPath id=\"clip541\">\n",
       "    <rect x=\"480\" y=\"0\" width=\"1681\" height=\"1600\"/>\n",
       "  </clipPath>\n",
       "</defs>\n",
       "<path clip-path=\"url(#clip540)\" d=\"M175.445 1423.18 L2049.76 1423.18 L2049.76 47.2441 L175.445 47.2441  Z\" fill=\"#ffffff\" fill-rule=\"evenodd\" fill-opacity=\"1\"/>\n",
       "<defs>\n",
       "  <clipPath id=\"clip542\">\n",
       "    <rect x=\"175\" y=\"47\" width=\"1875\" height=\"1377\"/>\n",
       "  </clipPath>\n",
       "</defs>\n",
       "<polyline clip-path=\"url(#clip542)\" style=\"stroke:#000000; stroke-linecap:round; stroke-linejoin:round; stroke-width:2; stroke-opacity:0.1; fill:none\" points=\"409.735,1423.18 409.735,47.2441 \"/>\n",
       "<polyline clip-path=\"url(#clip542)\" style=\"stroke:#000000; stroke-linecap:round; stroke-linejoin:round; stroke-width:2; stroke-opacity:0.1; fill:none\" points=\"878.315,1423.18 878.315,47.2441 \"/>\n",
       "<polyline clip-path=\"url(#clip542)\" style=\"stroke:#000000; stroke-linecap:round; stroke-linejoin:round; stroke-width:2; stroke-opacity:0.1; fill:none\" points=\"1346.89,1423.18 1346.89,47.2441 \"/>\n",
       "<polyline clip-path=\"url(#clip542)\" style=\"stroke:#000000; stroke-linecap:round; stroke-linejoin:round; stroke-width:2; stroke-opacity:0.1; fill:none\" points=\"1815.47,1423.18 1815.47,47.2441 \"/>\n",
       "<polyline clip-path=\"url(#clip540)\" style=\"stroke:#000000; stroke-linecap:round; stroke-linejoin:round; stroke-width:4; stroke-opacity:1; fill:none\" points=\"175.445,1423.18 2049.76,1423.18 \"/>\n",
       "<polyline clip-path=\"url(#clip540)\" style=\"stroke:#000000; stroke-linecap:round; stroke-linejoin:round; stroke-width:4; stroke-opacity:1; fill:none\" points=\"409.735,1423.18 409.735,1404.28 \"/>\n",
       "<polyline clip-path=\"url(#clip540)\" style=\"stroke:#000000; stroke-linecap:round; stroke-linejoin:round; stroke-width:4; stroke-opacity:1; fill:none\" points=\"878.315,1423.18 878.315,1404.28 \"/>\n",
       "<polyline clip-path=\"url(#clip540)\" style=\"stroke:#000000; stroke-linecap:round; stroke-linejoin:round; stroke-width:4; stroke-opacity:1; fill:none\" points=\"1346.89,1423.18 1346.89,1404.28 \"/>\n",
       "<polyline clip-path=\"url(#clip540)\" style=\"stroke:#000000; stroke-linecap:round; stroke-linejoin:round; stroke-width:4; stroke-opacity:1; fill:none\" points=\"1815.47,1423.18 1815.47,1404.28 \"/>\n",
       "<path clip-path=\"url(#clip540)\" d=\"M400.117 1481.64 L407.756 1481.64 L407.756 1455.28 L399.446 1456.95 L399.446 1452.69 L407.71 1451.02 L412.385 1451.02 L412.385 1481.64 L420.024 1481.64 L420.024 1485.58 L400.117 1485.58 L400.117 1481.64 Z\" fill=\"#000000\" fill-rule=\"nonzero\" fill-opacity=\"1\" /><path clip-path=\"url(#clip540)\" d=\"M872.967 1481.64 L889.287 1481.64 L889.287 1485.58 L867.343 1485.58 L867.343 1481.64 Q870.005 1478.89 874.588 1474.26 Q879.194 1469.61 880.375 1468.27 Q882.62 1465.74 883.5 1464.01 Q884.403 1462.25 884.403 1460.56 Q884.403 1457.8 882.458 1456.07 Q880.537 1454.33 877.435 1454.33 Q875.236 1454.33 872.782 1455.09 Q870.352 1455.86 867.574 1457.41 L867.574 1452.69 Q870.398 1451.55 872.852 1450.97 Q875.305 1450.39 877.342 1450.39 Q882.713 1450.39 885.907 1453.08 Q889.102 1455.77 889.102 1460.26 Q889.102 1462.39 888.291 1464.31 Q887.504 1466.2 885.398 1468.8 Q884.819 1469.47 881.717 1472.69 Q878.616 1475.88 872.967 1481.64 Z\" fill=\"#000000\" fill-rule=\"nonzero\" fill-opacity=\"1\" /><path clip-path=\"url(#clip540)\" d=\"M1351.14 1466.95 Q1354.5 1467.66 1356.37 1469.93 Q1358.27 1472.2 1358.27 1475.53 Q1358.27 1480.65 1354.75 1483.45 Q1351.23 1486.25 1344.75 1486.25 Q1342.58 1486.25 1340.26 1485.81 Q1337.97 1485.39 1335.52 1484.54 L1335.52 1480.02 Q1337.46 1481.16 1339.78 1481.74 Q1342.09 1482.32 1344.61 1482.32 Q1349.01 1482.32 1351.3 1480.58 Q1353.62 1478.84 1353.62 1475.53 Q1353.62 1472.48 1351.47 1470.77 Q1349.34 1469.03 1345.52 1469.03 L1341.49 1469.03 L1341.49 1465.19 L1345.7 1465.19 Q1349.15 1465.19 1350.98 1463.82 Q1352.81 1462.43 1352.81 1459.84 Q1352.81 1457.18 1350.91 1455.77 Q1349.04 1454.33 1345.52 1454.33 Q1343.6 1454.33 1341.4 1454.75 Q1339.2 1455.16 1336.56 1456.04 L1336.56 1451.88 Q1339.22 1451.14 1341.54 1450.77 Q1343.87 1450.39 1345.93 1450.39 Q1351.26 1450.39 1354.36 1452.83 Q1357.46 1455.23 1357.46 1459.35 Q1357.46 1462.22 1355.82 1464.21 Q1354.17 1466.18 1351.14 1466.95 Z\" fill=\"#000000\" fill-rule=\"nonzero\" fill-opacity=\"1\" /><path clip-path=\"url(#clip540)\" d=\"M1818.48 1455.09 L1806.68 1473.54 L1818.48 1473.54 L1818.48 1455.09 M1817.26 1451.02 L1823.14 1451.02 L1823.14 1473.54 L1828.07 1473.54 L1828.07 1477.43 L1823.14 1477.43 L1823.14 1485.58 L1818.48 1485.58 L1818.48 1477.43 L1802.88 1477.43 L1802.88 1472.92 L1817.26 1451.02 Z\" fill=\"#000000\" fill-rule=\"nonzero\" fill-opacity=\"1\" /><path clip-path=\"url(#clip540)\" d=\"M844.529 1532.4 L850.735 1532.4 L861.875 1562.31 L873.015 1532.4 L879.222 1532.4 L865.854 1568.04 L857.897 1568.04 L844.529 1532.4 Z\" fill=\"#000000\" fill-rule=\"nonzero\" fill-opacity=\"1\" /><path clip-path=\"url(#clip540)\" d=\"M903.507 1550.12 Q896.409 1550.12 893.672 1551.75 Q890.935 1553.37 890.935 1557.29 Q890.935 1560.4 892.972 1562.25 Q895.041 1564.07 898.574 1564.07 Q903.443 1564.07 906.372 1560.63 Q909.332 1557.16 909.332 1551.43 L909.332 1550.12 L903.507 1550.12 M915.188 1547.71 L915.188 1568.04 L909.332 1568.04 L909.332 1562.63 Q907.326 1565.88 904.334 1567.44 Q901.343 1568.97 897.014 1568.97 Q891.539 1568.97 888.293 1565.91 Q885.078 1562.82 885.078 1557.67 Q885.078 1551.65 889.089 1548.6 Q893.131 1545.54 901.12 1545.54 L909.332 1545.54 L909.332 1544.97 Q909.332 1540.93 906.658 1538.73 Q904.016 1536.5 899.21 1536.5 Q896.155 1536.5 893.258 1537.23 Q890.362 1537.97 887.688 1539.43 L887.688 1534.02 Q890.903 1532.78 893.927 1532.17 Q896.95 1531.54 899.815 1531.54 Q907.549 1531.54 911.369 1535.55 Q915.188 1539.56 915.188 1547.71 Z\" fill=\"#000000\" fill-rule=\"nonzero\" fill-opacity=\"1\" /><path clip-path=\"url(#clip540)\" d=\"M947.908 1537.87 Q946.921 1537.3 945.743 1537.04 Q944.598 1536.76 943.197 1536.76 Q938.232 1536.76 935.558 1540 Q932.917 1543.22 932.917 1549.27 L932.917 1568.04 L927.028 1568.04 L927.028 1532.4 L932.917 1532.4 L932.917 1537.93 Q934.763 1534.69 937.723 1533.13 Q940.683 1531.54 944.916 1531.54 Q945.521 1531.54 946.253 1531.63 Q946.985 1531.7 947.876 1531.85 L947.908 1537.87 Z\" fill=\"#000000\" fill-rule=\"nonzero\" fill-opacity=\"1\" /><path clip-path=\"url(#clip540)\" d=\"M954.051 1532.4 L959.907 1532.4 L959.907 1568.04 L954.051 1568.04 L954.051 1532.4 M954.051 1518.52 L959.907 1518.52 L959.907 1525.93 L954.051 1525.93 L954.051 1518.52 Z\" fill=\"#000000\" fill-rule=\"nonzero\" fill-opacity=\"1\" /><path clip-path=\"url(#clip540)\" d=\"M988.362 1550.12 Q981.264 1550.12 978.527 1551.75 Q975.79 1553.37 975.79 1557.29 Q975.79 1560.4 977.827 1562.25 Q979.895 1564.07 983.428 1564.07 Q988.298 1564.07 991.226 1560.63 Q994.186 1557.16 994.186 1551.43 L994.186 1550.12 L988.362 1550.12 M1000.04 1547.71 L1000.04 1568.04 L994.186 1568.04 L994.186 1562.63 Q992.181 1565.88 989.189 1567.44 Q986.197 1568.97 981.869 1568.97 Q976.394 1568.97 973.148 1565.91 Q969.933 1562.82 969.933 1557.67 Q969.933 1551.65 973.943 1548.6 Q977.986 1545.54 985.975 1545.54 L994.186 1545.54 L994.186 1544.97 Q994.186 1540.93 991.513 1538.73 Q988.871 1536.5 984.065 1536.5 Q981.009 1536.5 978.113 1537.23 Q975.217 1537.97 972.543 1539.43 L972.543 1534.02 Q975.758 1532.78 978.781 1532.17 Q981.805 1531.54 984.67 1531.54 Q992.404 1531.54 996.223 1535.55 Q1000.04 1539.56 1000.04 1547.71 Z\" fill=\"#000000\" fill-rule=\"nonzero\" fill-opacity=\"1\" /><path clip-path=\"url(#clip540)\" d=\"M1037.7 1550.25 Q1037.7 1543.79 1035.02 1540.13 Q1032.38 1536.44 1027.73 1536.44 Q1023.09 1536.44 1020.41 1540.13 Q1017.77 1543.79 1017.77 1550.25 Q1017.77 1556.71 1020.41 1560.4 Q1023.09 1564.07 1027.73 1564.07 Q1032.38 1564.07 1035.02 1560.4 Q1037.7 1556.71 1037.7 1550.25 M1017.77 1537.81 Q1019.62 1534.62 1022.42 1533.1 Q1025.25 1531.54 1029.17 1531.54 Q1035.66 1531.54 1039.7 1536.69 Q1043.78 1541.85 1043.78 1550.25 Q1043.78 1558.65 1039.7 1563.81 Q1035.66 1568.97 1029.17 1568.97 Q1025.25 1568.97 1022.42 1567.44 Q1019.62 1565.88 1017.77 1562.7 L1017.77 1568.04 L1011.88 1568.04 L1011.88 1518.52 L1017.77 1518.52 L1017.77 1537.81 Z\" fill=\"#000000\" fill-rule=\"nonzero\" fill-opacity=\"1\" /><path clip-path=\"url(#clip540)\" d=\"M1053.48 1518.52 L1059.34 1518.52 L1059.34 1568.04 L1053.48 1568.04 L1053.48 1518.52 Z\" fill=\"#000000\" fill-rule=\"nonzero\" fill-opacity=\"1\" /><path clip-path=\"url(#clip540)\" d=\"M1102.09 1548.76 L1102.09 1551.62 L1075.16 1551.62 Q1075.54 1557.67 1078.79 1560.85 Q1082.07 1564 1087.89 1564 Q1091.26 1564 1094.41 1563.17 Q1097.6 1562.35 1100.72 1560.69 L1100.72 1566.23 Q1097.57 1567.57 1094.26 1568.27 Q1090.95 1568.97 1087.54 1568.97 Q1079.01 1568.97 1074.01 1564 Q1069.05 1559.04 1069.05 1550.57 Q1069.05 1541.82 1073.76 1536.69 Q1078.5 1531.54 1086.52 1531.54 Q1093.71 1531.54 1097.88 1536.18 Q1102.09 1540.8 1102.09 1548.76 M1096.23 1547.04 Q1096.17 1542.23 1093.52 1539.37 Q1090.91 1536.5 1086.58 1536.5 Q1081.68 1536.5 1078.72 1539.27 Q1075.79 1542.04 1075.35 1547.07 L1096.23 1547.04 Z\" fill=\"#000000\" fill-rule=\"nonzero\" fill-opacity=\"1\" /><path clip-path=\"url(#clip540)\" d=\"M1162.05 1546.53 L1162.05 1568.04 L1156.19 1568.04 L1156.19 1546.72 Q1156.19 1541.66 1154.22 1539.14 Q1152.25 1536.63 1148.3 1536.63 Q1143.56 1536.63 1140.82 1539.65 Q1138.08 1542.68 1138.08 1547.9 L1138.08 1568.04 L1132.19 1568.04 L1132.19 1532.4 L1138.08 1532.4 L1138.08 1537.93 Q1140.18 1534.72 1143.02 1533.13 Q1145.88 1531.54 1149.61 1531.54 Q1155.75 1531.54 1158.9 1535.36 Q1162.05 1539.14 1162.05 1546.53 Z\" fill=\"#000000\" fill-rule=\"nonzero\" fill-opacity=\"1\" /><path clip-path=\"url(#clip540)\" d=\"M1173.13 1553.98 L1173.13 1532.4 L1178.98 1532.4 L1178.98 1553.75 Q1178.98 1558.81 1180.96 1561.36 Q1182.93 1563.87 1186.88 1563.87 Q1191.62 1563.87 1194.36 1560.85 Q1197.13 1557.83 1197.13 1552.61 L1197.13 1532.4 L1202.98 1532.4 L1202.98 1568.04 L1197.13 1568.04 L1197.13 1562.57 Q1194.99 1565.82 1192.16 1567.41 Q1189.36 1568.97 1185.64 1568.97 Q1179.49 1568.97 1176.31 1565.15 Q1173.13 1561.33 1173.13 1553.98 M1187.86 1531.54 L1187.86 1531.54 Z\" fill=\"#000000\" fill-rule=\"nonzero\" fill-opacity=\"1\" /><path clip-path=\"url(#clip540)\" d=\"M1242.8 1539.24 Q1245 1535.29 1248.05 1533.41 Q1251.11 1531.54 1255.24 1531.54 Q1260.81 1531.54 1263.84 1535.45 Q1266.86 1539.33 1266.86 1546.53 L1266.86 1568.04 L1260.97 1568.04 L1260.97 1546.72 Q1260.97 1541.59 1259.16 1539.11 Q1257.34 1536.63 1253.62 1536.63 Q1249.07 1536.63 1246.43 1539.65 Q1243.79 1542.68 1243.79 1547.9 L1243.79 1568.04 L1237.9 1568.04 L1237.9 1546.72 Q1237.9 1541.56 1236.08 1539.11 Q1234.27 1536.63 1230.48 1536.63 Q1225.99 1536.63 1223.35 1539.68 Q1220.71 1542.71 1220.71 1547.9 L1220.71 1568.04 L1214.82 1568.04 L1214.82 1532.4 L1220.71 1532.4 L1220.71 1537.93 Q1222.72 1534.66 1225.52 1533.1 Q1228.32 1531.54 1232.17 1531.54 Q1236.05 1531.54 1238.76 1533.51 Q1241.49 1535.48 1242.8 1539.24 Z\" fill=\"#000000\" fill-rule=\"nonzero\" fill-opacity=\"1\" /><path clip-path=\"url(#clip540)\" d=\"M1304.13 1550.25 Q1304.13 1543.79 1301.46 1540.13 Q1298.82 1536.44 1294.17 1536.44 Q1289.52 1536.44 1286.85 1540.13 Q1284.21 1543.79 1284.21 1550.25 Q1284.21 1556.71 1286.85 1560.4 Q1289.52 1564.07 1294.17 1564.07 Q1298.82 1564.07 1301.46 1560.4 Q1304.13 1556.71 1304.13 1550.25 M1284.21 1537.81 Q1286.05 1534.62 1288.85 1533.1 Q1291.69 1531.54 1295.6 1531.54 Q1302.1 1531.54 1306.14 1536.69 Q1310.21 1541.85 1310.21 1550.25 Q1310.21 1558.65 1306.14 1563.81 Q1302.1 1568.97 1295.6 1568.97 Q1291.69 1568.97 1288.85 1567.44 Q1286.05 1565.88 1284.21 1562.7 L1284.21 1568.04 L1278.32 1568.04 L1278.32 1518.52 L1284.21 1518.52 L1284.21 1537.81 Z\" fill=\"#000000\" fill-rule=\"nonzero\" fill-opacity=\"1\" /><path clip-path=\"url(#clip540)\" d=\"M1350.41 1548.76 L1350.41 1551.62 L1323.48 1551.62 Q1323.87 1557.67 1327.11 1560.85 Q1330.39 1564 1336.22 1564 Q1339.59 1564 1342.74 1563.17 Q1345.92 1562.35 1349.04 1560.69 L1349.04 1566.23 Q1345.89 1567.57 1342.58 1568.27 Q1339.27 1568.97 1335.87 1568.97 Q1327.34 1568.97 1322.34 1564 Q1317.37 1559.04 1317.37 1550.57 Q1317.37 1541.82 1322.08 1536.69 Q1326.83 1531.54 1334.85 1531.54 Q1342.04 1531.54 1346.21 1536.18 Q1350.41 1540.8 1350.41 1548.76 M1344.55 1547.04 Q1344.49 1542.23 1341.85 1539.37 Q1339.24 1536.5 1334.91 1536.5 Q1330.01 1536.5 1327.05 1539.27 Q1324.12 1542.04 1323.68 1547.07 L1344.55 1547.04 Z\" fill=\"#000000\" fill-rule=\"nonzero\" fill-opacity=\"1\" /><path clip-path=\"url(#clip540)\" d=\"M1380.68 1537.87 Q1379.69 1537.3 1378.52 1537.04 Q1377.37 1536.76 1375.97 1536.76 Q1371 1536.76 1368.33 1540 Q1365.69 1543.22 1365.69 1549.27 L1365.69 1568.04 L1359.8 1568.04 L1359.8 1532.4 L1365.69 1532.4 L1365.69 1537.93 Q1367.54 1534.69 1370.5 1533.13 Q1373.46 1531.54 1377.69 1531.54 Q1378.29 1531.54 1379.03 1531.63 Q1379.76 1531.7 1380.65 1531.85 L1380.68 1537.87 Z\" fill=\"#000000\" fill-rule=\"nonzero\" fill-opacity=\"1\" /><polyline clip-path=\"url(#clip542)\" style=\"stroke:#000000; stroke-linecap:round; stroke-linejoin:round; stroke-width:2; stroke-opacity:0.1; fill:none\" points=\"175.445,1251.19 2049.76,1251.19 \"/>\n",
       "<polyline clip-path=\"url(#clip542)\" style=\"stroke:#000000; stroke-linecap:round; stroke-linejoin:round; stroke-width:2; stroke-opacity:0.1; fill:none\" points=\"175.445,907.204 2049.76,907.204 \"/>\n",
       "<polyline clip-path=\"url(#clip542)\" style=\"stroke:#000000; stroke-linecap:round; stroke-linejoin:round; stroke-width:2; stroke-opacity:0.1; fill:none\" points=\"175.445,563.22 2049.76,563.22 \"/>\n",
       "<polyline clip-path=\"url(#clip542)\" style=\"stroke:#000000; stroke-linecap:round; stroke-linejoin:round; stroke-width:2; stroke-opacity:0.1; fill:none\" points=\"175.445,219.236 2049.76,219.236 \"/>\n",
       "<polyline clip-path=\"url(#clip540)\" style=\"stroke:#000000; stroke-linecap:round; stroke-linejoin:round; stroke-width:4; stroke-opacity:1; fill:none\" points=\"175.445,1423.18 175.445,47.2441 \"/>\n",
       "<polyline clip-path=\"url(#clip540)\" style=\"stroke:#000000; stroke-linecap:round; stroke-linejoin:round; stroke-width:4; stroke-opacity:1; fill:none\" points=\"175.445,1251.19 192.198,1251.19 \"/>\n",
       "<polyline clip-path=\"url(#clip540)\" style=\"stroke:#000000; stroke-linecap:round; stroke-linejoin:round; stroke-width:4; stroke-opacity:1; fill:none\" points=\"175.445,907.204 192.198,907.204 \"/>\n",
       "<polyline clip-path=\"url(#clip540)\" style=\"stroke:#000000; stroke-linecap:round; stroke-linejoin:round; stroke-width:4; stroke-opacity:1; fill:none\" points=\"175.445,563.22 192.198,563.22 \"/>\n",
       "<polyline clip-path=\"url(#clip540)\" style=\"stroke:#000000; stroke-linecap:round; stroke-linejoin:round; stroke-width:4; stroke-opacity:1; fill:none\" points=\"175.445,219.236 192.198,219.236 \"/>\n",
       "<path clip-path=\"url(#clip540)\" d=\"M119.538 1264.53 L127.177 1264.53 L127.177 1238.17 L118.867 1239.83 L118.867 1235.57 L127.13 1233.91 L131.806 1233.91 L131.806 1264.53 L139.445 1264.53 L139.445 1268.47 L119.538 1268.47 L119.538 1264.53 Z\" fill=\"#000000\" fill-rule=\"nonzero\" fill-opacity=\"1\" /><path clip-path=\"url(#clip540)\" d=\"M123.126 920.549 L139.445 920.549 L139.445 924.484 L117.501 924.484 L117.501 920.549 Q120.163 917.794 124.746 913.165 Q129.353 908.512 130.533 907.169 Q132.779 904.646 133.658 902.91 Q134.561 901.151 134.561 899.461 Q134.561 896.706 132.617 894.97 Q130.695 893.234 127.593 893.234 Q125.394 893.234 122.941 893.998 Q120.51 894.762 117.732 896.313 L117.732 891.591 Q120.556 890.456 123.01 889.878 Q125.464 889.299 127.501 889.299 Q132.871 889.299 136.066 891.984 Q139.26 894.669 139.26 899.16 Q139.26 901.29 138.45 903.211 Q137.663 905.109 135.556 907.702 Q134.978 908.373 131.876 911.59 Q128.774 914.785 123.126 920.549 Z\" fill=\"#000000\" fill-rule=\"nonzero\" fill-opacity=\"1\" /><path clip-path=\"url(#clip540)\" d=\"M132.316 561.866 Q135.672 562.583 137.547 564.852 Q139.445 567.12 139.445 570.454 Q139.445 575.569 135.927 578.37 Q132.408 581.171 125.927 581.171 Q123.751 581.171 121.436 580.731 Q119.144 580.315 116.691 579.458 L116.691 574.944 Q118.635 576.079 120.95 576.657 Q123.265 577.236 125.788 577.236 Q130.186 577.236 132.478 575.5 Q134.792 573.764 134.792 570.454 Q134.792 567.398 132.64 565.685 Q130.51 563.949 126.691 563.949 L122.663 563.949 L122.663 560.107 L126.876 560.107 Q130.325 560.107 132.154 558.741 Q133.982 557.352 133.982 554.759 Q133.982 552.097 132.084 550.685 Q130.209 549.25 126.691 549.25 Q124.769 549.25 122.57 549.667 Q120.371 550.083 117.732 550.963 L117.732 546.796 Q120.394 546.056 122.709 545.685 Q125.047 545.315 127.107 545.315 Q132.431 545.315 135.533 547.746 Q138.635 550.153 138.635 554.273 Q138.635 557.144 136.992 559.134 Q135.348 561.102 132.316 561.866 Z\" fill=\"#000000\" fill-rule=\"nonzero\" fill-opacity=\"1\" /><path clip-path=\"url(#clip540)\" d=\"M129.862 206.03 L118.056 224.479 L129.862 224.479 L129.862 206.03 M128.635 201.956 L134.515 201.956 L134.515 224.479 L139.445 224.479 L139.445 228.368 L134.515 228.368 L134.515 236.516 L129.862 236.516 L129.862 228.368 L114.26 228.368 L114.26 223.854 L128.635 201.956 Z\" fill=\"#000000\" fill-rule=\"nonzero\" fill-opacity=\"1\" /><path clip-path=\"url(#clip540)\" d=\"M28.3562 1003.29 L28.3562 997.081 L58.275 985.941 L28.3562 974.801 L28.3562 968.595 L64.0042 981.963 L64.0042 989.92 L28.3562 1003.29 Z\" fill=\"#000000\" fill-rule=\"nonzero\" fill-opacity=\"1\" /><path clip-path=\"url(#clip540)\" d=\"M46.0847 944.31 Q46.0847 951.407 47.7079 954.145 Q49.3312 956.882 53.2461 956.882 Q56.3653 956.882 58.2114 954.845 Q60.0256 952.776 60.0256 949.243 Q60.0256 944.373 56.5881 941.445 Q53.1188 938.485 47.3897 938.485 L46.0847 938.485 L46.0847 944.31 M43.6657 932.628 L64.0042 932.628 L64.0042 938.485 L58.5933 938.485 Q61.8398 940.49 63.3994 943.482 Q64.9272 946.474 64.9272 950.803 Q64.9272 956.277 61.8716 959.524 Q58.7843 962.738 53.6281 962.738 Q47.6125 962.738 44.5569 958.728 Q41.5014 954.686 41.5014 946.697 L41.5014 938.485 L40.9285 938.485 Q36.8862 938.485 34.6901 941.158 Q32.4621 943.8 32.4621 948.606 Q32.4621 951.662 33.1941 954.558 Q33.9262 957.455 35.3903 960.128 L29.9795 960.128 Q28.7381 956.914 28.1334 953.89 Q27.4968 950.866 27.4968 948.002 Q27.4968 940.267 31.5072 936.448 Q35.5176 932.628 43.6657 932.628 Z\" fill=\"#000000\" fill-rule=\"nonzero\" fill-opacity=\"1\" /><path clip-path=\"url(#clip540)\" d=\"M33.8307 899.909 Q33.2578 900.895 33.0032 902.073 Q32.7167 903.219 32.7167 904.619 Q32.7167 909.585 35.9632 912.258 Q39.1779 914.9 45.2253 914.9 L64.0042 914.9 L64.0042 920.788 L28.3562 920.788 L28.3562 914.9 L33.8944 914.9 Q30.6479 913.054 29.0883 910.094 Q27.4968 907.134 27.4968 902.901 Q27.4968 902.296 27.5923 901.564 Q27.656 900.832 27.8151 899.941 L33.8307 899.909 Z\" fill=\"#000000\" fill-rule=\"nonzero\" fill-opacity=\"1\" /><path clip-path=\"url(#clip540)\" d=\"M28.3562 893.766 L28.3562 887.909 L64.0042 887.909 L64.0042 893.766 L28.3562 893.766 M14.479 893.766 L14.479 887.909 L21.895 887.909 L21.895 893.766 L14.479 893.766 Z\" fill=\"#000000\" fill-rule=\"nonzero\" fill-opacity=\"1\" /><path clip-path=\"url(#clip540)\" d=\"M46.0847 859.455 Q46.0847 866.552 47.7079 869.29 Q49.3312 872.027 53.2461 872.027 Q56.3653 872.027 58.2114 869.99 Q60.0256 867.921 60.0256 864.388 Q60.0256 859.518 56.5881 856.59 Q53.1188 853.63 47.3897 853.63 L46.0847 853.63 L46.0847 859.455 M43.6657 847.774 L64.0042 847.774 L64.0042 853.63 L58.5933 853.63 Q61.8398 855.635 63.3994 858.627 Q64.9272 861.619 64.9272 865.948 Q64.9272 871.422 61.8716 874.669 Q58.7843 877.883 53.6281 877.883 Q47.6125 877.883 44.5569 873.873 Q41.5014 869.831 41.5014 861.842 L41.5014 853.63 L40.9285 853.63 Q36.8862 853.63 34.6901 856.304 Q32.4621 858.945 32.4621 863.751 Q32.4621 866.807 33.1941 869.703 Q33.9262 872.6 35.3903 875.273 L29.9795 875.273 Q28.7381 872.059 28.1334 869.035 Q27.4968 866.011 27.4968 863.147 Q27.4968 855.412 31.5072 851.593 Q35.5176 847.774 43.6657 847.774 Z\" fill=\"#000000\" fill-rule=\"nonzero\" fill-opacity=\"1\" /><path clip-path=\"url(#clip540)\" d=\"M46.212 810.12 Q39.7508 810.12 36.0905 812.794 Q32.3984 815.436 32.3984 820.083 Q32.3984 824.73 36.0905 827.403 Q39.7508 830.045 46.212 830.045 Q52.6732 830.045 56.3653 827.403 Q60.0256 824.73 60.0256 820.083 Q60.0256 815.436 56.3653 812.794 Q52.6732 810.12 46.212 810.12 M33.7671 830.045 Q30.5842 828.199 29.0564 825.398 Q27.4968 822.565 27.4968 818.65 Q27.4968 812.157 32.6531 808.115 Q37.8093 804.041 46.212 804.041 Q54.6147 804.041 59.771 808.115 Q64.9272 812.157 64.9272 818.65 Q64.9272 822.565 63.3994 825.398 Q61.8398 828.199 58.657 830.045 L64.0042 830.045 L64.0042 835.933 L14.479 835.933 L14.479 830.045 L33.7671 830.045 Z\" fill=\"#000000\" fill-rule=\"nonzero\" fill-opacity=\"1\" /><path clip-path=\"url(#clip540)\" d=\"M14.479 794.333 L14.479 788.477 L64.0042 788.477 L64.0042 794.333 L14.479 794.333 Z\" fill=\"#000000\" fill-rule=\"nonzero\" fill-opacity=\"1\" /><path clip-path=\"url(#clip540)\" d=\"M44.7161 745.731 L47.5806 745.731 L47.5806 772.658 Q53.6281 772.276 56.8109 769.03 Q59.9619 765.751 59.9619 759.927 Q59.9619 756.553 59.1344 753.402 Q58.3069 750.219 56.6518 747.1 L62.1899 747.1 Q63.5267 750.251 64.227 753.561 Q64.9272 756.871 64.9272 760.277 Q64.9272 768.807 59.9619 773.804 Q54.9967 778.769 46.5303 778.769 Q37.7774 778.769 32.6531 774.059 Q27.4968 769.316 27.4968 761.295 Q27.4968 754.102 32.1438 749.933 Q36.7589 745.731 44.7161 745.731 M42.9973 751.588 Q38.1912 751.651 35.3266 754.293 Q32.4621 756.903 32.4621 761.232 Q32.4621 766.133 35.2312 769.093 Q38.0002 772.022 43.0292 772.467 L42.9973 751.588 Z\" fill=\"#000000\" fill-rule=\"nonzero\" fill-opacity=\"1\" /><path clip-path=\"url(#clip540)\" d=\"M42.4881 685.766 L64.0042 685.766 L64.0042 691.623 L42.679 691.623 Q37.6183 691.623 35.1038 693.596 Q32.5894 695.57 32.5894 699.516 Q32.5894 704.259 35.6131 706.996 Q38.6368 709.733 43.8567 709.733 L64.0042 709.733 L64.0042 715.622 L28.3562 715.622 L28.3562 709.733 L33.8944 709.733 Q30.6797 707.633 29.0883 704.8 Q27.4968 701.935 27.4968 698.211 Q27.4968 692.068 31.3163 688.917 Q35.1038 685.766 42.4881 685.766 Z\" fill=\"#000000\" fill-rule=\"nonzero\" fill-opacity=\"1\" /><path clip-path=\"url(#clip540)\" d=\"M49.9359 674.69 L28.3562 674.69 L28.3562 668.834 L49.7131 668.834 Q54.7739 668.834 57.3202 666.86 Q59.8346 664.887 59.8346 660.94 Q59.8346 656.198 56.8109 653.46 Q53.7872 650.691 48.5673 650.691 L28.3562 650.691 L28.3562 644.835 L64.0042 644.835 L64.0042 650.691 L58.5296 650.691 Q61.7762 652.824 63.3676 655.657 Q64.9272 658.457 64.9272 662.181 Q64.9272 668.324 61.1078 671.507 Q57.2883 674.69 49.9359 674.69 M27.4968 659.953 L27.4968 659.953 Z\" fill=\"#000000\" fill-rule=\"nonzero\" fill-opacity=\"1\" /><path clip-path=\"url(#clip540)\" d=\"M35.1993 605.017 Q31.2526 602.821 29.3747 599.766 Q27.4968 596.71 27.4968 592.572 Q27.4968 587.002 31.4117 583.979 Q35.2948 580.955 42.4881 580.955 L64.0042 580.955 L64.0042 586.843 L42.679 586.843 Q37.5546 586.843 35.072 588.657 Q32.5894 590.472 32.5894 594.196 Q32.5894 598.747 35.6131 601.389 Q38.6368 604.031 43.8567 604.031 L64.0042 604.031 L64.0042 609.919 L42.679 609.919 Q37.5228 609.919 35.072 611.733 Q32.5894 613.547 32.5894 617.335 Q32.5894 621.823 35.6449 624.465 Q38.6686 627.106 43.8567 627.106 L64.0042 627.106 L64.0042 632.995 L28.3562 632.995 L28.3562 627.106 L33.8944 627.106 Q30.616 625.101 29.0564 622.3 Q27.4968 619.499 27.4968 615.648 Q27.4968 611.765 29.4702 609.06 Q31.4436 606.322 35.1993 605.017 Z\" fill=\"#000000\" fill-rule=\"nonzero\" fill-opacity=\"1\" /><path clip-path=\"url(#clip540)\" d=\"M46.212 543.684 Q39.7508 543.684 36.0905 546.357 Q32.3984 548.999 32.3984 553.646 Q32.3984 558.293 36.0905 560.967 Q39.7508 563.608 46.212 563.608 Q52.6732 563.608 56.3653 560.967 Q60.0256 558.293 60.0256 553.646 Q60.0256 548.999 56.3653 546.357 Q52.6732 543.684 46.212 543.684 M33.7671 563.608 Q30.5842 561.762 29.0564 558.961 Q27.4968 556.129 27.4968 552.214 Q27.4968 545.721 32.6531 541.679 Q37.8093 537.605 46.212 537.605 Q54.6147 537.605 59.771 541.679 Q64.9272 545.721 64.9272 552.214 Q64.9272 556.129 63.3994 558.961 Q61.8398 561.762 58.657 563.608 L64.0042 563.608 L64.0042 569.497 L14.479 569.497 L14.479 563.608 L33.7671 563.608 Z\" fill=\"#000000\" fill-rule=\"nonzero\" fill-opacity=\"1\" /><path clip-path=\"url(#clip540)\" d=\"M44.7161 497.405 L47.5806 497.405 L47.5806 524.332 Q53.6281 523.95 56.8109 520.704 Q59.9619 517.425 59.9619 511.601 Q59.9619 508.227 59.1344 505.076 Q58.3069 501.893 56.6518 498.774 L62.1899 498.774 Q63.5267 501.925 64.227 505.235 Q64.9272 508.545 64.9272 511.951 Q64.9272 520.481 59.9619 525.478 Q54.9967 530.443 46.5303 530.443 Q37.7774 530.443 32.6531 525.732 Q27.4968 520.99 27.4968 512.969 Q27.4968 505.776 32.1438 501.606 Q36.7589 497.405 44.7161 497.405 M42.9973 503.262 Q38.1912 503.325 35.3266 505.967 Q32.4621 508.577 32.4621 512.906 Q32.4621 517.807 35.2312 520.767 Q38.0002 523.695 43.0292 524.141 L42.9973 503.262 Z\" fill=\"#000000\" fill-rule=\"nonzero\" fill-opacity=\"1\" /><path clip-path=\"url(#clip540)\" d=\"M33.8307 467.136 Q33.2578 468.123 33.0032 469.3 Q32.7167 470.446 32.7167 471.847 Q32.7167 476.812 35.9632 479.486 Q39.1779 482.127 45.2253 482.127 L64.0042 482.127 L64.0042 488.016 L28.3562 488.016 L28.3562 482.127 L33.8944 482.127 Q30.6479 480.281 29.0883 477.321 Q27.4968 474.361 27.4968 470.128 Q27.4968 469.523 27.5923 468.791 Q27.656 468.059 27.8151 467.168 L33.8307 467.136 Z\" fill=\"#000000\" fill-rule=\"nonzero\" fill-opacity=\"1\" /><g clip-path=\"url(#clip542)\">\n",
       "<image width=\"1874\" height=\"1376\" xlink:href=\"data:image/png;base64,\n",
       "iVBORw0KGgoAAAANSUhEUgAAB1IAAAVgCAYAAAD1nR8ZAAAgAElEQVR4nOzbIU4DUQBF0dIgvkFV\n",
       "TVgFnlV1lXgWURQGM5BJwF9b8ZnJOSt4/uY9fL+9/J4AgLs9vX7MngAAu/f5dZ09AQAOYYxl9gQA\n",
       "2L3z7AEAAAAAAAAA/42QCgAAAAAAABBCKgAAAAAAAEAIqQAAAAAAAAAhpAIAAAAAAACEkAoAAAAA\n",
       "AAAQQioAAAAAAABACKkAAAAAAAAAIaQCAAAAAAAAhJAKAAAAAAAAEEIqAAAAAAAAQAipAAAAAAAA\n",
       "ACGkAgAAAAAAAISQCgAAAAAAABBCKgAAAAAAAEAIqQAAAAAAAAAhpAIAAAAAAACEkAoAAAAAAAAQ\n",
       "QioAAAAAAABACKkAAAAAAAAAIaQCAAAAAAAAhJAKAAAAAAAAEEIqAAAAAAAAQAipAAAAAAAAACGk\n",
       "AgAAAAAAAISQCgAAAAAAABBCKgAAAAAAAEAIqQAAAAAAAAAhpAIAAAAAAACEkAoAAAAAAAAQQioA\n",
       "AAAAAABACKkAAAAAAAAAIaQCAAAAAAAAhJAKAAAAAAAAEEIqAAAAAAAAQAipAAAAAAAAACGkAgAA\n",
       "AAAAAISQCgAAAAAAABBCKgAAAAAAAEAIqQAAAAAAAAAhpAIAAAAAAACEkAoAAAAAAAAQQioAAAAA\n",
       "AABACKkAAAAAAAAAIaQCAAAAAAAAhJAKAAAAAAAAEEIqAAAAAAAAQAipAAAAAAAAACGkAgAAAAAA\n",
       "AISQCgAAAAAAABBCKgAAAAAAAEAIqQAAAAAAAAAhpAIAAAAAAACEkAoAAAAAAAAQQioAAAAAAABA\n",
       "CKkAAAAAAAAAIaQCAAAAAAAAhJAKAAAAAAAAEEIqAAAAAAAAQAipAAAAAAAAACGkAgAAAAAAAISQ\n",
       "CgAAAAAAABBCKgAAAAAAAEAIqQAAAAAAAAAhpAIAAAAAAACEkAoAAAAAAAAQQioAAAAAAABACKkA\n",
       "AAAAAAAAIaQCAAAAAAAAhJAKAAAAAAAAEEIqAAAAAAAAQAipAAAAAAAAACGkAgAAAAAAAISQCgAA\n",
       "AAAAABBCKgAAAAAAAEAIqQAAAAAAAAAhpAIAAAAAAACEkAoAAAAAAAAQQioAAAAAAABACKkAAAAA\n",
       "AAAAIaQCAAAAAAAAhJAKAAAAAAAAEEIqAAAAAAAAQAipAAAAAAAAACGkAgAAAAAAAISQCgAAAAAA\n",
       "ABBCKgAAAAAAAEAIqQAAAAAAAAAhpAIAAAAAAACEkAoAAAAAAAAQQioAAAAAAABACKkAAAAAAAAA\n",
       "IaQCAAAAAAAAhJAKAAAAAAAAEEIqAAAAAAAAQAipAAAAAAAAACGkAgAAAAAAAISQCgAAAAAAABBC\n",
       "KgAAAAAAAEAIqQAAAAAAAAAhpAIAAAAAAACEkAoAAAAAAAAQQioAAAAAAABACKkAAAAAAAAAIaQC\n",
       "AAAAAAAAhJAKAAAAAAAAEEIqAAAAAAAAQAipAAAAAAAAACGkAgAAAAAAAISQCgAAAAAAABBCKgAA\n",
       "AAAAAEAIqQAAAAAAAAAhpAIAAAAAAACEkAoAAAAAAAAQQioAAAAAAABACKkAAAAAAAAAIaQCAAAA\n",
       "AAAAhJAKAAAAAAAAEEIqAAAAAAAAQAipAAAAAAAAACGkAgAAAAAAAISQCgAAAAAAABBCKgAAAAAA\n",
       "AEAIqQAAAAAAAAAhpAIAAAAAAACEkAoAAAAAAAAQQioAAAAAAABACKkAAAAAAAAAIaQCAAAAAAAA\n",
       "hJAKAAAAAAAAEEIqAAAAAAAAQAipAAAAAAAAACGkAgAAAAAAAISQCgAAAAAAABBCKgAAAAAAAEAI\n",
       "qQAAAAAAAAAhpAIAAAAAAACEkAoAAAAAAAAQQioAAAAAAABACKkAAAAAAAAAIaQCAAAAAAAAhJAK\n",
       "AAAAAAAAEEIqAAAAAAAAQAipAAAAAAAAACGkAgAAAAAAAISQCgAAAAAAABBCKgAAAAAAAEAIqQAA\n",
       "AAAAAAAhpAIAAAAAAACEkAoAAAAAAAAQQioAAAAAAABACKkAAAAAAAAAIaQCAAAAAAAAhJAKAAAA\n",
       "AAAAEEIqAAAAAAAAQAipAAAAAAAAACGkAgAAAAAAAISQCgAAAAAAABBCKgAAAAAAAEAIqQAAAAAA\n",
       "AAAhpAIAAAAAAACEkAoAAAAAAAAQQioAAAAAAABACKkAAAAAAAAAIaQCAAAAAAAAhJAKAAAAAAAA\n",
       "EEIqAAAAAAAAQAipAAAAAAAAACGkAgAAAAAAAISQCgAAAAAAABBCKgAAAAAAAEAIqQAAAAAAAAAh\n",
       "pAIAAAAAAACEkAoAAAAAAAAQQioAAAAAAABACKkAAAAAAAAAIaQCAAAAAAAAhJAKAAAAAAAAEEIq\n",
       "AAAAAAAAQAipAAAAAAAAACGkAgAAAAAAAISQCgAAAAAAABBCKgAAAAAAAEAIqQAAAAAAAAAhpAIA\n",
       "AAAAAACEkAoAAAAAAAAQQioAAAAAAABACKkAAAAAAAAAIaQCAAAAAAAAhJAKAAAAAAAAEEIqAAAA\n",
       "AAAAQAipAAAAAAAAACGkAgAAAAAAAISQCgAAAAAAABBCKgAAAAAAAEAIqQAAAAAAAAAhpAIAAAAA\n",
       "AACEkAoAAAAAAAAQQioAAAAAAABACKkAAAAAAAAAIaQCAAAAAAAAhJAKAAAAAAAAEEIqAAAAAAAA\n",
       "QAipAAAAAAAAACGkAgAAAAAAAISQCgAAAAAAABBCKgAAAAAAAEAIqQAAAAAAAAAhpAIAAAAAAACE\n",
       "kAoAAAAAAAAQQioAAAAAAABACKkAAAAAAAAAIaQCAAAAAAAAhJAKAAAAAAAAEEIqAAAAAAAAQAip\n",
       "AAAAAAAAACGkAgAAAAAAAISQCgAAAAAAABBCKgAAAAAAAEAIqQAAAAAAAAAhpAIAAAAAAACEkAoA\n",
       "AAAAAAAQQioAAAAAAABACKkAAAAAAAAAIaQCAAAAAAAAhJAKAAAAAAAAEEIqAAAAAAAAQAipAAAA\n",
       "AAAAACGkAgAAAAAAAISQCgAAAAAAABBCKgAAAAAAAEAIqQAAAAAAAAAhpAIAAAAAAACEkAoAAAAA\n",
       "AAAQQioAAAAAAABACKkAAAAAAAAAIaQCAAAAAAAAhJAKAAAAAAAAEEIqAAAAAAAAQAipAAAAAAAA\n",
       "ACGkAgAAAAAAAISQCgAAAAAAABBCKgAAAAAAAEAIqQAAAAAAAAAhpAIAAAAAAACEkAoAAAAAAAAQ\n",
       "QioAAAAAAABACKkAAAAAAAAAIaQCAAAAAAAAhJAKAAAAAAAAEEIqAAAAAAAAQAipAAAAAAAAACGk\n",
       "AgAAAAAAAISQCgAAAAAAABBCKgAAAAAAAEAIqQAAAAAAAAAhpAIAAAAAAACEkAoAAAAAAAAQQioA\n",
       "AAAAAABACKkAAAAAAAAAIaQCAAAAAAAAhJAKAAAAAAAAEEIqAAAAAAAAQAipAAAAAAAAACGkAgAA\n",
       "AAAAAISQCgAAAAAAABBCKgAAAAAAAEAIqQAAAAAAAAAhpAIAAAAAAACEkAoAAAAAAAAQQioAAAAA\n",
       "AABACKkAAAAAAAAAIaQCAAAAAAAAhJAKAAAAAAAAEEIqAAAAAAAAQAipAAAAAAAAACGkAgAAAAAA\n",
       "AISQCgAAAAAAABBCKgAAAAAAAEAIqQAAAAAAAAAhpAIAAAAAAACEkAoAAAAAAAAQQioAAAAAAABA\n",
       "CKkAAAAAAAAAIaQCAAAAAAAAhJAKAAAAAAAAEEIqAAAAAAAAQAipAAAAAAAAACGkAgAAAAAAAISQ\n",
       "CgAAAAAAABBCKgAAAAAAAEAIqQAAAAAAAAAhpAIAAAAAAACEkAoAAAAAAAAQQioAAAAAAABACKkA\n",
       "AAAAAAAAIaQCAAAAAAAAhJAKAAAAAAAAEEIqAAAAAAAAQAipAAAAAAAAACGkAgAAAAAAAISQCgAA\n",
       "AAAAABBCKgAAAAAAAEAIqQAAAAAAAAAhpAIAAAAAAACEkAoAAAAAAAAQQioAAAAAAABACKkAAAAA\n",
       "AAAAIaQCAAAAAAAAhJAKAAAAAAAAEEIqAAAAAAAAQAipAAAAAAAAACGkAgAAAAAAAISQCgAAAAAA\n",
       "ABBCKgAAAAAAAEAIqQAAAAAAAAAhpAIAAAAAAACEkAoAAAAAAAAQQioAAAAAAABACKkAAAAAAAAA\n",
       "IaQCAAAAAAAAhJAKAAAAAAAAEEIqAAAAAAAAQAipAAAAAAAAACGkAgAAAAAAAISQCgAAAAAAABBC\n",
       "KgAAAAAAAEAIqQAAAAAAAAAhpAIAAAAAAACEkAoAAAAAAAAQQioAAAAAAABACKkAAAAAAAAAIaQC\n",
       "AAAAAAAAhJAKAAAAAAAAEEIqAAAAAAAAQAipAAAAAAAAACGkAgAAAAAAAISQCgAAAAAAABBCKgAA\n",
       "AAAAAEAIqQAAAAAAAAAhpAIAAAAAAACEkAoAAAAAAAAQQioAAAAAAABAPG6X59kbAOAQfrb32RMA\n",
       "YPfGWGZPAIBDWNfb7AkAsHseqQAAAAAAAAAhpAIAAAAAAACEkAoAAAAAAAAQQioAAAAAAABACKkA\n",
       "AAAAAAAAIaQCAAAAAAAAhJAKAAAAAAAAEEIqAAAAAAAAQAipAAAAAAAAACGkAgAAAAAAAISQCgAA\n",
       "AAAAABBCKgAAAAAAAEAIqQAAAAAAAAAhpAIAAAAAAACEkAoAAAAAAAAQQioAAAAAAABACKkAAAAA\n",
       "AAAAIaQCAAAAAAAAhJAKAAAAAAAAEEIqAAAAAAAAQAipAAAAAAAAACGkAgAAAAAAAISQCgAAAAAA\n",
       "ABBCKgAAAAAAAEAIqQAAAAAAAAAhpAIAAAAAAACEkAoAAAAAAAAQQioAAAAAAABACKkAAAAAAAAA\n",
       "IaQCAAAAAAAAhJAKAAAAAAAAEEIqAAAAAAAAQAipAAAAAAAAACGkAgAAAAAAAISQCgAAAAAAABBC\n",
       "KgAAAAAAAEAIqQAAAAAAAAAhpAIAAAAAAACEkAoAAAAAAAAQQioAAAAAAABACKkAAAAAAAAAIaQC\n",
       "AAAAAAAAhJAKAAAAAAAAEEIqAAAAAAAAQAipAAAAAAAAACGkAgAAAAAAAISQCgAAAAAAABBCKgAA\n",
       "AAAAAEAIqQAAAAAAAAAhpAIAAAAAAACEkAoAAAAAAAAQQioAAAAAAABACKkAAAAAAAAAIaQCAAAA\n",
       "AAAAhJAKAAAAAAAAEEIqAAAAAAAAQAipAAAAAAAAACGkAgAAAAAAAISQCgAAAAAAABBCKgAAAAAA\n",
       "AEAIqQAAAAAAAAAhpAIAAAAAAACEkAoAAAAAAAAQQioAAAAAAABACKkAAAAAAAAAIaQCAAAAAAAA\n",
       "hJAKAAAAAAAAEEIqAAAAAAAAQAipAAAAAAAAACGkAgAAAAAAAISQCgAAAAAAABBCKgAAAAAAAEAI\n",
       "qQAAAAAAAAAhpAIAAAAAAACEkAoAAAAAAAAQQioAAAAAAABACKkAAAAAAAAAIaQCAAAAAAAAhJAK\n",
       "AAAAAAAAEEIqAAAAAAAAQAipAAAAAAAAACGkAgAAAAAAAISQCgAAAAAAABBCKgAAAAAAAEAIqQAA\n",
       "AAAAAAAhpAIAAAAAAACEkAoAAAAAAAAQQioAAAAAAABACKkAAAAAAAAAIaQCAAAAAAAAhJAKAAAA\n",
       "AAAAEEIqAAAAAAAAQAipAAAAAAAAACGkAgAAAAAAAISQCgAAAAAAABBCKgAAAAAAAEAIqQAAAAAA\n",
       "AAAhpAIAAAAAAACEkAoAAAAAAAAQQioAAAAAAABACKkAAAAAAAAAIaQCAAAAAAAAhJAKAAAAAAAA\n",
       "EEIqAAAAAAAAQAipAAAAAAAAACGkAgAAAAAAAISQCgAAAAAAABBCKgAAAAAAAEAIqQAAAAAAAAAh\n",
       "pAIAAAAAAACEkAoAAAAAAAAQQioAAAAAAABACKkAAAAAAAAAIaQCAAAAAAAAhJAKAAAAAAAAEEIq\n",
       "AAAAAAAAQAipAAAAAAAAACGkAgAAAAAAAISQCgAAAAAAABBCKgAAAAAAAEAIqQAAAAAAAAAhpAIA\n",
       "AAAAAACEkAoAAAAAAAAQQioAAAAAAABACKkAAAAAAAAAIaQCAAAAAAAAhJAKAAAAAAAAEEIqAAAA\n",
       "AAAAQAipAAAAAAAAACGkAgAAAAAAAISQCgAAAAAAABBCKgAAAAAAAEAIqQAAAAAAAAAhpAIAAAAA\n",
       "AACEkAoAAAAAAAAQQioAAAAAAABACKkAAAAAAAAAIaQCAAAAAAAAhJAKAAAAAAAAEEIqAAAAAAAA\n",
       "QAipAAAAAAAAACGkAgAAAAAAAISQCgAAAAAAABBCKgAAAAAAAEAIqQAAAAAAAAAhpAIAAAAAAACE\n",
       "kAoAAAAAAAAQQioAAAAAAABACKkAAAAAAAAAIaQCAAAAAAAAhJAKAAAAAAAAEEIqAAAAAAAAQAip\n",
       "AAAAAAAAACGkAgAAAAAAAISQCgAAAAAAABBCKgAAAAAAAEAIqQAAAAAAAAAhpAIAAAAAAACEkAoA\n",
       "AAAAAAAQQioAAAAAAABACKkAAAAAAAAAIaQCAAAAAAAAhJAKAAAAAAAAEEIqAAAAAAAAQAipAAAA\n",
       "AAAAACGkAgAAAAAAAISQCgAAAAAAABBCKgAAAAAAAEAIqQAAAAAAAAAhpAIAAAAAAACEkAoAAAAA\n",
       "AAAQQioAAAAAAABACKkAAAAAAAAAIaQCAAAAAAAAhJAKAAAAAAAAEEIqAAAAAAAAQAipAAAAAAAA\n",
       "ACGkAgAAAAAAAISQCgAAAAAAABBCKgAAAAAAAEAIqQAAAAAAAAAhpAIAAAAAAACEkAoAAAAAAAAQ\n",
       "QioAAAAAAABACKkAAAAAAAAAIaQCAAAAAAAAhJAKAAAAAAAAEEIqAAAAAAAAQAipAAAAAAAAACGk\n",
       "AgAAAAAAAISQCgAAAAAAABBCKgAAAAAAAEAIqQAAAAAAAAAhpAIAAAAAAACEkAoAAAAAAAAQQioA\n",
       "AAAAAABACKkAAAAAAAAAIaQCAAAAAAAAhJAKAAAAAAAAEEIqAAAAAAAAQPyxb8cmCEMBFEURgpWt\n",
       "rTO4iJ0DOJqFpXNYO4Ng6QaB2N8FPgnnTPD6yxNSAQAAAAAAAEJIBQAAAAAAAAghFQAAAAAAACCE\n",
       "VAAAAAAAAIAQUgEAAAAAAABCSAUAAAAAAAAIIRUAAAAAAAAghFQAAAAAAACAEFIBAAAAAAAAQkgF\n",
       "AAAAAAAACCEVAAAAAAAAIIRUAAAAAAAAgBBSAQAAAAAAAEJIBQAAAAAAAAghFQAAAAAAACCEVAAA\n",
       "AAAAAIAQUgEAAAAAAABCSAUAAAAAAAAIIRUAAAAAAAAghFQAAAAAAACAEFIBAAAAAAAAQkgFAAAA\n",
       "AAAACCEVAAAAAAAAIIRUAAAAAAAAgBBSAQAAAAAAAEJIBQAAAAAAAAghFQAAAAAAACCEVAAAAAAA\n",
       "AIAQUgEAAAAAAABCSAUAAAAAAAAIIRUAAAAAAAAghFQAAAAAAACAEFIBAAAAAAAAQkgFAAAAAAAA\n",
       "CCEVAAAAAAAAIIRUAAAAAAAAgBBSAQAAAAAAAEJIBQAAAAAAAAghFQAAAAAAACCEVAAAAAAAAIAQ\n",
       "UgEAAAAAAABCSAUAAAAAAAAIIRUAAAAAAAAghFQAAAAAAACAEFIBAAAAAAAAQkgFAAAAAAAACCEV\n",
       "AAAAAAAAIIRUAAAAAAAAgBBSAQAAAAAAAEJIBQAAAAAAAAghFQAAAAAAACCEVAAAAAAAAIAQUgEA\n",
       "AAAAAABCSAUAAAAAAAAIIRUAAAAAAAAghFQAAAAAAACAEFIBAAAAAAAAQkgFAAAAAAAACCEVAAAA\n",
       "AAAAIIRUAAAAAAAAgBBSAQAAAAAAAEJIBQAAAAAAAAghFQAAAAAAACCEVAAAAAAAAIAQUgEAAAAA\n",
       "AABCSAUAAAAAAAAIIRUAAAAAAAAghFQAAAAAAACAEFIBAAAAAAAAQkgFAAAAAAAACCEVAAAAAAAA\n",
       "IIRUAAAAAAAAgBBSAQAAAAAAAEJIBQAAAAAAAAghFQAAAAAAACCEVAAAAAAAAIAQUgEAAAAAAABC\n",
       "SAUAAAAAAAAIIRUAAAAAAAAghFQAAAAAAACAEFIBAAAAAAAAQkgFAAAAAAAACCEVAAAAAAAAIIRU\n",
       "AAAAAAAAgBBSAQAAAAAAAEJIBQAAAAAAAAghFQAAAAAAACCEVAAAAAAAAIAQUgEAAAAAAABCSAUA\n",
       "AAAAAAAIIRUAAAAAAAAghFQAAAAAAACAEFIBAAAAAAAAQkgFAAAAAAAACCEVAAAAAAAAIIRUAAAA\n",
       "AAAAgBBSAQAAAAAAAEJIBQAAAAAAAAghFQAAAAAAACCEVAAAAAAAAIAQUgEAAAAAAABCSAUAAAAA\n",
       "AAAIIRUAAAAAAAAghFQAAAAAAACAEFIBAAAAAAAAQkgFAAAAAAAACCEVAAAAAAAAIIRUAAAAAAAA\n",
       "gBBSAQAAAAAAAEJIBQAAAAAAAAghFQAAAAAAACCEVAAAAAAAAIAQUgEAAAAAAABCSAUAAAAAAAAI\n",
       "IRUAAAAAAAAghFQAAAAAAACAEFIBAAAAAAAAQkgFAAAAAAAACCEVAAAAAAAAIIRUAAAAAAAAgBBS\n",
       "AQAAAAAAAEJIBQAAAAAAAAghFQAAAAAAACCEVAAAAAAAAIAQUgEAAAAAAABCSAUAAAAAAAAIIRUA\n",
       "AAAAAAAghFQAAAAAAACAEFIBAAAAAAAAQkgFAAAAAAAACCEVAAAAAAAAIIRUAAAAAAAAgBBSAQAA\n",
       "AAAAAEJIBQAAAAAAAAghFQAAAAAAACCEVAAAAAAAAIAQUgEAAAAAAABCSAUAAAAAAAAIIRUAAAAA\n",
       "AAAghFQAAAAAAACAEFIBAAAAAAAAQkgFAAAAAAAACCEVAAAAAAAAIKbr+TR6AwBswrzcR08AgNWb\n",
       "drfREwBgE/bTcfQEAFg9j1QAAAAAAACAEFIBAAAAAAAAQkgFAAAAAAAACCEVAAAAAAAAIIRUAAAA\n",
       "AAAAgBBSAQAAAAAAAEJIBQAAAAAAAAghFQAAAAAAACCEVAAAAAAAAIAQUgEAAAAAAABCSAUAAAAA\n",
       "AAAIIRUAAAAAAAAghFQAAAAAAACAEFIBAAAAAAAAQkgFAAAAAAAACCEVAAAAAAAAIIRUAAAAAAAA\n",
       "gBBSAQAAAAAAAEJIBQAAAAAAAAghFQAAAAAAACCEVAAAAAAAAIAQUgEAAAAAAABCSAUAAAAAAAAI\n",
       "IRUAAAAAAAAghFQAAAAAAACAEFIBAAAAAAAAQkgFAAAAAAAACCEVAAAAAAAAIIRUAAAAAAAAgBBS\n",
       "AQAAAAAAAEJIBQAAAAAAAAghFQAAAAAAACCEVAAAAAAAAIAQUgEAAAAAAABCSAUAAAAAAAAIIRUA\n",
       "AAAAAAAghFQAAAAAAACAEFIBAAAAAAAAQkgFAAAAAAAACCEVAAAAAAAAIIRUAAAAAAAAgBBSAQAA\n",
       "AAAAAEJIBQAAAAAAAAghFQAAAAAAACCEVAAAAAAAAIAQUgEAAAAAAABCSAUAAAAAAAAIIRUAAAAA\n",
       "AAAghFQAAAAAAACAEFIBAAAAAAAAQkgFAAAAAAAACCEVAAAAAAAAIIRUAAAAAAAAgBBSAQAAAAAA\n",
       "AEJIBQAAAAAAAAghFQAAAAAAACCEVAAAAAAAAIAQUgEAAAAAAABCSAUAAAAAAAAIIRUAAAAAAAAg\n",
       "hFQAAAAAAACAEFIBAAAAAAAAQkgFAAAAAAAACCEVAAAAAAAAIIRUAAAAAAAAgBBSAQAAAAAAAEJI\n",
       "BQAAAAAAAAghFQAAAAAAACCEVAAAAAAAAIAQUgEAAAAAAABCSAUAAAAAAAAIIRUAAAAAAAAghFQA\n",
       "AAAAAACAEFIBAAAAAAAAQkgFAAAAAAAACCEVAAAAAAAAIIRUAAAAAAAAgBBSAQAAAAAAAEJIBQAA\n",
       "AAAAAAghFQAAAAAAACCEVAAAAAAAAIAQUgEAAAAAAABCSAUAAAAAAAAIIRUAAAAAAAAghFQAAAAA\n",
       "AACAEFIBAAAAAAAAQkgFAAAAAAAACCEVAAAAAAAAIIRUAAAAAAAAgBBSAQAAAAAAAEJIBQAAAAAA\n",
       "AAghFQAAAAAAACCEVAAAAAAAAIAQUgEAAAAAAABCSAUAAAAAAAAIIRUAAAAAAAAghFQAAAAAAACA\n",
       "EFIBAAAAAAAAQkgFAAAAAAAACCEVAAAAAAAAIIRUAAAAAAAAgBBSAQAAAAAAAEJIBQAAAAAAAAgh\n",
       "FQAAAAAAACCEVAAAAAAAAIAQUgEAAAAAAABCSAUAAAAAAAAIIRUAAAAAAAAghFQAAAAAAACAEFIB\n",
       "AAAAAAAAQkgFAAAAAAAACCEVAAAAAAAAIIRUAAAAAAAAgBBSAQAAAAAAAEJIBQAAAAAAAAghFQAA\n",
       "AAAAACCEVAAAAAAAAIAQUgEAAAAAAABCSAUAAAAAAAAIIRUAAAAAAAAghFQAAAAAAACAEFIBAAAA\n",
       "AAAAQkgFAAAAAAAACCEVAAAAAAAAIIRUAAAAAAAAgBBSAQAAAAAAAEJIBQAAAAAAAAghFQAAAAAA\n",
       "ACCEVAAAAAAAAIAQUgEAAAAAAABCSAUAAAAAAAAIIRUAAAAAAAAghFQAAAAAAACAEFIBAAAAAAAA\n",
       "QkgFAAAAAAAACCEVAAAAAAAAIIRUAAAAAAAAgBBSAQAAAAAAAEJIBQAAAAAAAAghFQAAAAAAACCE\n",
       "VAAAAAAAAIAQUgEAAAAAAABCSAUAAAAAAAAIIRUAAAAAAAAghFQAAAAAAACAEFIBAAAAAAAAQkgF\n",
       "AAAAAAAACCEVAAAAAAAAIIRUAAAAAAAAgBBSAQAAAAAAAEJIBQAAAAAAAAghFQAAAAAAACCEVAAA\n",
       "AAAAAIAQUgEAAAAAAABCSAUAAAAAAAAIIRUAAAAAAAAghFQAAAAAAACAEFIBAAAAAAAAQkgFAAAA\n",
       "AAAACCEVAAAAAAAAIIRUAAAAAAAAgBBSAQAAAAAAAEJIBQAAAAAAAAghFQAAAAAAACCEVAAAAAAA\n",
       "AIAQUgEAAAAAAABCSAUAAAAAAAAIIRUAAAAAAAAghFQAAAAAAACAEFIBAAAAAAAAQkgFAAAAAAAA\n",
       "CCEVAAAAAAAAIIRUAAAAAAAAgBBSAQAAAAAAAEJIBQAAAAAAAAghFQAAAAAAACCEVAAAAAAAAIAQ\n",
       "UgEAAAAAAABCSAUAAAAAAAAIIRUAAAAAAFUJHLUAABJdSURBVAAghFQAAAAAAACAEFIBAAAAAAAA\n",
       "QkgFAAAAAAAACCEVAAAAAAAAIIRUAAAAAAAAgBBSAQAAAAAAAEJIBQAAAAAAAAghFQAAAAAAACCE\n",
       "VAAAAAAAAIAQUgEAAAAAAABCSAUAAAAAAAAIIRUAAAAAAAAghFQAAAAAAACAEFIBAAAAAAAAQkgF\n",
       "AAAAAAAACCEVAAAAAAAAIIRUAAAAAAAAgBBSAQAAAAAAAEJIBQAAAAAAAAghFQAAAAAAACCEVAAA\n",
       "AAAAAIAQUgEAAAAAAABCSAUAAAAAAAAIIRUAAAAAAAAghFQAAAAAAACAEFIBAAAAAAAAQkgFAAAA\n",
       "AAAACCEVAAAAAAAAIIRUAAAAAAAAgBBSAQAAAAAAAEJIBQAAAAAAAAghFQAAAAAAACCEVAAAAAAA\n",
       "AIAQUgEAAAAAAABCSAUAAAAAAAAIIRUAAAAAAAAghFQAAAAAAACAEFIBAAAAAAAAQkgFAAAAAAAA\n",
       "CCEVAAAAAAAAIIRUAAAAAAAAgBBSAQAAAAAAAEJIBQAAAAAAAAghFQAAAAAAACCEVAAAAAAAAIAQ\n",
       "UgEAAAAAAABCSAUAAAAAAAAIIRUAAAAAAAAghFQAAAAAAACAEFIBAAAAAAAAQkgFAAAAAAAACCEV\n",
       "AAAAAAAAIIRUAAAAAAAAgBBSAQAAAAAAAEJIBQAAAAAAAAghFQAAAAAAACCEVAAAAAAAAIAQUgEA\n",
       "AAAAAABCSAUAAAAAAAAIIRUAAAAAAAAghFQAAAAAAACAEFIBAAAAAAAAQkgFAAAAAAAACCEVAAAA\n",
       "AAAAIIRUAAAAAAAAgBBSAQAAAAAAAEJIBQAAAAAAAAghFQAAAAAAACCEVAAAAAAAAIAQUgEAAAAA\n",
       "AABCSAUAAAAAAAAIIRUAAAAAAAAghFQAAAAAAACAEFIBAAAAAAAAQkgFAAAAAAAACCEVAAAAAAAA\n",
       "IIRUAAAAAAAAgBBSAQAAAAAAAEJIBQAAAAAAAAghFQAAAAAAACCEVAAAAAAAAIAQUgEAAAAAAABC\n",
       "SAUAAAAAAAAIIRUAAAAAAAAghFQAAAAAAACAEFIBAAAAAAAAQkgFAAAAAAAACCEVAAAAAAAAIIRU\n",
       "AAAAAAAAgBBSAQAAAAAAAEJIBQAAAAAAAAghFQAAAAAAACCEVAAAAAAAAIAQUgEAAAAAAABCSAUA\n",
       "AAAAAAAIIRUAAAAAAAAghFQAAAAAAACAEFIBAAAAAAAAQkgFAAAAAAAACCEVAAAAAAAAIIRUAAAA\n",
       "AAAAgBBSAQAAAAAAAEJIBQAAAAAAAAghFQAAAAAAACCEVAAAAAAAAIAQUgEAAAAAAABCSAUAAAAA\n",
       "AAAIIRUAAAAAAAAghFQAAAAAAACAEFIBAAAAAAAAQkgFAAAAAAAACCEVAAAAAAAAIIRUAAAAAAAA\n",
       "gBBSAQAAAAAAAEJIBQAAAAAAAAghFQAAAAAAACCEVAAAAAAAAIAQUgEAAAAAAABCSAUAAAAAAAAI\n",
       "IRUAAAAAAAAghFQAAAAAAACAEFIBAAAAAAAAQkgFAAAAAAAACCEVAAAAAAAAIIRUAAAAAAAAgBBS\n",
       "AQAAAAAAAEJIBQAAAAAAAAghFQAAAAAAACCEVAAAAAAAAIAQUgEAAAAAAABCSAUAAAAAAAAIIRUA\n",
       "AAAAAAAghFQAAAAAAACAEFIBAAAAAAAAQkgFAAAAAAAACCEVAAAAAAAAIIRUAAAAAAAAgBBSAQAA\n",
       "AAAAAEJIBQAAAAAAAAghFQAAAAAAACCEVAAAAAAAAIAQUgEAAAAAAABCSAUAAAAAAAAIIRUAAAAA\n",
       "AAAghFQAAAAAAACAEFIBAAAAAAAAQkgFAAAAAAAACCEVAAAAAAAAIIRUAAAAAAAAgBBSAQAAAAAA\n",
       "AEJIBQAAAAAAAAghFQAAAAAAACCEVAAAAAAAAIAQUgEAAAAAAABCSAUAAAAAAAAIIRUAAAAAAAAg\n",
       "hFQAAAAAAACAEFIBAAAAAAAAQkgFAAAAAAAACCEVAAAAAAAAIIRUAAAAAAAAgBBSAQAAAAAAAEJI\n",
       "BQAAAAAAAIjdvDyW0SMAYAsuh9foCQCwes/3Z/QEANiE6fcdPQEAVs8jFQAAAAAAACCEVAAAAAAA\n",
       "AIAQUgEAAAAAAABCSAUAAAAAAAAIIRUAAAAAAAAghFQAAAAAAACAEFIBAAAAAAAAQkgFAAAAAAAA\n",
       "CCEVAAAAAAAAIIRUAAAAAAAAgBBSAQAAAAAAAEJIBQAAAAAAAAghFQAAAAAAACCEVAAAAAAAAIAQ\n",
       "UgEAAAAAAABCSAUAAAAAAAAIIRUAAAAAAAAghFQAAAAAAACAEFIBAAAAAAAAQkgFAAAAAAAACCEV\n",
       "AAAAAAAAIIRUAAAAAAAAgBBSAQAAAAAAAEJIBQAAAAAAAAghFQAAAAAAACCEVAAAAAAAAIAQUgEA\n",
       "AAAAAABCSAUAAAAAAAAIIRUAAAAAAAAghFQAAAAAAACAEFIBAAAAAAAAQkgFAAAAAAAACCEVAAAA\n",
       "AAAAIIRUAAAAAAAAgBBSAQAAAAAAAEJIBQAAAAAAAAghFQAAAAAAACCEVAAAAAAAAIAQUgEAAAAA\n",
       "AABCSAUAAAAAAAAIIRUAAAAAAAAghFQAAAAAAACAEFIBAAAAAAAAQkgFAAAAAAAACCEVAAAAAAAA\n",
       "IIRUAAAAAAAAgBBSAQAAAAAAAEJIBQAAAAAAAAghFQAAAAAAACCEVAAAAAAAAIAQUgEAAAAAAABC\n",
       "SAUAAAAAAAAIIRUAAAAAAAAghFQAAAAAAACAEFIBAAAAAAAAQkgFAAAAAAAACCEVAAAAAAAAIIRU\n",
       "/u3ZsQAAAADAIH/r/WMojQAAAAAAAIARqQAAAAAAAAAjUgEAAAAAAABGpAIAAAAAAACMSAUAAAAA\n",
       "AAAYkQoAAAAAAAAwIhUAAAAAAABgRCoAAAAAAADAiFQAAAAAAACAEakAAAAAAAAAI1IBAAAAAAAA\n",
       "RqQCAAAAAAAAjEgFAAAAAAAAGJEKAAAAAAAAMCIVAAAAAAAAYEQqAAAAAAAAwIhUAAAAAAAAgBGp\n",
       "AAAAAAAAACNSAQAAAAAAAEakAgAAAAAAAIxIBQAAAAAAABiRCgAAAAAAADAiFQAAAAAAAGBEKgAA\n",
       "AAAAAMCIVAAAAAAAAIARqQAAAAAAAAAjUgEAAAAAAABGpAIAAAAAAACMSAUAAAAAAAAYkQoAAAAA\n",
       "AAAwIhUAAAAAAABgRCoAAAAAAADAiFQAAAAAAACAEakAAAAAAAAAI1IBAAAAAAAARqQCAAAAAAAA\n",
       "jEgFAAAAAAAAGJEKAAAAAAAAMCIVAAAAAAAAYEQqAAAAAAAAwIhUAAAAAAAAgBGpAAAAAAAAACNS\n",
       "AQAAAAAAAEakAgAAAAAAAIxIBQAAAAAAABiRCgAAAAAAADAiFQAAAAAAAGBEKgAAAAAAAMCIVAAA\n",
       "AAAAAIARqQAAAAAAAAAjUgEAAAAAAABGpAIAAAAAAACMSAUAAAAAAAAYkQoAAAAAAAAwIhUAAAAA\n",
       "AABgRCoAAAAAAADAiFQAAAAAAACAEakAAAAAAAAAI1IBAAAAAAAARqQCAAAAAAAAjEgFAAAAAAAA\n",
       "GJEKAAAAAAAAMCIVAAAAAAAAYEQqAAAAAAAAwIhUAAAAAAAAgBGpAAAAAAAAACNSAQAAAAAAAEak\n",
       "AgAAAAAAAIxIBQAAAAAAABiRCgAAAAAAADAiFQAAAAAAAGBEKgAAAAAAAMCIVAAAAAAAAIARqQAA\n",
       "AAAAAAAjUgEAAAAAAABGpAIAAAAAAACMSAUAAAAAAAAYkQoAAAAAAAAwIhUAAAAAAABgRCoAAAAA\n",
       "AADAiFQAAAAAAACAEakAAAAAAAAAI1IBAAAAAAAARqQCAAAAAAAAjEgFAAAAAAAAGJEKAAAAAAAA\n",
       "MCIVAAAAAAAAYEQqAAAAAAAAwIhUAAAAAAAAgBGpAAAAAAAAACNSAQAAAAAAAEakAgAAAAAAAIxI\n",
       "BQAAAAAAABiRCgAAAAAAADAiFQAAAAAAAGBEKgAAAAAAAMCIVAAAAAAAAIARqQAAAAAAAAAjUgEA\n",
       "AAAAAABGpAIAAAAAAACMSAUAAAAAAAAYkQoAAAAAAAAwIhUAAAAAAABgRCoAAAAAAADAiFQAAAAA\n",
       "AACAEakAAAAAAAAAI1IBAAAAAAAARqQCAAAAAAAAjEgFAAAAAAAAGJEKAAAAAAAAMCIVAAAAAAAA\n",
       "YEQqAAAAAAAAwIhUAAAAAAAAgBGpAAAAAAAAACNSAQAAAAAAAEakAgAAAAAAAIxIBQAAAAAAABiR\n",
       "CgAAAAAAADAiFQAAAAAAAGBEKgAAAAAAAMCIVAAAAAAAAIARqQAAAAAAAAAjUgEAAAAAAABGpAIA\n",
       "AAAAAACMSAUAAAAAAAAYkQoAAAAAAAAwIhUAAAAAAABgRCoAAAAAAADAiFQAAAAAAACAEakAAAAA\n",
       "AAAAI1IBAAAAAAAARqQCAAAAAAAAjEgFAAAAAAAAGJEKAAAAAAAAMCIVAAAAAAAAYEQqAAAAAAAA\n",
       "wIhUAAAAAAAAgBGpAAAAAAAAACNSAQAAAAAAAEakAgAAAAAAAIxIBQAAAAAAABiRCgAAAAAAADAi\n",
       "FQAAAAAAAGBEKgAAAAAAAMCIVAAAAAAAAIARqQAAAAAAAAAjUgEAAAAAAABGpAIAAAAAAACMSAUA\n",
       "AAAAAAAYkQoAAAAAAAAwIhUAAAAAAABgRCoAAAAAAADAiFQAAAAAAACAEakAAAAAAAAAI1IBAAAA\n",
       "AAAARqQCAAAAAAAAjEgFAAAAAAAAGJEKAAAAAAAAMCIVAAAAAAAAYEQqAAAAAAAAwIhUAAAAAAAA\n",
       "gBGpAAAAAAAAACNSAQAAAAAAAEakAgAAAAAAAIxIBQAAAAAAABiRCgAAAAAAADAiFQAAAAAAAGBE\n",
       "KgAAAAAAAMCIVAAAAAAAAIARqQAAAAAAAAAjUgEAAAAAAABGpAIAAAAAAACMSAUAAAAAAAAYkQoA\n",
       "AAAAAAAwIhUAAAAAAABgRCoAAAAAAADAiFQAAAAAAACAEakAAAAAAAAAI1IBAAAAAAAARqQCAAAA\n",
       "AAAAjEgFAAAAAAAAGJEKAAAAAAAAMCIVAAAAAAAAYEQqAAAAAAAAwIhUAAAAAAAAgBGpAAAAAAAA\n",
       "ACNSAQAAAAAAAEakAgAAAAAAAIxIBQAAAAAAABiRCgAAAAAAADAiFQAAAAAAAGBEKgAAAAAAAMCI\n",
       "VAAAAAAAAIARqQAAAAAAAAAjUgEAAAAAAABGpAIAAAAAAACMSAUAAAAAAAAYkQoAAAAAAAAwIhUA\n",
       "AAAAAABgRCoAAAAAAADAiFQAAAAAAACAEakAAAAAAAAAI1IBAAAAAAAARqQCAAAAAAAAjEgFAAAA\n",
       "AAAAGJEKAAAAAAAAMCIVAAAAAAAAYEQqAAAAAAAAwIhUAAAAAAAAgBGpAAAAAAAAACNSAQAAAAAA\n",
       "AEakAgAAAAAAAIxIBQAAAAAAABiRCgAAAAAAADAiFQAAAAAAAGBEKgAAAAAAAMCIVAAAAAAAAIAR\n",
       "qQAAAAAAAAAjUgEAAAAAAABGpAIAAAAAAACMSAUAAAAAAAAYkQoAAAAAAAAwIhUAAAAAAABgRCoA\n",
       "AAAAAADAiFQAAAAAAACAEakAAAAAAAAAI1IBAAAAAAAARqQCAAAAAAAAjEgFAAAAAAAAGJEKAAAA\n",
       "AAAAMCIVAAAAAAAAYEQqAAAAAAAAwIhUAAAAAAAAgBGpAAAAAAAAACNSAQAAAAAAAEakAgAAAAAA\n",
       "AIxIBQAAAAAAABiRCgAAAAAAADAiFQAAAAAAAGBEKgAAAAAAAMCIVAAAAAAAAIARqQAAAAAAAAAj\n",
       "UgEAAAAAAABGpAIAAAAAAACMSAUAAAAAAAAYkQoAAAAAAAAwIhUAAAAAAABgRCoAAAAAAADAiFQA\n",
       "AAAAAACAEakAAAAAAAAAI1IBAAAAAAAARqQCAAAAAAAAjEgFAAAAAAAAGJEKAAAAAAAAMCIVAAAA\n",
       "AAAAYEQqAAAAAAAAwIhUAAAAAAAAgBGpAAAAAAAAACNSAQAAAAAAAEakAgAAAAAAAIxIBQAAAAAA\n",
       "ABiRCgAAAAAAADAiFQAAAAAAAGBEKgAAAAAAAMCIVAAAAAAAAIARqQAAAAAAAAAjUgEAAAAAAABG\n",
       "pAIAAAAAAACMSAUAAAAAAAAYkQoAAAAAAAAwIhUAAAAAAABgRCoAAAAAAADAiFQAAAAAAACAEakA\n",
       "AAAAAAAAI1IBAAAAAAAARqQCAAAAAAAAjEgFAAAAAAAAGJEKAAAAAAAAMCIVAAAAAAAAYEQqAAAA\n",
       "AAAAwIhUAAAAAAAAgBGpAAAAAAAAACNSAQAAAAAAAEakAgAAAAAAAIxIBQAAAAAAABiRCgAAAAAA\n",
       "ADABz2IlBqv/A8EAAAAASUVORK5CYII=\n",
       "\" transform=\"translate(175, 47)\"/>\n",
       "</g>\n",
       "<defs>\n",
       "  <clipPath id=\"clip543\">\n",
       "    <rect x=\"2097\" y=\"47\" width=\"73\" height=\"1377\"/>\n",
       "  </clipPath>\n",
       "</defs>\n",
       "<g clip-path=\"url(#clip543)\">\n",
       "<image width=\"72\" height=\"1376\" xlink:href=\"data:image/png;base64,\n",
       "iVBORw0KGgoAAAANSUhEUgAAAEgAAAVgCAYAAADsKhu7AAAL6UlEQVR4nO3dwZEjNxBFQVBR/lsh\n",
       "L6UFZIHqHclDpgUTL35wCXTP7Off+/c7/K+/vv0D/DqBgkBBoCBQmPv+/fbP8NMsKAgUBAoChXnv\n",
       "z7d/hp9mQUGgIFAQKAgUHDWCBQWBgkBBoDDPh/TKgoJAQaAgUJh3fUhvLCgIFAQKAgWBgqNGsKAg\n",
       "UBAoCBR8SAcLCgIFgYJAwX1QsKAgUBAoCBQECnMcNVYWFAQKAgWBgvugYEFBoCBQECgIFOa4MFtZ\n",
       "UBAoCBQECnPuP9/+GX6aBQWBgkBBoODSPlhQECgIFAQKAgX3QcGCgkBBoCBQ8CEdLCgIFAQKAgX3\n",
       "QcGCgkBBoCBQECjMx1FjZUFBoCBQECjMuf5XhI0FBYGCQEGgIFBw1AgWFAQKAgWBgqNGsKAgUBAo\n",
       "CBS8HxQsKAgUBAoCBYHCfBw1VhYUBAoCBYGCt1yDBQWBgkBBoOCbdLCgIFAQKAgUBAoePQcLCgIF\n",
       "gYJAwVEjWFAQKAgUBAoCBUeNYEFBoCBQECg4agQLCgIFgYJAYc693/4ZfpoFBYGCQEGgIFBw1AgW\n",
       "FAQKAgWBgkv7YEFBoCBQECj4kA4WFAQKAgWBgkBhPp5qrCwoCBQECgIFR41gQUGgIFAQKAgUvEAV\n",
       "LCgIFAQKAgX3QcGCgkBBoCBQcB8ULCgIFAQKAgWBgvugYEFBoCBQECj4kA4WFAQKAgWBgl/qDRYU\n",
       "BAoCBYGCQMFRI1hQECgIFAQKPqSDBQWBgkBBoCBQ8K9YsKAgUBAoCBR8SAcLCgIFgYJAYc7zIb2x\n",
       "oCBQECgIFAQKjhrBgoJAQaAgUPAhHSwoCBQECgIFH9LBgoJAQaAgUBAozLnv2z/DT7OgIFAQKAgU\n",
       "HDWCBQWBgkBBoCBQcNQIFhQECgIFgYKjRrCgIFAQKAgUfJMOFhQECgIFgYJAYY6TxsqCgkBBoCBQ\n",
       "mPMcNTYWFAQKAgWBgm/SwYKCQEGgIFAQKPhXLFhQECgIFAQK44/g7SwoCBQECgIFgYKjRrCgIFAQ\n",
       "KAgUfEgHCwoCBYGCQGHO/Xz7Z/hpFhQECgIFgYJAYd7zr9jGgoJAQaAgUHAfFCwoCBQECgIF90HB\n",
       "goJAQaAgUBAozLsabdQJAgWBgkDBUSNYUBAoCBQECgKFOR49rywoCBQECgKFeY4aKwsKAgWBgkBh\n",
       "jkv7lTpBoCBQECgIFBw1ggUFgYJAQaDg0j5YUBAoCBQECl7iDOoEgYJAQaAgUPCWa7CgIFAQKAgU\n",
       "XNoHCwoCBYGCQEGgMO9ptFEnCBQECgIF90HBgoJAQaAgUHAfFCwoCBQECgIFgcIc90ErdYJAQaAg\n",
       "UHDUCBYUBAoCBYGCD+lgQUGgIFAQKAgU/NZzsKAgUBAoCBT81nNQJwgUBAoCBYHCPEeNlQUFgYJA\n",
       "QaDgqUawoCBQECgIFPyvCEGdIFAQKAgUBArug4IFBYGCQEGg4D4oWFAQKAgUBAq+SQcLCgIFgYJA\n",
       "QaDgLdegThAoCBQECo4awYKCQEGgIFAQKHiqESwoCBQECgIFR41gQUGgIFAQKPiva4IFBYGCQEGg\n",
       "IFDwv2QGdYJAQaAgUHAfFCwoCBQECgIFT1aDBQWBgkBBoCBQcNQIFhQECgIFgcJcH9IrCwoCBYGC\n",
       "QEGg4LeegzpBoCBQECi4DwoWFAQKAgWBgg/pYEFBoCBQECgIFLxAFSwoCBQECgIFR41gQUGgIFAQ\n",
       "KPiQDhYUBAoCBYGCQMGfpgjqBIGCQEGgMNel/cqCgkBBoCBQECi4MAsWFAQKAgWBgg/pYEFBoCBQ\n",
       "ECj4kA4WFAQKAgWBgkDBH1gKFhQECgIFgYKjRrCgIFAQKAgUfEgHCwoCBYGCQEGg4FcRgjpBoCBQ\n",
       "ECj4VYRgQUGgIFAQKAgUXJgFCwoCBYGCQMGHdLCgIFAQKAgUvMQZLCgIFAQKAgWBgqNGsKAgUBAo\n",
       "CBTmHR/SGwsKAgWBgkDBfVCwoCBQECgIFAQK7oOCBQWBgkBBoOCoESwoCBQECgIFgYKjRrCgIFAQ\n",
       "KAgUHDWCBQWBgkBBoOCbdLCgIFAQKAgUBAr+FQsWFAQKAgWBwly/irCyoCBQECgIFHyTDhYUBAoC\n",
       "BYGCQMGj52BBQaAgUBAozHvf/hF+mwUFgYJAQaAgUHDUCBYUBAoCBYGCv4IXLCgIFAQKAgXfpIMF\n",
       "BYGCQEGgIFDwAlWwoCBQECgIFPwqQrCgIFAQKAgUvB8ULCgIFAQKAgWBgqcawYKCQEGgIFBwaR8s\n",
       "KAgUBAoCBYGCpxrBgoJAQaAgUHAfFCwoCBQECgIFj56DBQWBgkBBoCBQcB8ULCgIFAQKAgWPnoMF\n",
       "BYGCQEGgMPfbP8GPs6AgUBAoCBQECo4awYKCQEGgIFDwflCwoCBQECgIFAQKLsyCBQWBgkBBoOA+\n",
       "KFhQECgIFAQKvkkHCwoCBYGCQEGg4KgRLCgIFAQKAgWPnoMFBYGCQEGgMP4yxc6CgkBBoCBQECg4\n",
       "agQLCgIFgYJAwaPnYEFBoCBQECgIFDx6DhYUBAoCBYGCo0awoCBQECgIFHyTDhYUBAoCBYGCQGGu\n",
       "N6hWFhQECgIFgYL7oGBBQaAgUBAouA8KFhQECgIFgYJAwVEjWFAQKAgUBArzXNqvLCgIFAQKAgWB\n",
       "wtzjwmxjQUGgIFAQKHg/KFhQECgIFAQK/gpesKAgUBAoCBQECv4KXrCgIFAQKAgUPHoOFhQECgIF\n",
       "gYKXOIMFBYGCQEGgIFDwC3XBgoJAQaAgUHDUCBYUBAoCBYGCQMFbrsGCgkBBoCBQ8JZrsKAgUBAo\n",
       "CBR8kw4WFAQKAgWBgkDBW67BgoJAQaAgUPD3g4IFBYGCQEGg4D4oWFAQKAgUBAoCBY+egwUFgYJA\n",
       "QaDgqBEsKAgUBAoCBYGCo0awoCBQECgIFBw1ggUFgYJAQaDgQzpYUBAoCBQECgIF90HBgoJAQaAg\n",
       "UHDUCBYUBAoCBYGCb9LBgoJAQaAgUBAoOGoECwoCBYGCQMHfDwoWFAQKAgWBgkDB/+0TLCgIFAQK\n",
       "AgX3QcGCgkBBoCBQmHd8Sm8sKAgUBAoCBYGCo0awoCBQECgIFDx6DhYUBAoCBYGCJ6vBgoJAQaAg\n",
       "UBAouA8KFhQECgIFgYJHz8GCgkBBoCBQECg4agQLCgIFgYJAwR9YChYUBAoCBYHCXC8IrSwoCBQE\n",
       "CgIFgYIXqIIFBYGCQEGgMM9RY2VBQaAgUBAo+CYdLCgIFAQKAgWBgqcawYKCQEGgIFDwflCwoCBQ\n",
       "ECgIFAQKc/1C3cqCgkBBoCBQcB8ULCgIFAQKAgV/miJYUBAoCBQECgIFL1AFCwoCBYGCQMGlfbCg\n",
       "IFAQKAgU3AcFCwoCBYGCQEGgMPe4EdpYUBAoCBQECu6DggUFgYJAQaAgUPCvWLCgIFAQKAgUPNUI\n",
       "FhQECgIFgYJL+2BBQaAgUBAoCBTmfhw1NhYUBAoCBYGCo0awoCBQECgIFOb5kF5ZUBAoCBQECgIF\n",
       "R41gQUGgIFAQKMz9+JDeWFAQKAgUBAoCBUeNYEFBoCBQECh4qhEsKAgUBAoCBd+kgwUFgYJAQaAg\n",
       "UPCvWLCgIFAQKAgUPHoOFhQECgIFgcK88+fbP8NPs6AgUBAoCBQECu6DggUFgYJAQaDg/aBgQUGg\n",
       "IFAQKAgU5j4XZhsLCgIFgYJAwVEjWFAQKAgUBApzPXpeWVAQKAgUBAoCBUeNYEFBoCBQECg4agQL\n",
       "CgIFgYJAYd7zTXpjQUGgIFAQKAgU3AcFCwoCBYGCQMFLnMGCgkBBoCBQECg4agQLCgIFgYJAYZ6j\n",
       "xsqCgkBBoCBQ8E06WFAQKAgUBAoChbleoFpZUBAoCBQECv7gdrCgIFAQKAgU/CpCsKAgUBAoCBQE\n",
       "Cp5qBAsKAgWBgkDBUSNYUBAoCBQECgIF/4oFCwoCBYGCQMGj52BBQaAgUBAo+CYdLCgIFAQKAgWB\n",
       "whyPnlcWFAQKAgWBgqNGsKAgUBAoCBS8xBksKAgUBAoCBYHCHEeNlQUFgYJAQaDg/aBgQUGgIFAQ\n",
       "KAgUPHoOFhQECgIFgYL7oGBBQaAgUBAozDvv2z/DT7OgIFAQKAgUBArug4IFBYGCQEGgMMdRY2VB\n",
       "QaAgUBAo/AdhU+3PqlcPeQAAAABJRU5ErkJggg==\n",
       "\" transform=\"translate(2098, 47)\"/>\n",
       "</g>\n",
       "<path clip-path=\"url(#clip540)\" d=\"M2205.76 1248.12 L2235.44 1248.12 L2235.44 1252.06 L2205.76 1252.06 L2205.76 1248.12 Z\" fill=\"#000000\" fill-rule=\"nonzero\" fill-opacity=\"1\" /><path clip-path=\"url(#clip540)\" d=\"M2255.53 1233.47 Q2251.92 1233.47 2250.09 1237.03 Q2248.29 1240.57 2248.29 1247.7 Q2248.29 1254.81 2250.09 1258.38 Q2251.92 1261.92 2255.53 1261.92 Q2259.17 1261.92 2260.97 1258.38 Q2262.8 1254.81 2262.8 1247.7 Q2262.8 1240.57 2260.97 1237.03 Q2259.17 1233.47 2255.53 1233.47 M2255.53 1229.76 Q2261.34 1229.76 2264.4 1234.37 Q2267.48 1238.95 2267.48 1247.7 Q2267.48 1256.43 2264.4 1261.04 Q2261.34 1265.62 2255.53 1265.62 Q2249.72 1265.62 2246.64 1261.04 Q2243.59 1256.43 2243.59 1247.7 Q2243.59 1238.95 2246.64 1234.37 Q2249.72 1229.76 2255.53 1229.76 Z\" fill=\"#000000\" fill-rule=\"nonzero\" fill-opacity=\"1\" /><path clip-path=\"url(#clip540)\" d=\"M2275.69 1259.07 L2280.58 1259.07 L2280.58 1264.95 L2275.69 1264.95 L2275.69 1259.07 Z\" fill=\"#000000\" fill-rule=\"nonzero\" fill-opacity=\"1\" /><path clip-path=\"url(#clip540)\" d=\"M2294.79 1261.01 L2311.11 1261.01 L2311.11 1264.95 L2289.17 1264.95 L2289.17 1261.01 Q2291.83 1258.26 2296.41 1253.63 Q2301.02 1248.98 2302.2 1247.64 Q2304.44 1245.11 2305.32 1243.38 Q2306.23 1241.62 2306.23 1239.93 Q2306.23 1237.17 2304.28 1235.44 Q2302.36 1233.7 2299.26 1233.7 Q2297.06 1233.7 2294.61 1234.46 Q2292.18 1235.23 2289.4 1236.78 L2289.4 1232.06 Q2292.22 1230.92 2294.68 1230.34 Q2297.13 1229.76 2299.17 1229.76 Q2304.54 1229.76 2307.73 1232.45 Q2310.93 1235.14 2310.93 1239.63 Q2310.93 1241.76 2310.12 1243.68 Q2309.33 1245.57 2307.22 1248.17 Q2306.64 1248.84 2303.54 1252.06 Q2300.44 1255.25 2294.79 1261.01 Z\" fill=\"#000000\" fill-rule=\"nonzero\" fill-opacity=\"1\" /><path clip-path=\"url(#clip540)\" d=\"M2320.97 1230.39 L2339.33 1230.39 L2339.33 1234.32 L2325.25 1234.32 L2325.25 1242.8 Q2326.27 1242.45 2327.29 1242.29 Q2328.31 1242.1 2329.33 1242.1 Q2335.11 1242.1 2338.49 1245.27 Q2341.87 1248.45 2341.87 1253.86 Q2341.87 1259.44 2338.4 1262.54 Q2334.93 1265.62 2328.61 1265.62 Q2326.43 1265.62 2324.17 1265.25 Q2321.92 1264.88 2319.51 1264.14 L2319.51 1259.44 Q2321.6 1260.57 2323.82 1261.13 Q2326.04 1261.69 2328.52 1261.69 Q2332.52 1261.69 2334.86 1259.58 Q2337.2 1257.47 2337.2 1253.86 Q2337.2 1250.25 2334.86 1248.14 Q2332.52 1246.04 2328.52 1246.04 Q2326.64 1246.04 2324.77 1246.45 Q2322.92 1246.87 2320.97 1247.75 L2320.97 1230.39 Z\" fill=\"#000000\" fill-rule=\"nonzero\" fill-opacity=\"1\" /><path clip-path=\"url(#clip540)\" d=\"M2217.71 992.658 Q2214.1 992.658 2212.27 996.222 Q2210.46 999.764 2210.46 1006.89 Q2210.46 1014 2212.27 1017.56 Q2214.1 1021.11 2217.71 1021.11 Q2221.34 1021.11 2223.15 1017.56 Q2224.98 1014 2224.98 1006.89 Q2224.98 999.764 2223.15 996.222 Q2221.34 992.658 2217.71 992.658 M2217.71 988.954 Q2223.52 988.954 2226.57 993.56 Q2229.65 998.144 2229.65 1006.89 Q2229.65 1015.62 2226.57 1020.23 Q2223.52 1024.81 2217.71 1024.81 Q2211.9 1024.81 2208.82 1020.23 Q2205.76 1015.62 2205.76 1006.89 Q2205.76 998.144 2208.82 993.56 Q2211.9 988.954 2217.71 988.954 Z\" fill=\"#000000\" fill-rule=\"nonzero\" fill-opacity=\"1\" /><path clip-path=\"url(#clip540)\" d=\"M2217.71 751.847 Q2214.1 751.847 2212.27 755.411 Q2210.46 758.953 2210.46 766.083 Q2210.46 773.189 2212.27 776.754 Q2214.1 780.296 2217.71 780.296 Q2221.34 780.296 2223.15 776.754 Q2224.98 773.189 2224.98 766.083 Q2224.98 758.953 2223.15 755.411 Q2221.34 751.847 2217.71 751.847 M2217.71 748.143 Q2223.52 748.143 2226.57 752.749 Q2229.65 757.333 2229.65 766.083 Q2229.65 774.81 2226.57 779.416 Q2223.52 783.999 2217.71 783.999 Q2211.9 783.999 2208.82 779.416 Q2205.76 774.81 2205.76 766.083 Q2205.76 757.333 2208.82 752.749 Q2211.9 748.143 2217.71 748.143 Z\" fill=\"#000000\" fill-rule=\"nonzero\" fill-opacity=\"1\" /><path clip-path=\"url(#clip540)\" d=\"M2237.87 777.448 L2242.75 777.448 L2242.75 783.328 L2237.87 783.328 L2237.87 777.448 Z\" fill=\"#000000\" fill-rule=\"nonzero\" fill-opacity=\"1\" /><path clip-path=\"url(#clip540)\" d=\"M2256.97 779.393 L2273.29 779.393 L2273.29 783.328 L2251.34 783.328 L2251.34 779.393 Q2254 776.638 2258.59 772.009 Q2263.19 767.356 2264.37 766.013 Q2266.62 763.49 2267.5 761.754 Q2268.4 759.995 2268.4 758.305 Q2268.4 755.55 2266.46 753.814 Q2264.54 752.078 2261.43 752.078 Q2259.24 752.078 2256.78 752.842 Q2254.35 753.606 2251.57 755.157 L2251.57 750.435 Q2254.4 749.3 2256.85 748.722 Q2259.31 748.143 2261.34 748.143 Q2266.71 748.143 2269.91 750.828 Q2273.1 753.513 2273.1 758.004 Q2273.1 760.134 2272.29 762.055 Q2271.5 763.953 2269.4 766.546 Q2268.82 767.217 2265.72 770.435 Q2262.62 773.629 2256.97 779.393 Z\" fill=\"#000000\" fill-rule=\"nonzero\" fill-opacity=\"1\" /><path clip-path=\"url(#clip540)\" d=\"M2283.15 748.768 L2301.5 748.768 L2301.5 752.703 L2287.43 752.703 L2287.43 761.175 Q2288.45 760.828 2289.47 760.666 Q2290.49 760.481 2291.5 760.481 Q2297.29 760.481 2300.67 763.652 Q2304.05 766.823 2304.05 772.24 Q2304.05 777.819 2300.58 780.921 Q2297.11 783.999 2290.79 783.999 Q2288.61 783.999 2286.34 783.629 Q2284.1 783.259 2281.69 782.518 L2281.69 777.819 Q2283.77 778.953 2285.99 779.509 Q2288.22 780.064 2290.69 780.064 Q2294.7 780.064 2297.04 777.958 Q2299.37 775.851 2299.37 772.24 Q2299.37 768.629 2297.04 766.523 Q2294.7 764.416 2290.69 764.416 Q2288.82 764.416 2286.94 764.833 Q2285.09 765.249 2283.15 766.129 L2283.15 748.768 Z\" fill=\"#000000\" fill-rule=\"nonzero\" fill-opacity=\"1\" /><path clip-path=\"url(#clip540)\" d=\"M2217.71 511.036 Q2214.1 511.036 2212.27 514.601 Q2210.46 518.142 2210.46 525.272 Q2210.46 532.378 2212.27 535.943 Q2214.1 539.485 2217.71 539.485 Q2221.34 539.485 2223.15 535.943 Q2224.98 532.378 2224.98 525.272 Q2224.98 518.142 2223.15 514.601 Q2221.34 511.036 2217.71 511.036 M2217.71 507.332 Q2223.52 507.332 2226.57 511.939 Q2229.65 516.522 2229.65 525.272 Q2229.65 533.999 2226.57 538.605 Q2223.52 543.188 2217.71 543.188 Q2211.9 543.188 2208.82 538.605 Q2205.76 533.999 2205.76 525.272 Q2205.76 516.522 2208.82 511.939 Q2211.9 507.332 2217.71 507.332 Z\" fill=\"#000000\" fill-rule=\"nonzero\" fill-opacity=\"1\" /><path clip-path=\"url(#clip540)\" d=\"M2237.87 536.637 L2242.75 536.637 L2242.75 542.517 L2237.87 542.517 L2237.87 536.637 Z\" fill=\"#000000\" fill-rule=\"nonzero\" fill-opacity=\"1\" /><path clip-path=\"url(#clip540)\" d=\"M2252.99 507.957 L2271.34 507.957 L2271.34 511.892 L2257.27 511.892 L2257.27 520.364 Q2258.29 520.017 2259.31 519.855 Q2260.32 519.67 2261.34 519.67 Q2267.13 519.67 2270.51 522.841 Q2273.89 526.013 2273.89 531.429 Q2273.89 537.008 2270.42 540.11 Q2266.94 543.188 2260.62 543.188 Q2258.45 543.188 2256.18 542.818 Q2253.93 542.448 2251.53 541.707 L2251.53 537.008 Q2253.61 538.142 2255.83 538.698 Q2258.06 539.253 2260.53 539.253 Q2264.54 539.253 2266.87 537.147 Q2269.21 535.04 2269.21 531.429 Q2269.21 527.818 2266.87 525.712 Q2264.54 523.605 2260.53 523.605 Q2258.66 523.605 2256.78 524.022 Q2254.93 524.438 2252.99 525.318 L2252.99 507.957 Z\" fill=\"#000000\" fill-rule=\"nonzero\" fill-opacity=\"1\" /><path clip-path=\"url(#clip540)\" d=\"M2293.1 511.036 Q2289.49 511.036 2287.66 514.601 Q2285.86 518.142 2285.86 525.272 Q2285.86 532.378 2287.66 535.943 Q2289.49 539.485 2293.1 539.485 Q2296.74 539.485 2298.54 535.943 Q2300.37 532.378 2300.37 525.272 Q2300.37 518.142 2298.54 514.601 Q2296.74 511.036 2293.1 511.036 M2293.1 507.332 Q2298.91 507.332 2301.97 511.939 Q2305.05 516.522 2305.05 525.272 Q2305.05 533.999 2301.97 538.605 Q2298.91 543.188 2293.1 543.188 Q2287.29 543.188 2284.21 538.605 Q2281.16 533.999 2281.16 525.272 Q2281.16 516.522 2284.21 511.939 Q2287.29 507.332 2293.1 507.332 Z\" fill=\"#000000\" fill-rule=\"nonzero\" fill-opacity=\"1\" /><path clip-path=\"url(#clip540)\" d=\"M2217.71 270.225 Q2214.1 270.225 2212.27 273.79 Q2210.46 277.331 2210.46 284.461 Q2210.46 291.567 2212.27 295.132 Q2214.1 298.674 2217.71 298.674 Q2221.34 298.674 2223.15 295.132 Q2224.98 291.567 2224.98 284.461 Q2224.98 277.331 2223.15 273.79 Q2221.34 270.225 2217.71 270.225 M2217.71 266.521 Q2223.52 266.521 2226.57 271.128 Q2229.65 275.711 2229.65 284.461 Q2229.65 293.188 2226.57 297.794 Q2223.52 302.377 2217.71 302.377 Q2211.9 302.377 2208.82 297.794 Q2205.76 293.188 2205.76 284.461 Q2205.76 275.711 2208.82 271.128 Q2211.9 266.521 2217.71 266.521 Z\" fill=\"#000000\" fill-rule=\"nonzero\" fill-opacity=\"1\" /><path clip-path=\"url(#clip540)\" d=\"M2237.87 295.827 L2242.75 295.827 L2242.75 301.706 L2237.87 301.706 L2237.87 295.827 Z\" fill=\"#000000\" fill-rule=\"nonzero\" fill-opacity=\"1\" /><path clip-path=\"url(#clip540)\" d=\"M2251.76 267.146 L2273.98 267.146 L2273.98 269.137 L2261.43 301.706 L2256.55 301.706 L2268.36 271.081 L2251.76 271.081 L2251.76 267.146 Z\" fill=\"#000000\" fill-rule=\"nonzero\" fill-opacity=\"1\" /><path clip-path=\"url(#clip540)\" d=\"M2283.15 267.146 L2301.5 267.146 L2301.5 271.081 L2287.43 271.081 L2287.43 279.554 Q2288.45 279.206 2289.47 279.044 Q2290.49 278.859 2291.5 278.859 Q2297.29 278.859 2300.67 282.03 Q2304.05 285.202 2304.05 290.618 Q2304.05 296.197 2300.58 299.299 Q2297.11 302.377 2290.79 302.377 Q2288.61 302.377 2286.34 302.007 Q2284.1 301.637 2281.69 300.896 L2281.69 296.197 Q2283.77 297.331 2285.99 297.887 Q2288.22 298.442 2290.69 298.442 Q2294.7 298.442 2297.04 296.336 Q2299.37 294.229 2299.37 290.618 Q2299.37 287.007 2297.04 284.901 Q2294.7 282.794 2290.69 282.794 Q2288.82 282.794 2286.94 283.211 Q2285.09 283.628 2283.15 284.507 L2283.15 267.146 Z\" fill=\"#000000\" fill-rule=\"nonzero\" fill-opacity=\"1\" /><path clip-path=\"url(#clip540)\" d=\"M2206.44 56.9601 L2214.07 56.9601 L2214.07 30.5945 L2205.76 32.2612 L2205.76 28.002 L2214.03 26.3353 L2218.7 26.3353 L2218.7 56.9601 L2226.34 56.9601 L2226.34 60.8953 L2206.44 60.8953 L2206.44 56.9601 Z\" fill=\"#000000\" fill-rule=\"nonzero\" fill-opacity=\"1\" /><path clip-path=\"url(#clip540)\" d=\"M2235.79 55.0157 L2240.67 55.0157 L2240.67 60.8953 L2235.79 60.8953 L2235.79 55.0157 Z\" fill=\"#000000\" fill-rule=\"nonzero\" fill-opacity=\"1\" /><path clip-path=\"url(#clip540)\" d=\"M2260.86 29.414 Q2257.24 29.414 2255.42 32.9788 Q2253.61 36.5204 2253.61 43.65 Q2253.61 50.7565 2255.42 54.3213 Q2257.24 57.8629 2260.86 57.8629 Q2264.49 57.8629 2266.3 54.3213 Q2268.12 50.7565 2268.12 43.65 Q2268.12 36.5204 2266.3 32.9788 Q2264.49 29.414 2260.86 29.414 M2260.86 25.7103 Q2266.67 25.7103 2269.72 30.3168 Q2272.8 34.9001 2272.8 43.65 Q2272.8 52.3768 2269.72 56.9833 Q2266.67 61.5666 2260.86 61.5666 Q2255.05 61.5666 2251.97 56.9833 Q2248.91 52.3768 2248.91 43.65 Q2248.91 34.9001 2251.97 30.3168 Q2255.05 25.7103 2260.86 25.7103 Z\" fill=\"#000000\" fill-rule=\"nonzero\" fill-opacity=\"1\" /><path clip-path=\"url(#clip540)\" d=\"M2291.02 29.414 Q2287.41 29.414 2285.58 32.9788 Q2283.77 36.5204 2283.77 43.65 Q2283.77 50.7565 2285.58 54.3213 Q2287.41 57.8629 2291.02 57.8629 Q2294.65 57.8629 2296.46 54.3213 Q2298.29 50.7565 2298.29 43.65 Q2298.29 36.5204 2296.46 32.9788 Q2294.65 29.414 2291.02 29.414 M2291.02 25.7103 Q2296.83 25.7103 2299.88 30.3168 Q2302.96 34.9001 2302.96 43.65 Q2302.96 52.3768 2299.88 56.9833 Q2296.83 61.5666 2291.02 61.5666 Q2285.21 61.5666 2282.13 56.9833 Q2279.07 52.3768 2279.07 43.65 Q2279.07 34.9001 2282.13 30.3168 Q2285.21 25.7103 2291.02 25.7103 Z\" fill=\"#000000\" fill-rule=\"nonzero\" fill-opacity=\"1\" /><polyline clip-path=\"url(#clip540)\" style=\"stroke:#000000; stroke-linecap:round; stroke-linejoin:round; stroke-width:4; stroke-opacity:1; fill:none\" points=\"2169.76,1423.18 2169.76,1251.3 2193.76,1251.3 2169.76,1251.3 2169.76,1010.49 2193.76,1010.49 2169.76,1010.49 2169.76,769.677 2193.76,769.677 2169.76,769.677 2169.76,528.866 2193.76,528.866 2169.76,528.866 2169.76,288.055 2193.76,288.055 2169.76,288.055 2169.76,47.2441 2193.76,47.2441 2169.76,47.2441 \"/>\n",
       "<path clip-path=\"url(#clip540)\" d=\"M2303.21 1010.07 L2319.44 1010.07 L2319.44 1002.72 Q2319.44 998.636 2317.33 996.408 Q2315.22 994.18 2311.31 994.18 Q2307.43 994.18 2305.32 996.408 Q2303.21 998.636 2303.21 1002.72 L2303.21 1010.07 M2298.4 1015.91 L2298.4 1002.72 Q2298.4 995.454 2301.7 991.75 Q2304.97 988.017 2311.31 988.017 Q2317.7 988.017 2320.97 991.75 Q2324.24 995.454 2324.24 1002.72 L2324.24 1010.07 L2341.6 1010.07 L2341.6 1015.91 L2298.4 1015.91 Z\" fill=\"#000000\" fill-rule=\"nonzero\" fill-opacity=\"1\" /><path clip-path=\"url(#clip540)\" d=\"M2324.07 954.8 L2326.67 954.8 L2326.67 979.279 Q2332.17 978.932 2335.06 975.98 Q2337.93 973 2337.93 967.705 Q2337.93 964.638 2337.18 961.773 Q2336.42 958.88 2334.92 956.044 L2339.95 956.044 Q2341.17 958.909 2341.81 961.918 Q2342.44 964.927 2342.44 968.023 Q2342.44 975.778 2337.93 980.321 Q2333.42 984.834 2325.72 984.834 Q2317.76 984.834 2313.1 980.552 Q2308.42 976.241 2308.42 968.949 Q2308.42 962.41 2312.64 958.619 Q2316.84 954.8 2324.07 954.8 M2322.51 960.124 Q2318.14 960.182 2315.53 962.583 Q2312.93 964.956 2312.93 968.891 Q2312.93 973.347 2315.45 976.038 Q2317.96 978.7 2322.54 979.105 L2322.51 960.124 Z\" fill=\"#000000\" fill-rule=\"nonzero\" fill-opacity=\"1\" /><path clip-path=\"url(#clip540)\" d=\"M2325.31 931.334 Q2325.31 937.786 2326.79 940.275 Q2328.26 942.763 2331.82 942.763 Q2334.66 942.763 2336.34 940.911 Q2337.99 939.03 2337.99 935.819 Q2337.99 931.391 2334.86 928.729 Q2331.71 926.038 2326.5 926.038 L2325.31 926.038 L2325.31 931.334 M2323.11 920.714 L2341.6 920.714 L2341.6 926.038 L2336.68 926.038 Q2339.64 927.861 2341.05 930.581 Q2342.44 933.301 2342.44 937.236 Q2342.44 942.213 2339.67 945.165 Q2336.86 948.087 2332.17 948.087 Q2326.7 948.087 2323.92 944.441 Q2321.15 940.766 2321.15 933.504 L2321.15 926.038 L2320.63 926.038 Q2316.95 926.038 2314.95 928.469 Q2312.93 930.871 2312.93 935.24 Q2312.93 938.018 2313.59 940.651 Q2314.26 943.284 2315.59 945.714 L2310.67 945.714 Q2309.54 942.792 2308.99 940.043 Q2308.42 937.294 2308.42 934.69 Q2308.42 927.659 2312.06 924.187 Q2315.71 920.714 2323.11 920.714 Z\" fill=\"#000000\" fill-rule=\"nonzero\" fill-opacity=\"1\" /><path clip-path=\"url(#clip540)\" d=\"M2314.17 890.969 Q2313.65 891.866 2313.42 892.937 Q2313.16 893.978 2313.16 895.252 Q2313.16 899.765 2316.11 902.196 Q2319.03 904.598 2324.53 904.598 L2341.6 904.598 L2341.6 909.951 L2309.2 909.951 L2309.2 904.598 L2314.23 904.598 Q2311.28 902.919 2309.86 900.228 Q2308.42 897.537 2308.42 893.689 Q2308.42 893.139 2308.5 892.474 Q2308.56 891.808 2308.7 890.998 L2314.17 890.969 Z\" fill=\"#000000\" fill-rule=\"nonzero\" fill-opacity=\"1\" /><path clip-path=\"url(#clip540)\" d=\"M2310.15 864.725 L2315.19 864.725 Q2314.03 866.982 2313.45 869.413 Q2312.87 871.843 2312.87 874.447 Q2312.87 878.411 2314.09 880.408 Q2315.3 882.376 2317.73 882.376 Q2319.58 882.376 2320.65 880.958 Q2321.7 879.54 2322.65 875.258 L2323.06 873.435 Q2324.27 867.763 2326.5 865.391 Q2328.7 862.989 2332.66 862.989 Q2337.18 862.989 2339.81 866.577 Q2342.44 870.136 2342.44 876.386 Q2342.44 878.99 2341.92 881.826 Q2341.43 884.632 2340.42 887.757 L2334.92 887.757 Q2336.45 884.806 2337.23 881.942 Q2337.99 879.077 2337.99 876.27 Q2337.99 872.509 2336.71 870.483 Q2335.41 868.458 2333.07 868.458 Q2330.9 868.458 2329.74 869.933 Q2328.58 871.38 2327.51 876.328 L2327.08 878.18 Q2326.04 883.128 2323.9 885.327 Q2321.73 887.526 2317.96 887.526 Q2313.39 887.526 2310.9 884.285 Q2308.42 881.045 2308.42 875.084 Q2308.42 872.133 2308.85 869.528 Q2309.28 866.924 2310.15 864.725 Z\" fill=\"#000000\" fill-rule=\"nonzero\" fill-opacity=\"1\" /><path clip-path=\"url(#clip540)\" d=\"M2312.93 841.953 Q2312.93 846.236 2316.29 848.724 Q2319.61 851.213 2325.43 851.213 Q2331.25 851.213 2334.6 848.753 Q2337.93 846.265 2337.93 841.953 Q2337.93 837.7 2334.57 835.211 Q2331.22 832.723 2325.43 832.723 Q2319.67 832.723 2316.31 835.211 Q2312.93 837.7 2312.93 841.953 M2308.42 841.953 Q2308.42 835.009 2312.93 831.045 Q2317.44 827.081 2325.43 827.081 Q2333.39 827.081 2337.93 831.045 Q2342.44 835.009 2342.44 841.953 Q2342.44 848.927 2337.93 852.891 Q2333.39 856.826 2325.43 856.826 Q2317.44 856.826 2312.93 852.891 Q2308.42 848.927 2308.42 841.953 Z\" fill=\"#000000\" fill-rule=\"nonzero\" fill-opacity=\"1\" /><path clip-path=\"url(#clip540)\" d=\"M2322.04 791.317 L2341.6 791.317 L2341.6 796.641 L2322.22 796.641 Q2317.62 796.641 2315.33 798.435 Q2313.04 800.229 2313.04 803.817 Q2313.04 808.128 2315.79 810.617 Q2318.54 813.105 2323.29 813.105 L2341.6 813.105 L2341.6 818.458 L2309.2 818.458 L2309.2 813.105 L2314.23 813.105 Q2311.31 811.195 2309.86 808.62 Q2308.42 806.016 2308.42 802.631 Q2308.42 797.046 2311.89 794.182 Q2315.33 791.317 2322.04 791.317 Z\" fill=\"#000000\" fill-rule=\"nonzero\" fill-opacity=\"1\" /><path clip-path=\"url(#clip540)\" d=\"M2310.44 738.539 L2315.42 738.539 Q2314.17 740.796 2313.57 743.082 Q2312.93 745.339 2312.93 747.654 Q2312.93 752.833 2316.23 755.698 Q2319.5 758.563 2325.43 758.563 Q2331.36 758.563 2334.66 755.698 Q2337.93 752.833 2337.93 747.654 Q2337.93 745.339 2337.32 743.082 Q2336.68 740.796 2335.44 738.539 L2340.36 738.539 Q2341.4 740.767 2341.92 743.169 Q2342.44 745.542 2342.44 748.233 Q2342.44 755.553 2337.84 759.865 Q2333.24 764.176 2325.43 764.176 Q2317.5 764.176 2312.96 759.836 Q2308.42 755.466 2308.42 747.886 Q2308.42 745.426 2308.94 743.082 Q2309.43 740.739 2310.44 738.539 Z\" fill=\"#000000\" fill-rule=\"nonzero\" fill-opacity=\"1\" /><path clip-path=\"url(#clip540)\" d=\"M2312.93 716.722 Q2312.93 721.005 2316.29 723.493 Q2319.61 725.982 2325.43 725.982 Q2331.25 725.982 2334.6 723.522 Q2337.93 721.034 2337.93 716.722 Q2337.93 712.469 2334.57 709.981 Q2331.22 707.492 2325.43 707.492 Q2319.67 707.492 2316.31 709.981 Q2312.93 712.469 2312.93 716.722 M2308.42 716.722 Q2308.42 709.778 2312.93 705.814 Q2317.44 701.85 2325.43 701.85 Q2333.39 701.85 2337.93 705.814 Q2342.44 709.778 2342.44 716.722 Q2342.44 723.696 2337.93 727.66 Q2333.39 731.595 2325.43 731.595 Q2317.44 731.595 2312.93 727.66 Q2308.42 723.696 2308.42 716.722 Z\" fill=\"#000000\" fill-rule=\"nonzero\" fill-opacity=\"1\" /><path clip-path=\"url(#clip540)\" d=\"M2314.17 674.246 Q2313.65 675.143 2313.42 676.213 Q2313.16 677.255 2313.16 678.528 Q2313.16 683.042 2316.11 685.473 Q2319.03 687.874 2324.53 687.874 L2341.6 687.874 L2341.6 693.227 L2309.2 693.227 L2309.2 687.874 L2314.23 687.874 Q2311.28 686.196 2309.86 683.505 Q2308.42 680.814 2308.42 676.966 Q2308.42 676.416 2308.5 675.75 Q2308.56 675.085 2308.7 674.275 L2314.17 674.246 Z\" fill=\"#000000\" fill-rule=\"nonzero\" fill-opacity=\"1\" /><path clip-path=\"url(#clip540)\" d=\"M2314.17 650.924 Q2313.65 651.821 2313.42 652.892 Q2313.16 653.933 2313.16 655.207 Q2313.16 659.72 2316.11 662.151 Q2319.03 664.553 2324.53 664.553 L2341.6 664.553 L2341.6 669.906 L2309.2 669.906 L2309.2 664.553 L2314.23 664.553 Q2311.28 662.874 2309.86 660.183 Q2308.42 657.492 2308.42 653.644 Q2308.42 653.094 2308.5 652.429 Q2308.56 651.763 2308.7 650.953 L2314.17 650.924 Z\" fill=\"#000000\" fill-rule=\"nonzero\" fill-opacity=\"1\" /><path clip-path=\"url(#clip540)\" d=\"M2324.07 618.922 L2326.67 618.922 L2326.67 643.401 Q2332.17 643.054 2335.06 640.103 Q2337.93 637.122 2337.93 631.827 Q2337.93 628.76 2337.18 625.895 Q2336.42 623.002 2334.92 620.166 L2339.95 620.166 Q2341.17 623.031 2341.81 626.04 Q2342.44 629.049 2342.44 632.145 Q2342.44 639.9 2337.93 644.443 Q2333.42 648.957 2325.72 648.957 Q2317.76 648.957 2313.1 644.674 Q2308.42 640.363 2308.42 633.071 Q2308.42 626.532 2312.64 622.742 Q2316.84 618.922 2324.07 618.922 M2322.51 624.246 Q2318.14 624.304 2315.53 626.706 Q2312.93 629.078 2312.93 633.013 Q2312.93 637.469 2315.45 640.16 Q2317.96 642.822 2322.54 643.228 L2322.51 624.246 Z\" fill=\"#000000\" fill-rule=\"nonzero\" fill-opacity=\"1\" /><path clip-path=\"url(#clip540)\" d=\"M2296.58 610.184 L2296.58 604.86 L2341.6 604.86 L2341.6 610.184 L2296.58 610.184 Z\" fill=\"#000000\" fill-rule=\"nonzero\" fill-opacity=\"1\" /><path clip-path=\"url(#clip540)\" d=\"M2325.31 578.992 Q2325.31 585.444 2326.79 587.933 Q2328.26 590.421 2331.82 590.421 Q2334.66 590.421 2336.34 588.569 Q2337.99 586.688 2337.99 583.477 Q2337.99 579.05 2334.86 576.388 Q2331.71 573.697 2326.5 573.697 L2325.31 573.697 L2325.31 578.992 M2323.11 568.373 L2341.6 568.373 L2341.6 573.697 L2336.68 573.697 Q2339.64 575.52 2341.05 578.239 Q2342.44 580.959 2342.44 584.894 Q2342.44 589.871 2339.67 592.823 Q2336.86 595.745 2332.17 595.745 Q2326.7 595.745 2323.92 592.099 Q2321.15 588.425 2321.15 581.162 L2321.15 573.697 L2320.63 573.697 Q2316.95 573.697 2314.95 576.127 Q2312.93 578.529 2312.93 582.898 Q2312.93 585.676 2313.59 588.309 Q2314.26 590.942 2315.59 593.372 L2310.67 593.372 Q2309.54 590.45 2308.99 587.701 Q2308.42 584.952 2308.42 582.348 Q2308.42 575.317 2312.06 571.845 Q2315.71 568.373 2323.11 568.373 Z\" fill=\"#000000\" fill-rule=\"nonzero\" fill-opacity=\"1\" /><path clip-path=\"url(#clip540)\" d=\"M2300 552.14 L2309.2 552.14 L2309.2 541.174 L2313.33 541.174 L2313.33 552.14 L2330.93 552.14 Q2334.89 552.14 2336.02 551.069 Q2337.15 549.97 2337.15 546.642 L2337.15 541.174 L2341.6 541.174 L2341.6 546.642 Q2341.6 552.806 2339.32 555.149 Q2337 557.493 2330.93 557.493 L2313.33 557.493 L2313.33 561.399 L2309.2 561.399 L2309.2 557.493 L2300 557.493 L2300 552.14 Z\" fill=\"#000000\" fill-rule=\"nonzero\" fill-opacity=\"1\" /><path clip-path=\"url(#clip540)\" d=\"M2309.2 534.171 L2309.2 528.847 L2341.6 528.847 L2341.6 534.171 L2309.2 534.171 M2296.58 534.171 L2296.58 528.847 L2303.32 528.847 L2303.32 534.171 L2296.58 534.171 Z\" fill=\"#000000\" fill-rule=\"nonzero\" fill-opacity=\"1\" /><path clip-path=\"url(#clip540)\" d=\"M2312.93 505.15 Q2312.93 509.432 2316.29 511.92 Q2319.61 514.409 2325.43 514.409 Q2331.25 514.409 2334.6 511.949 Q2337.93 509.461 2337.93 505.15 Q2337.93 500.896 2334.57 498.408 Q2331.22 495.919 2325.43 495.919 Q2319.67 495.919 2316.31 498.408 Q2312.93 500.896 2312.93 505.15 M2308.42 505.15 Q2308.42 498.205 2312.93 494.241 Q2317.44 490.277 2325.43 490.277 Q2333.39 490.277 2337.93 494.241 Q2342.44 498.205 2342.44 505.15 Q2342.44 512.123 2337.93 516.087 Q2333.39 520.022 2325.43 520.022 Q2317.44 520.022 2312.93 516.087 Q2308.42 512.123 2308.42 505.15 Z\" fill=\"#000000\" fill-rule=\"nonzero\" fill-opacity=\"1\" /><path clip-path=\"url(#clip540)\" d=\"M2322.04 454.513 L2341.6 454.513 L2341.6 459.837 L2322.22 459.837 Q2317.62 459.837 2315.33 461.631 Q2313.04 463.425 2313.04 467.013 Q2313.04 471.324 2315.79 473.813 Q2318.54 476.301 2323.29 476.301 L2341.6 476.301 L2341.6 481.654 L2309.2 481.654 L2309.2 476.301 L2314.23 476.301 Q2311.31 474.392 2309.86 471.816 Q2308.42 469.212 2308.42 465.827 Q2308.42 460.242 2311.89 457.378 Q2315.33 454.513 2322.04 454.513 Z\" fill=\"#000000\" fill-rule=\"nonzero\" fill-opacity=\"1\" /></svg>\n"
      ]
     },
     "execution_count": 16,
     "metadata": {},
     "output_type": "execute_result"
    }
   ],
   "source": [
    "heatmap(c,xlabel = \"variable number\" , ylabel = \"variable number\", colorbar_title = \"Pearson correlation\")"
   ]
  },
  {
   "cell_type": "markdown",
   "id": "3121140a",
   "metadata": {},
   "source": [
    "## E24:\n",
    "\n",
    "What are the two variables that you would merge to one?"
   ]
  },
  {
   "cell_type": "markdown",
   "id": "351d1c73",
   "metadata": {},
   "source": [
    "> **Answer to E24** \n",
    ">\n",
    "> For example the variables 3 and 4 are too similar to each other.\n",
    "> "
   ]
  },
  {
   "cell_type": "code",
   "execution_count": 17,
   "id": "0874d914",
   "metadata": {},
   "outputs": [
    {
     "data": {
      "image/svg+xml": [
       "<?xml version=\"1.0\" encoding=\"utf-8\"?>\n",
       "<svg xmlns=\"http://www.w3.org/2000/svg\" xmlns:xlink=\"http://www.w3.org/1999/xlink\" width=\"600\" height=\"400\" viewBox=\"0 0 2400 1600\">\n",
       "<defs>\n",
       "  <clipPath id=\"clip580\">\n",
       "    <rect x=\"0\" y=\"0\" width=\"2400\" height=\"1600\"/>\n",
       "  </clipPath>\n",
       "</defs>\n",
       "<path clip-path=\"url(#clip580)\" d=\"M0 1600 L2400 1600 L2400 0 L0 0  Z\" fill=\"#ffffff\" fill-rule=\"evenodd\" fill-opacity=\"1\"/>\n",
       "<defs>\n",
       "  <clipPath id=\"clip581\">\n",
       "    <rect x=\"480\" y=\"0\" width=\"1681\" height=\"1600\"/>\n",
       "  </clipPath>\n",
       "</defs>\n",
       "<path clip-path=\"url(#clip580)\" d=\"M219.033 1423.18 L2352.76 1423.18 L2352.76 47.2441 L219.033 47.2441  Z\" fill=\"#ffffff\" fill-rule=\"evenodd\" fill-opacity=\"1\"/>\n",
       "<defs>\n",
       "  <clipPath id=\"clip582\">\n",
       "    <rect x=\"219\" y=\"47\" width=\"2135\" height=\"1377\"/>\n",
       "  </clipPath>\n",
       "</defs>\n",
       "<polyline clip-path=\"url(#clip582)\" style=\"stroke:#000000; stroke-linecap:round; stroke-linejoin:round; stroke-width:2; stroke-opacity:0.1; fill:none\" points=\"279.421,1423.18 279.421,47.2441 \"/>\n",
       "<polyline clip-path=\"url(#clip582)\" style=\"stroke:#000000; stroke-linecap:round; stroke-linejoin:round; stroke-width:2; stroke-opacity:0.1; fill:none\" points=\"620.599,1423.18 620.599,47.2441 \"/>\n",
       "<polyline clip-path=\"url(#clip582)\" style=\"stroke:#000000; stroke-linecap:round; stroke-linejoin:round; stroke-width:2; stroke-opacity:0.1; fill:none\" points=\"961.776,1423.18 961.776,47.2441 \"/>\n",
       "<polyline clip-path=\"url(#clip582)\" style=\"stroke:#000000; stroke-linecap:round; stroke-linejoin:round; stroke-width:2; stroke-opacity:0.1; fill:none\" points=\"1302.95,1423.18 1302.95,47.2441 \"/>\n",
       "<polyline clip-path=\"url(#clip582)\" style=\"stroke:#000000; stroke-linecap:round; stroke-linejoin:round; stroke-width:2; stroke-opacity:0.1; fill:none\" points=\"1644.13,1423.18 1644.13,47.2441 \"/>\n",
       "<polyline clip-path=\"url(#clip582)\" style=\"stroke:#000000; stroke-linecap:round; stroke-linejoin:round; stroke-width:2; stroke-opacity:0.1; fill:none\" points=\"1985.31,1423.18 1985.31,47.2441 \"/>\n",
       "<polyline clip-path=\"url(#clip582)\" style=\"stroke:#000000; stroke-linecap:round; stroke-linejoin:round; stroke-width:2; stroke-opacity:0.1; fill:none\" points=\"2326.49,1423.18 2326.49,47.2441 \"/>\n",
       "<polyline clip-path=\"url(#clip580)\" style=\"stroke:#000000; stroke-linecap:round; stroke-linejoin:round; stroke-width:4; stroke-opacity:1; fill:none\" points=\"219.033,1423.18 2352.76,1423.18 \"/>\n",
       "<polyline clip-path=\"url(#clip580)\" style=\"stroke:#000000; stroke-linecap:round; stroke-linejoin:round; stroke-width:4; stroke-opacity:1; fill:none\" points=\"279.421,1423.18 279.421,1404.28 \"/>\n",
       "<polyline clip-path=\"url(#clip580)\" style=\"stroke:#000000; stroke-linecap:round; stroke-linejoin:round; stroke-width:4; stroke-opacity:1; fill:none\" points=\"620.599,1423.18 620.599,1404.28 \"/>\n",
       "<polyline clip-path=\"url(#clip580)\" style=\"stroke:#000000; stroke-linecap:round; stroke-linejoin:round; stroke-width:4; stroke-opacity:1; fill:none\" points=\"961.776,1423.18 961.776,1404.28 \"/>\n",
       "<polyline clip-path=\"url(#clip580)\" style=\"stroke:#000000; stroke-linecap:round; stroke-linejoin:round; stroke-width:4; stroke-opacity:1; fill:none\" points=\"1302.95,1423.18 1302.95,1404.28 \"/>\n",
       "<polyline clip-path=\"url(#clip580)\" style=\"stroke:#000000; stroke-linecap:round; stroke-linejoin:round; stroke-width:4; stroke-opacity:1; fill:none\" points=\"1644.13,1423.18 1644.13,1404.28 \"/>\n",
       "<polyline clip-path=\"url(#clip580)\" style=\"stroke:#000000; stroke-linecap:round; stroke-linejoin:round; stroke-width:4; stroke-opacity:1; fill:none\" points=\"1985.31,1423.18 1985.31,1404.28 \"/>\n",
       "<polyline clip-path=\"url(#clip580)\" style=\"stroke:#000000; stroke-linecap:round; stroke-linejoin:round; stroke-width:4; stroke-opacity:1; fill:none\" points=\"2326.49,1423.18 2326.49,1404.28 \"/>\n",
       "<path clip-path=\"url(#clip580)\" d=\"M269.803 1481.64 L277.442 1481.64 L277.442 1455.28 L269.132 1456.95 L269.132 1452.69 L277.396 1451.02 L282.072 1451.02 L282.072 1481.64 L289.711 1481.64 L289.711 1485.58 L269.803 1485.58 L269.803 1481.64 Z\" fill=\"#000000\" fill-rule=\"nonzero\" fill-opacity=\"1\" /><path clip-path=\"url(#clip580)\" d=\"M615.251 1481.64 L631.571 1481.64 L631.571 1485.58 L609.626 1485.58 L609.626 1481.64 Q612.289 1478.89 616.872 1474.26 Q621.478 1469.61 622.659 1468.27 Q624.904 1465.74 625.784 1464.01 Q626.687 1462.25 626.687 1460.56 Q626.687 1457.8 624.742 1456.07 Q622.821 1454.33 619.719 1454.33 Q617.52 1454.33 615.066 1455.09 Q612.636 1455.86 609.858 1457.41 L609.858 1452.69 Q612.682 1451.55 615.136 1450.97 Q617.589 1450.39 619.626 1450.39 Q624.997 1450.39 628.191 1453.08 Q631.386 1455.77 631.386 1460.26 Q631.386 1462.39 630.575 1464.31 Q629.788 1466.2 627.682 1468.8 Q627.103 1469.47 624.001 1472.69 Q620.9 1475.88 615.251 1481.64 Z\" fill=\"#000000\" fill-rule=\"nonzero\" fill-opacity=\"1\" /><path clip-path=\"url(#clip580)\" d=\"M966.024 1466.95 Q969.38 1467.66 971.255 1469.93 Q973.153 1472.2 973.153 1475.53 Q973.153 1480.65 969.635 1483.45 Q966.116 1486.25 959.635 1486.25 Q957.459 1486.25 955.144 1485.81 Q952.852 1485.39 950.399 1484.54 L950.399 1480.02 Q952.343 1481.16 954.658 1481.74 Q956.973 1482.32 959.496 1482.32 Q963.894 1482.32 966.186 1480.58 Q968.5 1478.84 968.5 1475.53 Q968.5 1472.48 966.348 1470.77 Q964.218 1469.03 960.399 1469.03 L956.371 1469.03 L956.371 1465.19 L960.584 1465.19 Q964.033 1465.19 965.862 1463.82 Q967.69 1462.43 967.69 1459.84 Q967.69 1457.18 965.792 1455.77 Q963.917 1454.33 960.399 1454.33 Q958.477 1454.33 956.278 1454.75 Q954.079 1455.16 951.44 1456.04 L951.44 1451.88 Q954.102 1451.14 956.417 1450.77 Q958.755 1450.39 960.815 1450.39 Q966.139 1450.39 969.241 1452.83 Q972.343 1455.23 972.343 1459.35 Q972.343 1462.22 970.7 1464.21 Q969.056 1466.18 966.024 1466.95 Z\" fill=\"#000000\" fill-rule=\"nonzero\" fill-opacity=\"1\" /><path clip-path=\"url(#clip580)\" d=\"M1305.96 1455.09 L1294.16 1473.54 L1305.96 1473.54 L1305.96 1455.09 M1304.74 1451.02 L1310.62 1451.02 L1310.62 1473.54 L1315.55 1473.54 L1315.55 1477.43 L1310.62 1477.43 L1310.62 1485.58 L1305.96 1485.58 L1305.96 1477.43 L1290.36 1477.43 L1290.36 1472.92 L1304.74 1451.02 Z\" fill=\"#000000\" fill-rule=\"nonzero\" fill-opacity=\"1\" /><path clip-path=\"url(#clip580)\" d=\"M1634.41 1451.02 L1652.76 1451.02 L1652.76 1454.96 L1638.69 1454.96 L1638.69 1463.43 Q1639.71 1463.08 1640.73 1462.92 Q1641.75 1462.73 1642.76 1462.73 Q1648.55 1462.73 1651.93 1465.9 Q1655.31 1469.08 1655.31 1474.49 Q1655.31 1480.07 1651.84 1483.17 Q1648.37 1486.25 1642.05 1486.25 Q1639.87 1486.25 1637.6 1485.88 Q1635.36 1485.51 1632.95 1484.77 L1632.95 1480.07 Q1635.03 1481.2 1637.26 1481.76 Q1639.48 1482.32 1641.95 1482.32 Q1645.96 1482.32 1648.3 1480.21 Q1650.64 1478.1 1650.64 1474.49 Q1650.64 1470.88 1648.3 1468.77 Q1645.96 1466.67 1641.95 1466.67 Q1640.08 1466.67 1638.2 1467.08 Q1636.35 1467.5 1634.41 1468.38 L1634.41 1451.02 Z\" fill=\"#000000\" fill-rule=\"nonzero\" fill-opacity=\"1\" /><path clip-path=\"url(#clip580)\" d=\"M1985.71 1466.44 Q1982.56 1466.44 1980.71 1468.59 Q1978.88 1470.74 1978.88 1474.49 Q1978.88 1478.22 1980.71 1480.39 Q1982.56 1482.55 1985.71 1482.55 Q1988.86 1482.55 1990.69 1480.39 Q1992.54 1478.22 1992.54 1474.49 Q1992.54 1470.74 1990.69 1468.59 Q1988.86 1466.44 1985.71 1466.44 M1995 1451.78 L1995 1456.04 Q1993.24 1455.21 1991.43 1454.77 Q1989.65 1454.33 1987.89 1454.33 Q1983.26 1454.33 1980.81 1457.45 Q1978.38 1460.58 1978.03 1466.9 Q1979.39 1464.89 1981.45 1463.82 Q1983.51 1462.73 1985.99 1462.73 Q1991.2 1462.73 1994.21 1465.9 Q1997.24 1469.05 1997.24 1474.49 Q1997.24 1479.82 1994.09 1483.03 Q1990.94 1486.25 1985.71 1486.25 Q1979.72 1486.25 1976.55 1481.67 Q1973.38 1477.06 1973.38 1468.33 Q1973.38 1460.14 1977.26 1455.28 Q1981.15 1450.39 1987.7 1450.39 Q1989.46 1450.39 1991.25 1450.74 Q1993.05 1451.09 1995 1451.78 Z\" fill=\"#000000\" fill-rule=\"nonzero\" fill-opacity=\"1\" /><path clip-path=\"url(#clip580)\" d=\"M2315.37 1451.02 L2337.6 1451.02 L2337.6 1453.01 L2325.05 1485.58 L2320.17 1485.58 L2331.97 1454.96 L2315.37 1454.96 L2315.37 1451.02 Z\" fill=\"#000000\" fill-rule=\"nonzero\" fill-opacity=\"1\" /><path clip-path=\"url(#clip580)\" d=\"M1099.59 1532.4 L1105.79 1532.4 L1116.93 1562.31 L1128.07 1532.4 L1134.28 1532.4 L1120.91 1568.04 L1112.95 1568.04 L1099.59 1532.4 Z\" fill=\"#000000\" fill-rule=\"nonzero\" fill-opacity=\"1\" /><path clip-path=\"url(#clip580)\" d=\"M1158.56 1550.12 Q1151.47 1550.12 1148.73 1551.75 Q1145.99 1553.37 1145.99 1557.29 Q1145.99 1560.4 1148.03 1562.25 Q1150.1 1564.07 1153.63 1564.07 Q1158.5 1564.07 1161.43 1560.63 Q1164.39 1557.16 1164.39 1551.43 L1164.39 1550.12 L1158.56 1550.12 M1170.25 1547.71 L1170.25 1568.04 L1164.39 1568.04 L1164.39 1562.63 Q1162.38 1565.88 1159.39 1567.44 Q1156.4 1568.97 1152.07 1568.97 Q1146.6 1568.97 1143.35 1565.91 Q1140.14 1562.82 1140.14 1557.67 Q1140.14 1551.65 1144.15 1548.6 Q1148.19 1545.54 1156.18 1545.54 L1164.39 1545.54 L1164.39 1544.97 Q1164.39 1540.93 1161.72 1538.73 Q1159.07 1536.5 1154.27 1536.5 Q1151.21 1536.5 1148.32 1537.23 Q1145.42 1537.97 1142.75 1539.43 L1142.75 1534.02 Q1145.96 1532.78 1148.98 1532.17 Q1152.01 1531.54 1154.87 1531.54 Q1162.61 1531.54 1166.43 1535.55 Q1170.25 1539.56 1170.25 1547.71 Z\" fill=\"#000000\" fill-rule=\"nonzero\" fill-opacity=\"1\" /><path clip-path=\"url(#clip580)\" d=\"M1202.97 1537.87 Q1201.98 1537.3 1200.8 1537.04 Q1199.66 1536.76 1198.25 1536.76 Q1193.29 1536.76 1190.62 1540 Q1187.97 1543.22 1187.97 1549.27 L1187.97 1568.04 L1182.09 1568.04 L1182.09 1532.4 L1187.97 1532.4 L1187.97 1537.93 Q1189.82 1534.69 1192.78 1533.13 Q1195.74 1531.54 1199.97 1531.54 Q1200.58 1531.54 1201.31 1531.63 Q1202.04 1531.7 1202.93 1531.85 L1202.97 1537.87 Z\" fill=\"#000000\" fill-rule=\"nonzero\" fill-opacity=\"1\" /><path clip-path=\"url(#clip580)\" d=\"M1209.11 1532.4 L1214.96 1532.4 L1214.96 1568.04 L1209.11 1568.04 L1209.11 1532.4 M1209.11 1518.52 L1214.96 1518.52 L1214.96 1525.93 L1209.11 1525.93 L1209.11 1518.52 Z\" fill=\"#000000\" fill-rule=\"nonzero\" fill-opacity=\"1\" /><path clip-path=\"url(#clip580)\" d=\"M1243.42 1550.12 Q1236.32 1550.12 1233.58 1551.75 Q1230.85 1553.37 1230.85 1557.29 Q1230.85 1560.4 1232.88 1562.25 Q1234.95 1564.07 1238.49 1564.07 Q1243.36 1564.07 1246.28 1560.63 Q1249.24 1557.16 1249.24 1551.43 L1249.24 1550.12 L1243.42 1550.12 M1255.1 1547.71 L1255.1 1568.04 L1249.24 1568.04 L1249.24 1562.63 Q1247.24 1565.88 1244.25 1567.44 Q1241.25 1568.97 1236.93 1568.97 Q1231.45 1568.97 1228.21 1565.91 Q1224.99 1562.82 1224.99 1557.67 Q1224.99 1551.65 1229 1548.6 Q1233.04 1545.54 1241.03 1545.54 L1249.24 1545.54 L1249.24 1544.97 Q1249.24 1540.93 1246.57 1538.73 Q1243.93 1536.5 1239.12 1536.5 Q1236.07 1536.5 1233.17 1537.23 Q1230.27 1537.97 1227.6 1539.43 L1227.6 1534.02 Q1230.82 1532.78 1233.84 1532.17 Q1236.86 1531.54 1239.73 1531.54 Q1247.46 1531.54 1251.28 1535.55 Q1255.1 1539.56 1255.1 1547.71 Z\" fill=\"#000000\" fill-rule=\"nonzero\" fill-opacity=\"1\" /><path clip-path=\"url(#clip580)\" d=\"M1292.75 1550.25 Q1292.75 1543.79 1290.08 1540.13 Q1287.44 1536.44 1282.79 1536.44 Q1278.14 1536.44 1275.47 1540.13 Q1272.83 1543.79 1272.83 1550.25 Q1272.83 1556.71 1275.47 1560.4 Q1278.14 1564.07 1282.79 1564.07 Q1287.44 1564.07 1290.08 1560.4 Q1292.75 1556.71 1292.75 1550.25 M1272.83 1537.81 Q1274.67 1534.62 1277.48 1533.1 Q1280.31 1531.54 1284.22 1531.54 Q1290.72 1531.54 1294.76 1536.69 Q1298.83 1541.85 1298.83 1550.25 Q1298.83 1558.65 1294.76 1563.81 Q1290.72 1568.97 1284.22 1568.97 Q1280.31 1568.97 1277.48 1567.44 Q1274.67 1565.88 1272.83 1562.7 L1272.83 1568.04 L1266.94 1568.04 L1266.94 1518.52 L1272.83 1518.52 L1272.83 1537.81 Z\" fill=\"#000000\" fill-rule=\"nonzero\" fill-opacity=\"1\" /><path clip-path=\"url(#clip580)\" d=\"M1308.54 1518.52 L1314.4 1518.52 L1314.4 1568.04 L1308.54 1568.04 L1308.54 1518.52 Z\" fill=\"#000000\" fill-rule=\"nonzero\" fill-opacity=\"1\" /><path clip-path=\"url(#clip580)\" d=\"M1357.14 1548.76 L1357.14 1551.62 L1330.22 1551.62 Q1330.6 1557.67 1333.84 1560.85 Q1337.12 1564 1342.95 1564 Q1346.32 1564 1349.47 1563.17 Q1352.65 1562.35 1355.77 1560.69 L1355.77 1566.23 Q1352.62 1567.57 1349.31 1568.27 Q1346 1568.97 1342.6 1568.97 Q1334.07 1568.97 1329.07 1564 Q1324.1 1559.04 1324.1 1550.57 Q1324.1 1541.82 1328.82 1536.69 Q1333.56 1531.54 1341.58 1531.54 Q1348.77 1531.54 1352.94 1536.18 Q1357.14 1540.8 1357.14 1548.76 M1351.29 1547.04 Q1351.22 1542.23 1348.58 1539.37 Q1345.97 1536.5 1341.64 1536.5 Q1336.74 1536.5 1333.78 1539.27 Q1330.85 1542.04 1330.41 1547.07 L1351.29 1547.04 Z\" fill=\"#000000\" fill-rule=\"nonzero\" fill-opacity=\"1\" /><path clip-path=\"url(#clip580)\" d=\"M1414.66 1539.37 L1405.39 1539.37 L1402.72 1550 L1412.05 1550 L1414.66 1539.37 M1409.88 1521.26 L1406.57 1534.46 L1415.87 1534.46 L1419.21 1521.26 L1424.3 1521.26 L1421.02 1534.46 L1430.95 1534.46 L1430.95 1539.37 L1419.78 1539.37 L1417.17 1550 L1427.29 1550 L1427.29 1554.87 L1415.93 1554.87 L1412.62 1568.04 L1407.53 1568.04 L1410.81 1554.87 L1401.48 1554.87 L1398.2 1568.04 L1393.08 1568.04 L1396.39 1554.87 L1386.36 1554.87 L1386.36 1550 L1397.56 1550 L1400.24 1539.37 L1389.99 1539.37 L1389.99 1534.46 L1401.48 1534.46 L1404.73 1521.26 L1409.88 1521.26 Z\" fill=\"#000000\" fill-rule=\"nonzero\" fill-opacity=\"1\" /><path clip-path=\"url(#clip580)\" d=\"M1462.4 1542.42 Q1467.01 1543.41 1469.59 1546.53 Q1472.2 1549.65 1472.2 1554.23 Q1472.2 1561.26 1467.36 1565.12 Q1462.53 1568.97 1453.61 1568.97 Q1450.62 1568.97 1447.44 1568.36 Q1444.29 1567.79 1440.92 1566.61 L1440.92 1560.4 Q1443.59 1561.96 1446.77 1562.76 Q1449.95 1563.56 1453.42 1563.56 Q1459.47 1563.56 1462.62 1561.17 Q1465.81 1558.78 1465.81 1554.23 Q1465.81 1550.03 1462.85 1547.67 Q1459.92 1545.29 1454.67 1545.29 L1449.13 1545.29 L1449.13 1540 L1454.92 1540 Q1459.66 1540 1462.18 1538.13 Q1464.69 1536.22 1464.69 1532.65 Q1464.69 1528.99 1462.08 1527.05 Q1459.5 1525.08 1454.67 1525.08 Q1452.02 1525.08 1449 1525.65 Q1445.98 1526.22 1442.35 1527.43 L1442.35 1521.7 Q1446.01 1520.68 1449.19 1520.17 Q1452.41 1519.66 1455.24 1519.66 Q1462.56 1519.66 1466.82 1523.01 Q1471.09 1526.32 1471.09 1531.98 Q1471.09 1535.93 1468.83 1538.67 Q1466.57 1541.37 1462.4 1542.42 Z\" fill=\"#000000\" fill-rule=\"nonzero\" fill-opacity=\"1\" /><polyline clip-path=\"url(#clip582)\" style=\"stroke:#000000; stroke-linecap:round; stroke-linejoin:round; stroke-width:2; stroke-opacity:0.1; fill:none\" points=\"219.033,1167.9 2352.76,1167.9 \"/>\n",
       "<polyline clip-path=\"url(#clip582)\" style=\"stroke:#000000; stroke-linecap:round; stroke-linejoin:round; stroke-width:2; stroke-opacity:0.1; fill:none\" points=\"219.033,897.469 2352.76,897.469 \"/>\n",
       "<polyline clip-path=\"url(#clip582)\" style=\"stroke:#000000; stroke-linecap:round; stroke-linejoin:round; stroke-width:2; stroke-opacity:0.1; fill:none\" points=\"219.033,627.041 2352.76,627.041 \"/>\n",
       "<polyline clip-path=\"url(#clip582)\" style=\"stroke:#000000; stroke-linecap:round; stroke-linejoin:round; stroke-width:2; stroke-opacity:0.1; fill:none\" points=\"219.033,356.613 2352.76,356.613 \"/>\n",
       "<polyline clip-path=\"url(#clip582)\" style=\"stroke:#000000; stroke-linecap:round; stroke-linejoin:round; stroke-width:2; stroke-opacity:0.1; fill:none\" points=\"219.033,86.1857 2352.76,86.1857 \"/>\n",
       "<polyline clip-path=\"url(#clip580)\" style=\"stroke:#000000; stroke-linecap:round; stroke-linejoin:round; stroke-width:4; stroke-opacity:1; fill:none\" points=\"219.033,1423.18 219.033,47.2441 \"/>\n",
       "<polyline clip-path=\"url(#clip580)\" style=\"stroke:#000000; stroke-linecap:round; stroke-linejoin:round; stroke-width:4; stroke-opacity:1; fill:none\" points=\"219.033,1167.9 237.931,1167.9 \"/>\n",
       "<polyline clip-path=\"url(#clip580)\" style=\"stroke:#000000; stroke-linecap:round; stroke-linejoin:round; stroke-width:4; stroke-opacity:1; fill:none\" points=\"219.033,897.469 237.931,897.469 \"/>\n",
       "<polyline clip-path=\"url(#clip580)\" style=\"stroke:#000000; stroke-linecap:round; stroke-linejoin:round; stroke-width:4; stroke-opacity:1; fill:none\" points=\"219.033,627.041 237.931,627.041 \"/>\n",
       "<polyline clip-path=\"url(#clip580)\" style=\"stroke:#000000; stroke-linecap:round; stroke-linejoin:round; stroke-width:4; stroke-opacity:1; fill:none\" points=\"219.033,356.613 237.931,356.613 \"/>\n",
       "<polyline clip-path=\"url(#clip580)\" style=\"stroke:#000000; stroke-linecap:round; stroke-linejoin:round; stroke-width:4; stroke-opacity:1; fill:none\" points=\"219.033,86.1857 237.931,86.1857 \"/>\n",
       "<path clip-path=\"url(#clip580)\" d=\"M126.853 1153.69 Q123.242 1153.69 121.413 1157.26 Q119.607 1160.8 119.607 1167.93 Q119.607 1175.04 121.413 1178.6 Q123.242 1182.14 126.853 1182.14 Q130.487 1182.14 132.292 1178.6 Q134.121 1175.04 134.121 1167.93 Q134.121 1160.8 132.292 1157.26 Q130.487 1153.69 126.853 1153.69 M126.853 1149.99 Q132.663 1149.99 135.718 1154.6 Q138.797 1159.18 138.797 1167.93 Q138.797 1176.66 135.718 1181.26 Q132.663 1185.85 126.853 1185.85 Q121.043 1185.85 117.964 1181.26 Q114.908 1176.66 114.908 1167.93 Q114.908 1159.18 117.964 1154.6 Q121.043 1149.99 126.853 1149.99 Z\" fill=\"#000000\" fill-rule=\"nonzero\" fill-opacity=\"1\" /><path clip-path=\"url(#clip580)\" d=\"M147.015 1179.3 L151.899 1179.3 L151.899 1185.18 L147.015 1185.18 L147.015 1179.3 Z\" fill=\"#000000\" fill-rule=\"nonzero\" fill-opacity=\"1\" /><path clip-path=\"url(#clip580)\" d=\"M162.13 1150.62 L180.487 1150.62 L180.487 1154.55 L166.413 1154.55 L166.413 1163.02 Q167.431 1162.68 168.45 1162.51 Q169.468 1162.33 170.487 1162.33 Q176.274 1162.33 179.653 1165.5 Q183.033 1168.67 183.033 1174.09 Q183.033 1179.67 179.561 1182.77 Q176.089 1185.85 169.769 1185.85 Q167.593 1185.85 165.325 1185.48 Q163.079 1185.11 160.672 1184.37 L160.672 1179.67 Q162.755 1180.8 164.977 1181.36 Q167.2 1181.91 169.677 1181.91 Q173.681 1181.91 176.019 1179.81 Q178.357 1177.7 178.357 1174.09 Q178.357 1170.48 176.019 1168.37 Q173.681 1166.26 169.677 1166.26 Q167.802 1166.26 165.927 1166.68 Q164.075 1167.1 162.13 1167.98 L162.13 1150.62 Z\" fill=\"#000000\" fill-rule=\"nonzero\" fill-opacity=\"1\" /><path clip-path=\"url(#clip580)\" d=\"M116.668 910.813 L124.306 910.813 L124.306 884.448 L115.996 886.114 L115.996 881.855 L124.26 880.189 L128.936 880.189 L128.936 910.813 L136.575 910.813 L136.575 914.749 L116.668 914.749 L116.668 910.813 Z\" fill=\"#000000\" fill-rule=\"nonzero\" fill-opacity=\"1\" /><path clip-path=\"url(#clip580)\" d=\"M146.019 908.869 L150.903 908.869 L150.903 914.749 L146.019 914.749 L146.019 908.869 Z\" fill=\"#000000\" fill-rule=\"nonzero\" fill-opacity=\"1\" /><path clip-path=\"url(#clip580)\" d=\"M171.089 883.267 Q167.477 883.267 165.649 886.832 Q163.843 890.374 163.843 897.503 Q163.843 904.61 165.649 908.175 Q167.477 911.716 171.089 911.716 Q174.723 911.716 176.528 908.175 Q178.357 904.61 178.357 897.503 Q178.357 890.374 176.528 886.832 Q174.723 883.267 171.089 883.267 M171.089 879.564 Q176.899 879.564 179.954 884.17 Q183.033 888.753 183.033 897.503 Q183.033 906.23 179.954 910.837 Q176.899 915.42 171.089 915.42 Q165.278 915.42 162.2 910.837 Q159.144 906.23 159.144 897.503 Q159.144 888.753 162.2 884.17 Q165.278 879.564 171.089 879.564 Z\" fill=\"#000000\" fill-rule=\"nonzero\" fill-opacity=\"1\" /><path clip-path=\"url(#clip580)\" d=\"M117.663 640.386 L125.302 640.386 L125.302 614.02 L116.992 615.687 L116.992 611.428 L125.255 609.761 L129.931 609.761 L129.931 640.386 L137.57 640.386 L137.57 644.321 L117.663 644.321 L117.663 640.386 Z\" fill=\"#000000\" fill-rule=\"nonzero\" fill-opacity=\"1\" /><path clip-path=\"url(#clip580)\" d=\"M147.015 638.441 L151.899 638.441 L151.899 644.321 L147.015 644.321 L147.015 638.441 Z\" fill=\"#000000\" fill-rule=\"nonzero\" fill-opacity=\"1\" /><path clip-path=\"url(#clip580)\" d=\"M162.13 609.761 L180.487 609.761 L180.487 613.696 L166.413 613.696 L166.413 622.168 Q167.431 621.821 168.45 621.659 Q169.468 621.474 170.487 621.474 Q176.274 621.474 179.653 624.645 Q183.033 627.816 183.033 633.233 Q183.033 638.812 179.561 641.914 Q176.089 644.992 169.769 644.992 Q167.593 644.992 165.325 644.622 Q163.079 644.251 160.672 643.511 L160.672 638.812 Q162.755 639.946 164.977 640.501 Q167.2 641.057 169.677 641.057 Q173.681 641.057 176.019 638.951 Q178.357 636.844 178.357 633.233 Q178.357 629.622 176.019 627.515 Q173.681 625.409 169.677 625.409 Q167.802 625.409 165.927 625.826 Q164.075 626.242 162.13 627.122 L162.13 609.761 Z\" fill=\"#000000\" fill-rule=\"nonzero\" fill-opacity=\"1\" /><path clip-path=\"url(#clip580)\" d=\"M119.885 369.958 L136.204 369.958 L136.204 373.893 L114.26 373.893 L114.26 369.958 Q116.922 367.204 121.505 362.574 Q126.112 357.921 127.292 356.579 Q129.538 354.055 130.417 352.319 Q131.32 350.56 131.32 348.87 Q131.32 346.116 129.376 344.38 Q127.455 342.643 124.353 342.643 Q122.154 342.643 119.7 343.407 Q117.269 344.171 114.492 345.722 L114.492 341 Q117.316 339.866 119.769 339.287 Q122.223 338.708 124.26 338.708 Q129.63 338.708 132.825 341.393 Q136.019 344.079 136.019 348.569 Q136.019 350.699 135.209 352.62 Q134.422 354.518 132.316 357.111 Q131.737 357.782 128.635 361 Q125.533 364.194 119.885 369.958 Z\" fill=\"#000000\" fill-rule=\"nonzero\" fill-opacity=\"1\" /><path clip-path=\"url(#clip580)\" d=\"M146.019 368.014 L150.903 368.014 L150.903 373.893 L146.019 373.893 L146.019 368.014 Z\" fill=\"#000000\" fill-rule=\"nonzero\" fill-opacity=\"1\" /><path clip-path=\"url(#clip580)\" d=\"M171.089 342.412 Q167.477 342.412 165.649 345.977 Q163.843 349.518 163.843 356.648 Q163.843 363.754 165.649 367.319 Q167.477 370.861 171.089 370.861 Q174.723 370.861 176.528 367.319 Q178.357 363.754 178.357 356.648 Q178.357 349.518 176.528 345.977 Q174.723 342.412 171.089 342.412 M171.089 338.708 Q176.899 338.708 179.954 343.315 Q183.033 347.898 183.033 356.648 Q183.033 365.375 179.954 369.981 Q176.899 374.565 171.089 374.565 Q165.278 374.565 162.2 369.981 Q159.144 365.375 159.144 356.648 Q159.144 347.898 162.2 343.315 Q165.278 338.708 171.089 338.708 Z\" fill=\"#000000\" fill-rule=\"nonzero\" fill-opacity=\"1\" /><path clip-path=\"url(#clip580)\" d=\"M120.88 99.5305 L137.2 99.5305 L137.2 103.466 L115.256 103.466 L115.256 99.5305 Q117.918 96.7759 122.501 92.1463 Q127.107 87.4935 128.288 86.151 Q130.533 83.6278 131.413 81.8917 Q132.316 80.1325 132.316 78.4427 Q132.316 75.688 130.371 73.9519 Q128.45 72.2158 125.348 72.2158 Q123.149 72.2158 120.695 72.9797 Q118.265 73.7436 115.487 75.2945 L115.487 70.5723 Q118.311 69.4381 120.765 68.8594 Q123.218 68.2807 125.255 68.2807 Q130.626 68.2807 133.82 70.9658 Q137.015 73.651 137.015 78.1417 Q137.015 80.2714 136.204 82.1926 Q135.417 84.0908 133.311 86.6834 Q132.732 87.3546 129.63 90.5722 Q126.529 93.7667 120.88 99.5305 Z\" fill=\"#000000\" fill-rule=\"nonzero\" fill-opacity=\"1\" /><path clip-path=\"url(#clip580)\" d=\"M147.015 97.5861 L151.899 97.5861 L151.899 103.466 L147.015 103.466 L147.015 97.5861 Z\" fill=\"#000000\" fill-rule=\"nonzero\" fill-opacity=\"1\" /><path clip-path=\"url(#clip580)\" d=\"M162.13 68.9057 L180.487 68.9057 L180.487 72.8408 L166.413 72.8408 L166.413 81.313 Q167.431 80.9658 168.45 80.8038 Q169.468 80.6186 170.487 80.6186 Q176.274 80.6186 179.653 83.7899 Q183.033 86.9611 183.033 92.3778 Q183.033 97.9564 179.561 101.058 Q176.089 104.137 169.769 104.137 Q167.593 104.137 165.325 103.767 Q163.079 103.396 160.672 102.655 L160.672 97.9564 Q162.755 99.0907 164.977 99.6462 Q167.2 100.202 169.677 100.202 Q173.681 100.202 176.019 98.0953 Q178.357 95.9889 178.357 92.3778 Q178.357 88.7667 176.019 86.6602 Q173.681 84.5537 169.677 84.5537 Q167.802 84.5537 165.927 84.9704 Q164.075 85.3871 162.13 86.2667 L162.13 68.9057 Z\" fill=\"#000000\" fill-rule=\"nonzero\" fill-opacity=\"1\" /><path clip-path=\"url(#clip580)\" d=\"M28.3562 922.3 L28.3562 916.094 L58.275 904.954 L28.3562 893.814 L28.3562 887.607 L64.0042 900.975 L64.0042 908.932 L28.3562 922.3 Z\" fill=\"#000000\" fill-rule=\"nonzero\" fill-opacity=\"1\" /><path clip-path=\"url(#clip580)\" d=\"M46.0847 863.322 Q46.0847 870.42 47.7079 873.157 Q49.3312 875.894 53.2461 875.894 Q56.3653 875.894 58.2114 873.857 Q60.0256 871.788 60.0256 868.255 Q60.0256 863.385 56.5881 860.457 Q53.1188 857.497 47.3897 857.497 L46.0847 857.497 L46.0847 863.322 M43.6657 851.641 L64.0042 851.641 L64.0042 857.497 L58.5933 857.497 Q61.8398 859.502 63.3994 862.494 Q64.9272 865.486 64.9272 869.815 Q64.9272 875.289 61.8716 878.536 Q58.7843 881.751 53.6281 881.751 Q47.6125 881.751 44.5569 877.74 Q41.5014 873.698 41.5014 865.709 L41.5014 857.497 L40.9285 857.497 Q36.8862 857.497 34.6901 860.171 Q32.4621 862.813 32.4621 867.619 Q32.4621 870.674 33.1941 873.571 Q33.9262 876.467 35.3903 879.141 L29.9795 879.141 Q28.7381 875.926 28.1334 872.902 Q27.4968 869.878 27.4968 867.014 Q27.4968 859.28 31.5072 855.46 Q35.5176 851.641 43.6657 851.641 Z\" fill=\"#000000\" fill-rule=\"nonzero\" fill-opacity=\"1\" /><path clip-path=\"url(#clip580)\" d=\"M33.8307 818.921 Q33.2578 819.908 33.0032 821.085 Q32.7167 822.231 32.7167 823.632 Q32.7167 828.597 35.9632 831.27 Q39.1779 833.912 45.2253 833.912 L64.0042 833.912 L64.0042 839.801 L28.3562 839.801 L28.3562 833.912 L33.8944 833.912 Q30.6479 832.066 29.0883 829.106 Q27.4968 826.146 27.4968 821.913 Q27.4968 821.308 27.5923 820.576 Q27.656 819.844 27.8151 818.953 L33.8307 818.921 Z\" fill=\"#000000\" fill-rule=\"nonzero\" fill-opacity=\"1\" /><path clip-path=\"url(#clip580)\" d=\"M46.0847 796.577 Q46.0847 803.675 47.7079 806.412 Q49.3312 809.15 53.2461 809.15 Q56.3653 809.15 58.2114 807.113 Q60.0256 805.044 60.0256 801.511 Q60.0256 796.641 56.5881 793.713 Q53.1188 790.753 47.3897 790.753 L46.0847 790.753 L46.0847 796.577 M43.6657 784.896 L64.0042 784.896 L64.0042 790.753 L58.5933 790.753 Q61.8398 792.758 63.3994 795.75 Q64.9272 798.742 64.9272 803.07 Q64.9272 808.545 61.8716 811.791 Q58.7843 815.006 53.6281 815.006 Q47.6125 815.006 44.5569 810.996 Q41.5014 806.953 41.5014 798.965 L41.5014 790.753 L40.9285 790.753 Q36.8862 790.753 34.6901 793.426 Q32.4621 796.068 32.4621 800.874 Q32.4621 803.93 33.1941 806.826 Q33.9262 809.723 35.3903 812.396 L29.9795 812.396 Q28.7381 809.181 28.1334 806.158 Q27.4968 803.134 27.4968 800.269 Q27.4968 792.535 31.5072 788.716 Q35.5176 784.896 43.6657 784.896 Z\" fill=\"#000000\" fill-rule=\"nonzero\" fill-opacity=\"1\" /><path clip-path=\"url(#clip580)\" d=\"M28.3562 772.833 L28.3562 766.977 L64.0042 766.977 L64.0042 772.833 L28.3562 772.833 M14.479 772.833 L14.479 766.977 L21.895 766.977 L21.895 772.833 L14.479 772.833 Z\" fill=\"#000000\" fill-rule=\"nonzero\" fill-opacity=\"1\" /><path clip-path=\"url(#clip580)\" d=\"M46.212 729.133 Q39.7508 729.133 36.0905 731.806 Q32.3984 734.448 32.3984 739.095 Q32.3984 743.742 36.0905 746.416 Q39.7508 749.057 46.212 749.057 Q52.6732 749.057 56.3653 746.416 Q60.0256 743.742 60.0256 739.095 Q60.0256 734.448 56.3653 731.806 Q52.6732 729.133 46.212 729.133 M33.7671 749.057 Q30.5842 747.211 29.0564 744.41 Q27.4968 741.578 27.4968 737.663 Q27.4968 731.17 32.6531 727.128 Q37.8093 723.053 46.212 723.053 Q54.6147 723.053 59.771 727.128 Q64.9272 731.17 64.9272 737.663 Q64.9272 741.578 63.3994 744.41 Q61.8398 747.211 58.657 749.057 L64.0042 749.057 L64.0042 754.946 L14.479 754.946 L14.479 749.057 L33.7671 749.057 Z\" fill=\"#000000\" fill-rule=\"nonzero\" fill-opacity=\"1\" /><path clip-path=\"url(#clip580)\" d=\"M14.479 713.346 L14.479 707.489 L64.0042 707.489 L64.0042 713.346 L14.479 713.346 Z\" fill=\"#000000\" fill-rule=\"nonzero\" fill-opacity=\"1\" /><path clip-path=\"url(#clip580)\" d=\"M44.7161 664.744 L47.5806 664.744 L47.5806 691.671 Q53.6281 691.289 56.8109 688.042 Q59.9619 684.764 59.9619 678.939 Q59.9619 675.565 59.1344 672.414 Q58.3069 669.231 56.6518 666.112 L62.1899 666.112 Q63.5267 669.263 64.227 672.573 Q64.9272 675.884 64.9272 679.289 Q64.9272 687.819 59.9619 692.816 Q54.9967 697.782 46.5303 697.782 Q37.7774 697.782 32.6531 693.071 Q27.4968 688.329 27.4968 680.308 Q27.4968 673.115 32.1438 668.945 Q36.7589 664.744 44.7161 664.744 M42.9973 670.6 Q38.1912 670.664 35.3266 673.305 Q32.4621 675.915 32.4621 680.244 Q32.4621 685.146 35.2312 688.106 Q38.0002 691.034 43.0292 691.48 L42.9973 670.6 Z\" fill=\"#000000\" fill-rule=\"nonzero\" fill-opacity=\"1\" /><path clip-path=\"url(#clip580)\" d=\"M35.3266 607.229 L35.3266 616.492 L45.9574 619.165 L45.9574 609.839 L35.3266 607.229 M17.2162 612.004 L30.4251 615.314 L30.4251 606.02 L17.2162 602.678 L17.2162 597.585 L30.4251 600.864 L30.4251 590.933 L35.3266 590.933 L35.3266 602.105 L45.9574 604.715 L45.9574 594.594 L50.8271 594.594 L50.8271 605.956 L64.0042 609.266 L64.0042 614.359 L50.8271 611.081 L50.8271 620.406 L64.0042 623.685 L64.0042 628.809 L50.8271 625.499 L50.8271 635.525 L45.9574 635.525 L45.9574 624.321 L35.3266 621.648 L35.3266 631.897 L30.4251 631.897 L30.4251 620.406 L17.2162 617.16 L17.2162 612.004 Z\" fill=\"#000000\" fill-rule=\"nonzero\" fill-opacity=\"1\" /><path clip-path=\"url(#clip580)\" d=\"M22.086 561.301 L47.4533 577.533 L47.4533 561.301 L22.086 561.301 M16.4842 562.988 L16.4842 554.903 L47.4533 554.903 L47.4533 548.124 L52.8005 548.124 L52.8005 554.903 L64.0042 554.903 L64.0042 561.301 L52.8005 561.301 L52.8005 582.753 L46.5939 582.753 L16.4842 562.988 Z\" fill=\"#000000\" fill-rule=\"nonzero\" fill-opacity=\"1\" /><circle clip-path=\"url(#clip582)\" cx=\"415.892\" cy=\"1330.15\" r=\"14.4\" fill=\"#009af9\" fill-rule=\"evenodd\" fill-opacity=\"1\" stroke=\"#000000\" stroke-opacity=\"1\" stroke-width=\"3.2\"/>\n",
       "<circle clip-path=\"url(#clip582)\" cx=\"415.892\" cy=\"1330.15\" r=\"14.4\" fill=\"#009af9\" fill-rule=\"evenodd\" fill-opacity=\"1\" stroke=\"#000000\" stroke-opacity=\"1\" stroke-width=\"3.2\"/>\n",
       "<circle clip-path=\"url(#clip582)\" cx=\"381.775\" cy=\"1330.15\" r=\"14.4\" fill=\"#009af9\" fill-rule=\"evenodd\" fill-opacity=\"1\" stroke=\"#000000\" stroke-opacity=\"1\" stroke-width=\"3.2\"/>\n",
       "<circle clip-path=\"url(#clip582)\" cx=\"450.01\" cy=\"1330.15\" r=\"14.4\" fill=\"#009af9\" fill-rule=\"evenodd\" fill-opacity=\"1\" stroke=\"#000000\" stroke-opacity=\"1\" stroke-width=\"3.2\"/>\n",
       "<circle clip-path=\"url(#clip582)\" cx=\"415.892\" cy=\"1330.15\" r=\"14.4\" fill=\"#009af9\" fill-rule=\"evenodd\" fill-opacity=\"1\" stroke=\"#000000\" stroke-opacity=\"1\" stroke-width=\"3.2\"/>\n",
       "<circle clip-path=\"url(#clip582)\" cx=\"518.245\" cy=\"1221.98\" r=\"14.4\" fill=\"#009af9\" fill-rule=\"evenodd\" fill-opacity=\"1\" stroke=\"#000000\" stroke-opacity=\"1\" stroke-width=\"3.2\"/>\n",
       "<circle clip-path=\"url(#clip582)\" cx=\"415.892\" cy=\"1276.07\" r=\"14.4\" fill=\"#009af9\" fill-rule=\"evenodd\" fill-opacity=\"1\" stroke=\"#000000\" stroke-opacity=\"1\" stroke-width=\"3.2\"/>\n",
       "<circle clip-path=\"url(#clip582)\" cx=\"450.01\" cy=\"1330.15\" r=\"14.4\" fill=\"#009af9\" fill-rule=\"evenodd\" fill-opacity=\"1\" stroke=\"#000000\" stroke-opacity=\"1\" stroke-width=\"3.2\"/>\n",
       "<circle clip-path=\"url(#clip582)\" cx=\"415.892\" cy=\"1330.15\" r=\"14.4\" fill=\"#009af9\" fill-rule=\"evenodd\" fill-opacity=\"1\" stroke=\"#000000\" stroke-opacity=\"1\" stroke-width=\"3.2\"/>\n",
       "<circle clip-path=\"url(#clip582)\" cx=\"450.01\" cy=\"1384.24\" r=\"14.4\" fill=\"#009af9\" fill-rule=\"evenodd\" fill-opacity=\"1\" stroke=\"#000000\" stroke-opacity=\"1\" stroke-width=\"3.2\"/>\n",
       "<circle clip-path=\"url(#clip582)\" cx=\"450.01\" cy=\"1330.15\" r=\"14.4\" fill=\"#009af9\" fill-rule=\"evenodd\" fill-opacity=\"1\" stroke=\"#000000\" stroke-opacity=\"1\" stroke-width=\"3.2\"/>\n",
       "<circle clip-path=\"url(#clip582)\" cx=\"484.128\" cy=\"1330.15\" r=\"14.4\" fill=\"#009af9\" fill-rule=\"evenodd\" fill-opacity=\"1\" stroke=\"#000000\" stroke-opacity=\"1\" stroke-width=\"3.2\"/>\n",
       "<circle clip-path=\"url(#clip582)\" cx=\"415.892\" cy=\"1384.24\" r=\"14.4\" fill=\"#009af9\" fill-rule=\"evenodd\" fill-opacity=\"1\" stroke=\"#000000\" stroke-opacity=\"1\" stroke-width=\"3.2\"/>\n",
       "<circle clip-path=\"url(#clip582)\" cx=\"313.539\" cy=\"1384.24\" r=\"14.4\" fill=\"#009af9\" fill-rule=\"evenodd\" fill-opacity=\"1\" stroke=\"#000000\" stroke-opacity=\"1\" stroke-width=\"3.2\"/>\n",
       "<circle clip-path=\"url(#clip582)\" cx=\"347.657\" cy=\"1330.15\" r=\"14.4\" fill=\"#009af9\" fill-rule=\"evenodd\" fill-opacity=\"1\" stroke=\"#000000\" stroke-opacity=\"1\" stroke-width=\"3.2\"/>\n",
       "<circle clip-path=\"url(#clip582)\" cx=\"450.01\" cy=\"1221.98\" r=\"14.4\" fill=\"#009af9\" fill-rule=\"evenodd\" fill-opacity=\"1\" stroke=\"#000000\" stroke-opacity=\"1\" stroke-width=\"3.2\"/>\n",
       "<circle clip-path=\"url(#clip582)\" cx=\"381.775\" cy=\"1221.98\" r=\"14.4\" fill=\"#009af9\" fill-rule=\"evenodd\" fill-opacity=\"1\" stroke=\"#000000\" stroke-opacity=\"1\" stroke-width=\"3.2\"/>\n",
       "<circle clip-path=\"url(#clip582)\" cx=\"415.892\" cy=\"1276.07\" r=\"14.4\" fill=\"#009af9\" fill-rule=\"evenodd\" fill-opacity=\"1\" stroke=\"#000000\" stroke-opacity=\"1\" stroke-width=\"3.2\"/>\n",
       "<circle clip-path=\"url(#clip582)\" cx=\"518.245\" cy=\"1276.07\" r=\"14.4\" fill=\"#009af9\" fill-rule=\"evenodd\" fill-opacity=\"1\" stroke=\"#000000\" stroke-opacity=\"1\" stroke-width=\"3.2\"/>\n",
       "<circle clip-path=\"url(#clip582)\" cx=\"450.01\" cy=\"1276.07\" r=\"14.4\" fill=\"#009af9\" fill-rule=\"evenodd\" fill-opacity=\"1\" stroke=\"#000000\" stroke-opacity=\"1\" stroke-width=\"3.2\"/>\n",
       "<circle clip-path=\"url(#clip582)\" cx=\"518.245\" cy=\"1330.15\" r=\"14.4\" fill=\"#009af9\" fill-rule=\"evenodd\" fill-opacity=\"1\" stroke=\"#000000\" stroke-opacity=\"1\" stroke-width=\"3.2\"/>\n",
       "<circle clip-path=\"url(#clip582)\" cx=\"450.01\" cy=\"1221.98\" r=\"14.4\" fill=\"#009af9\" fill-rule=\"evenodd\" fill-opacity=\"1\" stroke=\"#000000\" stroke-opacity=\"1\" stroke-width=\"3.2\"/>\n",
       "<circle clip-path=\"url(#clip582)\" cx=\"279.421\" cy=\"1330.15\" r=\"14.4\" fill=\"#009af9\" fill-rule=\"evenodd\" fill-opacity=\"1\" stroke=\"#000000\" stroke-opacity=\"1\" stroke-width=\"3.2\"/>\n",
       "<circle clip-path=\"url(#clip582)\" cx=\"518.245\" cy=\"1167.9\" r=\"14.4\" fill=\"#009af9\" fill-rule=\"evenodd\" fill-opacity=\"1\" stroke=\"#000000\" stroke-opacity=\"1\" stroke-width=\"3.2\"/>\n",
       "<circle clip-path=\"url(#clip582)\" cx=\"586.481\" cy=\"1330.15\" r=\"14.4\" fill=\"#009af9\" fill-rule=\"evenodd\" fill-opacity=\"1\" stroke=\"#000000\" stroke-opacity=\"1\" stroke-width=\"3.2\"/>\n",
       "<circle clip-path=\"url(#clip582)\" cx=\"484.128\" cy=\"1330.15\" r=\"14.4\" fill=\"#009af9\" fill-rule=\"evenodd\" fill-opacity=\"1\" stroke=\"#000000\" stroke-opacity=\"1\" stroke-width=\"3.2\"/>\n",
       "<circle clip-path=\"url(#clip582)\" cx=\"484.128\" cy=\"1221.98\" r=\"14.4\" fill=\"#009af9\" fill-rule=\"evenodd\" fill-opacity=\"1\" stroke=\"#000000\" stroke-opacity=\"1\" stroke-width=\"3.2\"/>\n",
       "<circle clip-path=\"url(#clip582)\" cx=\"450.01\" cy=\"1330.15\" r=\"14.4\" fill=\"#009af9\" fill-rule=\"evenodd\" fill-opacity=\"1\" stroke=\"#000000\" stroke-opacity=\"1\" stroke-width=\"3.2\"/>\n",
       "<circle clip-path=\"url(#clip582)\" cx=\"415.892\" cy=\"1330.15\" r=\"14.4\" fill=\"#009af9\" fill-rule=\"evenodd\" fill-opacity=\"1\" stroke=\"#000000\" stroke-opacity=\"1\" stroke-width=\"3.2\"/>\n",
       "<circle clip-path=\"url(#clip582)\" cx=\"484.128\" cy=\"1330.15\" r=\"14.4\" fill=\"#009af9\" fill-rule=\"evenodd\" fill-opacity=\"1\" stroke=\"#000000\" stroke-opacity=\"1\" stroke-width=\"3.2\"/>\n",
       "<circle clip-path=\"url(#clip582)\" cx=\"484.128\" cy=\"1330.15\" r=\"14.4\" fill=\"#009af9\" fill-rule=\"evenodd\" fill-opacity=\"1\" stroke=\"#000000\" stroke-opacity=\"1\" stroke-width=\"3.2\"/>\n",
       "<circle clip-path=\"url(#clip582)\" cx=\"450.01\" cy=\"1221.98\" r=\"14.4\" fill=\"#009af9\" fill-rule=\"evenodd\" fill-opacity=\"1\" stroke=\"#000000\" stroke-opacity=\"1\" stroke-width=\"3.2\"/>\n",
       "<circle clip-path=\"url(#clip582)\" cx=\"450.01\" cy=\"1384.24\" r=\"14.4\" fill=\"#009af9\" fill-rule=\"evenodd\" fill-opacity=\"1\" stroke=\"#000000\" stroke-opacity=\"1\" stroke-width=\"3.2\"/>\n",
       "<circle clip-path=\"url(#clip582)\" cx=\"415.892\" cy=\"1330.15\" r=\"14.4\" fill=\"#009af9\" fill-rule=\"evenodd\" fill-opacity=\"1\" stroke=\"#000000\" stroke-opacity=\"1\" stroke-width=\"3.2\"/>\n",
       "<circle clip-path=\"url(#clip582)\" cx=\"450.01\" cy=\"1330.15\" r=\"14.4\" fill=\"#009af9\" fill-rule=\"evenodd\" fill-opacity=\"1\" stroke=\"#000000\" stroke-opacity=\"1\" stroke-width=\"3.2\"/>\n",
       "<circle clip-path=\"url(#clip582)\" cx=\"347.657\" cy=\"1330.15\" r=\"14.4\" fill=\"#009af9\" fill-rule=\"evenodd\" fill-opacity=\"1\" stroke=\"#000000\" stroke-opacity=\"1\" stroke-width=\"3.2\"/>\n",
       "<circle clip-path=\"url(#clip582)\" cx=\"381.775\" cy=\"1330.15\" r=\"14.4\" fill=\"#009af9\" fill-rule=\"evenodd\" fill-opacity=\"1\" stroke=\"#000000\" stroke-opacity=\"1\" stroke-width=\"3.2\"/>\n",
       "<circle clip-path=\"url(#clip582)\" cx=\"415.892\" cy=\"1384.24\" r=\"14.4\" fill=\"#009af9\" fill-rule=\"evenodd\" fill-opacity=\"1\" stroke=\"#000000\" stroke-opacity=\"1\" stroke-width=\"3.2\"/>\n",
       "<circle clip-path=\"url(#clip582)\" cx=\"381.775\" cy=\"1330.15\" r=\"14.4\" fill=\"#009af9\" fill-rule=\"evenodd\" fill-opacity=\"1\" stroke=\"#000000\" stroke-opacity=\"1\" stroke-width=\"3.2\"/>\n",
       "<circle clip-path=\"url(#clip582)\" cx=\"450.01\" cy=\"1330.15\" r=\"14.4\" fill=\"#009af9\" fill-rule=\"evenodd\" fill-opacity=\"1\" stroke=\"#000000\" stroke-opacity=\"1\" stroke-width=\"3.2\"/>\n",
       "<circle clip-path=\"url(#clip582)\" cx=\"381.775\" cy=\"1276.07\" r=\"14.4\" fill=\"#009af9\" fill-rule=\"evenodd\" fill-opacity=\"1\" stroke=\"#000000\" stroke-opacity=\"1\" stroke-width=\"3.2\"/>\n",
       "<circle clip-path=\"url(#clip582)\" cx=\"381.775\" cy=\"1276.07\" r=\"14.4\" fill=\"#009af9\" fill-rule=\"evenodd\" fill-opacity=\"1\" stroke=\"#000000\" stroke-opacity=\"1\" stroke-width=\"3.2\"/>\n",
       "<circle clip-path=\"url(#clip582)\" cx=\"381.775\" cy=\"1330.15\" r=\"14.4\" fill=\"#009af9\" fill-rule=\"evenodd\" fill-opacity=\"1\" stroke=\"#000000\" stroke-opacity=\"1\" stroke-width=\"3.2\"/>\n",
       "<circle clip-path=\"url(#clip582)\" cx=\"484.128\" cy=\"1113.81\" r=\"14.4\" fill=\"#009af9\" fill-rule=\"evenodd\" fill-opacity=\"1\" stroke=\"#000000\" stroke-opacity=\"1\" stroke-width=\"3.2\"/>\n",
       "<circle clip-path=\"url(#clip582)\" cx=\"586.481\" cy=\"1221.98\" r=\"14.4\" fill=\"#009af9\" fill-rule=\"evenodd\" fill-opacity=\"1\" stroke=\"#000000\" stroke-opacity=\"1\" stroke-width=\"3.2\"/>\n",
       "<circle clip-path=\"url(#clip582)\" cx=\"415.892\" cy=\"1276.07\" r=\"14.4\" fill=\"#009af9\" fill-rule=\"evenodd\" fill-opacity=\"1\" stroke=\"#000000\" stroke-opacity=\"1\" stroke-width=\"3.2\"/>\n",
       "<circle clip-path=\"url(#clip582)\" cx=\"484.128\" cy=\"1330.15\" r=\"14.4\" fill=\"#009af9\" fill-rule=\"evenodd\" fill-opacity=\"1\" stroke=\"#000000\" stroke-opacity=\"1\" stroke-width=\"3.2\"/>\n",
       "<circle clip-path=\"url(#clip582)\" cx=\"415.892\" cy=\"1330.15\" r=\"14.4\" fill=\"#009af9\" fill-rule=\"evenodd\" fill-opacity=\"1\" stroke=\"#000000\" stroke-opacity=\"1\" stroke-width=\"3.2\"/>\n",
       "<circle clip-path=\"url(#clip582)\" cx=\"450.01\" cy=\"1330.15\" r=\"14.4\" fill=\"#009af9\" fill-rule=\"evenodd\" fill-opacity=\"1\" stroke=\"#000000\" stroke-opacity=\"1\" stroke-width=\"3.2\"/>\n",
       "<circle clip-path=\"url(#clip582)\" cx=\"415.892\" cy=\"1330.15\" r=\"14.4\" fill=\"#009af9\" fill-rule=\"evenodd\" fill-opacity=\"1\" stroke=\"#000000\" stroke-opacity=\"1\" stroke-width=\"3.2\"/>\n",
       "<circle clip-path=\"url(#clip582)\" cx=\"1541.78\" cy=\"681.126\" r=\"14.4\" fill=\"#009af9\" fill-rule=\"evenodd\" fill-opacity=\"1\" stroke=\"#000000\" stroke-opacity=\"1\" stroke-width=\"3.2\"/>\n",
       "<circle clip-path=\"url(#clip582)\" cx=\"1473.54\" cy=\"627.041\" r=\"14.4\" fill=\"#009af9\" fill-rule=\"evenodd\" fill-opacity=\"1\" stroke=\"#000000\" stroke-opacity=\"1\" stroke-width=\"3.2\"/>\n",
       "<circle clip-path=\"url(#clip582)\" cx=\"1610.01\" cy=\"627.041\" r=\"14.4\" fill=\"#009af9\" fill-rule=\"evenodd\" fill-opacity=\"1\" stroke=\"#000000\" stroke-opacity=\"1\" stroke-width=\"3.2\"/>\n",
       "<circle clip-path=\"url(#clip582)\" cx=\"1302.95\" cy=\"735.212\" r=\"14.4\" fill=\"#009af9\" fill-rule=\"evenodd\" fill-opacity=\"1\" stroke=\"#000000\" stroke-opacity=\"1\" stroke-width=\"3.2\"/>\n",
       "<circle clip-path=\"url(#clip582)\" cx=\"1507.66\" cy=\"627.041\" r=\"14.4\" fill=\"#009af9\" fill-rule=\"evenodd\" fill-opacity=\"1\" stroke=\"#000000\" stroke-opacity=\"1\" stroke-width=\"3.2\"/>\n",
       "<circle clip-path=\"url(#clip582)\" cx=\"1473.54\" cy=\"735.212\" r=\"14.4\" fill=\"#009af9\" fill-rule=\"evenodd\" fill-opacity=\"1\" stroke=\"#000000\" stroke-opacity=\"1\" stroke-width=\"3.2\"/>\n",
       "<circle clip-path=\"url(#clip582)\" cx=\"1541.78\" cy=\"572.955\" r=\"14.4\" fill=\"#009af9\" fill-rule=\"evenodd\" fill-opacity=\"1\" stroke=\"#000000\" stroke-opacity=\"1\" stroke-width=\"3.2\"/>\n",
       "<circle clip-path=\"url(#clip582)\" cx=\"1064.13\" cy=\"897.469\" r=\"14.4\" fill=\"#009af9\" fill-rule=\"evenodd\" fill-opacity=\"1\" stroke=\"#000000\" stroke-opacity=\"1\" stroke-width=\"3.2\"/>\n",
       "<circle clip-path=\"url(#clip582)\" cx=\"1507.66\" cy=\"735.212\" r=\"14.4\" fill=\"#009af9\" fill-rule=\"evenodd\" fill-opacity=\"1\" stroke=\"#000000\" stroke-opacity=\"1\" stroke-width=\"3.2\"/>\n",
       "<circle clip-path=\"url(#clip582)\" cx=\"1268.84\" cy=\"681.126\" r=\"14.4\" fill=\"#009af9\" fill-rule=\"evenodd\" fill-opacity=\"1\" stroke=\"#000000\" stroke-opacity=\"1\" stroke-width=\"3.2\"/>\n",
       "<circle clip-path=\"url(#clip582)\" cx=\"1132.36\" cy=\"897.469\" r=\"14.4\" fill=\"#009af9\" fill-rule=\"evenodd\" fill-opacity=\"1\" stroke=\"#000000\" stroke-opacity=\"1\" stroke-width=\"3.2\"/>\n",
       "<circle clip-path=\"url(#clip582)\" cx=\"1371.19\" cy=\"627.041\" r=\"14.4\" fill=\"#009af9\" fill-rule=\"evenodd\" fill-opacity=\"1\" stroke=\"#000000\" stroke-opacity=\"1\" stroke-width=\"3.2\"/>\n",
       "<circle clip-path=\"url(#clip582)\" cx=\"1302.95\" cy=\"897.469\" r=\"14.4\" fill=\"#009af9\" fill-rule=\"evenodd\" fill-opacity=\"1\" stroke=\"#000000\" stroke-opacity=\"1\" stroke-width=\"3.2\"/>\n",
       "<circle clip-path=\"url(#clip582)\" cx=\"1541.78\" cy=\"681.126\" r=\"14.4\" fill=\"#009af9\" fill-rule=\"evenodd\" fill-opacity=\"1\" stroke=\"#000000\" stroke-opacity=\"1\" stroke-width=\"3.2\"/>\n",
       "<circle clip-path=\"url(#clip582)\" cx=\"1166.48\" cy=\"735.212\" r=\"14.4\" fill=\"#009af9\" fill-rule=\"evenodd\" fill-opacity=\"1\" stroke=\"#000000\" stroke-opacity=\"1\" stroke-width=\"3.2\"/>\n",
       "<circle clip-path=\"url(#clip582)\" cx=\"1439.42\" cy=\"681.126\" r=\"14.4\" fill=\"#009af9\" fill-rule=\"evenodd\" fill-opacity=\"1\" stroke=\"#000000\" stroke-opacity=\"1\" stroke-width=\"3.2\"/>\n",
       "<circle clip-path=\"url(#clip582)\" cx=\"1473.54\" cy=\"627.041\" r=\"14.4\" fill=\"#009af9\" fill-rule=\"evenodd\" fill-opacity=\"1\" stroke=\"#000000\" stroke-opacity=\"1\" stroke-width=\"3.2\"/>\n",
       "<circle clip-path=\"url(#clip582)\" cx=\"1337.07\" cy=\"897.469\" r=\"14.4\" fill=\"#009af9\" fill-rule=\"evenodd\" fill-opacity=\"1\" stroke=\"#000000\" stroke-opacity=\"1\" stroke-width=\"3.2\"/>\n",
       "<circle clip-path=\"url(#clip582)\" cx=\"1473.54\" cy=\"627.041\" r=\"14.4\" fill=\"#009af9\" fill-rule=\"evenodd\" fill-opacity=\"1\" stroke=\"#000000\" stroke-opacity=\"1\" stroke-width=\"3.2\"/>\n",
       "<circle clip-path=\"url(#clip582)\" cx=\"1268.84\" cy=\"843.383\" r=\"14.4\" fill=\"#009af9\" fill-rule=\"evenodd\" fill-opacity=\"1\" stroke=\"#000000\" stroke-opacity=\"1\" stroke-width=\"3.2\"/>\n",
       "<circle clip-path=\"url(#clip582)\" cx=\"1575.9\" cy=\"464.784\" r=\"14.4\" fill=\"#009af9\" fill-rule=\"evenodd\" fill-opacity=\"1\" stroke=\"#000000\" stroke-opacity=\"1\" stroke-width=\"3.2\"/>\n",
       "<circle clip-path=\"url(#clip582)\" cx=\"1302.95\" cy=\"735.212\" r=\"14.4\" fill=\"#009af9\" fill-rule=\"evenodd\" fill-opacity=\"1\" stroke=\"#000000\" stroke-opacity=\"1\" stroke-width=\"3.2\"/>\n",
       "<circle clip-path=\"url(#clip582)\" cx=\"1610.01\" cy=\"627.041\" r=\"14.4\" fill=\"#009af9\" fill-rule=\"evenodd\" fill-opacity=\"1\" stroke=\"#000000\" stroke-opacity=\"1\" stroke-width=\"3.2\"/>\n",
       "<circle clip-path=\"url(#clip582)\" cx=\"1541.78\" cy=\"789.297\" r=\"14.4\" fill=\"#009af9\" fill-rule=\"evenodd\" fill-opacity=\"1\" stroke=\"#000000\" stroke-opacity=\"1\" stroke-width=\"3.2\"/>\n",
       "<circle clip-path=\"url(#clip582)\" cx=\"1405.31\" cy=\"735.212\" r=\"14.4\" fill=\"#009af9\" fill-rule=\"evenodd\" fill-opacity=\"1\" stroke=\"#000000\" stroke-opacity=\"1\" stroke-width=\"3.2\"/>\n",
       "<circle clip-path=\"url(#clip582)\" cx=\"1439.42\" cy=\"681.126\" r=\"14.4\" fill=\"#009af9\" fill-rule=\"evenodd\" fill-opacity=\"1\" stroke=\"#000000\" stroke-opacity=\"1\" stroke-width=\"3.2\"/>\n",
       "<circle clip-path=\"url(#clip582)\" cx=\"1575.9\" cy=\"681.126\" r=\"14.4\" fill=\"#009af9\" fill-rule=\"evenodd\" fill-opacity=\"1\" stroke=\"#000000\" stroke-opacity=\"1\" stroke-width=\"3.2\"/>\n",
       "<circle clip-path=\"url(#clip582)\" cx=\"1644.13\" cy=\"518.87\" r=\"14.4\" fill=\"#009af9\" fill-rule=\"evenodd\" fill-opacity=\"1\" stroke=\"#000000\" stroke-opacity=\"1\" stroke-width=\"3.2\"/>\n",
       "<circle clip-path=\"url(#clip582)\" cx=\"1473.54\" cy=\"627.041\" r=\"14.4\" fill=\"#009af9\" fill-rule=\"evenodd\" fill-opacity=\"1\" stroke=\"#000000\" stroke-opacity=\"1\" stroke-width=\"3.2\"/>\n",
       "<circle clip-path=\"url(#clip582)\" cx=\"1132.36\" cy=\"897.469\" r=\"14.4\" fill=\"#009af9\" fill-rule=\"evenodd\" fill-opacity=\"1\" stroke=\"#000000\" stroke-opacity=\"1\" stroke-width=\"3.2\"/>\n",
       "<circle clip-path=\"url(#clip582)\" cx=\"1234.72\" cy=\"843.383\" r=\"14.4\" fill=\"#009af9\" fill-rule=\"evenodd\" fill-opacity=\"1\" stroke=\"#000000\" stroke-opacity=\"1\" stroke-width=\"3.2\"/>\n",
       "<circle clip-path=\"url(#clip582)\" cx=\"1200.6\" cy=\"897.469\" r=\"14.4\" fill=\"#009af9\" fill-rule=\"evenodd\" fill-opacity=\"1\" stroke=\"#000000\" stroke-opacity=\"1\" stroke-width=\"3.2\"/>\n",
       "<circle clip-path=\"url(#clip582)\" cx=\"1268.84\" cy=\"789.297\" r=\"14.4\" fill=\"#009af9\" fill-rule=\"evenodd\" fill-opacity=\"1\" stroke=\"#000000\" stroke-opacity=\"1\" stroke-width=\"3.2\"/>\n",
       "<circle clip-path=\"url(#clip582)\" cx=\"1678.25\" cy=\"572.955\" r=\"14.4\" fill=\"#009af9\" fill-rule=\"evenodd\" fill-opacity=\"1\" stroke=\"#000000\" stroke-opacity=\"1\" stroke-width=\"3.2\"/>\n",
       "<circle clip-path=\"url(#clip582)\" cx=\"1473.54\" cy=\"627.041\" r=\"14.4\" fill=\"#009af9\" fill-rule=\"evenodd\" fill-opacity=\"1\" stroke=\"#000000\" stroke-opacity=\"1\" stroke-width=\"3.2\"/>\n",
       "<circle clip-path=\"url(#clip582)\" cx=\"1473.54\" cy=\"572.955\" r=\"14.4\" fill=\"#009af9\" fill-rule=\"evenodd\" fill-opacity=\"1\" stroke=\"#000000\" stroke-opacity=\"1\" stroke-width=\"3.2\"/>\n",
       "<circle clip-path=\"url(#clip582)\" cx=\"1541.78\" cy=\"627.041\" r=\"14.4\" fill=\"#009af9\" fill-rule=\"evenodd\" fill-opacity=\"1\" stroke=\"#000000\" stroke-opacity=\"1\" stroke-width=\"3.2\"/>\n",
       "<circle clip-path=\"url(#clip582)\" cx=\"1439.42\" cy=\"735.212\" r=\"14.4\" fill=\"#009af9\" fill-rule=\"evenodd\" fill-opacity=\"1\" stroke=\"#000000\" stroke-opacity=\"1\" stroke-width=\"3.2\"/>\n",
       "<circle clip-path=\"url(#clip582)\" cx=\"1337.07\" cy=\"735.212\" r=\"14.4\" fill=\"#009af9\" fill-rule=\"evenodd\" fill-opacity=\"1\" stroke=\"#000000\" stroke-opacity=\"1\" stroke-width=\"3.2\"/>\n",
       "<circle clip-path=\"url(#clip582)\" cx=\"1302.95\" cy=\"735.212\" r=\"14.4\" fill=\"#009af9\" fill-rule=\"evenodd\" fill-opacity=\"1\" stroke=\"#000000\" stroke-opacity=\"1\" stroke-width=\"3.2\"/>\n",
       "<circle clip-path=\"url(#clip582)\" cx=\"1439.42\" cy=\"789.297\" r=\"14.4\" fill=\"#009af9\" fill-rule=\"evenodd\" fill-opacity=\"1\" stroke=\"#000000\" stroke-opacity=\"1\" stroke-width=\"3.2\"/>\n",
       "<circle clip-path=\"url(#clip582)\" cx=\"1507.66\" cy=\"681.126\" r=\"14.4\" fill=\"#009af9\" fill-rule=\"evenodd\" fill-opacity=\"1\" stroke=\"#000000\" stroke-opacity=\"1\" stroke-width=\"3.2\"/>\n",
       "<circle clip-path=\"url(#clip582)\" cx=\"1302.95\" cy=\"789.297\" r=\"14.4\" fill=\"#009af9\" fill-rule=\"evenodd\" fill-opacity=\"1\" stroke=\"#000000\" stroke-opacity=\"1\" stroke-width=\"3.2\"/>\n",
       "<circle clip-path=\"url(#clip582)\" cx=\"1064.13\" cy=\"897.469\" r=\"14.4\" fill=\"#009af9\" fill-rule=\"evenodd\" fill-opacity=\"1\" stroke=\"#000000\" stroke-opacity=\"1\" stroke-width=\"3.2\"/>\n",
       "<circle clip-path=\"url(#clip582)\" cx=\"1371.19\" cy=\"735.212\" r=\"14.4\" fill=\"#009af9\" fill-rule=\"evenodd\" fill-opacity=\"1\" stroke=\"#000000\" stroke-opacity=\"1\" stroke-width=\"3.2\"/>\n",
       "<circle clip-path=\"url(#clip582)\" cx=\"1371.19\" cy=\"789.297\" r=\"14.4\" fill=\"#009af9\" fill-rule=\"evenodd\" fill-opacity=\"1\" stroke=\"#000000\" stroke-opacity=\"1\" stroke-width=\"3.2\"/>\n",
       "<circle clip-path=\"url(#clip582)\" cx=\"1371.19\" cy=\"735.212\" r=\"14.4\" fill=\"#009af9\" fill-rule=\"evenodd\" fill-opacity=\"1\" stroke=\"#000000\" stroke-opacity=\"1\" stroke-width=\"3.2\"/>\n",
       "<circle clip-path=\"url(#clip582)\" cx=\"1405.31\" cy=\"735.212\" r=\"14.4\" fill=\"#009af9\" fill-rule=\"evenodd\" fill-opacity=\"1\" stroke=\"#000000\" stroke-opacity=\"1\" stroke-width=\"3.2\"/>\n",
       "<circle clip-path=\"url(#clip582)\" cx=\"961.776\" cy=\"843.383\" r=\"14.4\" fill=\"#009af9\" fill-rule=\"evenodd\" fill-opacity=\"1\" stroke=\"#000000\" stroke-opacity=\"1\" stroke-width=\"3.2\"/>\n",
       "<circle clip-path=\"url(#clip582)\" cx=\"1337.07\" cy=\"735.212\" r=\"14.4\" fill=\"#009af9\" fill-rule=\"evenodd\" fill-opacity=\"1\" stroke=\"#000000\" stroke-opacity=\"1\" stroke-width=\"3.2\"/>\n",
       "<circle clip-path=\"url(#clip582)\" cx=\"1985.31\" cy=\"86.1857\" r=\"14.4\" fill=\"#009af9\" fill-rule=\"evenodd\" fill-opacity=\"1\" stroke=\"#000000\" stroke-opacity=\"1\" stroke-width=\"3.2\"/>\n",
       "<circle clip-path=\"url(#clip582)\" cx=\"1678.25\" cy=\"410.699\" r=\"14.4\" fill=\"#009af9\" fill-rule=\"evenodd\" fill-opacity=\"1\" stroke=\"#000000\" stroke-opacity=\"1\" stroke-width=\"3.2\"/>\n",
       "<circle clip-path=\"url(#clip582)\" cx=\"1951.19\" cy=\"302.528\" r=\"14.4\" fill=\"#009af9\" fill-rule=\"evenodd\" fill-opacity=\"1\" stroke=\"#000000\" stroke-opacity=\"1\" stroke-width=\"3.2\"/>\n",
       "<circle clip-path=\"url(#clip582)\" cx=\"1848.84\" cy=\"464.784\" r=\"14.4\" fill=\"#009af9\" fill-rule=\"evenodd\" fill-opacity=\"1\" stroke=\"#000000\" stroke-opacity=\"1\" stroke-width=\"3.2\"/>\n",
       "<circle clip-path=\"url(#clip582)\" cx=\"1917.07\" cy=\"248.442\" r=\"14.4\" fill=\"#009af9\" fill-rule=\"evenodd\" fill-opacity=\"1\" stroke=\"#000000\" stroke-opacity=\"1\" stroke-width=\"3.2\"/>\n",
       "<circle clip-path=\"url(#clip582)\" cx=\"2190.01\" cy=\"302.528\" r=\"14.4\" fill=\"#009af9\" fill-rule=\"evenodd\" fill-opacity=\"1\" stroke=\"#000000\" stroke-opacity=\"1\" stroke-width=\"3.2\"/>\n",
       "<circle clip-path=\"url(#clip582)\" cx=\"1473.54\" cy=\"518.87\" r=\"14.4\" fill=\"#009af9\" fill-rule=\"evenodd\" fill-opacity=\"1\" stroke=\"#000000\" stroke-opacity=\"1\" stroke-width=\"3.2\"/>\n",
       "<circle clip-path=\"url(#clip582)\" cx=\"2087.66\" cy=\"464.784\" r=\"14.4\" fill=\"#009af9\" fill-rule=\"evenodd\" fill-opacity=\"1\" stroke=\"#000000\" stroke-opacity=\"1\" stroke-width=\"3.2\"/>\n",
       "<circle clip-path=\"url(#clip582)\" cx=\"1917.07\" cy=\"464.784\" r=\"14.4\" fill=\"#009af9\" fill-rule=\"evenodd\" fill-opacity=\"1\" stroke=\"#000000\" stroke-opacity=\"1\" stroke-width=\"3.2\"/>\n",
       "<circle clip-path=\"url(#clip582)\" cx=\"2019.43\" cy=\"86.1857\" r=\"14.4\" fill=\"#009af9\" fill-rule=\"evenodd\" fill-opacity=\"1\" stroke=\"#000000\" stroke-opacity=\"1\" stroke-width=\"3.2\"/>\n",
       "<circle clip-path=\"url(#clip582)\" cx=\"1678.25\" cy=\"356.613\" r=\"14.4\" fill=\"#009af9\" fill-rule=\"evenodd\" fill-opacity=\"1\" stroke=\"#000000\" stroke-opacity=\"1\" stroke-width=\"3.2\"/>\n",
       "<circle clip-path=\"url(#clip582)\" cx=\"1746.48\" cy=\"410.699\" r=\"14.4\" fill=\"#009af9\" fill-rule=\"evenodd\" fill-opacity=\"1\" stroke=\"#000000\" stroke-opacity=\"1\" stroke-width=\"3.2\"/>\n",
       "<circle clip-path=\"url(#clip582)\" cx=\"1814.72\" cy=\"302.528\" r=\"14.4\" fill=\"#009af9\" fill-rule=\"evenodd\" fill-opacity=\"1\" stroke=\"#000000\" stroke-opacity=\"1\" stroke-width=\"3.2\"/>\n",
       "<circle clip-path=\"url(#clip582)\" cx=\"1644.13\" cy=\"356.613\" r=\"14.4\" fill=\"#009af9\" fill-rule=\"evenodd\" fill-opacity=\"1\" stroke=\"#000000\" stroke-opacity=\"1\" stroke-width=\"3.2\"/>\n",
       "<circle clip-path=\"url(#clip582)\" cx=\"1678.25\" cy=\"140.271\" r=\"14.4\" fill=\"#009af9\" fill-rule=\"evenodd\" fill-opacity=\"1\" stroke=\"#000000\" stroke-opacity=\"1\" stroke-width=\"3.2\"/>\n",
       "<circle clip-path=\"url(#clip582)\" cx=\"1746.48\" cy=\"194.357\" r=\"14.4\" fill=\"#009af9\" fill-rule=\"evenodd\" fill-opacity=\"1\" stroke=\"#000000\" stroke-opacity=\"1\" stroke-width=\"3.2\"/>\n",
       "<circle clip-path=\"url(#clip582)\" cx=\"1814.72\" cy=\"464.784\" r=\"14.4\" fill=\"#009af9\" fill-rule=\"evenodd\" fill-opacity=\"1\" stroke=\"#000000\" stroke-opacity=\"1\" stroke-width=\"3.2\"/>\n",
       "<circle clip-path=\"url(#clip582)\" cx=\"2224.13\" cy=\"248.442\" r=\"14.4\" fill=\"#009af9\" fill-rule=\"evenodd\" fill-opacity=\"1\" stroke=\"#000000\" stroke-opacity=\"1\" stroke-width=\"3.2\"/>\n",
       "<circle clip-path=\"url(#clip582)\" cx=\"2292.37\" cy=\"194.357\" r=\"14.4\" fill=\"#009af9\" fill-rule=\"evenodd\" fill-opacity=\"1\" stroke=\"#000000\" stroke-opacity=\"1\" stroke-width=\"3.2\"/>\n",
       "<circle clip-path=\"url(#clip582)\" cx=\"1644.13\" cy=\"627.041\" r=\"14.4\" fill=\"#009af9\" fill-rule=\"evenodd\" fill-opacity=\"1\" stroke=\"#000000\" stroke-opacity=\"1\" stroke-width=\"3.2\"/>\n",
       "<circle clip-path=\"url(#clip582)\" cx=\"1882.95\" cy=\"194.357\" r=\"14.4\" fill=\"#009af9\" fill-rule=\"evenodd\" fill-opacity=\"1\" stroke=\"#000000\" stroke-opacity=\"1\" stroke-width=\"3.2\"/>\n",
       "<circle clip-path=\"url(#clip582)\" cx=\"1610.01\" cy=\"356.613\" r=\"14.4\" fill=\"#009af9\" fill-rule=\"evenodd\" fill-opacity=\"1\" stroke=\"#000000\" stroke-opacity=\"1\" stroke-width=\"3.2\"/>\n",
       "<circle clip-path=\"url(#clip582)\" cx=\"2224.13\" cy=\"356.613\" r=\"14.4\" fill=\"#009af9\" fill-rule=\"evenodd\" fill-opacity=\"1\" stroke=\"#000000\" stroke-opacity=\"1\" stroke-width=\"3.2\"/>\n",
       "<circle clip-path=\"url(#clip582)\" cx=\"1610.01\" cy=\"464.784\" r=\"14.4\" fill=\"#009af9\" fill-rule=\"evenodd\" fill-opacity=\"1\" stroke=\"#000000\" stroke-opacity=\"1\" stroke-width=\"3.2\"/>\n",
       "<circle clip-path=\"url(#clip582)\" cx=\"1882.95\" cy=\"302.528\" r=\"14.4\" fill=\"#009af9\" fill-rule=\"evenodd\" fill-opacity=\"1\" stroke=\"#000000\" stroke-opacity=\"1\" stroke-width=\"3.2\"/>\n",
       "<circle clip-path=\"url(#clip582)\" cx=\"1985.31\" cy=\"464.784\" r=\"14.4\" fill=\"#009af9\" fill-rule=\"evenodd\" fill-opacity=\"1\" stroke=\"#000000\" stroke-opacity=\"1\" stroke-width=\"3.2\"/>\n",
       "<circle clip-path=\"url(#clip582)\" cx=\"1575.9\" cy=\"464.784\" r=\"14.4\" fill=\"#009af9\" fill-rule=\"evenodd\" fill-opacity=\"1\" stroke=\"#000000\" stroke-opacity=\"1\" stroke-width=\"3.2\"/>\n",
       "<circle clip-path=\"url(#clip582)\" cx=\"1610.01\" cy=\"464.784\" r=\"14.4\" fill=\"#009af9\" fill-rule=\"evenodd\" fill-opacity=\"1\" stroke=\"#000000\" stroke-opacity=\"1\" stroke-width=\"3.2\"/>\n",
       "<circle clip-path=\"url(#clip582)\" cx=\"1848.84\" cy=\"302.528\" r=\"14.4\" fill=\"#009af9\" fill-rule=\"evenodd\" fill-opacity=\"1\" stroke=\"#000000\" stroke-opacity=\"1\" stroke-width=\"3.2\"/>\n",
       "<circle clip-path=\"url(#clip582)\" cx=\"1917.07\" cy=\"572.955\" r=\"14.4\" fill=\"#009af9\" fill-rule=\"evenodd\" fill-opacity=\"1\" stroke=\"#000000\" stroke-opacity=\"1\" stroke-width=\"3.2\"/>\n",
       "<circle clip-path=\"url(#clip582)\" cx=\"2019.43\" cy=\"410.699\" r=\"14.4\" fill=\"#009af9\" fill-rule=\"evenodd\" fill-opacity=\"1\" stroke=\"#000000\" stroke-opacity=\"1\" stroke-width=\"3.2\"/>\n",
       "<circle clip-path=\"url(#clip582)\" cx=\"2121.78\" cy=\"356.613\" r=\"14.4\" fill=\"#009af9\" fill-rule=\"evenodd\" fill-opacity=\"1\" stroke=\"#000000\" stroke-opacity=\"1\" stroke-width=\"3.2\"/>\n",
       "<circle clip-path=\"url(#clip582)\" cx=\"1848.84\" cy=\"248.442\" r=\"14.4\" fill=\"#009af9\" fill-rule=\"evenodd\" fill-opacity=\"1\" stroke=\"#000000\" stroke-opacity=\"1\" stroke-width=\"3.2\"/>\n",
       "<circle clip-path=\"url(#clip582)\" cx=\"1678.25\" cy=\"627.041\" r=\"14.4\" fill=\"#009af9\" fill-rule=\"evenodd\" fill-opacity=\"1\" stroke=\"#000000\" stroke-opacity=\"1\" stroke-width=\"3.2\"/>\n",
       "<circle clip-path=\"url(#clip582)\" cx=\"1848.84\" cy=\"681.126\" r=\"14.4\" fill=\"#009af9\" fill-rule=\"evenodd\" fill-opacity=\"1\" stroke=\"#000000\" stroke-opacity=\"1\" stroke-width=\"3.2\"/>\n",
       "<circle clip-path=\"url(#clip582)\" cx=\"2019.43\" cy=\"194.357\" r=\"14.4\" fill=\"#009af9\" fill-rule=\"evenodd\" fill-opacity=\"1\" stroke=\"#000000\" stroke-opacity=\"1\" stroke-width=\"3.2\"/>\n",
       "<circle clip-path=\"url(#clip582)\" cx=\"1848.84\" cy=\"140.271\" r=\"14.4\" fill=\"#009af9\" fill-rule=\"evenodd\" fill-opacity=\"1\" stroke=\"#000000\" stroke-opacity=\"1\" stroke-width=\"3.2\"/>\n",
       "<circle clip-path=\"url(#clip582)\" cx=\"1814.72\" cy=\"464.784\" r=\"14.4\" fill=\"#009af9\" fill-rule=\"evenodd\" fill-opacity=\"1\" stroke=\"#000000\" stroke-opacity=\"1\" stroke-width=\"3.2\"/>\n",
       "<circle clip-path=\"url(#clip582)\" cx=\"1575.9\" cy=\"464.784\" r=\"14.4\" fill=\"#009af9\" fill-rule=\"evenodd\" fill-opacity=\"1\" stroke=\"#000000\" stroke-opacity=\"1\" stroke-width=\"3.2\"/>\n",
       "<circle clip-path=\"url(#clip582)\" cx=\"1780.6\" cy=\"302.528\" r=\"14.4\" fill=\"#009af9\" fill-rule=\"evenodd\" fill-opacity=\"1\" stroke=\"#000000\" stroke-opacity=\"1\" stroke-width=\"3.2\"/>\n",
       "<circle clip-path=\"url(#clip582)\" cx=\"1848.84\" cy=\"140.271\" r=\"14.4\" fill=\"#009af9\" fill-rule=\"evenodd\" fill-opacity=\"1\" stroke=\"#000000\" stroke-opacity=\"1\" stroke-width=\"3.2\"/>\n",
       "<circle clip-path=\"url(#clip582)\" cx=\"1678.25\" cy=\"194.357\" r=\"14.4\" fill=\"#009af9\" fill-rule=\"evenodd\" fill-opacity=\"1\" stroke=\"#000000\" stroke-opacity=\"1\" stroke-width=\"3.2\"/>\n",
       "<circle clip-path=\"url(#clip582)\" cx=\"1678.25\" cy=\"410.699\" r=\"14.4\" fill=\"#009af9\" fill-rule=\"evenodd\" fill-opacity=\"1\" stroke=\"#000000\" stroke-opacity=\"1\" stroke-width=\"3.2\"/>\n",
       "<circle clip-path=\"url(#clip582)\" cx=\"1951.19\" cy=\"194.357\" r=\"14.4\" fill=\"#009af9\" fill-rule=\"evenodd\" fill-opacity=\"1\" stroke=\"#000000\" stroke-opacity=\"1\" stroke-width=\"3.2\"/>\n",
       "<circle clip-path=\"url(#clip582)\" cx=\"1882.95\" cy=\"86.1857\" r=\"14.4\" fill=\"#009af9\" fill-rule=\"evenodd\" fill-opacity=\"1\" stroke=\"#000000\" stroke-opacity=\"1\" stroke-width=\"3.2\"/>\n",
       "<circle clip-path=\"url(#clip582)\" cx=\"1712.37\" cy=\"194.357\" r=\"14.4\" fill=\"#009af9\" fill-rule=\"evenodd\" fill-opacity=\"1\" stroke=\"#000000\" stroke-opacity=\"1\" stroke-width=\"3.2\"/>\n",
       "<circle clip-path=\"url(#clip582)\" cx=\"1644.13\" cy=\"410.699\" r=\"14.4\" fill=\"#009af9\" fill-rule=\"evenodd\" fill-opacity=\"1\" stroke=\"#000000\" stroke-opacity=\"1\" stroke-width=\"3.2\"/>\n",
       "<circle clip-path=\"url(#clip582)\" cx=\"1712.37\" cy=\"356.613\" r=\"14.4\" fill=\"#009af9\" fill-rule=\"evenodd\" fill-opacity=\"1\" stroke=\"#000000\" stroke-opacity=\"1\" stroke-width=\"3.2\"/>\n",
       "<circle clip-path=\"url(#clip582)\" cx=\"1780.6\" cy=\"194.357\" r=\"14.4\" fill=\"#009af9\" fill-rule=\"evenodd\" fill-opacity=\"1\" stroke=\"#000000\" stroke-opacity=\"1\" stroke-width=\"3.2\"/>\n",
       "<circle clip-path=\"url(#clip582)\" cx=\"1678.25\" cy=\"464.784\" r=\"14.4\" fill=\"#009af9\" fill-rule=\"evenodd\" fill-opacity=\"1\" stroke=\"#000000\" stroke-opacity=\"1\" stroke-width=\"3.2\"/>\n",
       "</svg>\n"
      ]
     },
     "execution_count": 17,
     "metadata": {},
     "output_type": "execute_result"
    }
   ],
   "source": [
    "scatter(data_m[:,3],data_m[:,4],label=false)\n",
    "xlabel!(\"variable #3\")\n",
    "ylabel!(\"varaible #4\")"
   ]
  },
  {
   "cell_type": "markdown",
   "id": "26b3b20b",
   "metadata": {},
   "source": [
    "## E25: \n",
    "\n",
    "Between the two variable which one would you select for a potential model?"
   ]
  },
  {
   "cell_type": "markdown",
   "id": "e4163a07",
   "metadata": {},
   "source": [
    "> **Answer to E25** \n",
    ">\n",
    "> The variable with the largest variance should be selected for this."
   ]
  },
  {
   "cell_type": "markdown",
   "id": "3a1d3c7a",
   "metadata": {},
   "source": [
    "## E26:\n",
    "\n",
    "Write a function to perform hot-deck imputation? "
   ]
  },
  {
   "cell_type": "markdown",
   "id": "ae18dcb2",
   "metadata": {},
   "source": [
    "## E27: \n",
    "\n",
    "Write a function to select the variables that are too similar to each other and remove the redundant ones."
   ]
  }
 ],
 "metadata": {
  "kernelspec": {
   "display_name": "Julia 1.6.7",
   "language": "julia",
   "name": "julia-1.6"
  },
  "language_info": {
   "file_extension": ".jl",
   "mimetype": "application/julia",
   "name": "julia",
   "version": "1.6.7"
  }
 },
 "nbformat": 4,
 "nbformat_minor": 5
}
