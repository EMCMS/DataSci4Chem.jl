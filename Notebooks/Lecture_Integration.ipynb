{
 "cells": [
  {
   "cell_type": "markdown",
   "id": "aac82586",
   "metadata": {
    "editable": true,
    "tags": []
   },
   "source": [
    "# Numerical integration\n",
    "\n",
    "Numerical integration is a strategy to calculate the area under a curve numerically, without the need for the analytical solution of an integral. The can be very useful for complex and multidimensional problems, for example the area under a 3D LC-HRMS feature. In this case an analytical solution, implies that we first need to fully model the signal, then calculate the integral of the signal based on the model. Finally, we can use that integral to calculate the area under the peak. As you can imagine, this extremely difficult to achieve. Let's go through this together."
   ]
  },
  {
   "cell_type": "markdown",
   "id": "a2536df7",
   "metadata": {
    "editable": true,
    "jp-MarkdownHeadingCollapsed": true,
    "slideshow": {
     "slide_type": ""
    },
    "tags": []
   },
   "source": [
    "## E1: \n",
    "\n",
    "Let's generate a mass domain peak with area (A) of 100, m/z value (*``\\mu``*) of 150.05, and a mass precision (*``\\sigma``*) of 0.02. \n",
    "\n",
    "$$ f(x,A,\\mu,\\sigma) =  \\frac{A}{\\sigma \\sqrt{2 \\pi}}\\exp{\\frac{-(x - \\mu)^2}{2\\sigma^{2}}} $$"
   ]
  },
  {
   "cell_type": "code",
   "execution_count": 1,
   "id": "ce1e656f-ed46-49b1-8b31-e5dab323ba77",
   "metadata": {},
   "outputs": [],
   "source": [
    "using DataSci4Chem\n",
    "\n",
    "f(x) = (A/(s * sqrt(2 * pi))) * exp.(-(x .- m).^2 ./ (2*s^2))\n",
    "\n",
    "x = collect(149:0.002:151)\n",
    "A = 100\n",
    "m = 150.05\n",
    "s = 0.02\n",
    "\n",
    "y = f(x)\n",
    "\n",
    "plot(x,y,label = \"simulated signal\",xlabel = \"m/z values\", ylabel = \"intensity\")"
   ]
  },
  {
   "cell_type": "markdown",
   "id": "0da2c39e",
   "metadata": {
    "editable": true,
    "jp-MarkdownHeadingCollapsed": true,
    "slideshow": {
     "slide_type": ""
    },
    "tags": []
   },
   "source": [
    "## E2: \n",
    "\n",
    "Let's define the window where we want to integrate this peak. How can we do that?"
   ]
  },
  {
   "cell_type": "markdown",
   "id": "3f9735dd",
   "metadata": {},
   "source": [
    "> **Answer to E2:** \n",
    ">\n",
    "> Here given that we are working with very clean simulated signal, we can choose values above a certain threshold for example 1."
   ]
  },
  {
   "cell_type": "code",
   "execution_count": null,
   "id": "c70c4965",
   "metadata": {},
   "outputs": [],
   "source": [
    "\n",
    "y2intg = y[y .>1] # \n",
    "x2intg = x[y .>1]\n",
    "\n",
    "plot(x,y,label = \"simulated signal\",xlabel = \"m/z values\", ylabel = \"intensity\")\n",
    "plot!(x2intg,y2intg,label = \"selected signal\")"
   ]
  },
  {
   "cell_type": "markdown",
   "id": "7b574535",
   "metadata": {
    "jp-MarkdownHeadingCollapsed": true
   },
   "source": [
    "## E3: \n",
    "\n",
    "What is the easiest way to estimate the area under this peak? "
   ]
  },
  {
   "cell_type": "markdown",
   "id": "e4751319",
   "metadata": {},
   "source": [
    "> **Answer to E3:** \n",
    ">\n",
    "> We can use a rectangle around this peak to perform the integration. "
   ]
  },
  {
   "cell_type": "code",
   "execution_count": null,
   "id": "5f2f4db9",
   "metadata": {},
   "outputs": [],
   "source": [
    "plot(x2intg,y2intg,label = \"selected signal\")\n",
    "plot!([x2intg[1],x2intg[1]],[0,maximum(y2intg)],lc = :black, lw = 3, label =false)\n",
    "plot!([x2intg[end],x2intg[end]],[0,maximum(y2intg)],lc = :black, lw = 3, label =false)\n",
    "plot!([x2intg[1],x2intg[end]],[maximum(y2intg),maximum(y2intg)],lc = :black, lw = 3, label =\"inetgration area\")"
   ]
  },
  {
   "cell_type": "markdown",
   "id": "32070ebb",
   "metadata": {
    "jp-MarkdownHeadingCollapsed": true
   },
   "source": [
    "## E4:\n",
    "\n",
    "We have the rectangle. Now how do we do the integration? "
   ]
  },
  {
   "cell_type": "markdown",
   "id": "43feb5ce",
   "metadata": {},
   "source": [
    "> **Answer to E4:**\n",
    ">\n",
    "> The area of a rectangle is calculated by multiplying the length (*l*) by the width (*w*). \n",
    "> $$ area_{rec} = l \\times w = \\frac{A}{\\sigma \\sqrt{2 \\pi}} \\times \\Delta m/z $$"
   ]
  },
  {
   "cell_type": "code",
   "execution_count": null,
   "id": "e6f5108e",
   "metadata": {},
   "outputs": [],
   "source": [
    "d_mz = x2intg[end] - x2intg[1]\n",
    "inten = maximum(y2intg)\n",
    "\n",
    "area_rec(l,w) = l .* w\n",
    "\n",
    "area_rec(d_mz,inten)"
   ]
  },
  {
   "cell_type": "markdown",
   "id": "27df0708",
   "metadata": {
    "jp-MarkdownHeadingCollapsed": true
   },
   "source": [
    "## E5:\n",
    "\n",
    "What if we only know the edges of the integration zone? Is there a way to find the *l* parameter automatically? "
   ]
  },
  {
   "cell_type": "markdown",
   "id": "d05a06ef",
   "metadata": {},
   "source": [
    "> **Answer to E5:**\n",
    ">\n",
    "> Assuming symmetry we can find the *l* as the *f(x)*, where the *x* is the midpoint of the integration window. "
   ]
  },
  {
   "cell_type": "markdown",
   "id": "f4b3c7b8",
   "metadata": {
    "jp-MarkdownHeadingCollapsed": true
   },
   "source": [
    "## E6: \n",
    "\n",
    "How do you find the midpoint? "
   ]
  },
  {
   "cell_type": "markdown",
   "id": "837fa93c",
   "metadata": {},
   "source": [
    "> **Answer to E6:**\n",
    ">\n",
    "> The midpoint can be calculated by averaging the edges of the integration area. "
   ]
  },
  {
   "cell_type": "code",
   "execution_count": null,
   "id": "2eec5a0e",
   "metadata": {},
   "outputs": [],
   "source": [
    "mdp = mean([x2intg[end],x2intg[1]])\n",
    "y_mdp = f(mdp)\n",
    "scatter!([mdp],[y_mdp],label = \"midpoint\")"
   ]
  },
  {
   "cell_type": "markdown",
   "id": "72834aa9",
   "metadata": {
    "jp-MarkdownHeadingCollapsed": true
   },
   "source": [
    "## E7: \n",
    "\n",
    "Why cannot we use the maximum function for this?"
   ]
  },
  {
   "cell_type": "markdown",
   "id": "0e050727",
   "metadata": {},
   "source": [
    "> **Answer to E7:**\n",
    ">\n",
    "> For more complex systems the max may not work as it may be at the edge of the integration window. "
   ]
  },
  {
   "cell_type": "markdown",
   "id": "274ceeca",
   "metadata": {
    "jp-MarkdownHeadingCollapsed": true
   },
   "source": [
    "## E8: \n",
    "\n",
    "What is wrong with this estimation of the area?"
   ]
  },
  {
   "cell_type": "markdown",
   "id": "4d05ee31",
   "metadata": {},
   "source": [
    "> **Answer to E8:**\n",
    ">\n",
    "> As it can be seen, our method greatly overestimates the area under the peak. "
   ]
  },
  {
   "cell_type": "markdown",
   "id": "c6558812",
   "metadata": {
    "jp-MarkdownHeadingCollapsed": true
   },
   "source": [
    "## E9:\n",
    "\n",
    "How can we solve this problem?"
   ]
  },
  {
   "cell_type": "markdown",
   "id": "682a04f1",
   "metadata": {},
   "source": [
    "> **Answer to E9:**\n",
    ">\n",
    "> We can increase the number of the rectangles used for the integration, for example two. "
   ]
  },
  {
   "cell_type": "code",
   "execution_count": null,
   "id": "0581ea86",
   "metadata": {},
   "outputs": [],
   "source": [
    "plot(x2intg,y2intg,label = \"selected signal\")\n",
    "plot!([x2intg[1],x2intg[1]],[0,maximum(y2intg)],lc = :black, lw = 3, label =false)\n",
    "plot!([x2intg[end],x2intg[end]],[0,maximum(y2intg)],lc = :black, lw = 3, label =false)\n",
    "plot!([mdp,mdp],[0,maximum(y2intg)],lc = :black, lw = 3, label =false)\n",
    "plot!([x2intg[1],x2intg[end]],[maximum(y2intg),maximum(y2intg)],lc = :black, lw = 3, label =\"inetgration area\")"
   ]
  },
  {
   "cell_type": "code",
   "execution_count": null,
   "id": "4eeebf8b",
   "metadata": {},
   "outputs": [],
   "source": [
    "mdp2 = mean([x2intg[1],mdp])\n",
    "mdp3 = mean([x2intg[end],mdp])\n",
    "\n",
    "y2 = f(mdp2)\n",
    "y3 = f(mdp3)\n",
    "\n",
    "plot(x2intg,y2intg,label = \"selected signal\")\n",
    "plot!([x2intg[1],x2intg[1]],[0,y2],lc = :black, lw = 3, label =false)\n",
    "plot!([x2intg[end],x2intg[end]],[0,y2],lc = :black, lw = 3, label =false)\n",
    "plot!([mdp,mdp],[0,y2],lc = :black, lw = 3, label =false)\n",
    "plot!([x2intg[1],x2intg[end]],[y2,y3],lc = :black, lw = 3, label = \"integration area\")\n",
    "\n",
    "scatter!([mdp2,mdp3],[y2,y3],label = \"midpoints with two boxes\")"
   ]
  },
  {
   "cell_type": "markdown",
   "id": "a9c5d495",
   "metadata": {
    "jp-MarkdownHeadingCollapsed": true
   },
   "source": [
    "## E10:\n",
    "\n",
    "How can we automatically calculate the midpoints, for any number of boxes?"
   ]
  },
  {
   "cell_type": "code",
   "execution_count": null,
   "id": "06740716",
   "metadata": {},
   "outputs": [],
   "source": [
    "n_w = 3\n",
    "\n",
    "w_t = x2intg[end] - x2intg[1]\n",
    "\n",
    "w_i = w_t / n_w\n",
    "\n",
    "edges = collect(x2intg[1]:(w_i):x2intg[end])\n",
    "\n",
    "mdps = edges[1:end-1] .+ w_i/2\n",
    " \n"
   ]
  },
  {
   "cell_type": "code",
   "execution_count": null,
   "id": "b1fa5ccf",
   "metadata": {},
   "outputs": [],
   "source": [
    "plot(x2intg,y2intg,label = \"selected signal\")\n",
    "plot!([edges[1],edges[2]],[f(mdps[1]),f(mdps[1])],lc = :black, lw = 3, label = \"box 1\")\n",
    "plot!([edges[2],edges[3]],[f(mdps[2]),f(mdps[2])],lc = :black, lw = 3, label = \"box 2\")\n",
    "plot!([edges[3],edges[4]],[f(mdps[3]),f(mdps[3])],lc = :black, lw = 3, label = \"box 3\")\n",
    "scatter!(mdps,f(mdps),label = \"midpoints\")"
   ]
  },
  {
   "cell_type": "markdown",
   "id": "dfb38934",
   "metadata": {
    "jp-MarkdownHeadingCollapsed": true
   },
   "source": [
    "## E11: \n",
    "\n",
    "Can we write a function to calculate the midpoints based on the window and the number of boxes?"
   ]
  },
  {
   "cell_type": "code",
   "execution_count": null,
   "id": "319f17f5",
   "metadata": {},
   "outputs": [],
   "source": [
    "function midpoint_calc(a,b,n_w)\n",
    "    w_t = b - a\n",
    "\n",
    "    w_i = w_t / n_w\n",
    "\n",
    "    edges = collect(a:(w_i):b)\n",
    "\n",
    "    mdps = edges[1:end-1] .+ w_i/2\n",
    "\n",
    "    return(edges,mdps)\n",
    "\n",
    "end "
   ]
  },
  {
   "cell_type": "code",
   "execution_count": null,
   "id": "bfc5d651",
   "metadata": {},
   "outputs": [],
   "source": [
    "n_w = 10 \n",
    "edges,mdps = midpoint_calc(x2intg[1],x2intg[end],n_w)\n",
    "\n",
    "p = plot(x2intg,y2intg,label = \"selected signal\")\n",
    "scatter!(p,mdps,f(mdps,A,m,s),label = \"midpoints\")\n",
    "\n",
    "for i = 1:length(mdps)\n",
    "    plot!(p,[edges[i],edges[i+1]],[f(mdps[i]),f(mdps[i])],lc = :black, lw = 3, label = \"box $i\")\n",
    "end \n",
    "\n",
    "p"
   ]
  },
  {
   "cell_type": "markdown",
   "id": "620cb43d",
   "metadata": {
    "jp-MarkdownHeadingCollapsed": true
   },
   "source": [
    "## E12: \n",
    "\n",
    "How can we calculate the area under the curve?"
   ]
  },
  {
   "cell_type": "markdown",
   "id": "b36f5c0f",
   "metadata": {},
   "source": [
    "> **Answer to E12:** \n",
    ">\n",
    "> We need to sum up the areas of all the boxes to get an estimation of the area under the curve.\n",
    "> $$ \\int_{a}^{b} f(x)dx \\approx \\sum_{i=1}^{n} f(\\frac{x_i + x_{i+1}}{2})\\Delta x $$"
   ]
  },
  {
   "cell_type": "markdown",
   "id": "061406b4",
   "metadata": {
    "jp-MarkdownHeadingCollapsed": true
   },
   "source": [
    "## E13: \n",
    "\n",
    "Calculate the area under the peak for number of windows varying from two to 50."
   ]
  },
  {
   "cell_type": "code",
   "execution_count": null,
   "id": "7d59ae09",
   "metadata": {},
   "outputs": [],
   "source": [
    "est_int = zeros(49)\n",
    "\n",
    "for i =1:length(est_int)\n",
    "    edges,mdps = midpoint_calc(x2intg[1],x2intg[end],2 + (i-1))\n",
    "    dx = edges[2] - edges[1]\n",
    "    l = f(mdps,A,m,s)\n",
    "    est_int[i] = sum(l .* dx)\n",
    "end \n",
    "\n",
    "p1 = scatter(2:50,est_int,label=\"midpoint method\",xlabel=\"# windows\",ylabel=\"estimated area\")\n",
    "p2 = scatter(2:50,est_int,label=false,xlabel=\"# windows\",ylabel=\"estimated area\")\n",
    "xlims!(2.5,10.5)\n",
    "\n",
    "plot(p1,p2)"
   ]
  },
  {
   "cell_type": "markdown",
   "id": "1618814b",
   "metadata": {
    "jp-MarkdownHeadingCollapsed": true
   },
   "source": [
    "## E14: \n",
    "\n",
    "As you can see, for number of windows larger than 6 we do not see a significant change in the estimated area. Can we use this for deciding how many windows we should use?"
   ]
  },
  {
   "cell_type": "markdown",
   "id": "83ada25b",
   "metadata": {},
   "source": [
    "> **Answer to E14:**\n",
    ">\n",
    "> Theoretically, you can estimate the area for several window numbers and generate a plot to what you see above. However, for more complex systems, that may be very expensive, computationally. Therefore, usually a large number of windows (e.g. 100) is set as default value."
   ]
  },
  {
   "cell_type": "markdown",
   "id": "2309836c",
   "metadata": {
    "jp-MarkdownHeadingCollapsed": true
   },
   "source": [
    "## E15: \n",
    "\n",
    "Can we write a function to perform midpoint integration? "
   ]
  },
  {
   "cell_type": "markdown",
   "id": "46d227a2",
   "metadata": {},
   "source": [
    "> **Answer to E15:**\n",
    ">\n",
    "> There is a function called \"*midpoint_integration(-)*\" implemented within this package that does this type of analysis for you."
   ]
  },
  {
   "cell_type": "markdown",
   "id": "1dbdf179",
   "metadata": {
    "jp-MarkdownHeadingCollapsed": true
   },
   "source": [
    "## E16:\n",
    "\n",
    "Is there another way to perform numerical integration?"
   ]
  },
  {
   "cell_type": "markdown",
   "id": "773d1926",
   "metadata": {},
   "source": [
    "> **Answer to E16:**\n",
    ">\n",
    "> We can use a trapezoid rather than a rectangle to solve this problem."
   ]
  },
  {
   "cell_type": "markdown",
   "id": "9b35dd44",
   "metadata": {
    "jp-MarkdownHeadingCollapsed": true
   },
   "source": [
    "## E17: \n",
    "\n",
    "How do you calculate the area of a trapezoid?"
   ]
  },
  {
   "cell_type": "markdown",
   "id": "2edebe1a",
   "metadata": {},
   "source": [
    "> **Answer to E17:**\n",
    ">\n",
    "> $$ area_{trap} = \\frac{l + w}{2} \\times h $$"
   ]
  },
  {
   "cell_type": "markdown",
   "id": "4ee169e5",
   "metadata": {
    "jp-MarkdownHeadingCollapsed": true
   },
   "source": [
    "## E18:\n",
    "\n",
    "What does this remind you of? "
   ]
  },
  {
   "cell_type": "markdown",
   "id": "0ccfd88a",
   "metadata": {},
   "source": [
    "> **Answer to E18:**\n",
    ">\n",
    "> This is the midpoint solution to the area of a rectangle."
   ]
  },
  {
   "cell_type": "markdown",
   "id": "8d08b4c4",
   "metadata": {
    "jp-MarkdownHeadingCollapsed": true
   },
   "source": [
    "## E19: \n",
    "\n",
    "How would this look for two trapezoids?"
   ]
  },
  {
   "cell_type": "markdown",
   "id": "7c054ac2",
   "metadata": {},
   "source": [
    "> **Answer to E19:**\n",
    ">\n",
    "> $$ area_{total} = \\frac{f(x_0)+f(x_{1})}{2} \\times \\Delta x + \\frac{f(x_1)+f(x_{2})}{2} \\times \\Delta x $$ \n",
    ">\n",
    "> $$ area_{total} = \\frac{\\Delta x}{2} (f(x_0) + 2f(x_1) + f(x_2)) $$\n",
    ">\n",
    "> In other words the points at the edge of the window is multiplied by one while all the other points are multiplied by two."
   ]
  },
  {
   "cell_type": "markdown",
   "id": "e241b4c8",
   "metadata": {
    "jp-MarkdownHeadingCollapsed": true
   },
   "source": [
    "## E20: \n",
    "\n",
    "Let's visually compare the two approaches to each other for two windows."
   ]
  },
  {
   "cell_type": "code",
   "execution_count": null,
   "id": "0f686d65",
   "metadata": {},
   "outputs": [],
   "source": [
    "n_w = 2\n",
    "edges,mdps = midpoint_calc(x2intg[1],x2intg[end],n_w)\n",
    "\n",
    "p = plot(x2intg,y2intg,label = \"selected signal\")\n",
    "scatter!(p,mdps,f(mdps,A,m,s),label = \"midpoints\")\n",
    "\n",
    "for i = 1:length(mdps)\n",
    "    plot!(p,[edges[i],edges[i+1]],[f(mdps[i]),f(mdps[i])],lc = :black, lw = 3, label = \"box $i\")\n",
    "    plot!(p,[edges[i],edges[i+1]],[f(edges[i]),f(edges[i+1])],lc = :red, lw = 3, label = \" trapezoid box $i\")\n",
    "end \n",
    "plot!(p,[edges[2],edges[2]],[0,f(edges[2])],label=false,lc=:blue)\n",
    "\n",
    "p"
   ]
  },
  {
   "cell_type": "code",
   "execution_count": null,
   "id": "30a4ac8a",
   "metadata": {},
   "outputs": [],
   "source": [
    "a = x2intg[1]\n",
    "b = x2intg[end]\n",
    "\n",
    "trap_int = DataSci4Chem.trapezoid_rule(f, a, b; n = 2)\n",
    "error_trap = A - trap_int"
   ]
  },
  {
   "cell_type": "code",
   "execution_count": null,
   "id": "28b7c217",
   "metadata": {},
   "outputs": [],
   "source": [
    "midp_int = DataSci4Chem.midpoint_integration(f, a, b; n_wins =2)\n",
    "error_midp = A - midp_int"
   ]
  },
  {
   "cell_type": "markdown",
   "id": "045cff60",
   "metadata": {
    "jp-MarkdownHeadingCollapsed": true
   },
   "source": [
    "## E21: \n",
    "\n",
    "Write a function to perform numerical integration via trapezoid rule."
   ]
  },
  {
   "cell_type": "markdown",
   "id": "1c1ad232",
   "metadata": {},
   "source": [
    "> **Answer to E21:**\n",
    ">\n",
    "> An implementation of trapezoid rule in the package is available. "
   ]
  }
 ],
 "metadata": {
  "kernelspec": {
   "display_name": "Julia 1.6.7",
   "language": "julia",
   "name": "julia-1.6"
  },
  "language_info": {
   "file_extension": ".jl",
   "mimetype": "application/julia",
   "name": "julia",
   "version": "1.6.7"
  }
 },
 "nbformat": 4,
 "nbformat_minor": 5
}
